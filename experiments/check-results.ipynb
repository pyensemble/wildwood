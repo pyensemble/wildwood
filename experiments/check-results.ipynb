{
 "cells": [
  {
   "cell_type": "markdown",
   "metadata": {},
   "source": [
    "# Vizualization of the results\n",
    "\n",
    "In this notebook we just visualize and format the pickle file containing experiments results"
   ]
  },
  {
   "cell_type": "code",
   "execution_count": 7,
   "metadata": {
    "ExecuteTime": {
     "end_time": "2021-04-19T13:12:45.062122Z",
     "start_time": "2021-04-19T13:12:44.730293Z"
    }
   },
   "outputs": [],
   "source": [
    "import pickle as pkl\n",
    "import pandas as pd\n",
    "\n",
    "pd.set_option(\"display.max_rows\", 999)"
   ]
  },
  {
   "cell_type": "code",
   "execution_count": 14,
   "metadata": {
    "ExecuteTime": {
     "end_time": "2021-04-19T13:14:22.288116Z",
     "start_time": "2021-04-19T13:14:22.283646Z"
    }
   },
   "outputs": [],
   "source": [
    "def print_results(filename, metrics=None):\n",
    "    with open(filename, \"rb\") as f:\n",
    "        results = pkl.load(f)\n",
    "\n",
    "    print(\"commit number %s: datetime: %s\" % (results[\"commit\"], results[\"datetime\"]))\n",
    "\n",
    "    if metrics is None:\n",
    "        metrics = [\"avg_prec_w\", \"avg_prec_w_train\"]\n",
    "    \n",
    "    df = results[\"results\"]\n",
    "\n",
    "    return (\n",
    "        df[[\"dataset\", \"classifier_title\", *metrics, \"repeat\"]]\n",
    "        .groupby([\"dataset\", \"classifier_title\", \"repeat\"])\n",
    "        # .agg([\"mean\", \"std\"])\n",
    "        .agg([\"mean\"])\n",
    "        .reset_index()\n",
    "        .loc[:, [\"dataset\", \"classifier_title\", *metrics]]    \n",
    "        .pivot(index=\"dataset\", columns=\"classifier_title\")\n",
    "        .style\n",
    "        .format(\"{:.2f}\")\n",
    "        .background_gradient(axis=\"index\")    \n",
    "    )"
   ]
  },
  {
   "cell_type": "code",
   "execution_count": 24,
   "metadata": {
    "ExecuteTime": {
     "end_time": "2021-04-19T21:26:28.057088Z",
     "start_time": "2021-04-19T21:26:27.997304Z"
    }
   },
   "outputs": [
    {
     "name": "stdout",
     "output_type": "stream",
     "text": [
      "commit number fdbb940: datetime: 2021-04-19-23:24:51\n"
     ]
    },
    {
     "data": {
      "text/html": [
       "<style  type=\"text/css\" >\n",
       "#T_e6bf4184_a155_11eb_b482_faffc24434aarow0_col0,#T_e6bf4184_a155_11eb_b482_faffc24434aarow0_col1,#T_e6bf4184_a155_11eb_b482_faffc24434aarow0_col2,#T_e6bf4184_a155_11eb_b482_faffc24434aarow2_col3,#T_e6bf4184_a155_11eb_b482_faffc24434aarow2_col4,#T_e6bf4184_a155_11eb_b482_faffc24434aarow2_col5{\n",
       "            background-color:  #023858;\n",
       "            color:  #f1f1f1;\n",
       "        }#T_e6bf4184_a155_11eb_b482_faffc24434aarow0_col3{\n",
       "            background-color:  #045c90;\n",
       "            color:  #f1f1f1;\n",
       "        }#T_e6bf4184_a155_11eb_b482_faffc24434aarow0_col4{\n",
       "            background-color:  #045483;\n",
       "            color:  #f1f1f1;\n",
       "        }#T_e6bf4184_a155_11eb_b482_faffc24434aarow0_col5{\n",
       "            background-color:  #034c78;\n",
       "            color:  #f1f1f1;\n",
       "        }#T_e6bf4184_a155_11eb_b482_faffc24434aarow1_col0{\n",
       "            background-color:  #f4edf6;\n",
       "            color:  #000000;\n",
       "        }#T_e6bf4184_a155_11eb_b482_faffc24434aarow1_col1{\n",
       "            background-color:  #dbdaeb;\n",
       "            color:  #000000;\n",
       "        }#T_e6bf4184_a155_11eb_b482_faffc24434aarow1_col2{\n",
       "            background-color:  #efe9f3;\n",
       "            color:  #000000;\n",
       "        }#T_e6bf4184_a155_11eb_b482_faffc24434aarow1_col3,#T_e6bf4184_a155_11eb_b482_faffc24434aarow3_col0,#T_e6bf4184_a155_11eb_b482_faffc24434aarow3_col1,#T_e6bf4184_a155_11eb_b482_faffc24434aarow3_col2,#T_e6bf4184_a155_11eb_b482_faffc24434aarow3_col4,#T_e6bf4184_a155_11eb_b482_faffc24434aarow3_col5{\n",
       "            background-color:  #fff7fb;\n",
       "            color:  #000000;\n",
       "        }#T_e6bf4184_a155_11eb_b482_faffc24434aarow1_col4{\n",
       "            background-color:  #f8f1f8;\n",
       "            color:  #000000;\n",
       "        }#T_e6bf4184_a155_11eb_b482_faffc24434aarow1_col5{\n",
       "            background-color:  #e7e3f0;\n",
       "            color:  #000000;\n",
       "        }#T_e6bf4184_a155_11eb_b482_faffc24434aarow2_col0{\n",
       "            background-color:  #034e7b;\n",
       "            color:  #f1f1f1;\n",
       "        }#T_e6bf4184_a155_11eb_b482_faffc24434aarow2_col1{\n",
       "            background-color:  #034369;\n",
       "            color:  #f1f1f1;\n",
       "        }#T_e6bf4184_a155_11eb_b482_faffc24434aarow2_col2{\n",
       "            background-color:  #03446a;\n",
       "            color:  #f1f1f1;\n",
       "        }#T_e6bf4184_a155_11eb_b482_faffc24434aarow3_col3{\n",
       "            background-color:  #d9d8ea;\n",
       "            color:  #000000;\n",
       "        }</style><table id=\"T_e6bf4184_a155_11eb_b482_faffc24434aa\" ><thead>    <tr>        <th class=\"blank level0\" ></th>        <th class=\"col_heading level0 col0\" colspan=3>avg_prec_w</th>        <th class=\"col_heading level0 col3\" colspan=3>avg_prec_w_train</th>    </tr>    <tr>        <th class=\"blank level1\" ></th>        <th class=\"col_heading level1 col0\" colspan=3>mean</th>        <th class=\"col_heading level1 col3\" colspan=3>mean</th>    </tr>    <tr>        <th class=\"index_name level2\" >classifier_title</th>        <th class=\"col_heading level2 col0\" >WildWood (Categorical)</th>        <th class=\"col_heading level2 col1\" >WildWood (One Hot)</th>        <th class=\"col_heading level2 col2\" >WildWood (Ordinal)</th>        <th class=\"col_heading level2 col3\" >WildWood (Categorical)</th>        <th class=\"col_heading level2 col4\" >WildWood (One Hot)</th>        <th class=\"col_heading level2 col5\" >WildWood (Ordinal)</th>    </tr>    <tr>        <th class=\"index_name level0\" >dataset</th>        <th class=\"blank\" ></th>        <th class=\"blank\" ></th>        <th class=\"blank\" ></th>        <th class=\"blank\" ></th>        <th class=\"blank\" ></th>        <th class=\"blank\" ></th>    </tr></thead><tbody>\n",
       "                <tr>\n",
       "                        <th id=\"T_e6bf4184_a155_11eb_b482_faffc24434aalevel0_row0\" class=\"row_heading level0 row0\" >adult</th>\n",
       "                        <td id=\"T_e6bf4184_a155_11eb_b482_faffc24434aarow0_col0\" class=\"data row0 col0\" >0.72</td>\n",
       "                        <td id=\"T_e6bf4184_a155_11eb_b482_faffc24434aarow0_col1\" class=\"data row0 col1\" >0.72</td>\n",
       "                        <td id=\"T_e6bf4184_a155_11eb_b482_faffc24434aarow0_col2\" class=\"data row0 col2\" >0.72</td>\n",
       "                        <td id=\"T_e6bf4184_a155_11eb_b482_faffc24434aarow0_col3\" class=\"data row0 col3\" >0.84</td>\n",
       "                        <td id=\"T_e6bf4184_a155_11eb_b482_faffc24434aarow0_col4\" class=\"data row0 col4\" >0.87</td>\n",
       "                        <td id=\"T_e6bf4184_a155_11eb_b482_faffc24434aarow0_col5\" class=\"data row0 col5\" >0.87</td>\n",
       "            </tr>\n",
       "            <tr>\n",
       "                        <th id=\"T_e6bf4184_a155_11eb_b482_faffc24434aalevel0_row1\" class=\"row_heading level0 row1\" >bank</th>\n",
       "                        <td id=\"T_e6bf4184_a155_11eb_b482_faffc24434aarow1_col0\" class=\"data row1 col0\" >0.44</td>\n",
       "                        <td id=\"T_e6bf4184_a155_11eb_b482_faffc24434aarow1_col1\" class=\"data row1 col1\" >0.47</td>\n",
       "                        <td id=\"T_e6bf4184_a155_11eb_b482_faffc24434aarow1_col2\" class=\"data row1 col2\" >0.45</td>\n",
       "                        <td id=\"T_e6bf4184_a155_11eb_b482_faffc24434aarow1_col3\" class=\"data row1 col3\" >0.67</td>\n",
       "                        <td id=\"T_e6bf4184_a155_11eb_b482_faffc24434aarow1_col4\" class=\"data row1 col4\" >0.75</td>\n",
       "                        <td id=\"T_e6bf4184_a155_11eb_b482_faffc24434aarow1_col5\" class=\"data row1 col5\" >0.76</td>\n",
       "            </tr>\n",
       "            <tr>\n",
       "                        <th id=\"T_e6bf4184_a155_11eb_b482_faffc24434aalevel0_row2\" class=\"row_heading level0 row2\" >churn</th>\n",
       "                        <td id=\"T_e6bf4184_a155_11eb_b482_faffc24434aarow2_col0\" class=\"data row2 col0\" >0.69</td>\n",
       "                        <td id=\"T_e6bf4184_a155_11eb_b482_faffc24434aarow2_col1\" class=\"data row2 col1\" >0.71</td>\n",
       "                        <td id=\"T_e6bf4184_a155_11eb_b482_faffc24434aarow2_col2\" class=\"data row2 col2\" >0.71</td>\n",
       "                        <td id=\"T_e6bf4184_a155_11eb_b482_faffc24434aarow2_col3\" class=\"data row2 col3\" >0.87</td>\n",
       "                        <td id=\"T_e6bf4184_a155_11eb_b482_faffc24434aarow2_col4\" class=\"data row2 col4\" >0.89</td>\n",
       "                        <td id=\"T_e6bf4184_a155_11eb_b482_faffc24434aarow2_col5\" class=\"data row2 col5\" >0.88</td>\n",
       "            </tr>\n",
       "            <tr>\n",
       "                        <th id=\"T_e6bf4184_a155_11eb_b482_faffc24434aalevel0_row3\" class=\"row_heading level0 row3\" >default-cb</th>\n",
       "                        <td id=\"T_e6bf4184_a155_11eb_b482_faffc24434aarow3_col0\" class=\"data row3 col0\" >0.42</td>\n",
       "                        <td id=\"T_e6bf4184_a155_11eb_b482_faffc24434aarow3_col1\" class=\"data row3 col1\" >0.41</td>\n",
       "                        <td id=\"T_e6bf4184_a155_11eb_b482_faffc24434aarow3_col2\" class=\"data row3 col2\" >0.42</td>\n",
       "                        <td id=\"T_e6bf4184_a155_11eb_b482_faffc24434aarow3_col3\" class=\"data row3 col3\" >0.71</td>\n",
       "                        <td id=\"T_e6bf4184_a155_11eb_b482_faffc24434aarow3_col4\" class=\"data row3 col4\" >0.74</td>\n",
       "                        <td id=\"T_e6bf4184_a155_11eb_b482_faffc24434aarow3_col5\" class=\"data row3 col5\" >0.74</td>\n",
       "            </tr>\n",
       "    </tbody></table>"
      ],
      "text/plain": [
       "<pandas.io.formats.style.Styler at 0x7fc088cb9f50>"
      ]
     },
     "execution_count": 24,
     "metadata": {},
     "output_type": "execute_result"
    }
   ],
   "source": [
    "filename = \"../benchmarks_2021-04-19-23:24:51.pickle\"\n",
    "print_results(filename)"
   ]
  },
  {
   "cell_type": "code",
   "execution_count": null,
   "metadata": {},
   "outputs": [],
   "source": []
  },
  {
   "cell_type": "markdown",
   "metadata": {},
   "source": [
    "## Resultats n_estimators=100, sans aggregation et max_features=None, dirichlet=0.0"
   ]
  },
  {
   "cell_type": "code",
   "execution_count": 17,
   "metadata": {
    "ExecuteTime": {
     "end_time": "2021-04-19T13:26:46.136826Z",
     "start_time": "2021-04-19T13:26:46.079725Z"
    }
   },
   "outputs": [
    {
     "name": "stdout",
     "output_type": "stream",
     "text": [
      "commit number 6ad6dfc: datetime: 2021-04-19-15:25:42\n"
     ]
    },
    {
     "data": {
      "text/html": [
       "<style  type=\"text/css\" >\n",
       "#T_e362bedc_a112_11eb_b482_faffc24434aarow0_col0,#T_e362bedc_a112_11eb_b482_faffc24434aarow2_col1,#T_e362bedc_a112_11eb_b482_faffc24434aarow2_col2,#T_e362bedc_a112_11eb_b482_faffc24434aarow2_col4,#T_e362bedc_a112_11eb_b482_faffc24434aarow2_col5,#T_e362bedc_a112_11eb_b482_faffc24434aarow3_col3{\n",
       "            background-color:  #023858;\n",
       "            color:  #f1f1f1;\n",
       "        }#T_e362bedc_a112_11eb_b482_faffc24434aarow0_col1{\n",
       "            background-color:  #023d60;\n",
       "            color:  #f1f1f1;\n",
       "        }#T_e362bedc_a112_11eb_b482_faffc24434aarow0_col2{\n",
       "            background-color:  #034a74;\n",
       "            color:  #f1f1f1;\n",
       "        }#T_e362bedc_a112_11eb_b482_faffc24434aarow0_col3,#T_e362bedc_a112_11eb_b482_faffc24434aarow0_col4,#T_e362bedc_a112_11eb_b482_faffc24434aarow0_col5,#T_e362bedc_a112_11eb_b482_faffc24434aarow3_col0,#T_e362bedc_a112_11eb_b482_faffc24434aarow3_col1,#T_e362bedc_a112_11eb_b482_faffc24434aarow3_col2{\n",
       "            background-color:  #fff7fb;\n",
       "            color:  #000000;\n",
       "        }#T_e362bedc_a112_11eb_b482_faffc24434aarow1_col0{\n",
       "            background-color:  #dedcec;\n",
       "            color:  #000000;\n",
       "        }#T_e362bedc_a112_11eb_b482_faffc24434aarow1_col1{\n",
       "            background-color:  #d9d8ea;\n",
       "            color:  #000000;\n",
       "        }#T_e362bedc_a112_11eb_b482_faffc24434aarow1_col2{\n",
       "            background-color:  #ebe6f2;\n",
       "            color:  #000000;\n",
       "        }#T_e362bedc_a112_11eb_b482_faffc24434aarow1_col3{\n",
       "            background-color:  #96b6d7;\n",
       "            color:  #000000;\n",
       "        }#T_e362bedc_a112_11eb_b482_faffc24434aarow1_col4{\n",
       "            background-color:  #045585;\n",
       "            color:  #f1f1f1;\n",
       "        }#T_e362bedc_a112_11eb_b482_faffc24434aarow1_col5{\n",
       "            background-color:  #034e7b;\n",
       "            color:  #f1f1f1;\n",
       "        }#T_e362bedc_a112_11eb_b482_faffc24434aarow2_col0{\n",
       "            background-color:  #03456c;\n",
       "            color:  #f1f1f1;\n",
       "        }#T_e362bedc_a112_11eb_b482_faffc24434aarow2_col3{\n",
       "            background-color:  #034267;\n",
       "            color:  #f1f1f1;\n",
       "        }#T_e362bedc_a112_11eb_b482_faffc24434aarow3_col4{\n",
       "            background-color:  #056fae;\n",
       "            color:  #f1f1f1;\n",
       "        }#T_e362bedc_a112_11eb_b482_faffc24434aarow3_col5{\n",
       "            background-color:  #056ead;\n",
       "            color:  #f1f1f1;\n",
       "        }</style><table id=\"T_e362bedc_a112_11eb_b482_faffc24434aa\" ><thead>    <tr>        <th class=\"blank level0\" ></th>        <th class=\"col_heading level0 col0\" colspan=3>avg_prec_w</th>        <th class=\"col_heading level0 col3\" colspan=3>avg_prec_w_train</th>    </tr>    <tr>        <th class=\"blank level1\" ></th>        <th class=\"col_heading level1 col0\" colspan=3>mean</th>        <th class=\"col_heading level1 col3\" colspan=3>mean</th>    </tr>    <tr>        <th class=\"index_name level2\" >classifier_title</th>        <th class=\"col_heading level2 col0\" >WildWood (Categorical)</th>        <th class=\"col_heading level2 col1\" >WildWood (One Hot)</th>        <th class=\"col_heading level2 col2\" >WildWood (Ordinal)</th>        <th class=\"col_heading level2 col3\" >WildWood (Categorical)</th>        <th class=\"col_heading level2 col4\" >WildWood (One Hot)</th>        <th class=\"col_heading level2 col5\" >WildWood (Ordinal)</th>    </tr>    <tr>        <th class=\"index_name level0\" >dataset</th>        <th class=\"blank\" ></th>        <th class=\"blank\" ></th>        <th class=\"blank\" ></th>        <th class=\"blank\" ></th>        <th class=\"blank\" ></th>        <th class=\"blank\" ></th>    </tr></thead><tbody>\n",
       "                <tr>\n",
       "                        <th id=\"T_e362bedc_a112_11eb_b482_faffc24434aalevel0_row0\" class=\"row_heading level0 row0\" >adult</th>\n",
       "                        <td id=\"T_e362bedc_a112_11eb_b482_faffc24434aarow0_col0\" class=\"data row0 col0\" >0.80</td>\n",
       "                        <td id=\"T_e362bedc_a112_11eb_b482_faffc24434aarow0_col1\" class=\"data row0 col1\" >0.80</td>\n",
       "                        <td id=\"T_e362bedc_a112_11eb_b482_faffc24434aarow0_col2\" class=\"data row0 col2\" >0.79</td>\n",
       "                        <td id=\"T_e362bedc_a112_11eb_b482_faffc24434aarow0_col3\" class=\"data row0 col3\" >0.97</td>\n",
       "                        <td id=\"T_e362bedc_a112_11eb_b482_faffc24434aarow0_col4\" class=\"data row0 col4\" >1.00</td>\n",
       "                        <td id=\"T_e362bedc_a112_11eb_b482_faffc24434aarow0_col5\" class=\"data row0 col5\" >0.99</td>\n",
       "            </tr>\n",
       "            <tr>\n",
       "                        <th id=\"T_e362bedc_a112_11eb_b482_faffc24434aalevel0_row1\" class=\"row_heading level0 row1\" >bank</th>\n",
       "                        <td id=\"T_e362bedc_a112_11eb_b482_faffc24434aarow1_col0\" class=\"data row1 col0\" >0.58</td>\n",
       "                        <td id=\"T_e362bedc_a112_11eb_b482_faffc24434aarow1_col1\" class=\"data row1 col1\" >0.59</td>\n",
       "                        <td id=\"T_e362bedc_a112_11eb_b482_faffc24434aarow1_col2\" class=\"data row1 col2\" >0.57</td>\n",
       "                        <td id=\"T_e362bedc_a112_11eb_b482_faffc24434aarow1_col3\" class=\"data row1 col3\" >0.98</td>\n",
       "                        <td id=\"T_e362bedc_a112_11eb_b482_faffc24434aarow1_col4\" class=\"data row1 col4\" >1.00</td>\n",
       "                        <td id=\"T_e362bedc_a112_11eb_b482_faffc24434aarow1_col5\" class=\"data row1 col5\" >1.00</td>\n",
       "            </tr>\n",
       "            <tr>\n",
       "                        <th id=\"T_e362bedc_a112_11eb_b482_faffc24434aalevel0_row2\" class=\"row_heading level0 row2\" >churn</th>\n",
       "                        <td id=\"T_e362bedc_a112_11eb_b482_faffc24434aarow2_col0\" class=\"data row2 col0\" >0.79</td>\n",
       "                        <td id=\"T_e362bedc_a112_11eb_b482_faffc24434aarow2_col1\" class=\"data row2 col1\" >0.80</td>\n",
       "                        <td id=\"T_e362bedc_a112_11eb_b482_faffc24434aarow2_col2\" class=\"data row2 col2\" >0.81</td>\n",
       "                        <td id=\"T_e362bedc_a112_11eb_b482_faffc24434aarow2_col3\" class=\"data row2 col3\" >1.00</td>\n",
       "                        <td id=\"T_e362bedc_a112_11eb_b482_faffc24434aarow2_col4\" class=\"data row2 col4\" >1.00</td>\n",
       "                        <td id=\"T_e362bedc_a112_11eb_b482_faffc24434aarow2_col5\" class=\"data row2 col5\" >1.00</td>\n",
       "            </tr>\n",
       "            <tr>\n",
       "                        <th id=\"T_e362bedc_a112_11eb_b482_faffc24434aalevel0_row3\" class=\"row_heading level0 row3\" >default-cb</th>\n",
       "                        <td id=\"T_e362bedc_a112_11eb_b482_faffc24434aarow3_col0\" class=\"data row3 col0\" >0.53</td>\n",
       "                        <td id=\"T_e362bedc_a112_11eb_b482_faffc24434aarow3_col1\" class=\"data row3 col1\" >0.53</td>\n",
       "                        <td id=\"T_e362bedc_a112_11eb_b482_faffc24434aarow3_col2\" class=\"data row3 col2\" >0.53</td>\n",
       "                        <td id=\"T_e362bedc_a112_11eb_b482_faffc24434aarow3_col3\" class=\"data row3 col3\" >1.00</td>\n",
       "                        <td id=\"T_e362bedc_a112_11eb_b482_faffc24434aarow3_col4\" class=\"data row3 col4\" >1.00</td>\n",
       "                        <td id=\"T_e362bedc_a112_11eb_b482_faffc24434aarow3_col5\" class=\"data row3 col5\" >1.00</td>\n",
       "            </tr>\n",
       "    </tbody></table>"
      ],
      "text/plain": [
       "<pandas.io.formats.style.Styler at 0x7fc0b8ba2610>"
      ]
     },
     "execution_count": 17,
     "metadata": {},
     "output_type": "execute_result"
    }
   ],
   "source": [
    "filename = \"../benchmarks_2021-04-19-15:25:42.pickle\"\n",
    "\n",
    "print_results(filename)"
   ]
  },
  {
   "cell_type": "markdown",
   "metadata": {},
   "source": [
    "## Resultats n_estimators=100, sans aggregation et max_features=\"auto\", dirichlet=0.0"
   ]
  },
  {
   "cell_type": "code",
   "execution_count": 20,
   "metadata": {
    "ExecuteTime": {
     "end_time": "2021-04-19T13:31:37.715976Z",
     "start_time": "2021-04-19T13:31:37.659926Z"
    }
   },
   "outputs": [
    {
     "name": "stdout",
     "output_type": "stream",
     "text": [
      "commit number 6ad6dfc: datetime: 2021-04-19-15:29:20\n"
     ]
    },
    {
     "data": {
      "text/html": [
       "<style  type=\"text/css\" >\n",
       "#T_912df270_a113_11eb_b482_faffc24434aarow0_col0,#T_912df270_a113_11eb_b482_faffc24434aarow0_col4,#T_912df270_a113_11eb_b482_faffc24434aarow2_col1,#T_912df270_a113_11eb_b482_faffc24434aarow2_col2,#T_912df270_a113_11eb_b482_faffc24434aarow3_col3,#T_912df270_a113_11eb_b482_faffc24434aarow3_col5{\n",
       "            background-color:  #023858;\n",
       "            color:  #f1f1f1;\n",
       "        }#T_912df270_a113_11eb_b482_faffc24434aarow0_col1{\n",
       "            background-color:  #023b5d;\n",
       "            color:  #f1f1f1;\n",
       "        }#T_912df270_a113_11eb_b482_faffc24434aarow0_col2{\n",
       "            background-color:  #034a74;\n",
       "            color:  #f1f1f1;\n",
       "        }#T_912df270_a113_11eb_b482_faffc24434aarow0_col3{\n",
       "            background-color:  #cacee5;\n",
       "            color:  #000000;\n",
       "        }#T_912df270_a113_11eb_b482_faffc24434aarow0_col5{\n",
       "            background-color:  #bbc7e0;\n",
       "            color:  #000000;\n",
       "        }#T_912df270_a113_11eb_b482_faffc24434aarow1_col0{\n",
       "            background-color:  #c5cce3;\n",
       "            color:  #000000;\n",
       "        }#T_912df270_a113_11eb_b482_faffc24434aarow1_col1{\n",
       "            background-color:  #cdd0e5;\n",
       "            color:  #000000;\n",
       "        }#T_912df270_a113_11eb_b482_faffc24434aarow1_col2{\n",
       "            background-color:  #dbdaeb;\n",
       "            color:  #000000;\n",
       "        }#T_912df270_a113_11eb_b482_faffc24434aarow1_col3{\n",
       "            background-color:  #4094c3;\n",
       "            color:  #000000;\n",
       "        }#T_912df270_a113_11eb_b482_faffc24434aarow1_col4{\n",
       "            background-color:  #b1c2de;\n",
       "            color:  #000000;\n",
       "        }#T_912df270_a113_11eb_b482_faffc24434aarow1_col5{\n",
       "            background-color:  #1c7fb8;\n",
       "            color:  #000000;\n",
       "        }#T_912df270_a113_11eb_b482_faffc24434aarow2_col0{\n",
       "            background-color:  #023c5f;\n",
       "            color:  #f1f1f1;\n",
       "        }#T_912df270_a113_11eb_b482_faffc24434aarow2_col3,#T_912df270_a113_11eb_b482_faffc24434aarow2_col4,#T_912df270_a113_11eb_b482_faffc24434aarow2_col5,#T_912df270_a113_11eb_b482_faffc24434aarow3_col0,#T_912df270_a113_11eb_b482_faffc24434aarow3_col1,#T_912df270_a113_11eb_b482_faffc24434aarow3_col2{\n",
       "            background-color:  #fff7fb;\n",
       "            color:  #000000;\n",
       "        }#T_912df270_a113_11eb_b482_faffc24434aarow3_col4{\n",
       "            background-color:  #c4cbe3;\n",
       "            color:  #000000;\n",
       "        }</style><table id=\"T_912df270_a113_11eb_b482_faffc24434aa\" ><thead>    <tr>        <th class=\"blank level0\" ></th>        <th class=\"col_heading level0 col0\" colspan=3>avg_prec_w</th>        <th class=\"col_heading level0 col3\" colspan=3>fit_time</th>    </tr>    <tr>        <th class=\"blank level1\" ></th>        <th class=\"col_heading level1 col0\" colspan=3>mean</th>        <th class=\"col_heading level1 col3\" colspan=3>mean</th>    </tr>    <tr>        <th class=\"index_name level2\" >classifier_title</th>        <th class=\"col_heading level2 col0\" >WildWood (Categorical)</th>        <th class=\"col_heading level2 col1\" >WildWood (One Hot)</th>        <th class=\"col_heading level2 col2\" >WildWood (Ordinal)</th>        <th class=\"col_heading level2 col3\" >WildWood (Categorical)</th>        <th class=\"col_heading level2 col4\" >WildWood (One Hot)</th>        <th class=\"col_heading level2 col5\" >WildWood (Ordinal)</th>    </tr>    <tr>        <th class=\"index_name level0\" >dataset</th>        <th class=\"blank\" ></th>        <th class=\"blank\" ></th>        <th class=\"blank\" ></th>        <th class=\"blank\" ></th>        <th class=\"blank\" ></th>        <th class=\"blank\" ></th>    </tr></thead><tbody>\n",
       "                <tr>\n",
       "                        <th id=\"T_912df270_a113_11eb_b482_faffc24434aalevel0_row0\" class=\"row_heading level0 row0\" >adult</th>\n",
       "                        <td id=\"T_912df270_a113_11eb_b482_faffc24434aarow0_col0\" class=\"data row0 col0\" >0.81</td>\n",
       "                        <td id=\"T_912df270_a113_11eb_b482_faffc24434aarow0_col1\" class=\"data row0 col1\" >0.80</td>\n",
       "                        <td id=\"T_912df270_a113_11eb_b482_faffc24434aarow0_col2\" class=\"data row0 col2\" >0.80</td>\n",
       "                        <td id=\"T_912df270_a113_11eb_b482_faffc24434aarow0_col3\" class=\"data row0 col3\" >0.64</td>\n",
       "                        <td id=\"T_912df270_a113_11eb_b482_faffc24434aarow0_col4\" class=\"data row0 col4\" >6.68</td>\n",
       "                        <td id=\"T_912df270_a113_11eb_b482_faffc24434aarow0_col5\" class=\"data row0 col5\" >0.85</td>\n",
       "            </tr>\n",
       "            <tr>\n",
       "                        <th id=\"T_912df270_a113_11eb_b482_faffc24434aalevel0_row1\" class=\"row_heading level0 row1\" >bank</th>\n",
       "                        <td id=\"T_912df270_a113_11eb_b482_faffc24434aarow1_col0\" class=\"data row1 col0\" >0.61</td>\n",
       "                        <td id=\"T_912df270_a113_11eb_b482_faffc24434aarow1_col1\" class=\"data row1 col1\" >0.61</td>\n",
       "                        <td id=\"T_912df270_a113_11eb_b482_faffc24434aarow1_col2\" class=\"data row1 col2\" >0.60</td>\n",
       "                        <td id=\"T_912df270_a113_11eb_b482_faffc24434aarow1_col3\" class=\"data row1 col3\" >1.17</td>\n",
       "                        <td id=\"T_912df270_a113_11eb_b482_faffc24434aarow1_col4\" class=\"data row1 col4\" >2.44</td>\n",
       "                        <td id=\"T_912df270_a113_11eb_b482_faffc24434aarow1_col5\" class=\"data row1 col5\" >1.59</td>\n",
       "            </tr>\n",
       "            <tr>\n",
       "                        <th id=\"T_912df270_a113_11eb_b482_faffc24434aalevel0_row2\" class=\"row_heading level0 row2\" >churn</th>\n",
       "                        <td id=\"T_912df270_a113_11eb_b482_faffc24434aarow2_col0\" class=\"data row2 col0\" >0.80</td>\n",
       "                        <td id=\"T_912df270_a113_11eb_b482_faffc24434aarow2_col1\" class=\"data row2 col1\" >0.80</td>\n",
       "                        <td id=\"T_912df270_a113_11eb_b482_faffc24434aarow2_col2\" class=\"data row2 col2\" >0.82</td>\n",
       "                        <td id=\"T_912df270_a113_11eb_b482_faffc24434aarow2_col3\" class=\"data row2 col3\" >0.22</td>\n",
       "                        <td id=\"T_912df270_a113_11eb_b482_faffc24434aarow2_col4\" class=\"data row2 col4\" >0.24</td>\n",
       "                        <td id=\"T_912df270_a113_11eb_b482_faffc24434aarow2_col5\" class=\"data row2 col5\" >0.22</td>\n",
       "            </tr>\n",
       "            <tr>\n",
       "                        <th id=\"T_912df270_a113_11eb_b482_faffc24434aalevel0_row3\" class=\"row_heading level0 row3\" >default-cb</th>\n",
       "                        <td id=\"T_912df270_a113_11eb_b482_faffc24434aarow3_col0\" class=\"data row3 col0\" >0.54</td>\n",
       "                        <td id=\"T_912df270_a113_11eb_b482_faffc24434aarow3_col1\" class=\"data row3 col1\" >0.54</td>\n",
       "                        <td id=\"T_912df270_a113_11eb_b482_faffc24434aarow3_col2\" class=\"data row3 col2\" >0.54</td>\n",
       "                        <td id=\"T_912df270_a113_11eb_b482_faffc24434aarow3_col3\" class=\"data row3 col3\" >1.80</td>\n",
       "                        <td id=\"T_912df270_a113_11eb_b482_faffc24434aarow3_col4\" class=\"data row3 col4\" >2.09</td>\n",
       "                        <td id=\"T_912df270_a113_11eb_b482_faffc24434aarow3_col5\" class=\"data row3 col5\" >2.20</td>\n",
       "            </tr>\n",
       "    </tbody></table>"
      ],
      "text/plain": [
       "<pandas.io.formats.style.Styler at 0x7fc068848bd0>"
      ]
     },
     "execution_count": 20,
     "metadata": {},
     "output_type": "execute_result"
    }
   ],
   "source": [
    "filename = \"../benchmarks_2021-04-19-15:29:20.pickle\"\n",
    "print_results(filename, metrics=[\"avg_prec_w\", \"fit_time\"])"
   ]
  },
  {
   "cell_type": "markdown",
   "metadata": {},
   "source": [
    "## Resultats n_estimators=100, sans aggregation et max_features=\"auto\", dirichlet=0.5"
   ]
  },
  {
   "cell_type": "code",
   "execution_count": 21,
   "metadata": {
    "ExecuteTime": {
     "end_time": "2021-04-19T13:34:04.180276Z",
     "start_time": "2021-04-19T13:34:04.118216Z"
    }
   },
   "outputs": [
    {
     "name": "stdout",
     "output_type": "stream",
     "text": [
      "commit number 6ad6dfc: datetime: 2021-04-19-15:33:27\n"
     ]
    },
    {
     "data": {
      "text/html": [
       "<style  type=\"text/css\" >\n",
       "#T_e87ab658_a113_11eb_b482_faffc24434aarow0_col0,#T_e87ab658_a113_11eb_b482_faffc24434aarow0_col4,#T_e87ab658_a113_11eb_b482_faffc24434aarow2_col1,#T_e87ab658_a113_11eb_b482_faffc24434aarow2_col2,#T_e87ab658_a113_11eb_b482_faffc24434aarow3_col3,#T_e87ab658_a113_11eb_b482_faffc24434aarow3_col5{\n",
       "            background-color:  #023858;\n",
       "            color:  #f1f1f1;\n",
       "        }#T_e87ab658_a113_11eb_b482_faffc24434aarow0_col1{\n",
       "            background-color:  #034165;\n",
       "            color:  #f1f1f1;\n",
       "        }#T_e87ab658_a113_11eb_b482_faffc24434aarow0_col2{\n",
       "            background-color:  #034b76;\n",
       "            color:  #f1f1f1;\n",
       "        }#T_e87ab658_a113_11eb_b482_faffc24434aarow0_col3{\n",
       "            background-color:  #d2d3e7;\n",
       "            color:  #000000;\n",
       "        }#T_e87ab658_a113_11eb_b482_faffc24434aarow0_col5{\n",
       "            background-color:  #c1cae2;\n",
       "            color:  #000000;\n",
       "        }#T_e87ab658_a113_11eb_b482_faffc24434aarow1_col0{\n",
       "            background-color:  #c8cde4;\n",
       "            color:  #000000;\n",
       "        }#T_e87ab658_a113_11eb_b482_faffc24434aarow1_col1,#T_e87ab658_a113_11eb_b482_faffc24434aarow3_col4{\n",
       "            background-color:  #d0d1e6;\n",
       "            color:  #000000;\n",
       "        }#T_e87ab658_a113_11eb_b482_faffc24434aarow1_col2{\n",
       "            background-color:  #dbdaeb;\n",
       "            color:  #000000;\n",
       "        }#T_e87ab658_a113_11eb_b482_faffc24434aarow1_col3{\n",
       "            background-color:  #7dacd1;\n",
       "            color:  #000000;\n",
       "        }#T_e87ab658_a113_11eb_b482_faffc24434aarow1_col4{\n",
       "            background-color:  #cdd0e5;\n",
       "            color:  #000000;\n",
       "        }#T_e87ab658_a113_11eb_b482_faffc24434aarow1_col5{\n",
       "            background-color:  #4697c4;\n",
       "            color:  #000000;\n",
       "        }#T_e87ab658_a113_11eb_b482_faffc24434aarow2_col0{\n",
       "            background-color:  #023d60;\n",
       "            color:  #f1f1f1;\n",
       "        }#T_e87ab658_a113_11eb_b482_faffc24434aarow2_col3,#T_e87ab658_a113_11eb_b482_faffc24434aarow2_col4,#T_e87ab658_a113_11eb_b482_faffc24434aarow2_col5,#T_e87ab658_a113_11eb_b482_faffc24434aarow3_col0,#T_e87ab658_a113_11eb_b482_faffc24434aarow3_col1,#T_e87ab658_a113_11eb_b482_faffc24434aarow3_col2{\n",
       "            background-color:  #fff7fb;\n",
       "            color:  #000000;\n",
       "        }</style><table id=\"T_e87ab658_a113_11eb_b482_faffc24434aa\" ><thead>    <tr>        <th class=\"blank level0\" ></th>        <th class=\"col_heading level0 col0\" colspan=3>avg_prec_w</th>        <th class=\"col_heading level0 col3\" colspan=3>fit_time</th>    </tr>    <tr>        <th class=\"blank level1\" ></th>        <th class=\"col_heading level1 col0\" colspan=3>mean</th>        <th class=\"col_heading level1 col3\" colspan=3>mean</th>    </tr>    <tr>        <th class=\"index_name level2\" >classifier_title</th>        <th class=\"col_heading level2 col0\" >WildWood (Categorical)</th>        <th class=\"col_heading level2 col1\" >WildWood (One Hot)</th>        <th class=\"col_heading level2 col2\" >WildWood (Ordinal)</th>        <th class=\"col_heading level2 col3\" >WildWood (Categorical)</th>        <th class=\"col_heading level2 col4\" >WildWood (One Hot)</th>        <th class=\"col_heading level2 col5\" >WildWood (Ordinal)</th>    </tr>    <tr>        <th class=\"index_name level0\" >dataset</th>        <th class=\"blank\" ></th>        <th class=\"blank\" ></th>        <th class=\"blank\" ></th>        <th class=\"blank\" ></th>        <th class=\"blank\" ></th>        <th class=\"blank\" ></th>    </tr></thead><tbody>\n",
       "                <tr>\n",
       "                        <th id=\"T_e87ab658_a113_11eb_b482_faffc24434aalevel0_row0\" class=\"row_heading level0 row0\" >adult</th>\n",
       "                        <td id=\"T_e87ab658_a113_11eb_b482_faffc24434aarow0_col0\" class=\"data row0 col0\" >0.81</td>\n",
       "                        <td id=\"T_e87ab658_a113_11eb_b482_faffc24434aarow0_col1\" class=\"data row0 col1\" >0.79</td>\n",
       "                        <td id=\"T_e87ab658_a113_11eb_b482_faffc24434aarow0_col2\" class=\"data row0 col2\" >0.80</td>\n",
       "                        <td id=\"T_e87ab658_a113_11eb_b482_faffc24434aarow0_col3\" class=\"data row0 col3\" >0.64</td>\n",
       "                        <td id=\"T_e87ab658_a113_11eb_b482_faffc24434aarow0_col4\" class=\"data row0 col4\" >6.91</td>\n",
       "                        <td id=\"T_e87ab658_a113_11eb_b482_faffc24434aarow0_col5\" class=\"data row0 col5\" >0.74</td>\n",
       "            </tr>\n",
       "            <tr>\n",
       "                        <th id=\"T_e87ab658_a113_11eb_b482_faffc24434aalevel0_row1\" class=\"row_heading level0 row1\" >bank</th>\n",
       "                        <td id=\"T_e87ab658_a113_11eb_b482_faffc24434aarow1_col0\" class=\"data row1 col0\" >0.62</td>\n",
       "                        <td id=\"T_e87ab658_a113_11eb_b482_faffc24434aarow1_col1\" class=\"data row1 col1\" >0.61</td>\n",
       "                        <td id=\"T_e87ab658_a113_11eb_b482_faffc24434aarow1_col2\" class=\"data row1 col2\" >0.60</td>\n",
       "                        <td id=\"T_e87ab658_a113_11eb_b482_faffc24434aarow1_col3\" class=\"data row1 col3\" >1.06</td>\n",
       "                        <td id=\"T_e87ab658_a113_11eb_b482_faffc24434aarow1_col4\" class=\"data row1 col4\" >1.97</td>\n",
       "                        <td id=\"T_e87ab658_a113_11eb_b482_faffc24434aarow1_col5\" class=\"data row1 col5\" >1.27</td>\n",
       "            </tr>\n",
       "            <tr>\n",
       "                        <th id=\"T_e87ab658_a113_11eb_b482_faffc24434aalevel0_row2\" class=\"row_heading level0 row2\" >churn</th>\n",
       "                        <td id=\"T_e87ab658_a113_11eb_b482_faffc24434aarow2_col0\" class=\"data row2 col0\" >0.80</td>\n",
       "                        <td id=\"T_e87ab658_a113_11eb_b482_faffc24434aarow2_col1\" class=\"data row2 col1\" >0.80</td>\n",
       "                        <td id=\"T_e87ab658_a113_11eb_b482_faffc24434aarow2_col2\" class=\"data row2 col2\" >0.82</td>\n",
       "                        <td id=\"T_e87ab658_a113_11eb_b482_faffc24434aarow2_col3\" class=\"data row2 col3\" >0.22</td>\n",
       "                        <td id=\"T_e87ab658_a113_11eb_b482_faffc24434aarow2_col4\" class=\"data row2 col4\" >0.23</td>\n",
       "                        <td id=\"T_e87ab658_a113_11eb_b482_faffc24434aarow2_col5\" class=\"data row2 col5\" >0.22</td>\n",
       "            </tr>\n",
       "            <tr>\n",
       "                        <th id=\"T_e87ab658_a113_11eb_b482_faffc24434aalevel0_row3\" class=\"row_heading level0 row3\" >default-cb</th>\n",
       "                        <td id=\"T_e87ab658_a113_11eb_b482_faffc24434aarow3_col0\" class=\"data row3 col0\" >0.54</td>\n",
       "                        <td id=\"T_e87ab658_a113_11eb_b482_faffc24434aarow3_col1\" class=\"data row3 col1\" >0.54</td>\n",
       "                        <td id=\"T_e87ab658_a113_11eb_b482_faffc24434aarow3_col2\" class=\"data row3 col2\" >0.54</td>\n",
       "                        <td id=\"T_e87ab658_a113_11eb_b482_faffc24434aarow3_col3\" class=\"data row3 col3\" >1.98</td>\n",
       "                        <td id=\"T_e87ab658_a113_11eb_b482_faffc24434aarow3_col4\" class=\"data row3 col4\" >1.91</td>\n",
       "                        <td id=\"T_e87ab658_a113_11eb_b482_faffc24434aarow3_col5\" class=\"data row3 col5\" >1.99</td>\n",
       "            </tr>\n",
       "    </tbody></table>"
      ],
      "text/plain": [
       "<pandas.io.formats.style.Styler at 0x7fc088ace990>"
      ]
     },
     "execution_count": 21,
     "metadata": {},
     "output_type": "execute_result"
    }
   ],
   "source": [
    "filename = \"../benchmarks_2021-04-19-15:33:27.pickle\"\n",
    "print_results(filename, metrics=[\"avg_prec_w\", \"fit_time\"])"
   ]
  },
  {
   "cell_type": "markdown",
   "metadata": {},
   "source": [
    "## Resultats n_estimators=100, avec aggregation et max_features=\"auto\", dirichlet=0.5"
   ]
  },
  {
   "cell_type": "code",
   "execution_count": 22,
   "metadata": {
    "ExecuteTime": {
     "end_time": "2021-04-19T13:37:37.115724Z",
     "start_time": "2021-04-19T13:37:37.057340Z"
    },
    "scrolled": true
   },
   "outputs": [
    {
     "name": "stdout",
     "output_type": "stream",
     "text": [
      "commit number 6ad6dfc: datetime: 2021-04-19-15:37:09\n"
     ]
    },
    {
     "data": {
      "text/html": [
       "<style  type=\"text/css\" >\n",
       "#T_67663e38_a114_11eb_b482_faffc24434aarow0_col0,#T_67663e38_a114_11eb_b482_faffc24434aarow0_col4,#T_67663e38_a114_11eb_b482_faffc24434aarow2_col1,#T_67663e38_a114_11eb_b482_faffc24434aarow2_col2,#T_67663e38_a114_11eb_b482_faffc24434aarow3_col3,#T_67663e38_a114_11eb_b482_faffc24434aarow3_col5{\n",
       "            background-color:  #023858;\n",
       "            color:  #f1f1f1;\n",
       "        }#T_67663e38_a114_11eb_b482_faffc24434aarow0_col1{\n",
       "            background-color:  #023d60;\n",
       "            color:  #f1f1f1;\n",
       "        }#T_67663e38_a114_11eb_b482_faffc24434aarow0_col2{\n",
       "            background-color:  #03446a;\n",
       "            color:  #f1f1f1;\n",
       "        }#T_67663e38_a114_11eb_b482_faffc24434aarow0_col3{\n",
       "            background-color:  #c8cde4;\n",
       "            color:  #000000;\n",
       "        }#T_67663e38_a114_11eb_b482_faffc24434aarow0_col5{\n",
       "            background-color:  #bcc7e1;\n",
       "            color:  #000000;\n",
       "        }#T_67663e38_a114_11eb_b482_faffc24434aarow1_col0{\n",
       "            background-color:  #cacee5;\n",
       "            color:  #000000;\n",
       "        }#T_67663e38_a114_11eb_b482_faffc24434aarow1_col1{\n",
       "            background-color:  #d0d1e6;\n",
       "            color:  #000000;\n",
       "        }#T_67663e38_a114_11eb_b482_faffc24434aarow1_col2{\n",
       "            background-color:  #d9d8ea;\n",
       "            color:  #000000;\n",
       "        }#T_67663e38_a114_11eb_b482_faffc24434aarow1_col3{\n",
       "            background-color:  #75a9cf;\n",
       "            color:  #000000;\n",
       "        }#T_67663e38_a114_11eb_b482_faffc24434aarow1_col4{\n",
       "            background-color:  #c4cbe3;\n",
       "            color:  #000000;\n",
       "        }#T_67663e38_a114_11eb_b482_faffc24434aarow1_col5{\n",
       "            background-color:  #4e9ac6;\n",
       "            color:  #000000;\n",
       "        }#T_67663e38_a114_11eb_b482_faffc24434aarow2_col0{\n",
       "            background-color:  #03456c;\n",
       "            color:  #f1f1f1;\n",
       "        }#T_67663e38_a114_11eb_b482_faffc24434aarow2_col3,#T_67663e38_a114_11eb_b482_faffc24434aarow2_col4,#T_67663e38_a114_11eb_b482_faffc24434aarow2_col5,#T_67663e38_a114_11eb_b482_faffc24434aarow3_col0,#T_67663e38_a114_11eb_b482_faffc24434aarow3_col1,#T_67663e38_a114_11eb_b482_faffc24434aarow3_col2{\n",
       "            background-color:  #fff7fb;\n",
       "            color:  #000000;\n",
       "        }#T_67663e38_a114_11eb_b482_faffc24434aarow3_col4{\n",
       "            background-color:  #c2cbe2;\n",
       "            color:  #000000;\n",
       "        }</style><table id=\"T_67663e38_a114_11eb_b482_faffc24434aa\" ><thead>    <tr>        <th class=\"blank level0\" ></th>        <th class=\"col_heading level0 col0\" colspan=3>avg_prec_w</th>        <th class=\"col_heading level0 col3\" colspan=3>fit_time</th>    </tr>    <tr>        <th class=\"blank level1\" ></th>        <th class=\"col_heading level1 col0\" colspan=3>mean</th>        <th class=\"col_heading level1 col3\" colspan=3>mean</th>    </tr>    <tr>        <th class=\"index_name level2\" >classifier_title</th>        <th class=\"col_heading level2 col0\" >WildWood (Categorical)</th>        <th class=\"col_heading level2 col1\" >WildWood (One Hot)</th>        <th class=\"col_heading level2 col2\" >WildWood (Ordinal)</th>        <th class=\"col_heading level2 col3\" >WildWood (Categorical)</th>        <th class=\"col_heading level2 col4\" >WildWood (One Hot)</th>        <th class=\"col_heading level2 col5\" >WildWood (Ordinal)</th>    </tr>    <tr>        <th class=\"index_name level0\" >dataset</th>        <th class=\"blank\" ></th>        <th class=\"blank\" ></th>        <th class=\"blank\" ></th>        <th class=\"blank\" ></th>        <th class=\"blank\" ></th>        <th class=\"blank\" ></th>    </tr></thead><tbody>\n",
       "                <tr>\n",
       "                        <th id=\"T_67663e38_a114_11eb_b482_faffc24434aalevel0_row0\" class=\"row_heading level0 row0\" >adult</th>\n",
       "                        <td id=\"T_67663e38_a114_11eb_b482_faffc24434aarow0_col0\" class=\"data row0 col0\" >0.81</td>\n",
       "                        <td id=\"T_67663e38_a114_11eb_b482_faffc24434aarow0_col1\" class=\"data row0 col1\" >0.80</td>\n",
       "                        <td id=\"T_67663e38_a114_11eb_b482_faffc24434aarow0_col2\" class=\"data row0 col2\" >0.80</td>\n",
       "                        <td id=\"T_67663e38_a114_11eb_b482_faffc24434aarow0_col3\" class=\"data row0 col3\" >0.74</td>\n",
       "                        <td id=\"T_67663e38_a114_11eb_b482_faffc24434aarow0_col4\" class=\"data row0 col4\" >6.65</td>\n",
       "                        <td id=\"T_67663e38_a114_11eb_b482_faffc24434aarow0_col5\" class=\"data row0 col5\" >0.84</td>\n",
       "            </tr>\n",
       "            <tr>\n",
       "                        <th id=\"T_67663e38_a114_11eb_b482_faffc24434aalevel0_row1\" class=\"row_heading level0 row1\" >bank</th>\n",
       "                        <td id=\"T_67663e38_a114_11eb_b482_faffc24434aarow1_col0\" class=\"data row1 col0\" >0.62</td>\n",
       "                        <td id=\"T_67663e38_a114_11eb_b482_faffc24434aarow1_col1\" class=\"data row1 col1\" >0.61</td>\n",
       "                        <td id=\"T_67663e38_a114_11eb_b482_faffc24434aarow1_col2\" class=\"data row1 col2\" >0.60</td>\n",
       "                        <td id=\"T_67663e38_a114_11eb_b482_faffc24434aarow1_col3\" class=\"data row1 col3\" >1.16</td>\n",
       "                        <td id=\"T_67663e38_a114_11eb_b482_faffc24434aarow1_col4\" class=\"data row1 col4\" >2.07</td>\n",
       "                        <td id=\"T_67663e38_a114_11eb_b482_faffc24434aarow1_col5\" class=\"data row1 col5\" >1.36</td>\n",
       "            </tr>\n",
       "            <tr>\n",
       "                        <th id=\"T_67663e38_a114_11eb_b482_faffc24434aalevel0_row2\" class=\"row_heading level0 row2\" >churn</th>\n",
       "                        <td id=\"T_67663e38_a114_11eb_b482_faffc24434aarow2_col0\" class=\"data row2 col0\" >0.80</td>\n",
       "                        <td id=\"T_67663e38_a114_11eb_b482_faffc24434aarow2_col1\" class=\"data row2 col1\" >0.80</td>\n",
       "                        <td id=\"T_67663e38_a114_11eb_b482_faffc24434aarow2_col2\" class=\"data row2 col2\" >0.82</td>\n",
       "                        <td id=\"T_67663e38_a114_11eb_b482_faffc24434aarow2_col3\" class=\"data row2 col3\" >0.22</td>\n",
       "                        <td id=\"T_67663e38_a114_11eb_b482_faffc24434aarow2_col4\" class=\"data row2 col4\" >0.23</td>\n",
       "                        <td id=\"T_67663e38_a114_11eb_b482_faffc24434aarow2_col5\" class=\"data row2 col5\" >0.22</td>\n",
       "            </tr>\n",
       "            <tr>\n",
       "                        <th id=\"T_67663e38_a114_11eb_b482_faffc24434aalevel0_row3\" class=\"row_heading level0 row3\" >default-cb</th>\n",
       "                        <td id=\"T_67663e38_a114_11eb_b482_faffc24434aarow3_col0\" class=\"data row3 col0\" >0.54</td>\n",
       "                        <td id=\"T_67663e38_a114_11eb_b482_faffc24434aarow3_col1\" class=\"data row3 col1\" >0.54</td>\n",
       "                        <td id=\"T_67663e38_a114_11eb_b482_faffc24434aarow3_col2\" class=\"data row3 col2\" >0.54</td>\n",
       "                        <td id=\"T_67663e38_a114_11eb_b482_faffc24434aarow3_col3\" class=\"data row3 col3\" >2.10</td>\n",
       "                        <td id=\"T_67663e38_a114_11eb_b482_faffc24434aarow3_col4\" class=\"data row3 col4\" >2.09</td>\n",
       "                        <td id=\"T_67663e38_a114_11eb_b482_faffc24434aarow3_col5\" class=\"data row3 col5\" >2.20</td>\n",
       "            </tr>\n",
       "    </tbody></table>"
      ],
      "text/plain": [
       "<pandas.io.formats.style.Styler at 0x7fc088cbfe10>"
      ]
     },
     "execution_count": 22,
     "metadata": {},
     "output_type": "execute_result"
    }
   ],
   "source": [
    "filename = \"../benchmarks_2021-04-19-15:37:09.pickle\"\n",
    "print_results(filename, metrics=[\"avg_prec_w\", \"fit_time\"])"
   ]
  },
  {
   "cell_type": "code",
   "execution_count": null,
   "metadata": {},
   "outputs": [],
   "source": []
  },
  {
   "cell_type": "code",
   "execution_count": null,
   "metadata": {},
   "outputs": [],
   "source": []
  },
  {
   "cell_type": "code",
   "execution_count": null,
   "metadata": {},
   "outputs": [],
   "source": []
  },
  {
   "cell_type": "code",
   "execution_count": null,
   "metadata": {},
   "outputs": [],
   "source": []
  },
  {
   "cell_type": "code",
   "execution_count": null,
   "metadata": {
    "ExecuteTime": {
     "end_time": "2021-04-16T15:45:53.389137Z",
     "start_time": "2021-04-16T15:45:38.409651Z"
    }
   },
   "outputs": [],
   "source": [
    "import sys\n",
    "import subprocess\n",
    "from time import time\n",
    "from datetime import datetime\n",
    "import logging\n",
    "import pickle as pkl\n",
    "import numpy as np\n",
    "import pandas as pd\n",
    "\n",
    "from sklearn.linear_model import LogisticRegression\n",
    "from sklearn.metrics import (\n",
    "    roc_auc_score,\n",
    "    average_precision_score,\n",
    "    log_loss,\n",
    "    accuracy_score,\n",
    ")\n",
    "from sklearn.preprocessing import LabelBinarizer\n",
    "from sklearn.ensemble import RandomForestClassifier\n",
    "\n",
    "sys.path.extend([\".\", \"..\"])\n",
    "\n",
    "from wildwood.dataset import loaders_small_classification, load_churn\n",
    "from wildwood.forest import ForestClassifier\n",
    "\n",
    "\n",
    "from wildwood.dataset import (\n",
    "    load_adult,\n",
    "    load_bank,\n",
    "    load_breastcancer,\n",
    "    load_car,\n",
    "    load_cardio,\n",
    "    load_churn,\n",
    "    load_default_cb,\n",
    "    load_letter,\n",
    "    load_satimage,\n",
    "    load_sensorless,\n",
    "    load_spambase,\n",
    ")"
   ]
  },
  {
   "cell_type": "code",
   "execution_count": null,
   "metadata": {
    "ExecuteTime": {
     "end_time": "2021-04-16T15:45:56.701567Z",
     "start_time": "2021-04-16T15:45:56.604063Z"
    }
   },
   "outputs": [],
   "source": [
    "dataset = load_bank()"
   ]
  },
  {
   "cell_type": "code",
   "execution_count": null,
   "metadata": {
    "ExecuteTime": {
     "end_time": "2021-04-16T15:45:57.556873Z",
     "start_time": "2021-04-16T15:45:57.553612Z"
    }
   },
   "outputs": [],
   "source": [
    "clf = ForestClassifier(\n",
    "    n_estimators=1,\n",
    "    n_jobs=1,\n",
    "    class_weight=\"balanced\",\n",
    "    random_state=42,\n",
    "    aggregation=False,\n",
    "    max_features=None,\n",
    "    dirichlet=0.0\n",
    ")"
   ]
  },
  {
   "cell_type": "code",
   "execution_count": null,
   "metadata": {
    "ExecuteTime": {
     "end_time": "2021-04-16T15:45:58.840444Z",
     "start_time": "2021-04-16T15:45:58.837784Z"
    }
   },
   "outputs": [],
   "source": [
    "dataset.one_hot_encode = True\n",
    "dataset.standardize = False\n",
    "dataset.drop = None\n",
    "X_train, X_test, y_train, y_test = dataset.extract(random_state=42)"
   ]
  },
  {
   "cell_type": "code",
   "execution_count": null,
   "metadata": {
    "ExecuteTime": {
     "end_time": "2021-04-16T15:46:06.282034Z",
     "start_time": "2021-04-16T15:46:00.058072Z"
    },
    "scrolled": false
   },
   "outputs": [],
   "source": [
    "clf.fit(X_train, y_train)"
   ]
  },
  {
   "cell_type": "code",
   "execution_count": null,
   "metadata": {
    "ExecuteTime": {
     "end_time": "2021-04-16T15:46:21.416701Z",
     "start_time": "2021-04-16T15:46:21.406699Z"
    }
   },
   "outputs": [],
   "source": [
    "from bokeh.plotting import show, output_notebook\n",
    "from wildwood.plot import plot_tree\n",
    "\n",
    "output_notebook()"
   ]
  },
  {
   "cell_type": "code",
   "execution_count": null,
   "metadata": {
    "ExecuteTime": {
     "end_time": "2021-04-16T15:46:33.212187Z",
     "start_time": "2021-04-16T15:46:32.667595Z"
    }
   },
   "outputs": [],
   "source": [
    "fig = plot_tree(clf, height=900, width=900)"
   ]
  },
  {
   "cell_type": "code",
   "execution_count": null,
   "metadata": {
    "ExecuteTime": {
     "end_time": "2021-04-16T15:46:34.138569Z",
     "start_time": "2021-04-16T15:46:34.059513Z"
    }
   },
   "outputs": [],
   "source": [
    "show(fig)"
   ]
  },
  {
   "cell_type": "code",
   "execution_count": null,
   "metadata": {
    "ExecuteTime": {
     "end_time": "2021-04-16T15:47:25.330742Z",
     "start_time": "2021-04-16T15:47:25.122364Z"
    }
   },
   "outputs": [],
   "source": [
    "dataset.one_hot_encode = False\n",
    "dataset.standardize = False\n",
    "dataset.drop = None\n",
    "X_train, X_test, y_train, y_test = dataset.extract(random_state=42)"
   ]
  },
  {
   "cell_type": "code",
   "execution_count": null,
   "metadata": {
    "ExecuteTime": {
     "end_time": "2021-04-16T15:47:56.851853Z",
     "start_time": "2021-04-16T15:47:56.848839Z"
    }
   },
   "outputs": [],
   "source": [
    "clf = ForestClassifier(\n",
    "    n_estimators=1,\n",
    "    n_jobs=1,\n",
    "    class_weight=\"balanced\",\n",
    "    random_state=42,\n",
    "    aggregation=False,\n",
    "    max_features=None,\n",
    "    dirichlet=0.0,\n",
    "    categorical_features=dataset.categorical_features_\n",
    ")"
   ]
  },
  {
   "cell_type": "code",
   "execution_count": null,
   "metadata": {
    "ExecuteTime": {
     "end_time": "2021-04-16T15:48:06.423158Z",
     "start_time": "2021-04-16T15:48:06.029686Z"
    }
   },
   "outputs": [],
   "source": [
    "clf.fit(X_train, y_train)"
   ]
  },
  {
   "cell_type": "code",
   "execution_count": null,
   "metadata": {
    "ExecuteTime": {
     "end_time": "2021-04-16T15:48:21.400806Z",
     "start_time": "2021-04-16T15:48:20.680303Z"
    }
   },
   "outputs": [],
   "source": [
    "fig = plot_tree(clf, height=900, width=900)"
   ]
  },
  {
   "cell_type": "code",
   "execution_count": null,
   "metadata": {
    "ExecuteTime": {
     "end_time": "2021-04-16T15:48:27.853097Z",
     "start_time": "2021-04-16T15:48:27.777123Z"
    }
   },
   "outputs": [],
   "source": [
    "show(fig)"
   ]
  },
  {
   "cell_type": "code",
   "execution_count": null,
   "metadata": {
    "ExecuteTime": {
     "end_time": "2021-04-16T12:47:40.294395Z",
     "start_time": "2021-04-16T12:47:39.929670Z"
    }
   },
   "outputs": [],
   "source": [
    "df = clf.get_nodes(0)"
   ]
  },
  {
   "cell_type": "code",
   "execution_count": null,
   "metadata": {
    "ExecuteTime": {
     "end_time": "2021-04-16T12:48:26.611038Z",
     "start_time": "2021-04-16T12:48:26.608602Z"
    }
   },
   "outputs": [],
   "source": [
    "pd.set_option(\"display.max_columns\", 99)"
   ]
  },
  {
   "cell_type": "code",
   "execution_count": null,
   "metadata": {
    "ExecuteTime": {
     "end_time": "2021-04-16T12:48:27.283304Z",
     "start_time": "2021-04-16T12:48:27.266955Z"
    }
   },
   "outputs": [],
   "source": [
    "df.loc[338:342]"
   ]
  },
  {
   "cell_type": "code",
   "execution_count": null,
   "metadata": {
    "ExecuteTime": {
     "end_time": "2021-04-16T12:50:03.169054Z",
     "start_time": "2021-04-16T12:50:03.161386Z"
    }
   },
   "outputs": [],
   "source": [
    "clf.trees[0]._tree."
   ]
  },
  {
   "cell_type": "code",
   "execution_count": null,
   "metadata": {
    "ExecuteTime": {
     "end_time": "2021-04-16T12:53:39.002033Z",
     "start_time": "2021-04-16T12:53:38.999393Z"
    }
   },
   "outputs": [],
   "source": [
    "partition_train = clf.trees[0]._tree_context.partition_train[19512:19517]"
   ]
  },
  {
   "cell_type": "code",
   "execution_count": null,
   "metadata": {
    "ExecuteTime": {
     "end_time": "2021-04-16T12:53:44.032178Z",
     "start_time": "2021-04-16T12:53:44.029745Z"
    }
   },
   "outputs": [],
   "source": [
    "partition_valid = clf.trees[0]._tree_context.partition_valid[11271:11273]"
   ]
  },
  {
   "cell_type": "code",
   "execution_count": null,
   "metadata": {
    "ExecuteTime": {
     "end_time": "2021-04-16T12:54:00.575268Z",
     "start_time": "2021-04-16T12:54:00.518156Z"
    }
   },
   "outputs": [],
   "source": [
    "pd.DataFrame(X_train[partition_train, :])"
   ]
  },
  {
   "cell_type": "code",
   "execution_count": null,
   "metadata": {
    "ExecuteTime": {
     "end_time": "2021-04-16T12:55:32.782829Z",
     "start_time": "2021-04-16T12:55:32.731192Z"
    }
   },
   "outputs": [],
   "source": [
    "pd.DataFrame(X_train[partition_valid, :])"
   ]
  },
  {
   "cell_type": "code",
   "execution_count": null,
   "metadata": {},
   "outputs": [],
   "source": []
  },
  {
   "cell_type": "code",
   "execution_count": null,
   "metadata": {},
   "outputs": [],
   "source": [
    "clf.trees[0]._tree_context.partition_train"
   ]
  }
 ],
 "metadata": {
  "kernelspec": {
   "display_name": "Python 3",
   "language": "python",
   "name": "python3"
  },
  "language_info": {
   "codemirror_mode": {
    "name": "ipython",
    "version": 3
   },
   "file_extension": ".py",
   "mimetype": "text/x-python",
   "name": "python",
   "nbconvert_exporter": "python",
   "pygments_lexer": "ipython3",
   "version": "3.7.9"
  },
  "toc": {
   "base_numbering": 1,
   "nav_menu": {},
   "number_sections": true,
   "sideBar": true,
   "skip_h1_title": true,
   "title_cell": "Table of Contents",
   "title_sidebar": "Contents",
   "toc_cell": false,
   "toc_position": {},
   "toc_section_display": true,
   "toc_window_display": false
  }
 },
 "nbformat": 4,
 "nbformat_minor": 4
}
