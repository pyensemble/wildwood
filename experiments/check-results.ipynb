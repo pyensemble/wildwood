{
 "cells": [
  {
   "cell_type": "markdown",
   "metadata": {},
   "source": [
    "# Vizualization of the results\n",
    "\n",
    "In this notebook we just visualize and format the pickle file containing experiments results"
   ]
  },
  {
   "cell_type": "code",
   "execution_count": 1,
   "metadata": {
    "ExecuteTime": {
     "end_time": "2021-04-19T13:12:45.062122Z",
     "start_time": "2021-04-19T13:12:44.730293Z"
    }
   },
   "outputs": [],
   "source": [
    "import pickle as pkl\n",
    "import pandas as pd\n",
    "\n",
    "pd.set_option(\"display.max_rows\", 999)"
   ]
  },
  {
   "cell_type": "code",
   "execution_count": 5,
   "metadata": {},
   "outputs": [],
   "source": [
    "def print_results(filename, metrics=None):\n",
    "    with open(filename, \"rb\") as f:\n",
    "        results = pkl.load(f)\n",
    "\n",
    "    print(\"commit number %s: datetime: %s\" % (results[\"commit\"], results[\"datetime\"]))\n",
    "\n",
    "    if metrics is None:\n",
    "        metrics = [\"avg_prec_w\", \"avg_prec_w_train\", \"log_loss\"]\n",
    "    \n",
    "    df = results[\"results\"]\n",
    "\n",
    "\n",
    "    return df"
   ]
  },
  {
   "cell_type": "code",
   "execution_count": 2,
   "metadata": {
    "ExecuteTime": {
     "end_time": "2021-04-19T13:14:22.288116Z",
     "start_time": "2021-04-19T13:14:22.283646Z"
    }
   },
   "outputs": [],
   "source": [
    "def print_results(filename, metrics=None):\n",
    "    with open(filename, \"rb\") as f:\n",
    "        results = pkl.load(f)\n",
    "\n",
    "    print(\"commit number %s: datetime: %s\" % (results[\"commit\"], results[\"datetime\"]))\n",
    "\n",
    "    if metrics is None:\n",
    "        metrics = [\"avg_prec_w\", \"avg_prec_w_train\", \"log_loss\"]\n",
    "    \n",
    "    df = results[\"results\"]\n",
    "\n",
    "    return (\n",
    "        df[[\"dataset\", \"classifier_title\", *metrics, \"repeat\"]]\n",
    "        .groupby([\"dataset\", \"classifier_title\", \"repeat\"])\n",
    "        # .agg([\"mean\", \"std\"])\n",
    "        .agg([\"mean\"])\n",
    "        .reset_index()\n",
    "        .loc[:, [\"dataset\", \"classifier_title\", *metrics]]    \n",
    "        .pivot(index=\"dataset\", columns=\"classifier_title\")\n",
    "        .style\n",
    "        .format(\"{:.2f}\")\n",
    "        .background_gradient(axis=\"index\")    \n",
    "    )"
   ]
  },
  {
   "cell_type": "code",
   "execution_count": 6,
   "metadata": {
    "ExecuteTime": {
     "end_time": "2021-04-19T21:26:28.057088Z",
     "start_time": "2021-04-19T21:26:27.997304Z"
    }
   },
   "outputs": [
    {
     "name": "stdout",
     "output_type": "stream",
     "text": [
      "commit number 14fe539: datetime: 2021-05-11-16:56:05\n"
     ]
    },
    {
     "data": {
      "text/html": [
       "<div>\n",
       "<style scoped>\n",
       "    .dataframe tbody tr th:only-of-type {\n",
       "        vertical-align: middle;\n",
       "    }\n",
       "\n",
       "    .dataframe tbody tr th {\n",
       "        vertical-align: top;\n",
       "    }\n",
       "\n",
       "    .dataframe thead th {\n",
       "        text-align: right;\n",
       "    }\n",
       "</style>\n",
       "<table border=\"1\" class=\"dataframe\">\n",
       "  <thead>\n",
       "    <tr style=\"text-align: right;\">\n",
       "      <th></th>\n",
       "      <th>datasets</th>\n",
       "      <th>classifier</th>\n",
       "      <th>classifier_title</th>\n",
       "      <th>repeat</th>\n",
       "      <th>fit_time</th>\n",
       "      <th>predict_time</th>\n",
       "      <th>roc_auc</th>\n",
       "      <th>roc_auc_w</th>\n",
       "      <th>avg_prec</th>\n",
       "      <th>avg_prec_w</th>\n",
       "      <th>log_loss</th>\n",
       "      <th>accuracy</th>\n",
       "      <th>roc_auc_train</th>\n",
       "      <th>roc_auc_w_train</th>\n",
       "      <th>avg_prec_train</th>\n",
       "      <th>avg_prec_w_train</th>\n",
       "      <th>log_loss_train</th>\n",
       "      <th>accuracy_train</th>\n",
       "    </tr>\n",
       "  </thead>\n",
       "  <tbody>\n",
       "    <tr>\n",
       "      <th>0</th>\n",
       "      <td>adult</td>\n",
       "      <td>ForestClassifier</td>\n",
       "      <td>WildWood (One Hot)</td>\n",
       "      <td>0</td>\n",
       "      <td>5.206055</td>\n",
       "      <td>0.151765</td>\n",
       "      <td>0.913282</td>\n",
       "      <td>0.913282</td>\n",
       "      <td>0.799660</td>\n",
       "      <td>0.799660</td>\n",
       "      <td>0.301078</td>\n",
       "      <td>0.862554</td>\n",
       "      <td>0.919141</td>\n",
       "      <td>0.919141</td>\n",
       "      <td>0.810751</td>\n",
       "      <td>0.810751</td>\n",
       "      <td>0.293244</td>\n",
       "      <td>0.865216</td>\n",
       "    </tr>\n",
       "    <tr>\n",
       "      <th>1</th>\n",
       "      <td>bank</td>\n",
       "      <td>ForestClassifier</td>\n",
       "      <td>WildWood (One Hot)</td>\n",
       "      <td>0</td>\n",
       "      <td>0.756556</td>\n",
       "      <td>0.131515</td>\n",
       "      <td>0.907173</td>\n",
       "      <td>0.907173</td>\n",
       "      <td>0.557236</td>\n",
       "      <td>0.557236</td>\n",
       "      <td>0.225048</td>\n",
       "      <td>0.902389</td>\n",
       "      <td>0.923850</td>\n",
       "      <td>0.923850</td>\n",
       "      <td>0.614138</td>\n",
       "      <td>0.614138</td>\n",
       "      <td>0.208610</td>\n",
       "      <td>0.907732</td>\n",
       "    </tr>\n",
       "    <tr>\n",
       "      <th>2</th>\n",
       "      <td>churn</td>\n",
       "      <td>ForestClassifier</td>\n",
       "      <td>WildWood (One Hot)</td>\n",
       "      <td>0</td>\n",
       "      <td>0.056175</td>\n",
       "      <td>0.010105</td>\n",
       "      <td>0.877996</td>\n",
       "      <td>0.877996</td>\n",
       "      <td>0.734180</td>\n",
       "      <td>0.734180</td>\n",
       "      <td>0.239046</td>\n",
       "      <td>0.931000</td>\n",
       "      <td>0.929322</td>\n",
       "      <td>0.929322</td>\n",
       "      <td>0.818636</td>\n",
       "      <td>0.818636</td>\n",
       "      <td>0.194503</td>\n",
       "      <td>0.942992</td>\n",
       "    </tr>\n",
       "    <tr>\n",
       "      <th>3</th>\n",
       "      <td>default-cb</td>\n",
       "      <td>ForestClassifier</td>\n",
       "      <td>WildWood (One Hot)</td>\n",
       "      <td>0</td>\n",
       "      <td>0.455634</td>\n",
       "      <td>0.078373</td>\n",
       "      <td>0.765032</td>\n",
       "      <td>0.765032</td>\n",
       "      <td>0.526870</td>\n",
       "      <td>0.526870</td>\n",
       "      <td>0.439868</td>\n",
       "      <td>0.817333</td>\n",
       "      <td>0.789463</td>\n",
       "      <td>0.789463</td>\n",
       "      <td>0.569878</td>\n",
       "      <td>0.569878</td>\n",
       "      <td>0.424322</td>\n",
       "      <td>0.824190</td>\n",
       "    </tr>\n",
       "    <tr>\n",
       "      <th>4</th>\n",
       "      <td>adult</td>\n",
       "      <td>ForestClassifier</td>\n",
       "      <td>WildWood (Ordinal)</td>\n",
       "      <td>0</td>\n",
       "      <td>0.250342</td>\n",
       "      <td>0.102136</td>\n",
       "      <td>0.911116</td>\n",
       "      <td>0.911116</td>\n",
       "      <td>0.790849</td>\n",
       "      <td>0.790849</td>\n",
       "      <td>0.303958</td>\n",
       "      <td>0.857094</td>\n",
       "      <td>0.916073</td>\n",
       "      <td>0.916073</td>\n",
       "      <td>0.804393</td>\n",
       "      <td>0.804393</td>\n",
       "      <td>0.298035</td>\n",
       "      <td>0.862554</td>\n",
       "    </tr>\n",
       "    <tr>\n",
       "      <th>5</th>\n",
       "      <td>bank</td>\n",
       "      <td>ForestClassifier</td>\n",
       "      <td>WildWood (Ordinal)</td>\n",
       "      <td>0</td>\n",
       "      <td>0.195421</td>\n",
       "      <td>0.088195</td>\n",
       "      <td>0.905198</td>\n",
       "      <td>0.905198</td>\n",
       "      <td>0.554132</td>\n",
       "      <td>0.554132</td>\n",
       "      <td>0.225803</td>\n",
       "      <td>0.900472</td>\n",
       "      <td>0.923508</td>\n",
       "      <td>0.923508</td>\n",
       "      <td>0.606661</td>\n",
       "      <td>0.606661</td>\n",
       "      <td>0.207934</td>\n",
       "      <td>0.905236</td>\n",
       "    </tr>\n",
       "    <tr>\n",
       "      <th>6</th>\n",
       "      <td>churn</td>\n",
       "      <td>ForestClassifier</td>\n",
       "      <td>WildWood (Ordinal)</td>\n",
       "      <td>0</td>\n",
       "      <td>0.021979</td>\n",
       "      <td>0.006385</td>\n",
       "      <td>0.881363</td>\n",
       "      <td>0.881363</td>\n",
       "      <td>0.761887</td>\n",
       "      <td>0.761887</td>\n",
       "      <td>0.228402</td>\n",
       "      <td>0.925000</td>\n",
       "      <td>0.938617</td>\n",
       "      <td>0.938617</td>\n",
       "      <td>0.843919</td>\n",
       "      <td>0.843919</td>\n",
       "      <td>0.178717</td>\n",
       "      <td>0.942992</td>\n",
       "    </tr>\n",
       "    <tr>\n",
       "      <th>7</th>\n",
       "      <td>default-cb</td>\n",
       "      <td>ForestClassifier</td>\n",
       "      <td>WildWood (Ordinal)</td>\n",
       "      <td>0</td>\n",
       "      <td>0.369877</td>\n",
       "      <td>0.074827</td>\n",
       "      <td>0.764674</td>\n",
       "      <td>0.764674</td>\n",
       "      <td>0.522417</td>\n",
       "      <td>0.522417</td>\n",
       "      <td>0.439652</td>\n",
       "      <td>0.818111</td>\n",
       "      <td>0.789276</td>\n",
       "      <td>0.789276</td>\n",
       "      <td>0.566545</td>\n",
       "      <td>0.566545</td>\n",
       "      <td>0.424219</td>\n",
       "      <td>0.824333</td>\n",
       "    </tr>\n",
       "    <tr>\n",
       "      <th>8</th>\n",
       "      <td>adult</td>\n",
       "      <td>ForestClassifier</td>\n",
       "      <td>WildWood (Categorical)</td>\n",
       "      <td>0</td>\n",
       "      <td>0.253332</td>\n",
       "      <td>0.110918</td>\n",
       "      <td>0.908994</td>\n",
       "      <td>0.908994</td>\n",
       "      <td>0.780025</td>\n",
       "      <td>0.780025</td>\n",
       "      <td>0.308654</td>\n",
       "      <td>0.856275</td>\n",
       "      <td>0.916425</td>\n",
       "      <td>0.916425</td>\n",
       "      <td>0.794382</td>\n",
       "      <td>0.794382</td>\n",
       "      <td>0.298381</td>\n",
       "      <td>0.862671</td>\n",
       "    </tr>\n",
       "    <tr>\n",
       "      <th>9</th>\n",
       "      <td>bank</td>\n",
       "      <td>ForestClassifier</td>\n",
       "      <td>WildWood (Categorical)</td>\n",
       "      <td>0</td>\n",
       "      <td>0.196035</td>\n",
       "      <td>0.095903</td>\n",
       "      <td>0.896433</td>\n",
       "      <td>0.896433</td>\n",
       "      <td>0.547222</td>\n",
       "      <td>0.547222</td>\n",
       "      <td>0.233203</td>\n",
       "      <td>0.899882</td>\n",
       "      <td>0.921757</td>\n",
       "      <td>0.921757</td>\n",
       "      <td>0.605914</td>\n",
       "      <td>0.605914</td>\n",
       "      <td>0.210465</td>\n",
       "      <td>0.906310</td>\n",
       "    </tr>\n",
       "    <tr>\n",
       "      <th>10</th>\n",
       "      <td>churn</td>\n",
       "      <td>ForestClassifier</td>\n",
       "      <td>WildWood (Categorical)</td>\n",
       "      <td>0</td>\n",
       "      <td>0.018118</td>\n",
       "      <td>0.007205</td>\n",
       "      <td>0.845537</td>\n",
       "      <td>0.845537</td>\n",
       "      <td>0.672250</td>\n",
       "      <td>0.672250</td>\n",
       "      <td>0.252767</td>\n",
       "      <td>0.924000</td>\n",
       "      <td>0.905205</td>\n",
       "      <td>0.905205</td>\n",
       "      <td>0.761840</td>\n",
       "      <td>0.761840</td>\n",
       "      <td>0.215467</td>\n",
       "      <td>0.933562</td>\n",
       "    </tr>\n",
       "    <tr>\n",
       "      <th>11</th>\n",
       "      <td>default-cb</td>\n",
       "      <td>ForestClassifier</td>\n",
       "      <td>WildWood (Categorical)</td>\n",
       "      <td>0</td>\n",
       "      <td>0.368193</td>\n",
       "      <td>0.082297</td>\n",
       "      <td>0.764922</td>\n",
       "      <td>0.764922</td>\n",
       "      <td>0.522543</td>\n",
       "      <td>0.522543</td>\n",
       "      <td>0.439607</td>\n",
       "      <td>0.818111</td>\n",
       "      <td>0.789568</td>\n",
       "      <td>0.789568</td>\n",
       "      <td>0.566733</td>\n",
       "      <td>0.566733</td>\n",
       "      <td>0.424168</td>\n",
       "      <td>0.824333</td>\n",
       "    </tr>\n",
       "  </tbody>\n",
       "</table>\n",
       "</div>"
      ],
      "text/plain": [
       "      datasets        classifier        classifier_title  repeat  fit_time  \\\n",
       "0        adult  ForestClassifier      WildWood (One Hot)       0  5.206055   \n",
       "1         bank  ForestClassifier      WildWood (One Hot)       0  0.756556   \n",
       "2        churn  ForestClassifier      WildWood (One Hot)       0  0.056175   \n",
       "3   default-cb  ForestClassifier      WildWood (One Hot)       0  0.455634   \n",
       "4        adult  ForestClassifier      WildWood (Ordinal)       0  0.250342   \n",
       "5         bank  ForestClassifier      WildWood (Ordinal)       0  0.195421   \n",
       "6        churn  ForestClassifier      WildWood (Ordinal)       0  0.021979   \n",
       "7   default-cb  ForestClassifier      WildWood (Ordinal)       0  0.369877   \n",
       "8        adult  ForestClassifier  WildWood (Categorical)       0  0.253332   \n",
       "9         bank  ForestClassifier  WildWood (Categorical)       0  0.196035   \n",
       "10       churn  ForestClassifier  WildWood (Categorical)       0  0.018118   \n",
       "11  default-cb  ForestClassifier  WildWood (Categorical)       0  0.368193   \n",
       "\n",
       "    predict_time   roc_auc  roc_auc_w  avg_prec  avg_prec_w  log_loss  \\\n",
       "0       0.151765  0.913282   0.913282  0.799660    0.799660  0.301078   \n",
       "1       0.131515  0.907173   0.907173  0.557236    0.557236  0.225048   \n",
       "2       0.010105  0.877996   0.877996  0.734180    0.734180  0.239046   \n",
       "3       0.078373  0.765032   0.765032  0.526870    0.526870  0.439868   \n",
       "4       0.102136  0.911116   0.911116  0.790849    0.790849  0.303958   \n",
       "5       0.088195  0.905198   0.905198  0.554132    0.554132  0.225803   \n",
       "6       0.006385  0.881363   0.881363  0.761887    0.761887  0.228402   \n",
       "7       0.074827  0.764674   0.764674  0.522417    0.522417  0.439652   \n",
       "8       0.110918  0.908994   0.908994  0.780025    0.780025  0.308654   \n",
       "9       0.095903  0.896433   0.896433  0.547222    0.547222  0.233203   \n",
       "10      0.007205  0.845537   0.845537  0.672250    0.672250  0.252767   \n",
       "11      0.082297  0.764922   0.764922  0.522543    0.522543  0.439607   \n",
       "\n",
       "    accuracy  roc_auc_train  roc_auc_w_train  avg_prec_train  \\\n",
       "0   0.862554       0.919141         0.919141        0.810751   \n",
       "1   0.902389       0.923850         0.923850        0.614138   \n",
       "2   0.931000       0.929322         0.929322        0.818636   \n",
       "3   0.817333       0.789463         0.789463        0.569878   \n",
       "4   0.857094       0.916073         0.916073        0.804393   \n",
       "5   0.900472       0.923508         0.923508        0.606661   \n",
       "6   0.925000       0.938617         0.938617        0.843919   \n",
       "7   0.818111       0.789276         0.789276        0.566545   \n",
       "8   0.856275       0.916425         0.916425        0.794382   \n",
       "9   0.899882       0.921757         0.921757        0.605914   \n",
       "10  0.924000       0.905205         0.905205        0.761840   \n",
       "11  0.818111       0.789568         0.789568        0.566733   \n",
       "\n",
       "    avg_prec_w_train  log_loss_train  accuracy_train  \n",
       "0           0.810751        0.293244        0.865216  \n",
       "1           0.614138        0.208610        0.907732  \n",
       "2           0.818636        0.194503        0.942992  \n",
       "3           0.569878        0.424322        0.824190  \n",
       "4           0.804393        0.298035        0.862554  \n",
       "5           0.606661        0.207934        0.905236  \n",
       "6           0.843919        0.178717        0.942992  \n",
       "7           0.566545        0.424219        0.824333  \n",
       "8           0.794382        0.298381        0.862671  \n",
       "9           0.605914        0.210465        0.906310  \n",
       "10          0.761840        0.215467        0.933562  \n",
       "11          0.566733        0.424168        0.824333  "
      ]
     },
     "execution_count": 6,
     "metadata": {},
     "output_type": "execute_result"
    }
   ],
   "source": [
    "filename = \"../benchmarks_2021-05-11-16:56:05.pickle\"\n",
    "print_results(filename)"
   ]
  },
  {
   "cell_type": "code",
   "execution_count": null,
   "metadata": {},
   "outputs": [],
   "source": []
  },
  {
   "cell_type": "markdown",
   "metadata": {},
   "source": [
    "## Resultats n_estimators=100, sans aggregation et max_features=None, dirichlet=0.0"
   ]
  },
  {
   "cell_type": "code",
   "execution_count": 17,
   "metadata": {
    "ExecuteTime": {
     "end_time": "2021-04-19T13:26:46.136826Z",
     "start_time": "2021-04-19T13:26:46.079725Z"
    }
   },
   "outputs": [
    {
     "name": "stdout",
     "output_type": "stream",
     "text": [
      "commit number 6ad6dfc: datetime: 2021-04-19-15:25:42\n"
     ]
    },
    {
     "data": {
      "text/html": [
       "<style  type=\"text/css\" >\n",
       "#T_e362bedc_a112_11eb_b482_faffc24434aarow0_col0,#T_e362bedc_a112_11eb_b482_faffc24434aarow2_col1,#T_e362bedc_a112_11eb_b482_faffc24434aarow2_col2,#T_e362bedc_a112_11eb_b482_faffc24434aarow2_col4,#T_e362bedc_a112_11eb_b482_faffc24434aarow2_col5,#T_e362bedc_a112_11eb_b482_faffc24434aarow3_col3{\n",
       "            background-color:  #023858;\n",
       "            color:  #f1f1f1;\n",
       "        }#T_e362bedc_a112_11eb_b482_faffc24434aarow0_col1{\n",
       "            background-color:  #023d60;\n",
       "            color:  #f1f1f1;\n",
       "        }#T_e362bedc_a112_11eb_b482_faffc24434aarow0_col2{\n",
       "            background-color:  #034a74;\n",
       "            color:  #f1f1f1;\n",
       "        }#T_e362bedc_a112_11eb_b482_faffc24434aarow0_col3,#T_e362bedc_a112_11eb_b482_faffc24434aarow0_col4,#T_e362bedc_a112_11eb_b482_faffc24434aarow0_col5,#T_e362bedc_a112_11eb_b482_faffc24434aarow3_col0,#T_e362bedc_a112_11eb_b482_faffc24434aarow3_col1,#T_e362bedc_a112_11eb_b482_faffc24434aarow3_col2{\n",
       "            background-color:  #fff7fb;\n",
       "            color:  #000000;\n",
       "        }#T_e362bedc_a112_11eb_b482_faffc24434aarow1_col0{\n",
       "            background-color:  #dedcec;\n",
       "            color:  #000000;\n",
       "        }#T_e362bedc_a112_11eb_b482_faffc24434aarow1_col1{\n",
       "            background-color:  #d9d8ea;\n",
       "            color:  #000000;\n",
       "        }#T_e362bedc_a112_11eb_b482_faffc24434aarow1_col2{\n",
       "            background-color:  #ebe6f2;\n",
       "            color:  #000000;\n",
       "        }#T_e362bedc_a112_11eb_b482_faffc24434aarow1_col3{\n",
       "            background-color:  #96b6d7;\n",
       "            color:  #000000;\n",
       "        }#T_e362bedc_a112_11eb_b482_faffc24434aarow1_col4{\n",
       "            background-color:  #045585;\n",
       "            color:  #f1f1f1;\n",
       "        }#T_e362bedc_a112_11eb_b482_faffc24434aarow1_col5{\n",
       "            background-color:  #034e7b;\n",
       "            color:  #f1f1f1;\n",
       "        }#T_e362bedc_a112_11eb_b482_faffc24434aarow2_col0{\n",
       "            background-color:  #03456c;\n",
       "            color:  #f1f1f1;\n",
       "        }#T_e362bedc_a112_11eb_b482_faffc24434aarow2_col3{\n",
       "            background-color:  #034267;\n",
       "            color:  #f1f1f1;\n",
       "        }#T_e362bedc_a112_11eb_b482_faffc24434aarow3_col4{\n",
       "            background-color:  #056fae;\n",
       "            color:  #f1f1f1;\n",
       "        }#T_e362bedc_a112_11eb_b482_faffc24434aarow3_col5{\n",
       "            background-color:  #056ead;\n",
       "            color:  #f1f1f1;\n",
       "        }</style><table id=\"T_e362bedc_a112_11eb_b482_faffc24434aa\" ><thead>    <tr>        <th class=\"blank level0\" ></th>        <th class=\"col_heading level0 col0\" colspan=3>avg_prec_w</th>        <th class=\"col_heading level0 col3\" colspan=3>avg_prec_w_train</th>    </tr>    <tr>        <th class=\"blank level1\" ></th>        <th class=\"col_heading level1 col0\" colspan=3>mean</th>        <th class=\"col_heading level1 col3\" colspan=3>mean</th>    </tr>    <tr>        <th class=\"index_name level2\" >classifier_title</th>        <th class=\"col_heading level2 col0\" >WildWood (Categorical)</th>        <th class=\"col_heading level2 col1\" >WildWood (One Hot)</th>        <th class=\"col_heading level2 col2\" >WildWood (Ordinal)</th>        <th class=\"col_heading level2 col3\" >WildWood (Categorical)</th>        <th class=\"col_heading level2 col4\" >WildWood (One Hot)</th>        <th class=\"col_heading level2 col5\" >WildWood (Ordinal)</th>    </tr>    <tr>        <th class=\"index_name level0\" >dataset</th>        <th class=\"blank\" ></th>        <th class=\"blank\" ></th>        <th class=\"blank\" ></th>        <th class=\"blank\" ></th>        <th class=\"blank\" ></th>        <th class=\"blank\" ></th>    </tr></thead><tbody>\n",
       "                <tr>\n",
       "                        <th id=\"T_e362bedc_a112_11eb_b482_faffc24434aalevel0_row0\" class=\"row_heading level0 row0\" >adult</th>\n",
       "                        <td id=\"T_e362bedc_a112_11eb_b482_faffc24434aarow0_col0\" class=\"data row0 col0\" >0.80</td>\n",
       "                        <td id=\"T_e362bedc_a112_11eb_b482_faffc24434aarow0_col1\" class=\"data row0 col1\" >0.80</td>\n",
       "                        <td id=\"T_e362bedc_a112_11eb_b482_faffc24434aarow0_col2\" class=\"data row0 col2\" >0.79</td>\n",
       "                        <td id=\"T_e362bedc_a112_11eb_b482_faffc24434aarow0_col3\" class=\"data row0 col3\" >0.97</td>\n",
       "                        <td id=\"T_e362bedc_a112_11eb_b482_faffc24434aarow0_col4\" class=\"data row0 col4\" >1.00</td>\n",
       "                        <td id=\"T_e362bedc_a112_11eb_b482_faffc24434aarow0_col5\" class=\"data row0 col5\" >0.99</td>\n",
       "            </tr>\n",
       "            <tr>\n",
       "                        <th id=\"T_e362bedc_a112_11eb_b482_faffc24434aalevel0_row1\" class=\"row_heading level0 row1\" >bank</th>\n",
       "                        <td id=\"T_e362bedc_a112_11eb_b482_faffc24434aarow1_col0\" class=\"data row1 col0\" >0.58</td>\n",
       "                        <td id=\"T_e362bedc_a112_11eb_b482_faffc24434aarow1_col1\" class=\"data row1 col1\" >0.59</td>\n",
       "                        <td id=\"T_e362bedc_a112_11eb_b482_faffc24434aarow1_col2\" class=\"data row1 col2\" >0.57</td>\n",
       "                        <td id=\"T_e362bedc_a112_11eb_b482_faffc24434aarow1_col3\" class=\"data row1 col3\" >0.98</td>\n",
       "                        <td id=\"T_e362bedc_a112_11eb_b482_faffc24434aarow1_col4\" class=\"data row1 col4\" >1.00</td>\n",
       "                        <td id=\"T_e362bedc_a112_11eb_b482_faffc24434aarow1_col5\" class=\"data row1 col5\" >1.00</td>\n",
       "            </tr>\n",
       "            <tr>\n",
       "                        <th id=\"T_e362bedc_a112_11eb_b482_faffc24434aalevel0_row2\" class=\"row_heading level0 row2\" >churn</th>\n",
       "                        <td id=\"T_e362bedc_a112_11eb_b482_faffc24434aarow2_col0\" class=\"data row2 col0\" >0.79</td>\n",
       "                        <td id=\"T_e362bedc_a112_11eb_b482_faffc24434aarow2_col1\" class=\"data row2 col1\" >0.80</td>\n",
       "                        <td id=\"T_e362bedc_a112_11eb_b482_faffc24434aarow2_col2\" class=\"data row2 col2\" >0.81</td>\n",
       "                        <td id=\"T_e362bedc_a112_11eb_b482_faffc24434aarow2_col3\" class=\"data row2 col3\" >1.00</td>\n",
       "                        <td id=\"T_e362bedc_a112_11eb_b482_faffc24434aarow2_col4\" class=\"data row2 col4\" >1.00</td>\n",
       "                        <td id=\"T_e362bedc_a112_11eb_b482_faffc24434aarow2_col5\" class=\"data row2 col5\" >1.00</td>\n",
       "            </tr>\n",
       "            <tr>\n",
       "                        <th id=\"T_e362bedc_a112_11eb_b482_faffc24434aalevel0_row3\" class=\"row_heading level0 row3\" >default-cb</th>\n",
       "                        <td id=\"T_e362bedc_a112_11eb_b482_faffc24434aarow3_col0\" class=\"data row3 col0\" >0.53</td>\n",
       "                        <td id=\"T_e362bedc_a112_11eb_b482_faffc24434aarow3_col1\" class=\"data row3 col1\" >0.53</td>\n",
       "                        <td id=\"T_e362bedc_a112_11eb_b482_faffc24434aarow3_col2\" class=\"data row3 col2\" >0.53</td>\n",
       "                        <td id=\"T_e362bedc_a112_11eb_b482_faffc24434aarow3_col3\" class=\"data row3 col3\" >1.00</td>\n",
       "                        <td id=\"T_e362bedc_a112_11eb_b482_faffc24434aarow3_col4\" class=\"data row3 col4\" >1.00</td>\n",
       "                        <td id=\"T_e362bedc_a112_11eb_b482_faffc24434aarow3_col5\" class=\"data row3 col5\" >1.00</td>\n",
       "            </tr>\n",
       "    </tbody></table>"
      ],
      "text/plain": [
       "<pandas.io.formats.style.Styler at 0x7fc0b8ba2610>"
      ]
     },
     "execution_count": 17,
     "metadata": {},
     "output_type": "execute_result"
    }
   ],
   "source": [
    "filename = \"../benchmarks_2021-04-19-15:25:42.pickle\"\n",
    "\n",
    "print_results(filename)"
   ]
  },
  {
   "cell_type": "markdown",
   "metadata": {},
   "source": [
    "## Resultats n_estimators=100, sans aggregation et max_features=\"auto\", dirichlet=0.0"
   ]
  },
  {
   "cell_type": "code",
   "execution_count": 20,
   "metadata": {
    "ExecuteTime": {
     "end_time": "2021-04-19T13:31:37.715976Z",
     "start_time": "2021-04-19T13:31:37.659926Z"
    }
   },
   "outputs": [
    {
     "name": "stdout",
     "output_type": "stream",
     "text": [
      "commit number 6ad6dfc: datetime: 2021-04-19-15:29:20\n"
     ]
    },
    {
     "data": {
      "text/html": [
       "<style  type=\"text/css\" >\n",
       "#T_912df270_a113_11eb_b482_faffc24434aarow0_col0,#T_912df270_a113_11eb_b482_faffc24434aarow0_col4,#T_912df270_a113_11eb_b482_faffc24434aarow2_col1,#T_912df270_a113_11eb_b482_faffc24434aarow2_col2,#T_912df270_a113_11eb_b482_faffc24434aarow3_col3,#T_912df270_a113_11eb_b482_faffc24434aarow3_col5{\n",
       "            background-color:  #023858;\n",
       "            color:  #f1f1f1;\n",
       "        }#T_912df270_a113_11eb_b482_faffc24434aarow0_col1{\n",
       "            background-color:  #023b5d;\n",
       "            color:  #f1f1f1;\n",
       "        }#T_912df270_a113_11eb_b482_faffc24434aarow0_col2{\n",
       "            background-color:  #034a74;\n",
       "            color:  #f1f1f1;\n",
       "        }#T_912df270_a113_11eb_b482_faffc24434aarow0_col3{\n",
       "            background-color:  #cacee5;\n",
       "            color:  #000000;\n",
       "        }#T_912df270_a113_11eb_b482_faffc24434aarow0_col5{\n",
       "            background-color:  #bbc7e0;\n",
       "            color:  #000000;\n",
       "        }#T_912df270_a113_11eb_b482_faffc24434aarow1_col0{\n",
       "            background-color:  #c5cce3;\n",
       "            color:  #000000;\n",
       "        }#T_912df270_a113_11eb_b482_faffc24434aarow1_col1{\n",
       "            background-color:  #cdd0e5;\n",
       "            color:  #000000;\n",
       "        }#T_912df270_a113_11eb_b482_faffc24434aarow1_col2{\n",
       "            background-color:  #dbdaeb;\n",
       "            color:  #000000;\n",
       "        }#T_912df270_a113_11eb_b482_faffc24434aarow1_col3{\n",
       "            background-color:  #4094c3;\n",
       "            color:  #000000;\n",
       "        }#T_912df270_a113_11eb_b482_faffc24434aarow1_col4{\n",
       "            background-color:  #b1c2de;\n",
       "            color:  #000000;\n",
       "        }#T_912df270_a113_11eb_b482_faffc24434aarow1_col5{\n",
       "            background-color:  #1c7fb8;\n",
       "            color:  #000000;\n",
       "        }#T_912df270_a113_11eb_b482_faffc24434aarow2_col0{\n",
       "            background-color:  #023c5f;\n",
       "            color:  #f1f1f1;\n",
       "        }#T_912df270_a113_11eb_b482_faffc24434aarow2_col3,#T_912df270_a113_11eb_b482_faffc24434aarow2_col4,#T_912df270_a113_11eb_b482_faffc24434aarow2_col5,#T_912df270_a113_11eb_b482_faffc24434aarow3_col0,#T_912df270_a113_11eb_b482_faffc24434aarow3_col1,#T_912df270_a113_11eb_b482_faffc24434aarow3_col2{\n",
       "            background-color:  #fff7fb;\n",
       "            color:  #000000;\n",
       "        }#T_912df270_a113_11eb_b482_faffc24434aarow3_col4{\n",
       "            background-color:  #c4cbe3;\n",
       "            color:  #000000;\n",
       "        }</style><table id=\"T_912df270_a113_11eb_b482_faffc24434aa\" ><thead>    <tr>        <th class=\"blank level0\" ></th>        <th class=\"col_heading level0 col0\" colspan=3>avg_prec_w</th>        <th class=\"col_heading level0 col3\" colspan=3>fit_time</th>    </tr>    <tr>        <th class=\"blank level1\" ></th>        <th class=\"col_heading level1 col0\" colspan=3>mean</th>        <th class=\"col_heading level1 col3\" colspan=3>mean</th>    </tr>    <tr>        <th class=\"index_name level2\" >classifier_title</th>        <th class=\"col_heading level2 col0\" >WildWood (Categorical)</th>        <th class=\"col_heading level2 col1\" >WildWood (One Hot)</th>        <th class=\"col_heading level2 col2\" >WildWood (Ordinal)</th>        <th class=\"col_heading level2 col3\" >WildWood (Categorical)</th>        <th class=\"col_heading level2 col4\" >WildWood (One Hot)</th>        <th class=\"col_heading level2 col5\" >WildWood (Ordinal)</th>    </tr>    <tr>        <th class=\"index_name level0\" >dataset</th>        <th class=\"blank\" ></th>        <th class=\"blank\" ></th>        <th class=\"blank\" ></th>        <th class=\"blank\" ></th>        <th class=\"blank\" ></th>        <th class=\"blank\" ></th>    </tr></thead><tbody>\n",
       "                <tr>\n",
       "                        <th id=\"T_912df270_a113_11eb_b482_faffc24434aalevel0_row0\" class=\"row_heading level0 row0\" >adult</th>\n",
       "                        <td id=\"T_912df270_a113_11eb_b482_faffc24434aarow0_col0\" class=\"data row0 col0\" >0.81</td>\n",
       "                        <td id=\"T_912df270_a113_11eb_b482_faffc24434aarow0_col1\" class=\"data row0 col1\" >0.80</td>\n",
       "                        <td id=\"T_912df270_a113_11eb_b482_faffc24434aarow0_col2\" class=\"data row0 col2\" >0.80</td>\n",
       "                        <td id=\"T_912df270_a113_11eb_b482_faffc24434aarow0_col3\" class=\"data row0 col3\" >0.64</td>\n",
       "                        <td id=\"T_912df270_a113_11eb_b482_faffc24434aarow0_col4\" class=\"data row0 col4\" >6.68</td>\n",
       "                        <td id=\"T_912df270_a113_11eb_b482_faffc24434aarow0_col5\" class=\"data row0 col5\" >0.85</td>\n",
       "            </tr>\n",
       "            <tr>\n",
       "                        <th id=\"T_912df270_a113_11eb_b482_faffc24434aalevel0_row1\" class=\"row_heading level0 row1\" >bank</th>\n",
       "                        <td id=\"T_912df270_a113_11eb_b482_faffc24434aarow1_col0\" class=\"data row1 col0\" >0.61</td>\n",
       "                        <td id=\"T_912df270_a113_11eb_b482_faffc24434aarow1_col1\" class=\"data row1 col1\" >0.61</td>\n",
       "                        <td id=\"T_912df270_a113_11eb_b482_faffc24434aarow1_col2\" class=\"data row1 col2\" >0.60</td>\n",
       "                        <td id=\"T_912df270_a113_11eb_b482_faffc24434aarow1_col3\" class=\"data row1 col3\" >1.17</td>\n",
       "                        <td id=\"T_912df270_a113_11eb_b482_faffc24434aarow1_col4\" class=\"data row1 col4\" >2.44</td>\n",
       "                        <td id=\"T_912df270_a113_11eb_b482_faffc24434aarow1_col5\" class=\"data row1 col5\" >1.59</td>\n",
       "            </tr>\n",
       "            <tr>\n",
       "                        <th id=\"T_912df270_a113_11eb_b482_faffc24434aalevel0_row2\" class=\"row_heading level0 row2\" >churn</th>\n",
       "                        <td id=\"T_912df270_a113_11eb_b482_faffc24434aarow2_col0\" class=\"data row2 col0\" >0.80</td>\n",
       "                        <td id=\"T_912df270_a113_11eb_b482_faffc24434aarow2_col1\" class=\"data row2 col1\" >0.80</td>\n",
       "                        <td id=\"T_912df270_a113_11eb_b482_faffc24434aarow2_col2\" class=\"data row2 col2\" >0.82</td>\n",
       "                        <td id=\"T_912df270_a113_11eb_b482_faffc24434aarow2_col3\" class=\"data row2 col3\" >0.22</td>\n",
       "                        <td id=\"T_912df270_a113_11eb_b482_faffc24434aarow2_col4\" class=\"data row2 col4\" >0.24</td>\n",
       "                        <td id=\"T_912df270_a113_11eb_b482_faffc24434aarow2_col5\" class=\"data row2 col5\" >0.22</td>\n",
       "            </tr>\n",
       "            <tr>\n",
       "                        <th id=\"T_912df270_a113_11eb_b482_faffc24434aalevel0_row3\" class=\"row_heading level0 row3\" >default-cb</th>\n",
       "                        <td id=\"T_912df270_a113_11eb_b482_faffc24434aarow3_col0\" class=\"data row3 col0\" >0.54</td>\n",
       "                        <td id=\"T_912df270_a113_11eb_b482_faffc24434aarow3_col1\" class=\"data row3 col1\" >0.54</td>\n",
       "                        <td id=\"T_912df270_a113_11eb_b482_faffc24434aarow3_col2\" class=\"data row3 col2\" >0.54</td>\n",
       "                        <td id=\"T_912df270_a113_11eb_b482_faffc24434aarow3_col3\" class=\"data row3 col3\" >1.80</td>\n",
       "                        <td id=\"T_912df270_a113_11eb_b482_faffc24434aarow3_col4\" class=\"data row3 col4\" >2.09</td>\n",
       "                        <td id=\"T_912df270_a113_11eb_b482_faffc24434aarow3_col5\" class=\"data row3 col5\" >2.20</td>\n",
       "            </tr>\n",
       "    </tbody></table>"
      ],
      "text/plain": [
       "<pandas.io.formats.style.Styler at 0x7fc068848bd0>"
      ]
     },
     "execution_count": 20,
     "metadata": {},
     "output_type": "execute_result"
    }
   ],
   "source": [
    "filename = \"../benchmarks_2021-04-19-15:29:20.pickle\"\n",
    "print_results(filename, metrics=[\"avg_prec_w\", \"fit_time\"])"
   ]
  },
  {
   "cell_type": "markdown",
   "metadata": {},
   "source": [
    "## Resultats n_estimators=100, sans aggregation et max_features=\"auto\", dirichlet=0.5"
   ]
  },
  {
   "cell_type": "code",
   "execution_count": 21,
   "metadata": {
    "ExecuteTime": {
     "end_time": "2021-04-19T13:34:04.180276Z",
     "start_time": "2021-04-19T13:34:04.118216Z"
    }
   },
   "outputs": [
    {
     "name": "stdout",
     "output_type": "stream",
     "text": [
      "commit number 6ad6dfc: datetime: 2021-04-19-15:33:27\n"
     ]
    },
    {
     "data": {
      "text/html": [
       "<style  type=\"text/css\" >\n",
       "#T_e87ab658_a113_11eb_b482_faffc24434aarow0_col0,#T_e87ab658_a113_11eb_b482_faffc24434aarow0_col4,#T_e87ab658_a113_11eb_b482_faffc24434aarow2_col1,#T_e87ab658_a113_11eb_b482_faffc24434aarow2_col2,#T_e87ab658_a113_11eb_b482_faffc24434aarow3_col3,#T_e87ab658_a113_11eb_b482_faffc24434aarow3_col5{\n",
       "            background-color:  #023858;\n",
       "            color:  #f1f1f1;\n",
       "        }#T_e87ab658_a113_11eb_b482_faffc24434aarow0_col1{\n",
       "            background-color:  #034165;\n",
       "            color:  #f1f1f1;\n",
       "        }#T_e87ab658_a113_11eb_b482_faffc24434aarow0_col2{\n",
       "            background-color:  #034b76;\n",
       "            color:  #f1f1f1;\n",
       "        }#T_e87ab658_a113_11eb_b482_faffc24434aarow0_col3{\n",
       "            background-color:  #d2d3e7;\n",
       "            color:  #000000;\n",
       "        }#T_e87ab658_a113_11eb_b482_faffc24434aarow0_col5{\n",
       "            background-color:  #c1cae2;\n",
       "            color:  #000000;\n",
       "        }#T_e87ab658_a113_11eb_b482_faffc24434aarow1_col0{\n",
       "            background-color:  #c8cde4;\n",
       "            color:  #000000;\n",
       "        }#T_e87ab658_a113_11eb_b482_faffc24434aarow1_col1,#T_e87ab658_a113_11eb_b482_faffc24434aarow3_col4{\n",
       "            background-color:  #d0d1e6;\n",
       "            color:  #000000;\n",
       "        }#T_e87ab658_a113_11eb_b482_faffc24434aarow1_col2{\n",
       "            background-color:  #dbdaeb;\n",
       "            color:  #000000;\n",
       "        }#T_e87ab658_a113_11eb_b482_faffc24434aarow1_col3{\n",
       "            background-color:  #7dacd1;\n",
       "            color:  #000000;\n",
       "        }#T_e87ab658_a113_11eb_b482_faffc24434aarow1_col4{\n",
       "            background-color:  #cdd0e5;\n",
       "            color:  #000000;\n",
       "        }#T_e87ab658_a113_11eb_b482_faffc24434aarow1_col5{\n",
       "            background-color:  #4697c4;\n",
       "            color:  #000000;\n",
       "        }#T_e87ab658_a113_11eb_b482_faffc24434aarow2_col0{\n",
       "            background-color:  #023d60;\n",
       "            color:  #f1f1f1;\n",
       "        }#T_e87ab658_a113_11eb_b482_faffc24434aarow2_col3,#T_e87ab658_a113_11eb_b482_faffc24434aarow2_col4,#T_e87ab658_a113_11eb_b482_faffc24434aarow2_col5,#T_e87ab658_a113_11eb_b482_faffc24434aarow3_col0,#T_e87ab658_a113_11eb_b482_faffc24434aarow3_col1,#T_e87ab658_a113_11eb_b482_faffc24434aarow3_col2{\n",
       "            background-color:  #fff7fb;\n",
       "            color:  #000000;\n",
       "        }</style><table id=\"T_e87ab658_a113_11eb_b482_faffc24434aa\" ><thead>    <tr>        <th class=\"blank level0\" ></th>        <th class=\"col_heading level0 col0\" colspan=3>avg_prec_w</th>        <th class=\"col_heading level0 col3\" colspan=3>fit_time</th>    </tr>    <tr>        <th class=\"blank level1\" ></th>        <th class=\"col_heading level1 col0\" colspan=3>mean</th>        <th class=\"col_heading level1 col3\" colspan=3>mean</th>    </tr>    <tr>        <th class=\"index_name level2\" >classifier_title</th>        <th class=\"col_heading level2 col0\" >WildWood (Categorical)</th>        <th class=\"col_heading level2 col1\" >WildWood (One Hot)</th>        <th class=\"col_heading level2 col2\" >WildWood (Ordinal)</th>        <th class=\"col_heading level2 col3\" >WildWood (Categorical)</th>        <th class=\"col_heading level2 col4\" >WildWood (One Hot)</th>        <th class=\"col_heading level2 col5\" >WildWood (Ordinal)</th>    </tr>    <tr>        <th class=\"index_name level0\" >dataset</th>        <th class=\"blank\" ></th>        <th class=\"blank\" ></th>        <th class=\"blank\" ></th>        <th class=\"blank\" ></th>        <th class=\"blank\" ></th>        <th class=\"blank\" ></th>    </tr></thead><tbody>\n",
       "                <tr>\n",
       "                        <th id=\"T_e87ab658_a113_11eb_b482_faffc24434aalevel0_row0\" class=\"row_heading level0 row0\" >adult</th>\n",
       "                        <td id=\"T_e87ab658_a113_11eb_b482_faffc24434aarow0_col0\" class=\"data row0 col0\" >0.81</td>\n",
       "                        <td id=\"T_e87ab658_a113_11eb_b482_faffc24434aarow0_col1\" class=\"data row0 col1\" >0.79</td>\n",
       "                        <td id=\"T_e87ab658_a113_11eb_b482_faffc24434aarow0_col2\" class=\"data row0 col2\" >0.80</td>\n",
       "                        <td id=\"T_e87ab658_a113_11eb_b482_faffc24434aarow0_col3\" class=\"data row0 col3\" >0.64</td>\n",
       "                        <td id=\"T_e87ab658_a113_11eb_b482_faffc24434aarow0_col4\" class=\"data row0 col4\" >6.91</td>\n",
       "                        <td id=\"T_e87ab658_a113_11eb_b482_faffc24434aarow0_col5\" class=\"data row0 col5\" >0.74</td>\n",
       "            </tr>\n",
       "            <tr>\n",
       "                        <th id=\"T_e87ab658_a113_11eb_b482_faffc24434aalevel0_row1\" class=\"row_heading level0 row1\" >bank</th>\n",
       "                        <td id=\"T_e87ab658_a113_11eb_b482_faffc24434aarow1_col0\" class=\"data row1 col0\" >0.62</td>\n",
       "                        <td id=\"T_e87ab658_a113_11eb_b482_faffc24434aarow1_col1\" class=\"data row1 col1\" >0.61</td>\n",
       "                        <td id=\"T_e87ab658_a113_11eb_b482_faffc24434aarow1_col2\" class=\"data row1 col2\" >0.60</td>\n",
       "                        <td id=\"T_e87ab658_a113_11eb_b482_faffc24434aarow1_col3\" class=\"data row1 col3\" >1.06</td>\n",
       "                        <td id=\"T_e87ab658_a113_11eb_b482_faffc24434aarow1_col4\" class=\"data row1 col4\" >1.97</td>\n",
       "                        <td id=\"T_e87ab658_a113_11eb_b482_faffc24434aarow1_col5\" class=\"data row1 col5\" >1.27</td>\n",
       "            </tr>\n",
       "            <tr>\n",
       "                        <th id=\"T_e87ab658_a113_11eb_b482_faffc24434aalevel0_row2\" class=\"row_heading level0 row2\" >churn</th>\n",
       "                        <td id=\"T_e87ab658_a113_11eb_b482_faffc24434aarow2_col0\" class=\"data row2 col0\" >0.80</td>\n",
       "                        <td id=\"T_e87ab658_a113_11eb_b482_faffc24434aarow2_col1\" class=\"data row2 col1\" >0.80</td>\n",
       "                        <td id=\"T_e87ab658_a113_11eb_b482_faffc24434aarow2_col2\" class=\"data row2 col2\" >0.82</td>\n",
       "                        <td id=\"T_e87ab658_a113_11eb_b482_faffc24434aarow2_col3\" class=\"data row2 col3\" >0.22</td>\n",
       "                        <td id=\"T_e87ab658_a113_11eb_b482_faffc24434aarow2_col4\" class=\"data row2 col4\" >0.23</td>\n",
       "                        <td id=\"T_e87ab658_a113_11eb_b482_faffc24434aarow2_col5\" class=\"data row2 col5\" >0.22</td>\n",
       "            </tr>\n",
       "            <tr>\n",
       "                        <th id=\"T_e87ab658_a113_11eb_b482_faffc24434aalevel0_row3\" class=\"row_heading level0 row3\" >default-cb</th>\n",
       "                        <td id=\"T_e87ab658_a113_11eb_b482_faffc24434aarow3_col0\" class=\"data row3 col0\" >0.54</td>\n",
       "                        <td id=\"T_e87ab658_a113_11eb_b482_faffc24434aarow3_col1\" class=\"data row3 col1\" >0.54</td>\n",
       "                        <td id=\"T_e87ab658_a113_11eb_b482_faffc24434aarow3_col2\" class=\"data row3 col2\" >0.54</td>\n",
       "                        <td id=\"T_e87ab658_a113_11eb_b482_faffc24434aarow3_col3\" class=\"data row3 col3\" >1.98</td>\n",
       "                        <td id=\"T_e87ab658_a113_11eb_b482_faffc24434aarow3_col4\" class=\"data row3 col4\" >1.91</td>\n",
       "                        <td id=\"T_e87ab658_a113_11eb_b482_faffc24434aarow3_col5\" class=\"data row3 col5\" >1.99</td>\n",
       "            </tr>\n",
       "    </tbody></table>"
      ],
      "text/plain": [
       "<pandas.io.formats.style.Styler at 0x7fc088ace990>"
      ]
     },
     "execution_count": 21,
     "metadata": {},
     "output_type": "execute_result"
    }
   ],
   "source": [
    "filename = \"../benchmarks_2021-04-19-15:33:27.pickle\"\n",
    "print_results(filename, metrics=[\"avg_prec_w\", \"fit_time\"])"
   ]
  },
  {
   "cell_type": "markdown",
   "metadata": {},
   "source": [
    "## Resultats n_estimators=100, avec aggregation et max_features=\"auto\", dirichlet=0.5"
   ]
  },
  {
   "cell_type": "code",
   "execution_count": 22,
   "metadata": {
    "ExecuteTime": {
     "end_time": "2021-04-19T13:37:37.115724Z",
     "start_time": "2021-04-19T13:37:37.057340Z"
    },
    "scrolled": true
   },
   "outputs": [
    {
     "name": "stdout",
     "output_type": "stream",
     "text": [
      "commit number 6ad6dfc: datetime: 2021-04-19-15:37:09\n"
     ]
    },
    {
     "data": {
      "text/html": [
       "<style  type=\"text/css\" >\n",
       "#T_67663e38_a114_11eb_b482_faffc24434aarow0_col0,#T_67663e38_a114_11eb_b482_faffc24434aarow0_col4,#T_67663e38_a114_11eb_b482_faffc24434aarow2_col1,#T_67663e38_a114_11eb_b482_faffc24434aarow2_col2,#T_67663e38_a114_11eb_b482_faffc24434aarow3_col3,#T_67663e38_a114_11eb_b482_faffc24434aarow3_col5{\n",
       "            background-color:  #023858;\n",
       "            color:  #f1f1f1;\n",
       "        }#T_67663e38_a114_11eb_b482_faffc24434aarow0_col1{\n",
       "            background-color:  #023d60;\n",
       "            color:  #f1f1f1;\n",
       "        }#T_67663e38_a114_11eb_b482_faffc24434aarow0_col2{\n",
       "            background-color:  #03446a;\n",
       "            color:  #f1f1f1;\n",
       "        }#T_67663e38_a114_11eb_b482_faffc24434aarow0_col3{\n",
       "            background-color:  #c8cde4;\n",
       "            color:  #000000;\n",
       "        }#T_67663e38_a114_11eb_b482_faffc24434aarow0_col5{\n",
       "            background-color:  #bcc7e1;\n",
       "            color:  #000000;\n",
       "        }#T_67663e38_a114_11eb_b482_faffc24434aarow1_col0{\n",
       "            background-color:  #cacee5;\n",
       "            color:  #000000;\n",
       "        }#T_67663e38_a114_11eb_b482_faffc24434aarow1_col1{\n",
       "            background-color:  #d0d1e6;\n",
       "            color:  #000000;\n",
       "        }#T_67663e38_a114_11eb_b482_faffc24434aarow1_col2{\n",
       "            background-color:  #d9d8ea;\n",
       "            color:  #000000;\n",
       "        }#T_67663e38_a114_11eb_b482_faffc24434aarow1_col3{\n",
       "            background-color:  #75a9cf;\n",
       "            color:  #000000;\n",
       "        }#T_67663e38_a114_11eb_b482_faffc24434aarow1_col4{\n",
       "            background-color:  #c4cbe3;\n",
       "            color:  #000000;\n",
       "        }#T_67663e38_a114_11eb_b482_faffc24434aarow1_col5{\n",
       "            background-color:  #4e9ac6;\n",
       "            color:  #000000;\n",
       "        }#T_67663e38_a114_11eb_b482_faffc24434aarow2_col0{\n",
       "            background-color:  #03456c;\n",
       "            color:  #f1f1f1;\n",
       "        }#T_67663e38_a114_11eb_b482_faffc24434aarow2_col3,#T_67663e38_a114_11eb_b482_faffc24434aarow2_col4,#T_67663e38_a114_11eb_b482_faffc24434aarow2_col5,#T_67663e38_a114_11eb_b482_faffc24434aarow3_col0,#T_67663e38_a114_11eb_b482_faffc24434aarow3_col1,#T_67663e38_a114_11eb_b482_faffc24434aarow3_col2{\n",
       "            background-color:  #fff7fb;\n",
       "            color:  #000000;\n",
       "        }#T_67663e38_a114_11eb_b482_faffc24434aarow3_col4{\n",
       "            background-color:  #c2cbe2;\n",
       "            color:  #000000;\n",
       "        }</style><table id=\"T_67663e38_a114_11eb_b482_faffc24434aa\" ><thead>    <tr>        <th class=\"blank level0\" ></th>        <th class=\"col_heading level0 col0\" colspan=3>avg_prec_w</th>        <th class=\"col_heading level0 col3\" colspan=3>fit_time</th>    </tr>    <tr>        <th class=\"blank level1\" ></th>        <th class=\"col_heading level1 col0\" colspan=3>mean</th>        <th class=\"col_heading level1 col3\" colspan=3>mean</th>    </tr>    <tr>        <th class=\"index_name level2\" >classifier_title</th>        <th class=\"col_heading level2 col0\" >WildWood (Categorical)</th>        <th class=\"col_heading level2 col1\" >WildWood (One Hot)</th>        <th class=\"col_heading level2 col2\" >WildWood (Ordinal)</th>        <th class=\"col_heading level2 col3\" >WildWood (Categorical)</th>        <th class=\"col_heading level2 col4\" >WildWood (One Hot)</th>        <th class=\"col_heading level2 col5\" >WildWood (Ordinal)</th>    </tr>    <tr>        <th class=\"index_name level0\" >dataset</th>        <th class=\"blank\" ></th>        <th class=\"blank\" ></th>        <th class=\"blank\" ></th>        <th class=\"blank\" ></th>        <th class=\"blank\" ></th>        <th class=\"blank\" ></th>    </tr></thead><tbody>\n",
       "                <tr>\n",
       "                        <th id=\"T_67663e38_a114_11eb_b482_faffc24434aalevel0_row0\" class=\"row_heading level0 row0\" >adult</th>\n",
       "                        <td id=\"T_67663e38_a114_11eb_b482_faffc24434aarow0_col0\" class=\"data row0 col0\" >0.81</td>\n",
       "                        <td id=\"T_67663e38_a114_11eb_b482_faffc24434aarow0_col1\" class=\"data row0 col1\" >0.80</td>\n",
       "                        <td id=\"T_67663e38_a114_11eb_b482_faffc24434aarow0_col2\" class=\"data row0 col2\" >0.80</td>\n",
       "                        <td id=\"T_67663e38_a114_11eb_b482_faffc24434aarow0_col3\" class=\"data row0 col3\" >0.74</td>\n",
       "                        <td id=\"T_67663e38_a114_11eb_b482_faffc24434aarow0_col4\" class=\"data row0 col4\" >6.65</td>\n",
       "                        <td id=\"T_67663e38_a114_11eb_b482_faffc24434aarow0_col5\" class=\"data row0 col5\" >0.84</td>\n",
       "            </tr>\n",
       "            <tr>\n",
       "                        <th id=\"T_67663e38_a114_11eb_b482_faffc24434aalevel0_row1\" class=\"row_heading level0 row1\" >bank</th>\n",
       "                        <td id=\"T_67663e38_a114_11eb_b482_faffc24434aarow1_col0\" class=\"data row1 col0\" >0.62</td>\n",
       "                        <td id=\"T_67663e38_a114_11eb_b482_faffc24434aarow1_col1\" class=\"data row1 col1\" >0.61</td>\n",
       "                        <td id=\"T_67663e38_a114_11eb_b482_faffc24434aarow1_col2\" class=\"data row1 col2\" >0.60</td>\n",
       "                        <td id=\"T_67663e38_a114_11eb_b482_faffc24434aarow1_col3\" class=\"data row1 col3\" >1.16</td>\n",
       "                        <td id=\"T_67663e38_a114_11eb_b482_faffc24434aarow1_col4\" class=\"data row1 col4\" >2.07</td>\n",
       "                        <td id=\"T_67663e38_a114_11eb_b482_faffc24434aarow1_col5\" class=\"data row1 col5\" >1.36</td>\n",
       "            </tr>\n",
       "            <tr>\n",
       "                        <th id=\"T_67663e38_a114_11eb_b482_faffc24434aalevel0_row2\" class=\"row_heading level0 row2\" >churn</th>\n",
       "                        <td id=\"T_67663e38_a114_11eb_b482_faffc24434aarow2_col0\" class=\"data row2 col0\" >0.80</td>\n",
       "                        <td id=\"T_67663e38_a114_11eb_b482_faffc24434aarow2_col1\" class=\"data row2 col1\" >0.80</td>\n",
       "                        <td id=\"T_67663e38_a114_11eb_b482_faffc24434aarow2_col2\" class=\"data row2 col2\" >0.82</td>\n",
       "                        <td id=\"T_67663e38_a114_11eb_b482_faffc24434aarow2_col3\" class=\"data row2 col3\" >0.22</td>\n",
       "                        <td id=\"T_67663e38_a114_11eb_b482_faffc24434aarow2_col4\" class=\"data row2 col4\" >0.23</td>\n",
       "                        <td id=\"T_67663e38_a114_11eb_b482_faffc24434aarow2_col5\" class=\"data row2 col5\" >0.22</td>\n",
       "            </tr>\n",
       "            <tr>\n",
       "                        <th id=\"T_67663e38_a114_11eb_b482_faffc24434aalevel0_row3\" class=\"row_heading level0 row3\" >default-cb</th>\n",
       "                        <td id=\"T_67663e38_a114_11eb_b482_faffc24434aarow3_col0\" class=\"data row3 col0\" >0.54</td>\n",
       "                        <td id=\"T_67663e38_a114_11eb_b482_faffc24434aarow3_col1\" class=\"data row3 col1\" >0.54</td>\n",
       "                        <td id=\"T_67663e38_a114_11eb_b482_faffc24434aarow3_col2\" class=\"data row3 col2\" >0.54</td>\n",
       "                        <td id=\"T_67663e38_a114_11eb_b482_faffc24434aarow3_col3\" class=\"data row3 col3\" >2.10</td>\n",
       "                        <td id=\"T_67663e38_a114_11eb_b482_faffc24434aarow3_col4\" class=\"data row3 col4\" >2.09</td>\n",
       "                        <td id=\"T_67663e38_a114_11eb_b482_faffc24434aarow3_col5\" class=\"data row3 col5\" >2.20</td>\n",
       "            </tr>\n",
       "    </tbody></table>"
      ],
      "text/plain": [
       "<pandas.io.formats.style.Styler at 0x7fc088cbfe10>"
      ]
     },
     "execution_count": 22,
     "metadata": {},
     "output_type": "execute_result"
    }
   ],
   "source": [
    "filename = \"../benchmarks_2021-04-19-15:37:09.pickle\"\n",
    "print_results(filename, metrics=[\"avg_prec_w\", \"fit_time\"])"
   ]
  },
  {
   "cell_type": "code",
   "execution_count": null,
   "metadata": {},
   "outputs": [],
   "source": []
  },
  {
   "cell_type": "code",
   "execution_count": null,
   "metadata": {},
   "outputs": [],
   "source": []
  },
  {
   "cell_type": "code",
   "execution_count": null,
   "metadata": {},
   "outputs": [],
   "source": []
  },
  {
   "cell_type": "code",
   "execution_count": null,
   "metadata": {},
   "outputs": [],
   "source": []
  },
  {
   "cell_type": "code",
   "execution_count": null,
   "metadata": {
    "ExecuteTime": {
     "end_time": "2021-04-16T15:45:53.389137Z",
     "start_time": "2021-04-16T15:45:38.409651Z"
    }
   },
   "outputs": [],
   "source": [
    "import sys\n",
    "import subprocess\n",
    "from time import time\n",
    "from datetime import datetime\n",
    "import logging\n",
    "import pickle as pkl\n",
    "import numpy as np\n",
    "import pandas as pd\n",
    "\n",
    "from sklearn.linear_model import LogisticRegression\n",
    "from sklearn.metrics import (\n",
    "    roc_auc_score,\n",
    "    average_precision_score,\n",
    "    log_loss,\n",
    "    accuracy_score,\n",
    ")\n",
    "from sklearn.preprocessing import LabelBinarizer\n",
    "from sklearn.ensemble import RandomForestClassifier\n",
    "\n",
    "sys.path.extend([\".\", \"..\"])\n",
    "\n",
    "from wildwood.dataset import loaders_small_classification, load_churn\n",
    "from wildwood.forest import ForestClassifier\n",
    "\n",
    "\n",
    "from wildwood.dataset import (\n",
    "    load_adult,\n",
    "    load_bank,\n",
    "    load_breastcancer,\n",
    "    load_car,\n",
    "    load_cardio,\n",
    "    load_churn,\n",
    "    load_default_cb,\n",
    "    load_letter,\n",
    "    load_satimage,\n",
    "    load_sensorless,\n",
    "    load_spambase,\n",
    ")"
   ]
  },
  {
   "cell_type": "code",
   "execution_count": null,
   "metadata": {
    "ExecuteTime": {
     "end_time": "2021-04-16T15:45:56.701567Z",
     "start_time": "2021-04-16T15:45:56.604063Z"
    }
   },
   "outputs": [],
   "source": [
    "dataset = load_bank()"
   ]
  },
  {
   "cell_type": "code",
   "execution_count": null,
   "metadata": {
    "ExecuteTime": {
     "end_time": "2021-04-16T15:45:57.556873Z",
     "start_time": "2021-04-16T15:45:57.553612Z"
    }
   },
   "outputs": [],
   "source": [
    "clf = ForestClassifier(\n",
    "    n_estimators=1,\n",
    "    n_jobs=1,\n",
    "    class_weight=\"balanced\",\n",
    "    random_state=42,\n",
    "    aggregation=False,\n",
    "    max_features=None,\n",
    "    dirichlet=0.0\n",
    ")"
   ]
  },
  {
   "cell_type": "code",
   "execution_count": null,
   "metadata": {
    "ExecuteTime": {
     "end_time": "2021-04-16T15:45:58.840444Z",
     "start_time": "2021-04-16T15:45:58.837784Z"
    }
   },
   "outputs": [],
   "source": [
    "dataset.one_hot_encode = True\n",
    "dataset.standardize = False\n",
    "dataset.drop = None\n",
    "X_train, X_test, y_train, y_test = dataset.extract(random_state=42)"
   ]
  },
  {
   "cell_type": "code",
   "execution_count": null,
   "metadata": {
    "ExecuteTime": {
     "end_time": "2021-04-16T15:46:06.282034Z",
     "start_time": "2021-04-16T15:46:00.058072Z"
    }
   },
   "outputs": [],
   "source": [
    "clf.fit(X_train, y_train)"
   ]
  },
  {
   "cell_type": "code",
   "execution_count": null,
   "metadata": {
    "ExecuteTime": {
     "end_time": "2021-04-16T15:46:21.416701Z",
     "start_time": "2021-04-16T15:46:21.406699Z"
    }
   },
   "outputs": [],
   "source": [
    "from bokeh.plotting import show, output_notebook\n",
    "from wildwood.plot import plot_tree\n",
    "\n",
    "output_notebook()"
   ]
  },
  {
   "cell_type": "code",
   "execution_count": null,
   "metadata": {
    "ExecuteTime": {
     "end_time": "2021-04-16T15:46:33.212187Z",
     "start_time": "2021-04-16T15:46:32.667595Z"
    }
   },
   "outputs": [],
   "source": [
    "fig = plot_tree(clf, height=900, width=900)"
   ]
  },
  {
   "cell_type": "code",
   "execution_count": null,
   "metadata": {
    "ExecuteTime": {
     "end_time": "2021-04-16T15:46:34.138569Z",
     "start_time": "2021-04-16T15:46:34.059513Z"
    }
   },
   "outputs": [],
   "source": [
    "show(fig)"
   ]
  },
  {
   "cell_type": "code",
   "execution_count": null,
   "metadata": {
    "ExecuteTime": {
     "end_time": "2021-04-16T15:47:25.330742Z",
     "start_time": "2021-04-16T15:47:25.122364Z"
    }
   },
   "outputs": [],
   "source": [
    "dataset.one_hot_encode = False\n",
    "dataset.standardize = False\n",
    "dataset.drop = None\n",
    "X_train, X_test, y_train, y_test = dataset.extract(random_state=42)"
   ]
  },
  {
   "cell_type": "code",
   "execution_count": null,
   "metadata": {
    "ExecuteTime": {
     "end_time": "2021-04-16T15:47:56.851853Z",
     "start_time": "2021-04-16T15:47:56.848839Z"
    }
   },
   "outputs": [],
   "source": [
    "clf = ForestClassifier(\n",
    "    n_estimators=1,\n",
    "    n_jobs=1,\n",
    "    class_weight=\"balanced\",\n",
    "    random_state=42,\n",
    "    aggregation=False,\n",
    "    max_features=None,\n",
    "    dirichlet=0.0,\n",
    "    categorical_features=dataset.categorical_features_\n",
    ")"
   ]
  },
  {
   "cell_type": "code",
   "execution_count": null,
   "metadata": {
    "ExecuteTime": {
     "end_time": "2021-04-16T15:48:06.423158Z",
     "start_time": "2021-04-16T15:48:06.029686Z"
    }
   },
   "outputs": [],
   "source": [
    "clf.fit(X_train, y_train)"
   ]
  },
  {
   "cell_type": "code",
   "execution_count": null,
   "metadata": {
    "ExecuteTime": {
     "end_time": "2021-04-16T15:48:21.400806Z",
     "start_time": "2021-04-16T15:48:20.680303Z"
    }
   },
   "outputs": [],
   "source": [
    "fig = plot_tree(clf, height=900, width=900)"
   ]
  },
  {
   "cell_type": "code",
   "execution_count": null,
   "metadata": {
    "ExecuteTime": {
     "end_time": "2021-04-16T15:48:27.853097Z",
     "start_time": "2021-04-16T15:48:27.777123Z"
    }
   },
   "outputs": [],
   "source": [
    "show(fig)"
   ]
  },
  {
   "cell_type": "code",
   "execution_count": null,
   "metadata": {
    "ExecuteTime": {
     "end_time": "2021-04-16T12:47:40.294395Z",
     "start_time": "2021-04-16T12:47:39.929670Z"
    }
   },
   "outputs": [],
   "source": [
    "df = clf.get_nodes(0)"
   ]
  },
  {
   "cell_type": "code",
   "execution_count": null,
   "metadata": {
    "ExecuteTime": {
     "end_time": "2021-04-16T12:48:26.611038Z",
     "start_time": "2021-04-16T12:48:26.608602Z"
    }
   },
   "outputs": [],
   "source": [
    "pd.set_option(\"display.max_columns\", 99)"
   ]
  },
  {
   "cell_type": "code",
   "execution_count": null,
   "metadata": {
    "ExecuteTime": {
     "end_time": "2021-04-16T12:48:27.283304Z",
     "start_time": "2021-04-16T12:48:27.266955Z"
    }
   },
   "outputs": [],
   "source": [
    "df.loc[338:342]"
   ]
  },
  {
   "cell_type": "code",
   "execution_count": null,
   "metadata": {
    "ExecuteTime": {
     "end_time": "2021-04-16T12:50:03.169054Z",
     "start_time": "2021-04-16T12:50:03.161386Z"
    }
   },
   "outputs": [],
   "source": [
    "clf.trees[0]._tree."
   ]
  },
  {
   "cell_type": "code",
   "execution_count": null,
   "metadata": {
    "ExecuteTime": {
     "end_time": "2021-04-16T12:53:39.002033Z",
     "start_time": "2021-04-16T12:53:38.999393Z"
    }
   },
   "outputs": [],
   "source": [
    "partition_train = clf.trees[0]._tree_context.partition_train[19512:19517]"
   ]
  },
  {
   "cell_type": "code",
   "execution_count": null,
   "metadata": {
    "ExecuteTime": {
     "end_time": "2021-04-16T12:53:44.032178Z",
     "start_time": "2021-04-16T12:53:44.029745Z"
    }
   },
   "outputs": [],
   "source": [
    "partition_valid = clf.trees[0]._tree_context.partition_valid[11271:11273]"
   ]
  },
  {
   "cell_type": "code",
   "execution_count": null,
   "metadata": {
    "ExecuteTime": {
     "end_time": "2021-04-16T12:54:00.575268Z",
     "start_time": "2021-04-16T12:54:00.518156Z"
    }
   },
   "outputs": [],
   "source": [
    "pd.DataFrame(X_train[partition_train, :])"
   ]
  },
  {
   "cell_type": "code",
   "execution_count": null,
   "metadata": {
    "ExecuteTime": {
     "end_time": "2021-04-16T12:55:32.782829Z",
     "start_time": "2021-04-16T12:55:32.731192Z"
    }
   },
   "outputs": [],
   "source": [
    "pd.DataFrame(X_train[partition_valid, :])"
   ]
  },
  {
   "cell_type": "code",
   "execution_count": null,
   "metadata": {},
   "outputs": [],
   "source": []
  },
  {
   "cell_type": "code",
   "execution_count": null,
   "metadata": {},
   "outputs": [],
   "source": [
    "clf.trees[0]._tree_context.partition_train"
   ]
  }
 ],
 "metadata": {
  "kernelspec": {
   "display_name": "Python 3",
   "language": "python",
   "name": "python3"
  },
  "language_info": {
   "codemirror_mode": {
    "name": "ipython",
    "version": 3
   },
   "file_extension": ".py",
   "mimetype": "text/x-python",
   "name": "python",
   "nbconvert_exporter": "python",
   "pygments_lexer": "ipython3",
   "version": "3.8.5"
  },
  "toc": {
   "base_numbering": 1,
   "nav_menu": {},
   "number_sections": true,
   "sideBar": true,
   "skip_h1_title": true,
   "title_cell": "Table of Contents",
   "title_sidebar": "Contents",
   "toc_cell": false,
   "toc_position": {},
   "toc_section_display": true,
   "toc_window_display": false
  }
 },
 "nbformat": 4,
 "nbformat_minor": 4
}
