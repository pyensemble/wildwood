{
 "cells": [
  {
   "cell_type": "markdown",
   "metadata": {},
   "source": [
    "# Vizualization of the results\n",
    "\n",
    "In this notebook we just visualize and format the pickle file containing experiments results"
   ]
  },
  {
   "cell_type": "code",
   "execution_count": null,
   "metadata": {
    "ExecuteTime": {
     "end_time": "2021-04-12T12:39:41.167789Z",
     "start_time": "2021-04-12T12:39:41.045817Z"
    }
   },
   "outputs": [],
   "source": [
    "!ls -rtlh"
   ]
  },
  {
   "cell_type": "code",
   "execution_count": null,
   "metadata": {
    "ExecuteTime": {
     "end_time": "2021-04-12T12:48:02.346780Z",
     "start_time": "2021-04-12T12:48:02.329994Z"
    },
    "scrolled": true
   },
   "outputs": [],
   "source": [
    "import pickle as pkl\n",
    "import pandas as pd\n",
    "\n",
    "pd.set_option(\"display.max_rows\", 999)\n",
    "\n",
    "filename = \"benchmarks_2021-04-12-14:38:38.pickle\"\n",
    "\n",
    "with open(filename, \"rb\") as f:\n",
    "    results = pkl.load(f)\n",
    "\n",
    "print(\"commit number %s: datetime: %s\" % (results[\"commit\"], results[\"datetime\"]))\n",
    "    \n",
    "df = results[\"results\"]\n",
    "df.head()"
   ]
  },
  {
   "cell_type": "code",
   "execution_count": null,
   "metadata": {
    "ExecuteTime": {
     "end_time": "2021-04-12T12:47:34.346305Z",
     "start_time": "2021-04-12T12:47:34.264307Z"
    },
    "scrolled": false
   },
   "outputs": [],
   "source": [
    "metric = \"avg_prec_w\"\n",
    "\n",
    "(\n",
    "    df[[\"dataset\", \"classifier_title\", metric, \"repeat\"]]\n",
    "    .groupby([\"dataset\", \"classifier_title\"])\n",
    "    # .agg([\"mean\", \"std\"])\n",
    "    .agg([\"mean\"])\n",
    "    .reset_index()\n",
    "    .pivot(index=\"dataset\", columns=\"classifier_title\")\n",
    "    .style\n",
    "    .format(\"{:.2f}\")\n",
    "    .background_gradient(axis=\"index\")    \n",
    ")"
   ]
  },
  {
   "cell_type": "code",
   "execution_count": null,
   "metadata": {},
   "outputs": [],
   "source": []
  }
 ],
 "metadata": {
  "kernelspec": {
   "display_name": "Python 3",
   "language": "python",
   "name": "python3"
  },
  "language_info": {
   "codemirror_mode": {
    "name": "ipython",
    "version": 3
   },
   "file_extension": ".py",
   "mimetype": "text/x-python",
   "name": "python",
   "nbconvert_exporter": "python",
   "pygments_lexer": "ipython3",
   "version": "3.7.9"
  },
  "toc": {
   "base_numbering": 1,
   "nav_menu": {},
   "number_sections": true,
   "sideBar": true,
   "skip_h1_title": true,
   "title_cell": "Table of Contents",
   "title_sidebar": "Contents",
   "toc_cell": false,
   "toc_position": {},
   "toc_section_display": true,
   "toc_window_display": false
  }
 },
 "nbformat": 4,
 "nbformat_minor": 4
}
