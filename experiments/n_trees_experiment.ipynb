{
 "cells": [
  {
   "cell_type": "markdown",
   "id": "fa1c1a29",
   "metadata": {
    "toc": true
   },
   "source": [
    "<h1>Table of Contents<span class=\"tocSkip\"></span></h1>\n",
    "<div class=\"toc\"><ul class=\"toc-item\"></ul></div>"
   ]
  },
  {
   "cell_type": "code",
   "execution_count": null,
   "id": "9ccc9df4",
   "metadata": {
    "ExecuteTime": {
     "end_time": "2021-05-03T14:03:37.497906Z",
     "start_time": "2021-05-03T14:03:37.494029Z"
    }
   },
   "outputs": [],
   "source": [
    "cd ../"
   ]
  },
  {
   "cell_type": "code",
   "execution_count": null,
   "id": "0e04ae60",
   "metadata": {
    "ExecuteTime": {
     "end_time": "2021-05-03T14:03:43.467719Z",
     "start_time": "2021-05-03T14:03:37.500217Z"
    }
   },
   "outputs": [],
   "source": [
    "#from wildwood.dataset import loaders_small_classification\n",
    "import seaborn as sns\n",
    "import matplotlib.pyplot as plt\n",
    "import numpy as np\n",
    "import pandas as pd\n",
    "from time import time\n",
    "import pickle\n",
    "\n",
    "%config Completer.use_jedi = False\n",
    "%matplotlib inline"
   ]
  },
  {
   "cell_type": "code",
   "execution_count": null,
   "id": "d676ca7f",
   "metadata": {
    "ExecuteTime": {
     "end_time": "2021-05-03T14:03:43.471756Z",
     "start_time": "2021-05-03T14:03:37.496Z"
    }
   },
   "outputs": [],
   "source": [
    "#with open(\"experiments/ntrees_experiment_2021-05-05-11:10:09.pickle\", 'rb') as f:\n",
    "with open(\"experiments/ntrees_experiment_2022-11-30-19:08:38.pickle\", 'rb') as f:\n",
    "    dictionary = pickle.load(f)\n",
    "\n",
    "df = dictionary['results']"
   ]
  },
  {
   "cell_type": "code",
   "execution_count": null,
   "id": "65c603dc",
   "metadata": {},
   "outputs": [],
   "source": [
    "set(df.dataset.values)"
   ]
  },
  {
   "cell_type": "code",
   "execution_count": null,
   "id": "84827849",
   "metadata": {
    "ExecuteTime": {
     "end_time": "2021-05-03T14:03:43.473280Z",
     "start_time": "2021-05-03T14:03:37.497Z"
    }
   },
   "outputs": [],
   "source": [
    "#df = (df.groupby(['dataset', 'classifier', 'classifier_title', 'n_trees']).mean()).reset_index([0,1, 2, 3])"
   ]
  },
  {
   "cell_type": "code",
   "execution_count": null,
   "id": "bee7c2dc",
   "metadata": {},
   "outputs": [],
   "source": [
    "df.repeat.unique()\n",
    "seed_list = [42, 43, 44, 46, 47, 49, 50, 52, 53, 55]\n",
    "dff = df[df.repeat.isin(list(range(3)))]#[x - 42 for x in seed_list])]#\n"
   ]
  },
  {
   "cell_type": "code",
   "execution_count": null,
   "id": "52a2ce3f",
   "metadata": {
    "ExecuteTime": {
     "end_time": "2021-05-03T14:03:43.474359Z",
     "start_time": "2021-05-03T14:03:37.498Z"
    }
   },
   "outputs": [],
   "source": [
    "from matplotlib.ticker import FormatStrFormatter\n",
    "#sns.set_context(\"paper\")\n",
    "#sns.set(font_scale=1.6)\n",
    "#sns.set_style(style=\"ticks\")\n",
    "\n",
    "def plot_comparison_n_trees(df, metric=\"roc_auc\", filename=None, legend=True):\n",
    "    #df[\"dataset\"].unique()\n",
    "    g = sns.FacetGrid(\n",
    "        df, col=\"dataset\", col_wrap=4, aspect=1, height=4, sharex=True, sharey=False\n",
    "    )\n",
    "    g.map(\n",
    "        sns.lineplot,\n",
    "        \"x_pos\",\n",
    "        metric,\n",
    "        \"classifier\",\n",
    "        lw=4,\n",
    "        marker=\"o\",\n",
    "        markersize=10,\n",
    "        #palette=classifier_colors,\n",
    "    ).set(xlabel=\"\", ylabel=\"\")#,yscale=\"log\")\n",
    "\n",
    "    axes = g.axes.flatten()\n",
    "\n",
    "    for i, dataset in enumerate(df[\"dataset\"].unique()):\n",
    "        #plt.xticks([0, 1, 2, 5, 10, 20, 50, 100, 200])\n",
    "        axes[i].xaxis.set_ticks(list(range(len([0, 1, 2, 5, 10, 20, 50, 100, 200]))))\n",
    "        axes[i].set_xticklabels([0,1, 2, 5, 10, 20, 50, 100, 200], fontsize=14)\n",
    "        left,right = axes[i].get_xlim()\n",
    "        axes[i].set_xlim(0.6, right)\n",
    "        axes[i].set_title(dataset, fontsize=20)\n",
    "        axes[i].set_xlabel(\"#Trees\", fontsize=18, labelpad=0.0)\n",
    "        axes[i].tick_params(axis='y', which=\"major\", labelsize=14)\n",
    "        axes[i].tick_params(axis='y', which=\"minor\", labelsize=14)\n",
    "        #plt.yticks(fontsize=14)\n",
    "        axes[i].yaxis.set_major_formatter(FormatStrFormatter('%.2g'))\n",
    "        axes[i].yaxis.set_minor_formatter(FormatStrFormatter('%.2g'))\n",
    "        \n",
    "    if legend:\n",
    "        plt.legend(\n",
    "            [\"RandomForest\", \"WildWood\", \"ExtraTrees\"],\n",
    "            bbox_to_anchor=(0.0, 0.45, 1.0, 0.0),\n",
    "            loc=\"upper right\",\n",
    "            ncol=1,\n",
    "            borderaxespad=0.0,\n",
    "            fontsize=18,\n",
    "        )\n",
    "\n",
    "    #plt.xticks(fontsize=14)\n",
    "    #plt.yticks(fontsize=18)\n",
    "\n",
    "    plt.tight_layout()\n",
    "\n",
    "    if filename is not None:\n",
    "        plt.savefig(filename)\n",
    "        #logging.info(\"Saved figure in \" + filename)\n",
    "    else:\n",
    "        plt.show()\n"
   ]
  },
  {
   "cell_type": "code",
   "execution_count": null,
   "id": "e528948c",
   "metadata": {},
   "outputs": [],
   "source": [
    "plot_comparison_n_trees(df, metric=\"roc_auc\")#, filename=\"fig_n_trees\"+str(time())+\".pdf\")"
   ]
  },
  {
   "cell_type": "code",
   "execution_count": null,
   "id": "747e666f",
   "metadata": {},
   "outputs": [],
   "source": []
  },
  {
   "cell_type": "code",
   "execution_count": null,
   "id": "2b52739c",
   "metadata": {},
   "outputs": [],
   "source": [
    "plot_comparison_n_trees(dff, metric=\"roc_auc\")#, filename=\"fig_n_trees\"+str(time())+\".pdf\")"
   ]
  },
  {
   "cell_type": "code",
   "execution_count": null,
   "id": "3bd696ee",
   "metadata": {},
   "outputs": [],
   "source": []
  },
  {
   "cell_type": "code",
   "execution_count": null,
   "id": "720eab4d",
   "metadata": {},
   "outputs": [],
   "source": []
  },
  {
   "cell_type": "code",
   "execution_count": null,
   "id": "e5a11834",
   "metadata": {},
   "outputs": [],
   "source": []
  },
  {
   "cell_type": "code",
   "execution_count": null,
   "id": "4afb4140",
   "metadata": {
    "ExecuteTime": {
     "end_time": "2021-05-03T14:03:43.475489Z",
     "start_time": "2021-05-03T14:03:37.499Z"
    }
   },
   "outputs": [],
   "source": [
    "plot_comparison_n_trees(df, metric=\"roc_auc\", filename=\"fig_n_trees\"+str(time())+\".pdf\")"
   ]
  },
  {
   "cell_type": "code",
   "execution_count": null,
   "id": "74ae927e",
   "metadata": {},
   "outputs": [],
   "source": []
  }
 ],
 "metadata": {
  "kernelspec": {
   "display_name": "Python 3 (ipykernel)",
   "language": "python",
   "name": "python3"
  },
  "language_info": {
   "codemirror_mode": {
    "name": "ipython",
    "version": 3
   },
   "file_extension": ".py",
   "mimetype": "text/x-python",
   "name": "python",
   "nbconvert_exporter": "python",
   "pygments_lexer": "ipython3",
   "version": "3.8.5"
  },
  "toc": {
   "base_numbering": 1,
   "nav_menu": {},
   "number_sections": true,
   "sideBar": true,
   "skip_h1_title": true,
   "title_cell": "Table of Contents",
   "title_sidebar": "Contents",
   "toc_cell": true,
   "toc_position": {},
   "toc_section_display": true,
   "toc_window_display": false
  }
 },
 "nbformat": 4,
 "nbformat_minor": 5
}
