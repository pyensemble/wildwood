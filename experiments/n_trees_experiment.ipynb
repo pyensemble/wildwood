{
 "cells": [
  {
   "cell_type": "markdown",
   "metadata": {
    "toc": true
   },
   "source": [
    "<h1>Table of Contents<span class=\"tocSkip\"></span></h1>\n",
    "<div class=\"toc\"><ul class=\"toc-item\"></ul></div>"
   ]
  },
  {
   "cell_type": "code",
   "execution_count": null,
   "metadata": {
    "ExecuteTime": {
     "end_time": "2021-05-03T14:03:37.497906Z",
     "start_time": "2021-05-03T14:03:37.494029Z"
    }
   },
   "outputs": [],
   "source": [
    "cd ../"
   ]
  },
  {
   "cell_type": "code",
   "execution_count": null,
   "metadata": {
    "ExecuteTime": {
     "end_time": "2021-05-03T14:03:43.467719Z",
     "start_time": "2021-05-03T14:03:37.500217Z"
    }
   },
   "outputs": [],
   "source": [
    "from wildwood.dataset import loaders_small_classification\n",
    "import seaborn as sns\n",
    "import matplotlib.pyplot as plt\n",
    "import numpy as np\n",
    "import pandas as pd\n",
    "\n",
    "import pickle\n",
    "\n",
    "%config Completer.use_jedi = False\n",
    "%matplotlib inline"
   ]
  },
  {
   "cell_type": "code",
   "execution_count": null,
   "metadata": {
    "ExecuteTime": {
     "end_time": "2021-05-03T14:03:43.471756Z",
     "start_time": "2021-05-03T14:03:37.496Z"
    }
   },
   "outputs": [],
   "source": [
    "with open(\"experiments/ntrees_experiment_2021-04-21-10:58:46.pickle\", 'rb') as f:\n",
    "    dictionary = pickle.load(f)\n",
    "\n",
    "df = dictionary['results']"
   ]
  },
  {
   "cell_type": "code",
   "execution_count": null,
   "metadata": {
    "ExecuteTime": {
     "end_time": "2021-05-03T14:03:43.473280Z",
     "start_time": "2021-05-03T14:03:37.497Z"
    }
   },
   "outputs": [],
   "source": [
    "df = (df.groupby(['dataset', 'classifier', 'classifier_title', 'n_trees']).mean()).reset_index([0,1, 2, 3])"
   ]
  },
  {
   "cell_type": "code",
   "execution_count": null,
   "metadata": {
    "ExecuteTime": {
     "end_time": "2021-05-03T14:03:43.474359Z",
     "start_time": "2021-05-03T14:03:37.498Z"
    }
   },
   "outputs": [],
   "source": [
    "\n",
    "def plot_comparison_n_trees(df, metric=\"roc_auc\", filename=None, legend=True):\n",
    "    #df[\"dataset\"].unique()\n",
    "    g = sns.FacetGrid(\n",
    "        df, col=\"dataset\", col_wrap=4, aspect=1, height=4, sharex=True, sharey=False\n",
    "    )\n",
    "    g.map(\n",
    "        sns.lineplot,\n",
    "        \"n_trees\",\n",
    "        metric,\n",
    "        \"classifier\",\n",
    "        lw=4,\n",
    "        marker=\"o\",\n",
    "        markersize=10,\n",
    "        #palette=classifier_colors,\n",
    "    ).set(yscale=\"log\", xlabel=\"\", ylabel=\"\")\n",
    "\n",
    "    axes = g.axes.flatten()\n",
    "\n",
    "    for i, dataset in enumerate(df[\"dataset\"].unique()):\n",
    "        #axes[i].set_xticklabels([0, 1, 2, 5, 10, 20, 50], fontsize=14)\n",
    "        axes[i].set_title(dataset, fontsize=18)\n",
    "\n",
    "    if legend:\n",
    "        plt.legend(\n",
    "            list(df[\"classifier_title\"].unique()),\n",
    "            bbox_to_anchor=(0.3, 0.7, 1.0, 0.0),\n",
    "            loc=\"upper right\",\n",
    "            ncol=1,\n",
    "            borderaxespad=0.0,\n",
    "            fontsize=14,\n",
    "        )\n",
    "\n",
    "    plt.xticks(fontsize=14)\n",
    "    plt.yticks(fontsize=14)\n",
    "\n",
    "    plt.tight_layout()\n",
    "\n",
    "    if filename is not None:\n",
    "        plt.savefig(filename)\n",
    "        logging.info(\"Saved figure in \" + filename)\n",
    "    else:\n",
    "        plt.show()\n"
   ]
  },
  {
   "cell_type": "code",
   "execution_count": null,
   "metadata": {
    "ExecuteTime": {
     "end_time": "2021-05-03T14:03:43.475489Z",
     "start_time": "2021-05-03T14:03:37.499Z"
    }
   },
   "outputs": [],
   "source": [
    "plot_comparison_n_trees(df, metric=\"roc_auc\")"
   ]
  },
  {
   "cell_type": "code",
   "execution_count": null,
   "metadata": {},
   "outputs": [],
   "source": []
  }
 ],
 "metadata": {
  "kernelspec": {
   "display_name": "Python 3",
   "language": "python",
   "name": "python3"
  },
  "language_info": {
   "codemirror_mode": {
    "name": "ipython",
    "version": 3
   },
   "file_extension": ".py",
   "mimetype": "text/x-python",
   "name": "python",
   "nbconvert_exporter": "python",
   "pygments_lexer": "ipython3",
   "version": "3.7.9"
  },
  "toc": {
   "base_numbering": 1,
   "nav_menu": {},
   "number_sections": true,
   "sideBar": true,
   "skip_h1_title": true,
   "title_cell": "Table of Contents",
   "title_sidebar": "Contents",
   "toc_cell": true,
   "toc_position": {},
   "toc_section_display": true,
   "toc_window_display": false
  }
 },
 "nbformat": 4,
 "nbformat_minor": 5
}
