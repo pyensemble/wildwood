{
 "cells": [
  {
   "cell_type": "markdown",
   "metadata": {
    "toc": true
   },
   "source": [
    "<h1>Table of Contents<span class=\"tocSkip\"></span></h1>\n",
    "<div class=\"toc\"><ul class=\"toc-item\"></ul></div>"
   ]
  },
  {
   "cell_type": "code",
   "execution_count": null,
   "metadata": {
    "ExecuteTime": {
     "end_time": "2021-05-03T13:42:02.829569Z",
     "start_time": "2021-05-03T13:41:46.067257Z"
    }
   },
   "outputs": [],
   "source": [
    "from wildwood.dataset import load_car, load_adult, load_bank\n",
    "from wildwood import ForestClassifier\n",
    "import sys\n",
    "import numpy as np\n",
    "\n",
    "%config Completer.use_jedi = False"
   ]
  },
  {
   "cell_type": "code",
   "execution_count": null,
   "metadata": {
    "ExecuteTime": {
     "end_time": "2021-05-03T13:42:02.834502Z",
     "start_time": "2021-05-03T13:42:02.831840Z"
    }
   },
   "outputs": [],
   "source": [
    "from sklearn.preprocessing import LabelBinarizer\n"
   ]
  },
  {
   "cell_type": "code",
   "execution_count": null,
   "metadata": {
    "ExecuteTime": {
     "end_time": "2021-05-03T13:42:03.109634Z",
     "start_time": "2021-05-03T13:42:02.837176Z"
    }
   },
   "outputs": [],
   "source": [
    "import matplotlib.pyplot as plt\n",
    "\n",
    "%matplotlib inline\n",
    "\n",
    "def dynamic_print(stri):\n",
    "    sys.stdout.write('\\r'+stri)\n",
    "    sys.stdout.flush()\n"
   ]
  },
  {
   "cell_type": "code",
   "execution_count": null,
   "metadata": {
    "ExecuteTime": {
     "end_time": "2021-05-03T13:42:05.430864Z",
     "start_time": "2021-05-03T13:42:05.403788Z"
    }
   },
   "outputs": [],
   "source": [
    "dataset = load_car()\n",
    "\n",
    "random_state = 0\n",
    "\n",
    "dataset.one_hot_encode = False\n",
    "dataset.standardize = False\n",
    "\n",
    "X_train, X_test, y_train, y_test = dataset.extract(random_state=random_state)\n",
    "\n",
    "clf = ForestClassifier(\n",
    "    max_features=None,\n",
    "    class_weight=\"balanced\",\n",
    "    categorical_features=dataset.categorical_features_,\n",
    "    random_state=random_state,\n",
    "    #verbose=True\n",
    ")\n"
   ]
  },
  {
   "cell_type": "code",
   "execution_count": null,
   "metadata": {
    "ExecuteTime": {
     "end_time": "2021-05-03T13:42:13.273242Z",
     "start_time": "2021-05-03T13:42:06.894001Z"
    }
   },
   "outputs": [],
   "source": [
    "clf.fit(X_train, y_train)"
   ]
  },
  {
   "cell_type": "code",
   "execution_count": null,
   "metadata": {
    "ExecuteTime": {
     "end_time": "2021-05-03T13:42:13.279209Z",
     "start_time": "2021-05-03T13:42:13.276179Z"
    }
   },
   "outputs": [],
   "source": [
    "from sklearn.metrics import average_precision_score, roc_auc_score, log_loss, accuracy_score\n"
   ]
  },
  {
   "cell_type": "code",
   "execution_count": null,
   "metadata": {
    "ExecuteTime": {
     "start_time": "2021-05-03T13:42:14.769Z"
    }
   },
   "outputs": [],
   "source": [
    "dirichlet_values = np.array([2**(i) for i in np.linspace(-7, 0, 27)])\n",
    "step_values = np.array([2**(i) for i in np.linspace(-2, 4, 29)])\n",
    "\n",
    "task = dataset.task\n",
    "\n",
    "y_test_binary = LabelBinarizer().fit_transform(y_test)\n",
    "\n",
    "\n",
    "values = np.zeros((4, len(dirichlet_values), len(step_values)))\n",
    "\n",
    "for i, dirichlet in enumerate(dirichlet_values):\n",
    "    clf.dirichlet = dirichlet\n",
    "    for j, step in enumerate(step_values):\n",
    "        clf.step = step\n",
    "        dynamic_print(str(i+1) + \"/\" + str(len(dirichlet_values)) + \"\\t\" + str(j+1) + \"/\" + str(len(step_values)))\n",
    "        \n",
    "        y_scores = clf.predict_proba(X_test)\n",
    "\n",
    "        \n",
    "        y_pred = np.argmax(y_scores, axis=1)\n",
    "        \n",
    "        if task == \"binary-classification\":\n",
    "            values[0,i,j] = roc_auc_score(y_test, y_scores[:, 1])\n",
    "            values[1,i,j] = average_precision_score(y_test, y_scores[:, 1])\n",
    "\n",
    "        elif task == \"multiclass-classification\":\n",
    "            values[0,i,j] = roc_auc_score(y_test, y_scores, multi_class=\"ovr\", average=\"macro\")\n",
    "            values[1,i,j] = average_precision_score(y_test_binary, y_scores)\n",
    "\n",
    "        values[2,i,j] = log_loss(y_test, y_scores)\n",
    "\n",
    "        values[3,i,j] = accuracy_score(y_test, y_pred)\n"
   ]
  },
  {
   "cell_type": "code",
   "execution_count": null,
   "metadata": {},
   "outputs": [],
   "source": [
    "import seaborn as sns\n",
    "import matplotlib.pylab as plb\n",
    "\n",
    "def skip_ticks(ticks, skip=1):\n",
    "    return [x if i%skip==0 else '' for i,x in enumerate(ticks)]\n",
    "st=5\n",
    "metrics_names = [\"roc auc\", \"average precision\", \"log loss\", \"accuracy\"]\n",
    "metric_index=0\n",
    "\n",
    "ax = sns.heatmap(values[metric_index], xticklabels=skip_ticks(np.around(step_values, decimals=2), st), yticklabels=\n",
    "                 skip_ticks(np.around(dirichlet_values, decimals=2), st))\n",
    "ax.set(xlabel=\"step\", ylabel=\"dirichlet\", title=metrics_names[metric_index]+\" for \"+dataset.name)\n",
    "plb.show()"
   ]
  },
  {
   "cell_type": "code",
   "execution_count": null,
   "metadata": {},
   "outputs": [],
   "source": [
    "metric_index=1\n",
    "\n",
    "ax = sns.heatmap(values[metric_index], xticklabels=skip_ticks(np.around(step_values, decimals=2), st), yticklabels=\n",
    "                 skip_ticks(np.around(dirichlet_values, decimals=2), st))\n",
    "ax.set(xlabel=\"step\", ylabel=\"dirichlet\", title=metrics_names[metric_index]+\" for \"+dataset.name)\n",
    "plb.show()"
   ]
  },
  {
   "cell_type": "code",
   "execution_count": null,
   "metadata": {},
   "outputs": [],
   "source": [
    "metric_index=2\n",
    "\n",
    "ax = sns.heatmap(values[metric_index], xticklabels=skip_ticks(np.around(step_values, decimals=2), st), yticklabels=\n",
    "                 skip_ticks(np.around(dirichlet_values, decimals=2), st))\n",
    "ax.set(xlabel=\"step\", ylabel=\"dirichlet\", title=metrics_names[metric_index]+\" for \"+dataset.name)\n",
    "plb.show()"
   ]
  },
  {
   "cell_type": "code",
   "execution_count": null,
   "metadata": {},
   "outputs": [],
   "source": [
    "metric_index=3\n",
    "\n",
    "ax = sns.heatmap(values[metric_index], xticklabels=skip_ticks(np.around(step_values, decimals=2), st), yticklabels=\n",
    "                 skip_ticks(np.around(dirichlet_values, decimals=2), st))\n",
    "ax.set(xlabel=\"step\", ylabel=\"dirichlet\", title=metrics_names[metric_index]+\" for \"+dataset.name)\n",
    "plb.show()"
   ]
  },
  {
   "cell_type": "code",
   "execution_count": null,
   "metadata": {},
   "outputs": [],
   "source": []
  }
 ],
 "metadata": {
  "kernelspec": {
   "display_name": "Python 3",
   "language": "python",
   "name": "python3"
  },
  "language_info": {
   "codemirror_mode": {
    "name": "ipython",
    "version": 3
   },
   "file_extension": ".py",
   "mimetype": "text/x-python",
   "name": "python",
   "nbconvert_exporter": "python",
   "pygments_lexer": "ipython3",
   "version": "3.7.9"
  },
  "toc": {
   "base_numbering": 1,
   "nav_menu": {},
   "number_sections": true,
   "sideBar": true,
   "skip_h1_title": true,
   "title_cell": "Table of Contents",
   "title_sidebar": "Contents",
   "toc_cell": true,
   "toc_position": {},
   "toc_section_display": true,
   "toc_window_display": false
  }
 },
 "nbformat": 4,
 "nbformat_minor": 5
}
