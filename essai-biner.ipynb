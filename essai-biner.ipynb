{
 "cells": [
  {
   "cell_type": "markdown",
   "metadata": {
    "toc": true
   },
   "source": [
    "<h1>Table of Contents<span class=\"tocSkip\"></span></h1>\n",
    "<div class=\"toc\"><ul class=\"toc-item\"></ul></div>"
   ]
  },
  {
   "cell_type": "code",
   "execution_count": 1,
   "metadata": {
    "ExecuteTime": {
     "end_time": "2021-04-15T11:58:05.290998Z",
     "start_time": "2021-04-15T11:57:47.045980Z"
    },
    "scrolled": false
   },
   "outputs": [
    {
     "data": {
      "text/html": [
       "<div>\n",
       "<style scoped>\n",
       "    .dataframe tbody tr th:only-of-type {\n",
       "        vertical-align: middle;\n",
       "    }\n",
       "\n",
       "    .dataframe tbody tr th {\n",
       "        vertical-align: top;\n",
       "    }\n",
       "\n",
       "    .dataframe thead th {\n",
       "        text-align: right;\n",
       "    }\n",
       "</style>\n",
       "<table border=\"1\" class=\"dataframe\">\n",
       "  <thead>\n",
       "    <tr style=\"text-align: right;\">\n",
       "      <th></th>\n",
       "      <th>dataset</th>\n",
       "      <th>task</th>\n",
       "      <th>n_samples</th>\n",
       "      <th>n_samples_train</th>\n",
       "      <th>n_samples_test</th>\n",
       "      <th>n_features_cat</th>\n",
       "      <th>n_features_cont</th>\n",
       "      <th>n_features</th>\n",
       "      <th>n_classes</th>\n",
       "      <th>n_columns</th>\n",
       "      <th>scaled_gini</th>\n",
       "    </tr>\n",
       "  </thead>\n",
       "  <tbody>\n",
       "    <tr>\n",
       "      <th>0</th>\n",
       "      <td>adult</td>\n",
       "      <td>binary-classification</td>\n",
       "      <td>32561</td>\n",
       "      <td>22792</td>\n",
       "      <td>9769</td>\n",
       "      <td>8</td>\n",
       "      <td>6</td>\n",
       "      <td>14</td>\n",
       "      <td>2</td>\n",
       "      <td>100</td>\n",
       "      <td>0.731281</td>\n",
       "    </tr>\n",
       "    <tr>\n",
       "      <th>1</th>\n",
       "      <td>bank</td>\n",
       "      <td>binary-classification</td>\n",
       "      <td>45211</td>\n",
       "      <td>31647</td>\n",
       "      <td>13564</td>\n",
       "      <td>10</td>\n",
       "      <td>6</td>\n",
       "      <td>16</td>\n",
       "      <td>2</td>\n",
       "      <td>71</td>\n",
       "      <td>0.413197</td>\n",
       "    </tr>\n",
       "    <tr>\n",
       "      <th>2</th>\n",
       "      <td>breastcancer</td>\n",
       "      <td>binary-classification</td>\n",
       "      <td>569</td>\n",
       "      <td>398</td>\n",
       "      <td>171</td>\n",
       "      <td>0</td>\n",
       "      <td>30</td>\n",
       "      <td>30</td>\n",
       "      <td>2</td>\n",
       "      <td>30</td>\n",
       "      <td>0.935060</td>\n",
       "    </tr>\n",
       "    <tr>\n",
       "      <th>3</th>\n",
       "      <td>car</td>\n",
       "      <td>multiclass-classification</td>\n",
       "      <td>1728</td>\n",
       "      <td>1209</td>\n",
       "      <td>519</td>\n",
       "      <td>6</td>\n",
       "      <td>0</td>\n",
       "      <td>6</td>\n",
       "      <td>4</td>\n",
       "      <td>15</td>\n",
       "      <td>0.609712</td>\n",
       "    </tr>\n",
       "    <tr>\n",
       "      <th>4</th>\n",
       "      <td>cardio</td>\n",
       "      <td>multiclass-classification</td>\n",
       "      <td>2126</td>\n",
       "      <td>1488</td>\n",
       "      <td>638</td>\n",
       "      <td>0</td>\n",
       "      <td>35</td>\n",
       "      <td>35</td>\n",
       "      <td>10</td>\n",
       "      <td>34</td>\n",
       "      <td>0.932641</td>\n",
       "    </tr>\n",
       "    <tr>\n",
       "      <th>5</th>\n",
       "      <td>churn</td>\n",
       "      <td>binary-classification</td>\n",
       "      <td>3333</td>\n",
       "      <td>2333</td>\n",
       "      <td>1000</td>\n",
       "      <td>4</td>\n",
       "      <td>15</td>\n",
       "      <td>19</td>\n",
       "      <td>2</td>\n",
       "      <td>69</td>\n",
       "      <td>0.495657</td>\n",
       "    </tr>\n",
       "    <tr>\n",
       "      <th>6</th>\n",
       "      <td>default-cb</td>\n",
       "      <td>binary-classification</td>\n",
       "      <td>30000</td>\n",
       "      <td>21000</td>\n",
       "      <td>9000</td>\n",
       "      <td>3</td>\n",
       "      <td>20</td>\n",
       "      <td>23</td>\n",
       "      <td>2</td>\n",
       "      <td>30</td>\n",
       "      <td>0.689082</td>\n",
       "    </tr>\n",
       "    <tr>\n",
       "      <th>7</th>\n",
       "      <td>letter</td>\n",
       "      <td>multiclass-classification</td>\n",
       "      <td>20000</td>\n",
       "      <td>14000</td>\n",
       "      <td>6000</td>\n",
       "      <td>0</td>\n",
       "      <td>16</td>\n",
       "      <td>16</td>\n",
       "      <td>26</td>\n",
       "      <td>16</td>\n",
       "      <td>0.999965</td>\n",
       "    </tr>\n",
       "    <tr>\n",
       "      <th>8</th>\n",
       "      <td>satimage</td>\n",
       "      <td>multiclass-classification</td>\n",
       "      <td>5104</td>\n",
       "      <td>3572</td>\n",
       "      <td>1532</td>\n",
       "      <td>0</td>\n",
       "      <td>37</td>\n",
       "      <td>37</td>\n",
       "      <td>6</td>\n",
       "      <td>36</td>\n",
       "      <td>0.973752</td>\n",
       "    </tr>\n",
       "    <tr>\n",
       "      <th>9</th>\n",
       "      <td>sensorless</td>\n",
       "      <td>multiclass-classification</td>\n",
       "      <td>58509</td>\n",
       "      <td>40956</td>\n",
       "      <td>17553</td>\n",
       "      <td>0</td>\n",
       "      <td>48</td>\n",
       "      <td>48</td>\n",
       "      <td>11</td>\n",
       "      <td>48</td>\n",
       "      <td>1.000000</td>\n",
       "    </tr>\n",
       "    <tr>\n",
       "      <th>10</th>\n",
       "      <td>spambase</td>\n",
       "      <td>binary-classification</td>\n",
       "      <td>4601</td>\n",
       "      <td>3220</td>\n",
       "      <td>1381</td>\n",
       "      <td>0</td>\n",
       "      <td>57</td>\n",
       "      <td>57</td>\n",
       "      <td>2</td>\n",
       "      <td>57</td>\n",
       "      <td>0.955094</td>\n",
       "    </tr>\n",
       "  </tbody>\n",
       "</table>\n",
       "</div>"
      ],
      "text/plain": [
       "         dataset                       task  n_samples  n_samples_train  \\\n",
       "0          adult      binary-classification      32561            22792   \n",
       "1           bank      binary-classification      45211            31647   \n",
       "2   breastcancer      binary-classification        569              398   \n",
       "3            car  multiclass-classification       1728             1209   \n",
       "4         cardio  multiclass-classification       2126             1488   \n",
       "5          churn      binary-classification       3333             2333   \n",
       "6     default-cb      binary-classification      30000            21000   \n",
       "7         letter  multiclass-classification      20000            14000   \n",
       "8       satimage  multiclass-classification       5104             3572   \n",
       "9     sensorless  multiclass-classification      58509            40956   \n",
       "10      spambase      binary-classification       4601             3220   \n",
       "\n",
       "    n_samples_test  n_features_cat  n_features_cont  n_features  n_classes  \\\n",
       "0             9769               8                6          14          2   \n",
       "1            13564              10                6          16          2   \n",
       "2              171               0               30          30          2   \n",
       "3              519               6                0           6          4   \n",
       "4              638               0               35          35         10   \n",
       "5             1000               4               15          19          2   \n",
       "6             9000               3               20          23          2   \n",
       "7             6000               0               16          16         26   \n",
       "8             1532               0               37          37          6   \n",
       "9            17553               0               48          48         11   \n",
       "10            1381               0               57          57          2   \n",
       "\n",
       "    n_columns  scaled_gini  \n",
       "0         100     0.731281  \n",
       "1          71     0.413197  \n",
       "2          30     0.935060  \n",
       "3          15     0.609712  \n",
       "4          34     0.932641  \n",
       "5          69     0.495657  \n",
       "6          30     0.689082  \n",
       "7          16     0.999965  \n",
       "8          36     0.973752  \n",
       "9          48     1.000000  \n",
       "10         57     0.955094  "
      ]
     },
     "execution_count": 1,
     "metadata": {},
     "output_type": "execute_result"
    }
   ],
   "source": [
    "from wildwood.dataset import describe_datasets\n",
    "\n",
    "df = describe_datasets(include=\"small-classification\")\n",
    "df"
   ]
  },
  {
   "cell_type": "code",
   "execution_count": 14,
   "metadata": {
    "ExecuteTime": {
     "end_time": "2021-04-15T19:57:38.751849Z",
     "start_time": "2021-04-15T19:57:38.748578Z"
    }
   },
   "outputs": [
    {
     "data": {
      "text/plain": [
       "1.1920929e-07"
      ]
     },
     "execution_count": 14,
     "metadata": {},
     "output_type": "execute_result"
    }
   ],
   "source": [
    "np.finfo(\"float32\").eps"
   ]
  },
  {
   "cell_type": "code",
   "execution_count": 15,
   "metadata": {
    "ExecuteTime": {
     "end_time": "2021-04-15T19:57:42.376160Z",
     "start_time": "2021-04-15T19:57:42.372440Z"
    }
   },
   "outputs": [
    {
     "data": {
      "text/plain": [
       "5.9604645e-08"
      ]
     },
     "execution_count": 15,
     "metadata": {},
     "output_type": "execute_result"
    }
   ],
   "source": [
    "np.finfo(\"float32\").epsneg"
   ]
  },
  {
   "cell_type": "code",
   "execution_count": null,
   "metadata": {},
   "outputs": [],
   "source": []
  },
  {
   "cell_type": "code",
   "execution_count": null,
   "metadata": {
    "ExecuteTime": {
     "start_time": "2021-04-15T11:46:54.068Z"
    }
   },
   "outputs": [],
   "source": [
    "from wildwood.dataset import loaders_small_classification\n",
    "\n",
    "for loader in loaders_small_classification:\n",
    "    dataset = loader()\n",
    "    dataset.one_hot_encode = True\n",
    "    X_train, X_test, y_train, y_test = dataset.extract(random_state=42)\n",
    "    print(\"-\" * 32)\n",
    "    print(dataset.name)\n",
    "    print(dataset.categorical_features_)\n",
    "    dataset.one_hot_encode = False\n",
    "    X_train, X_test, y_train, y_test = dataset.extract(random_state=42)\n",
    "    print(dataset.categorical_features_)    "
   ]
  },
  {
   "cell_type": "code",
   "execution_count": null,
   "metadata": {},
   "outputs": [],
   "source": []
  },
  {
   "cell_type": "markdown",
   "metadata": {},
   "source": [
    "# Test for categorical on a small toy data"
   ]
  },
  {
   "cell_type": "code",
   "execution_count": 23,
   "metadata": {
    "ExecuteTime": {
     "end_time": "2021-04-19T09:51:11.513077Z",
     "start_time": "2021-04-19T09:51:11.509576Z"
    }
   },
   "outputs": [],
   "source": [
    "import numpy as np\n",
    "import pandas as pd\n",
    "\n",
    "X2 = np.repeat(np.arange(5), 20).reshape((-1, 1))\n",
    "X1 = np.repeat(np.arange(2), 50).reshape((-1, 1))\n",
    "y = np.repeat([1, 0, 0, 1, 0], 20)\n",
    "X = np.concatenate([X1, X2], axis=1)"
   ]
  },
  {
   "cell_type": "code",
   "execution_count": 24,
   "metadata": {
    "ExecuteTime": {
     "end_time": "2021-04-19T09:51:12.785806Z",
     "start_time": "2021-04-19T09:51:12.776971Z"
    }
   },
   "outputs": [
    {
     "data": {
      "text/html": [
       "<div>\n",
       "<style scoped>\n",
       "    .dataframe tbody tr th:only-of-type {\n",
       "        vertical-align: middle;\n",
       "    }\n",
       "\n",
       "    .dataframe tbody tr th {\n",
       "        vertical-align: top;\n",
       "    }\n",
       "\n",
       "    .dataframe thead th {\n",
       "        text-align: right;\n",
       "    }\n",
       "</style>\n",
       "<table border=\"1\" class=\"dataframe\">\n",
       "  <thead>\n",
       "    <tr style=\"text-align: right;\">\n",
       "      <th></th>\n",
       "      <th>X2</th>\n",
       "      <th>X1</th>\n",
       "      <th>y</th>\n",
       "    </tr>\n",
       "  </thead>\n",
       "  <tbody>\n",
       "    <tr>\n",
       "      <th>0</th>\n",
       "      <td>0</td>\n",
       "      <td>0</td>\n",
       "      <td>20</td>\n",
       "    </tr>\n",
       "    <tr>\n",
       "      <th>1</th>\n",
       "      <td>1</td>\n",
       "      <td>0</td>\n",
       "      <td>0</td>\n",
       "    </tr>\n",
       "    <tr>\n",
       "      <th>2</th>\n",
       "      <td>2</td>\n",
       "      <td>10</td>\n",
       "      <td>0</td>\n",
       "    </tr>\n",
       "    <tr>\n",
       "      <th>3</th>\n",
       "      <td>3</td>\n",
       "      <td>20</td>\n",
       "      <td>20</td>\n",
       "    </tr>\n",
       "    <tr>\n",
       "      <th>4</th>\n",
       "      <td>4</td>\n",
       "      <td>20</td>\n",
       "      <td>0</td>\n",
       "    </tr>\n",
       "  </tbody>\n",
       "</table>\n",
       "</div>"
      ],
      "text/plain": [
       "   X2  X1   y\n",
       "0   0   0  20\n",
       "1   1   0   0\n",
       "2   2  10   0\n",
       "3   3  20  20\n",
       "4   4  20   0"
      ]
     },
     "execution_count": 24,
     "metadata": {},
     "output_type": "execute_result"
    }
   ],
   "source": [
    "(\n",
    "    pd.DataFrame({\"X1\": X1.ravel(), \"X2\": X2.ravel(), \"y\": y})\n",
    "    .groupby(\"X2\")\n",
    "    .sum()\n",
    "    .reset_index()\n",
    ")"
   ]
  },
  {
   "cell_type": "code",
   "execution_count": 30,
   "metadata": {
    "ExecuteTime": {
     "end_time": "2021-04-19T09:52:58.533840Z",
     "start_time": "2021-04-19T09:52:58.531457Z"
    }
   },
   "outputs": [],
   "source": [
    "attributes = [\"feature\", \"bin_threshold\", \"bin_partition\", \"y_pred\", \"is_split_categorical\"]"
   ]
  },
  {
   "cell_type": "code",
   "execution_count": 32,
   "metadata": {
    "ExecuteTime": {
     "end_time": "2021-04-19T09:53:09.436054Z",
     "start_time": "2021-04-19T09:53:09.345711Z"
    }
   },
   "outputs": [
    {
     "data": {
      "text/html": [
       "\n",
       "    <div class=\"bk-root\">\n",
       "        <a href=\"https://bokeh.org\" target=\"_blank\" class=\"bk-logo bk-logo-small bk-logo-notebook\"></a>\n",
       "        <span id=\"2445\">Loading BokehJS ...</span>\n",
       "    </div>"
      ]
     },
     "metadata": {},
     "output_type": "display_data"
    },
    {
     "data": {
      "application/javascript": [
       "\n",
       "(function(root) {\n",
       "  function now() {\n",
       "    return new Date();\n",
       "  }\n",
       "\n",
       "  var force = true;\n",
       "\n",
       "  if (typeof root._bokeh_onload_callbacks === \"undefined\" || force === true) {\n",
       "    root._bokeh_onload_callbacks = [];\n",
       "    root._bokeh_is_loading = undefined;\n",
       "  }\n",
       "\n",
       "  var JS_MIME_TYPE = 'application/javascript';\n",
       "  var HTML_MIME_TYPE = 'text/html';\n",
       "  var EXEC_MIME_TYPE = 'application/vnd.bokehjs_exec.v0+json';\n",
       "  var CLASS_NAME = 'output_bokeh rendered_html';\n",
       "\n",
       "  /**\n",
       "   * Render data to the DOM node\n",
       "   */\n",
       "  function render(props, node) {\n",
       "    var script = document.createElement(\"script\");\n",
       "    node.appendChild(script);\n",
       "  }\n",
       "\n",
       "  /**\n",
       "   * Handle when an output is cleared or removed\n",
       "   */\n",
       "  function handleClearOutput(event, handle) {\n",
       "    var cell = handle.cell;\n",
       "\n",
       "    var id = cell.output_area._bokeh_element_id;\n",
       "    var server_id = cell.output_area._bokeh_server_id;\n",
       "    // Clean up Bokeh references\n",
       "    if (id != null && id in Bokeh.index) {\n",
       "      Bokeh.index[id].model.document.clear();\n",
       "      delete Bokeh.index[id];\n",
       "    }\n",
       "\n",
       "    if (server_id !== undefined) {\n",
       "      // Clean up Bokeh references\n",
       "      var cmd = \"from bokeh.io.state import curstate; print(curstate().uuid_to_server['\" + server_id + \"'].get_sessions()[0].document.roots[0]._id)\";\n",
       "      cell.notebook.kernel.execute(cmd, {\n",
       "        iopub: {\n",
       "          output: function(msg) {\n",
       "            var id = msg.content.text.trim();\n",
       "            if (id in Bokeh.index) {\n",
       "              Bokeh.index[id].model.document.clear();\n",
       "              delete Bokeh.index[id];\n",
       "            }\n",
       "          }\n",
       "        }\n",
       "      });\n",
       "      // Destroy server and session\n",
       "      var cmd = \"import bokeh.io.notebook as ion; ion.destroy_server('\" + server_id + \"')\";\n",
       "      cell.notebook.kernel.execute(cmd);\n",
       "    }\n",
       "  }\n",
       "\n",
       "  /**\n",
       "   * Handle when a new output is added\n",
       "   */\n",
       "  function handleAddOutput(event, handle) {\n",
       "    var output_area = handle.output_area;\n",
       "    var output = handle.output;\n",
       "\n",
       "    // limit handleAddOutput to display_data with EXEC_MIME_TYPE content only\n",
       "    if ((output.output_type != \"display_data\") || (!output.data.hasOwnProperty(EXEC_MIME_TYPE))) {\n",
       "      return\n",
       "    }\n",
       "\n",
       "    var toinsert = output_area.element.find(\".\" + CLASS_NAME.split(' ')[0]);\n",
       "\n",
       "    if (output.metadata[EXEC_MIME_TYPE][\"id\"] !== undefined) {\n",
       "      toinsert[toinsert.length - 1].firstChild.textContent = output.data[JS_MIME_TYPE];\n",
       "      // store reference to embed id on output_area\n",
       "      output_area._bokeh_element_id = output.metadata[EXEC_MIME_TYPE][\"id\"];\n",
       "    }\n",
       "    if (output.metadata[EXEC_MIME_TYPE][\"server_id\"] !== undefined) {\n",
       "      var bk_div = document.createElement(\"div\");\n",
       "      bk_div.innerHTML = output.data[HTML_MIME_TYPE];\n",
       "      var script_attrs = bk_div.children[0].attributes;\n",
       "      for (var i = 0; i < script_attrs.length; i++) {\n",
       "        toinsert[toinsert.length - 1].firstChild.setAttribute(script_attrs[i].name, script_attrs[i].value);\n",
       "        toinsert[toinsert.length - 1].firstChild.textContent = bk_div.children[0].textContent\n",
       "      }\n",
       "      // store reference to server id on output_area\n",
       "      output_area._bokeh_server_id = output.metadata[EXEC_MIME_TYPE][\"server_id\"];\n",
       "    }\n",
       "  }\n",
       "\n",
       "  function register_renderer(events, OutputArea) {\n",
       "\n",
       "    function append_mime(data, metadata, element) {\n",
       "      // create a DOM node to render to\n",
       "      var toinsert = this.create_output_subarea(\n",
       "        metadata,\n",
       "        CLASS_NAME,\n",
       "        EXEC_MIME_TYPE\n",
       "      );\n",
       "      this.keyboard_manager.register_events(toinsert);\n",
       "      // Render to node\n",
       "      var props = {data: data, metadata: metadata[EXEC_MIME_TYPE]};\n",
       "      render(props, toinsert[toinsert.length - 1]);\n",
       "      element.append(toinsert);\n",
       "      return toinsert\n",
       "    }\n",
       "\n",
       "    /* Handle when an output is cleared or removed */\n",
       "    events.on('clear_output.CodeCell', handleClearOutput);\n",
       "    events.on('delete.Cell', handleClearOutput);\n",
       "\n",
       "    /* Handle when a new output is added */\n",
       "    events.on('output_added.OutputArea', handleAddOutput);\n",
       "\n",
       "    /**\n",
       "     * Register the mime type and append_mime function with output_area\n",
       "     */\n",
       "    OutputArea.prototype.register_mime_type(EXEC_MIME_TYPE, append_mime, {\n",
       "      /* Is output safe? */\n",
       "      safe: true,\n",
       "      /* Index of renderer in `output_area.display_order` */\n",
       "      index: 0\n",
       "    });\n",
       "  }\n",
       "\n",
       "  // register the mime type if in Jupyter Notebook environment and previously unregistered\n",
       "  if (root.Jupyter !== undefined) {\n",
       "    var events = require('base/js/events');\n",
       "    var OutputArea = require('notebook/js/outputarea').OutputArea;\n",
       "\n",
       "    if (OutputArea.prototype.mime_types().indexOf(EXEC_MIME_TYPE) == -1) {\n",
       "      register_renderer(events, OutputArea);\n",
       "    }\n",
       "  }\n",
       "\n",
       "  \n",
       "  if (typeof (root._bokeh_timeout) === \"undefined\" || force === true) {\n",
       "    root._bokeh_timeout = Date.now() + 5000;\n",
       "    root._bokeh_failed_load = false;\n",
       "  }\n",
       "\n",
       "  var NB_LOAD_WARNING = {'data': {'text/html':\n",
       "     \"<div style='background-color: #fdd'>\\n\"+\n",
       "     \"<p>\\n\"+\n",
       "     \"BokehJS does not appear to have successfully loaded. If loading BokehJS from CDN, this \\n\"+\n",
       "     \"may be due to a slow or bad network connection. Possible fixes:\\n\"+\n",
       "     \"</p>\\n\"+\n",
       "     \"<ul>\\n\"+\n",
       "     \"<li>re-rerun `output_notebook()` to attempt to load from CDN again, or</li>\\n\"+\n",
       "     \"<li>use INLINE resources instead, as so:</li>\\n\"+\n",
       "     \"</ul>\\n\"+\n",
       "     \"<code>\\n\"+\n",
       "     \"from bokeh.resources import INLINE\\n\"+\n",
       "     \"output_notebook(resources=INLINE)\\n\"+\n",
       "     \"</code>\\n\"+\n",
       "     \"</div>\"}};\n",
       "\n",
       "  function display_loaded() {\n",
       "    var el = document.getElementById(\"2445\");\n",
       "    if (el != null) {\n",
       "      el.textContent = \"BokehJS is loading...\";\n",
       "    }\n",
       "    if (root.Bokeh !== undefined) {\n",
       "      if (el != null) {\n",
       "        el.textContent = \"BokehJS \" + root.Bokeh.version + \" successfully loaded.\";\n",
       "      }\n",
       "    } else if (Date.now() < root._bokeh_timeout) {\n",
       "      setTimeout(display_loaded, 100)\n",
       "    }\n",
       "  }\n",
       "\n",
       "\n",
       "  function run_callbacks() {\n",
       "    try {\n",
       "      root._bokeh_onload_callbacks.forEach(function(callback) {\n",
       "        if (callback != null)\n",
       "          callback();\n",
       "      });\n",
       "    } finally {\n",
       "      delete root._bokeh_onload_callbacks\n",
       "    }\n",
       "    console.debug(\"Bokeh: all callbacks have finished\");\n",
       "  }\n",
       "\n",
       "  function load_libs(css_urls, js_urls, callback) {\n",
       "    if (css_urls == null) css_urls = [];\n",
       "    if (js_urls == null) js_urls = [];\n",
       "\n",
       "    root._bokeh_onload_callbacks.push(callback);\n",
       "    if (root._bokeh_is_loading > 0) {\n",
       "      console.debug(\"Bokeh: BokehJS is being loaded, scheduling callback at\", now());\n",
       "      return null;\n",
       "    }\n",
       "    if (js_urls == null || js_urls.length === 0) {\n",
       "      run_callbacks();\n",
       "      return null;\n",
       "    }\n",
       "    console.debug(\"Bokeh: BokehJS not loaded, scheduling load and callback at\", now());\n",
       "    root._bokeh_is_loading = css_urls.length + js_urls.length;\n",
       "\n",
       "    function on_load() {\n",
       "      root._bokeh_is_loading--;\n",
       "      if (root._bokeh_is_loading === 0) {\n",
       "        console.debug(\"Bokeh: all BokehJS libraries/stylesheets loaded\");\n",
       "        run_callbacks()\n",
       "      }\n",
       "    }\n",
       "\n",
       "    function on_error() {\n",
       "      console.error(\"failed to load \" + url);\n",
       "    }\n",
       "\n",
       "    for (var i = 0; i < css_urls.length; i++) {\n",
       "      var url = css_urls[i];\n",
       "      const element = document.createElement(\"link\");\n",
       "      element.onload = on_load;\n",
       "      element.onerror = on_error;\n",
       "      element.rel = \"stylesheet\";\n",
       "      element.type = \"text/css\";\n",
       "      element.href = url;\n",
       "      console.debug(\"Bokeh: injecting link tag for BokehJS stylesheet: \", url);\n",
       "      document.body.appendChild(element);\n",
       "    }\n",
       "\n",
       "    const hashes = {\"https://cdn.bokeh.org/bokeh/release/bokeh-2.2.1.min.js\": \"qkRvDQVAIfzsJo40iRBbxt6sttt0hv4lh74DG7OK4MCHv4C5oohXYoHUM5W11uqS\", \"https://cdn.bokeh.org/bokeh/release/bokeh-widgets-2.2.1.min.js\": \"Sb7Mr06a9TNlet/GEBeKaf5xH3eb6AlCzwjtU82wNPyDrnfoiVl26qnvlKjmcAd+\", \"https://cdn.bokeh.org/bokeh/release/bokeh-tables-2.2.1.min.js\": \"HaJ15vgfmcfRtB4c4YBOI4f1MUujukqInOWVqZJZZGK7Q+ivud0OKGSTn/Vm2iso\"};\n",
       "\n",
       "    for (var i = 0; i < js_urls.length; i++) {\n",
       "      var url = js_urls[i];\n",
       "      var element = document.createElement('script');\n",
       "      element.onload = on_load;\n",
       "      element.onerror = on_error;\n",
       "      element.async = false;\n",
       "      element.src = url;\n",
       "      if (url in hashes) {\n",
       "        element.crossOrigin = \"anonymous\";\n",
       "        element.integrity = \"sha384-\" + hashes[url];\n",
       "      }\n",
       "      console.debug(\"Bokeh: injecting script tag for BokehJS library: \", url);\n",
       "      document.head.appendChild(element);\n",
       "    }\n",
       "  };\n",
       "\n",
       "  function inject_raw_css(css) {\n",
       "    const element = document.createElement(\"style\");\n",
       "    element.appendChild(document.createTextNode(css));\n",
       "    document.body.appendChild(element);\n",
       "  }\n",
       "\n",
       "  \n",
       "  var js_urls = [\"https://cdn.bokeh.org/bokeh/release/bokeh-2.2.1.min.js\", \"https://cdn.bokeh.org/bokeh/release/bokeh-widgets-2.2.1.min.js\", \"https://cdn.bokeh.org/bokeh/release/bokeh-tables-2.2.1.min.js\"];\n",
       "  var css_urls = [];\n",
       "  \n",
       "\n",
       "  var inline_js = [\n",
       "    function(Bokeh) {\n",
       "      Bokeh.set_log_level(\"info\");\n",
       "    },\n",
       "    function(Bokeh) {\n",
       "    \n",
       "    \n",
       "    }\n",
       "  ];\n",
       "\n",
       "  function run_inline_js() {\n",
       "    \n",
       "    if (root.Bokeh !== undefined || force === true) {\n",
       "      \n",
       "    for (var i = 0; i < inline_js.length; i++) {\n",
       "      inline_js[i].call(root, root.Bokeh);\n",
       "    }\n",
       "    if (force === true) {\n",
       "        display_loaded();\n",
       "      }} else if (Date.now() < root._bokeh_timeout) {\n",
       "      setTimeout(run_inline_js, 100);\n",
       "    } else if (!root._bokeh_failed_load) {\n",
       "      console.log(\"Bokeh: BokehJS failed to load within specified timeout.\");\n",
       "      root._bokeh_failed_load = true;\n",
       "    } else if (force !== true) {\n",
       "      var cell = $(document.getElementById(\"2445\")).parents('.cell').data().cell;\n",
       "      cell.output_area.append_execute_result(NB_LOAD_WARNING)\n",
       "    }\n",
       "\n",
       "  }\n",
       "\n",
       "  if (root._bokeh_is_loading === 0) {\n",
       "    console.debug(\"Bokeh: BokehJS loaded, going straight to plotting\");\n",
       "    run_inline_js();\n",
       "  } else {\n",
       "    load_libs(css_urls, js_urls, function() {\n",
       "      console.debug(\"Bokeh: BokehJS plotting callback run at\", now());\n",
       "      run_inline_js();\n",
       "    });\n",
       "  }\n",
       "}(window));"
      ],
      "application/vnd.bokehjs_load.v0+json": "\n(function(root) {\n  function now() {\n    return new Date();\n  }\n\n  var force = true;\n\n  if (typeof root._bokeh_onload_callbacks === \"undefined\" || force === true) {\n    root._bokeh_onload_callbacks = [];\n    root._bokeh_is_loading = undefined;\n  }\n\n  \n\n  \n  if (typeof (root._bokeh_timeout) === \"undefined\" || force === true) {\n    root._bokeh_timeout = Date.now() + 5000;\n    root._bokeh_failed_load = false;\n  }\n\n  var NB_LOAD_WARNING = {'data': {'text/html':\n     \"<div style='background-color: #fdd'>\\n\"+\n     \"<p>\\n\"+\n     \"BokehJS does not appear to have successfully loaded. If loading BokehJS from CDN, this \\n\"+\n     \"may be due to a slow or bad network connection. Possible fixes:\\n\"+\n     \"</p>\\n\"+\n     \"<ul>\\n\"+\n     \"<li>re-rerun `output_notebook()` to attempt to load from CDN again, or</li>\\n\"+\n     \"<li>use INLINE resources instead, as so:</li>\\n\"+\n     \"</ul>\\n\"+\n     \"<code>\\n\"+\n     \"from bokeh.resources import INLINE\\n\"+\n     \"output_notebook(resources=INLINE)\\n\"+\n     \"</code>\\n\"+\n     \"</div>\"}};\n\n  function display_loaded() {\n    var el = document.getElementById(\"2445\");\n    if (el != null) {\n      el.textContent = \"BokehJS is loading...\";\n    }\n    if (root.Bokeh !== undefined) {\n      if (el != null) {\n        el.textContent = \"BokehJS \" + root.Bokeh.version + \" successfully loaded.\";\n      }\n    } else if (Date.now() < root._bokeh_timeout) {\n      setTimeout(display_loaded, 100)\n    }\n  }\n\n\n  function run_callbacks() {\n    try {\n      root._bokeh_onload_callbacks.forEach(function(callback) {\n        if (callback != null)\n          callback();\n      });\n    } finally {\n      delete root._bokeh_onload_callbacks\n    }\n    console.debug(\"Bokeh: all callbacks have finished\");\n  }\n\n  function load_libs(css_urls, js_urls, callback) {\n    if (css_urls == null) css_urls = [];\n    if (js_urls == null) js_urls = [];\n\n    root._bokeh_onload_callbacks.push(callback);\n    if (root._bokeh_is_loading > 0) {\n      console.debug(\"Bokeh: BokehJS is being loaded, scheduling callback at\", now());\n      return null;\n    }\n    if (js_urls == null || js_urls.length === 0) {\n      run_callbacks();\n      return null;\n    }\n    console.debug(\"Bokeh: BokehJS not loaded, scheduling load and callback at\", now());\n    root._bokeh_is_loading = css_urls.length + js_urls.length;\n\n    function on_load() {\n      root._bokeh_is_loading--;\n      if (root._bokeh_is_loading === 0) {\n        console.debug(\"Bokeh: all BokehJS libraries/stylesheets loaded\");\n        run_callbacks()\n      }\n    }\n\n    function on_error() {\n      console.error(\"failed to load \" + url);\n    }\n\n    for (var i = 0; i < css_urls.length; i++) {\n      var url = css_urls[i];\n      const element = document.createElement(\"link\");\n      element.onload = on_load;\n      element.onerror = on_error;\n      element.rel = \"stylesheet\";\n      element.type = \"text/css\";\n      element.href = url;\n      console.debug(\"Bokeh: injecting link tag for BokehJS stylesheet: \", url);\n      document.body.appendChild(element);\n    }\n\n    const hashes = {\"https://cdn.bokeh.org/bokeh/release/bokeh-2.2.1.min.js\": \"qkRvDQVAIfzsJo40iRBbxt6sttt0hv4lh74DG7OK4MCHv4C5oohXYoHUM5W11uqS\", \"https://cdn.bokeh.org/bokeh/release/bokeh-widgets-2.2.1.min.js\": \"Sb7Mr06a9TNlet/GEBeKaf5xH3eb6AlCzwjtU82wNPyDrnfoiVl26qnvlKjmcAd+\", \"https://cdn.bokeh.org/bokeh/release/bokeh-tables-2.2.1.min.js\": \"HaJ15vgfmcfRtB4c4YBOI4f1MUujukqInOWVqZJZZGK7Q+ivud0OKGSTn/Vm2iso\"};\n\n    for (var i = 0; i < js_urls.length; i++) {\n      var url = js_urls[i];\n      var element = document.createElement('script');\n      element.onload = on_load;\n      element.onerror = on_error;\n      element.async = false;\n      element.src = url;\n      if (url in hashes) {\n        element.crossOrigin = \"anonymous\";\n        element.integrity = \"sha384-\" + hashes[url];\n      }\n      console.debug(\"Bokeh: injecting script tag for BokehJS library: \", url);\n      document.head.appendChild(element);\n    }\n  };\n\n  function inject_raw_css(css) {\n    const element = document.createElement(\"style\");\n    element.appendChild(document.createTextNode(css));\n    document.body.appendChild(element);\n  }\n\n  \n  var js_urls = [\"https://cdn.bokeh.org/bokeh/release/bokeh-2.2.1.min.js\", \"https://cdn.bokeh.org/bokeh/release/bokeh-widgets-2.2.1.min.js\", \"https://cdn.bokeh.org/bokeh/release/bokeh-tables-2.2.1.min.js\"];\n  var css_urls = [];\n  \n\n  var inline_js = [\n    function(Bokeh) {\n      Bokeh.set_log_level(\"info\");\n    },\n    function(Bokeh) {\n    \n    \n    }\n  ];\n\n  function run_inline_js() {\n    \n    if (root.Bokeh !== undefined || force === true) {\n      \n    for (var i = 0; i < inline_js.length; i++) {\n      inline_js[i].call(root, root.Bokeh);\n    }\n    if (force === true) {\n        display_loaded();\n      }} else if (Date.now() < root._bokeh_timeout) {\n      setTimeout(run_inline_js, 100);\n    } else if (!root._bokeh_failed_load) {\n      console.log(\"Bokeh: BokehJS failed to load within specified timeout.\");\n      root._bokeh_failed_load = true;\n    } else if (force !== true) {\n      var cell = $(document.getElementById(\"2445\")).parents('.cell').data().cell;\n      cell.output_area.append_execute_result(NB_LOAD_WARNING)\n    }\n\n  }\n\n  if (root._bokeh_is_loading === 0) {\n    console.debug(\"Bokeh: BokehJS loaded, going straight to plotting\");\n    run_inline_js();\n  } else {\n    load_libs(css_urls, js_urls, function() {\n      console.debug(\"Bokeh: BokehJS plotting callback run at\", now());\n      run_inline_js();\n    });\n  }\n}(window));"
     },
     "metadata": {},
     "output_type": "display_data"
    },
    {
     "data": {
      "text/html": [
       "\n",
       "\n",
       "\n",
       "\n",
       "\n",
       "\n",
       "  <div class=\"bk-root\" id=\"b9d7e22f-51ab-440d-beee-18a025b4e96e\" data-root-id=\"2447\"></div>\n"
      ]
     },
     "metadata": {},
     "output_type": "display_data"
    },
    {
     "data": {
      "application/javascript": [
       "(function(root) {\n",
       "  function embed_document(root) {\n",
       "    \n",
       "  var docs_json = {\"8e741b4a-74e4-49f1-9e00-f56655d387ba\":{\"roots\":{\"references\":[{\"attributes\":{\"below\":[{\"id\":\"2456\"}],\"center\":[{\"id\":\"2459\"},{\"id\":\"2463\"}],\"left\":[{\"id\":\"2460\"}],\"outline_line_color\":null,\"plot_height\":200,\"plot_width\":800,\"renderers\":[{\"id\":\"2481\"},{\"id\":\"2486\"},{\"id\":\"2493\"}],\"title\":{\"id\":\"2586\"},\"toolbar\":{\"id\":\"2471\"},\"x_range\":{\"id\":\"2448\"},\"x_scale\":{\"id\":\"2452\"},\"y_range\":{\"id\":\"2450\"},\"y_scale\":{\"id\":\"2454\"}},\"id\":\"2447\",\"subtype\":\"Figure\",\"type\":\"Plot\"},{\"attributes\":{\"formatter\":{\"id\":\"2589\"},\"ticker\":{\"id\":\"2457\"},\"visible\":false},\"id\":\"2456\",\"type\":\"LinearAxis\"},{\"attributes\":{\"text\":{\"field\":\"node_id\"},\"text_color\":{\"value\":\"black\"},\"x\":{\"field\":\"x\"},\"y\":{\"field\":\"y\"}},\"id\":\"2491\",\"type\":\"Text\"},{\"attributes\":{},\"id\":\"2468\",\"type\":\"ResetTool\"},{\"attributes\":{\"line_alpha\":{\"value\":0.4},\"line_color\":{\"value\":\"#151515\"},\"x0\":{\"field\":\"x\"},\"x1\":{\"field\":\"x0\"},\"y0\":{\"field\":\"y\"},\"y1\":{\"field\":\"y0\"}},\"id\":\"2484\",\"type\":\"Segment\"},{\"attributes\":{\"bottom_units\":\"screen\",\"fill_alpha\":0.5,\"fill_color\":\"lightgrey\",\"left_units\":\"screen\",\"level\":\"overlay\",\"line_alpha\":1.0,\"line_color\":\"black\",\"line_dash\":[4,4],\"line_width\":2,\"right_units\":\"screen\",\"top_units\":\"screen\"},\"id\":\"2470\",\"type\":\"BoxAnnotation\"},{\"attributes\":{},\"id\":\"2467\",\"type\":\"SaveTool\"},{\"attributes\":{\"data\":{\"bin_partition\":[\"[0 3]\",\"254\",\"254\"],\"bin_partition_end\":[2,0,0],\"bin_partition_start\":[0,0,0],\"bin_threshold\":[3,254,254],\"depth\":[0,1,1],\"end_train\":[64,64,28],\"end_valid\":[36,36,12],\"feature\":[1,18446744073709551614,18446744073709551614],\"impurity\":{\"__ndarray__\":\"AAAAAAAA8H8AAAAAAAAAAAAAAAAAAAAA\",\"dtype\":\"float64\",\"order\":\"little\",\"shape\":[3]},\"index\":[0,1,2],\"is_leaf\":[false,true,true],\"is_left\":[true,true,false],\"is_split_categorical\":[true,false,false],\"left_child\":[2,-1,-1],\"log_weight_tree\":{\"__ndarray__\":\"AAAAAAAA+H8AAAAAAAD4fwAAAAAAAPh/\",\"dtype\":\"float64\",\"order\":\"little\",\"shape\":[3]},\"loss_valid\":{\"__ndarray__\":\"AAAAwDYvekAAAAAAAAAAAAAAAAAAAAAA\",\"dtype\":\"float64\",\"order\":\"little\",\"shape\":[3]},\"n_samples_train\":[64,36,28],\"n_samples_valid\":[36,24,12],\"node_id\":[0,1,2],\"parent\":[18446744073709551614,0,0],\"right_child\":[1,-1,-1],\"start_train\":[0,28,0],\"start_valid\":[0,12,0],\"threshold\":{\"__ndarray__\":\"AAAAoEfh2j8AAAAAAAAAwAAAAAAAAADA\",\"dtype\":\"float64\",\"order\":\"little\",\"shape\":[3]},\"w_samples_train\":{\"__ndarray__\":\"AAAAAAAAWUAAAAAAAABNQAAAAAAAAEVA\",\"dtype\":\"float64\",\"order\":\"little\",\"shape\":[3]},\"w_samples_valid\":{\"__ndarray__\":\"AAAAAAAAQkAAAAAAAAA4QAAAAAAAAChA\",\"dtype\":\"float64\",\"order\":\"little\",\"shape\":[3]},\"x\":{\"__ndarray__\":\"AAAAAAAA4D8AAAAAAADoPwAAAAAAANA/\",\"dtype\":\"float64\",\"order\":\"little\",\"shape\":[3]},\"x0\":{\"__ndarray__\":\"AAAAAAAA4D8AAAAAAADgPwAAAAAAAOA/\",\"dtype\":\"float64\",\"order\":\"little\",\"shape\":[3]},\"y\":[1,0,0],\"y0\":[1,1,1],\"y_pred\":[\"[0.58 0.42]\",\"[1. 0.]\",\"[0. 1.]\"]},\"selected\":{\"id\":\"2592\"},\"selection_policy\":{\"id\":\"2593\"}},\"id\":\"2446\",\"type\":\"ColumnDataSource\"},{\"attributes\":{\"source\":{\"id\":\"2446\"}},\"id\":\"2494\",\"type\":\"CDSView\"},{\"attributes\":{\"formatter\":{\"id\":\"2587\"},\"ticker\":{\"id\":\"2461\"},\"visible\":false},\"id\":\"2460\",\"type\":\"LinearAxis\"},{\"attributes\":{\"line_alpha\":{\"value\":0.1},\"line_color\":{\"value\":\"#151515\"},\"x0\":{\"field\":\"x\"},\"x1\":{\"field\":\"x0\"},\"y0\":{\"field\":\"y\"},\"y1\":{\"field\":\"y0\"}},\"id\":\"2485\",\"type\":\"Segment\"},{\"attributes\":{\"active_drag\":\"auto\",\"active_inspect\":\"auto\",\"active_multi\":null,\"active_scroll\":\"auto\",\"active_tap\":\"auto\",\"tools\":[{\"id\":\"2464\"},{\"id\":\"2465\"},{\"id\":\"2466\"},{\"id\":\"2467\"},{\"id\":\"2468\"},{\"id\":\"2469\"},{\"id\":\"2488\"}]},\"id\":\"2471\",\"type\":\"Toolbar\"},{\"attributes\":{\"data_source\":{\"id\":\"2446\"},\"glyph\":{\"id\":\"2491\"},\"hover_glyph\":null,\"muted_glyph\":null,\"nonselection_glyph\":{\"id\":\"2492\"},\"selection_glyph\":null,\"view\":{\"id\":\"2494\"}},\"id\":\"2493\",\"type\":\"GlyphRenderer\"},{\"attributes\":{},\"id\":\"2464\",\"type\":\"PanTool\"},{\"attributes\":{},\"id\":\"2461\",\"type\":\"BasicTicker\"},{\"attributes\":{\"callback\":null,\"renderers\":[{\"id\":\"2481\"}],\"tooltips\":[[\"feature\",\"@feature\"],[\"bin_threshold\",\"@bin_threshold\"],[\"bin_partition\",\"@bin_partition\"],[\"y_pred\",\"@y_pred\"],[\"is_split_categorical\",\"@is_split_categorical\"]]},\"id\":\"2488\",\"type\":\"HoverTool\"},{\"attributes\":{\"source\":{\"id\":\"2446\"}},\"id\":\"2487\",\"type\":\"CDSView\"},{\"attributes\":{},\"id\":\"2452\",\"type\":\"LinearScale\"},{\"attributes\":{\"text\":\"\"},\"id\":\"2586\",\"type\":\"Title\"},{\"attributes\":{},\"id\":\"2593\",\"type\":\"UnionRenderers\"},{\"attributes\":{\"data_source\":{\"id\":\"2446\"},\"glyph\":{\"id\":\"2484\"},\"hover_glyph\":null,\"muted_glyph\":null,\"nonselection_glyph\":{\"id\":\"2485\"},\"selection_glyph\":null,\"view\":{\"id\":\"2487\"}},\"id\":\"2486\",\"type\":\"GlyphRenderer\"},{\"attributes\":{},\"id\":\"2454\",\"type\":\"LinearScale\"},{\"attributes\":{},\"id\":\"2592\",\"type\":\"Selection\"},{\"attributes\":{},\"id\":\"2465\",\"type\":\"WheelZoomTool\"},{\"attributes\":{\"fill_alpha\":{\"value\":0.1},\"fill_color\":{\"value\":\"#1f77b4\"},\"line_alpha\":{\"value\":0.1},\"line_color\":{\"value\":\"#1f77b4\"},\"size\":{\"units\":\"screen\",\"value\":10},\"x\":{\"field\":\"x\"},\"y\":{\"field\":\"y\"}},\"id\":\"2480\",\"type\":\"Circle\"},{\"attributes\":{},\"id\":\"2587\",\"type\":\"BasicTickFormatter\"},{\"attributes\":{},\"id\":\"2457\",\"type\":\"BasicTicker\"},{\"attributes\":{\"data_source\":{\"id\":\"2446\"},\"glyph\":{\"id\":\"2479\"},\"hover_glyph\":null,\"muted_glyph\":null,\"name\":\"circles\",\"nonselection_glyph\":{\"id\":\"2480\"},\"selection_glyph\":null,\"view\":{\"id\":\"2482\"}},\"id\":\"2481\",\"type\":\"GlyphRenderer\"},{\"attributes\":{\"axis\":{\"id\":\"2456\"},\"ticker\":null,\"visible\":false},\"id\":\"2459\",\"type\":\"Grid\"},{\"attributes\":{\"overlay\":{\"id\":\"2470\"}},\"id\":\"2466\",\"type\":\"BoxZoomTool\"},{\"attributes\":{},\"id\":\"2589\",\"type\":\"BasicTickFormatter\"},{\"attributes\":{\"end\":1.1,\"start\":-0.1},\"id\":\"2448\",\"type\":\"Range1d\"},{\"attributes\":{\"axis\":{\"id\":\"2460\"},\"dimension\":1,\"ticker\":null,\"visible\":false},\"id\":\"2463\",\"type\":\"Grid\"},{\"attributes\":{\"source\":{\"id\":\"2446\"}},\"id\":\"2482\",\"type\":\"CDSView\"},{\"attributes\":{\"fill_alpha\":{\"value\":0.4},\"fill_color\":{\"value\":\"#1f77b4\"},\"line_color\":{\"value\":\"#1f77b4\"},\"size\":{\"units\":\"screen\",\"value\":10},\"x\":{\"field\":\"x\"},\"y\":{\"field\":\"y\"}},\"id\":\"2479\",\"type\":\"Circle\"},{\"attributes\":{},\"id\":\"2469\",\"type\":\"HelpTool\"},{\"attributes\":{\"end\":11},\"id\":\"2450\",\"type\":\"Range1d\"},{\"attributes\":{\"text\":{\"field\":\"node_id\"},\"text_alpha\":{\"value\":0.1},\"text_color\":{\"value\":\"black\"},\"x\":{\"field\":\"x\"},\"y\":{\"field\":\"y\"}},\"id\":\"2492\",\"type\":\"Text\"}],\"root_ids\":[\"2447\"]},\"title\":\"Bokeh Application\",\"version\":\"2.2.1\"}};\n",
       "  var render_items = [{\"docid\":\"8e741b4a-74e4-49f1-9e00-f56655d387ba\",\"root_ids\":[\"2447\"],\"roots\":{\"2447\":\"b9d7e22f-51ab-440d-beee-18a025b4e96e\"}}];\n",
       "  root.Bokeh.embed.embed_items_notebook(docs_json, render_items);\n",
       "\n",
       "  }\n",
       "  if (root.Bokeh !== undefined) {\n",
       "    embed_document(root);\n",
       "  } else {\n",
       "    var attempts = 0;\n",
       "    var timer = setInterval(function(root) {\n",
       "      if (root.Bokeh !== undefined) {\n",
       "        clearInterval(timer);\n",
       "        embed_document(root);\n",
       "      } else {\n",
       "        attempts++;\n",
       "        if (attempts > 100) {\n",
       "          clearInterval(timer);\n",
       "          console.log(\"Bokeh: ERROR: Unable to run BokehJS code because BokehJS library is missing\");\n",
       "        }\n",
       "      }\n",
       "    }, 10, root)\n",
       "  }\n",
       "})(window);"
      ],
      "application/vnd.bokehjs_exec.v0+json": ""
     },
     "metadata": {
      "application/vnd.bokehjs_exec.v0+json": {
       "id": "2447"
      }
     },
     "output_type": "display_data"
    }
   ],
   "source": [
    "from bokeh.plotting import output_notebook, show\n",
    "from wildwood import ForestClassifier\n",
    "from wildwood.plot import plot_tree\n",
    "\n",
    "output_notebook()\n",
    "\n",
    "clf = ForestClassifier(\n",
    "    n_estimators=1,\n",
    "    random_state=42,\n",
    "    categorical_features=[True, True],\n",
    "    dirichlet=0., \n",
    "    aggregation=False\n",
    ")\n",
    "clf.fit(X, y)\n",
    "fig = plot_tree(clf, height=200, attributes=attributes)\n",
    "show(fig)"
   ]
  },
  {
   "cell_type": "code",
   "execution_count": 28,
   "metadata": {
    "ExecuteTime": {
     "end_time": "2021-04-19T09:52:28.242672Z",
     "start_time": "2021-04-19T09:52:28.237435Z"
    }
   },
   "outputs": [
    {
     "data": {
      "text/plain": [
       "array([[1., 0.]])"
      ]
     },
     "execution_count": 28,
     "metadata": {},
     "output_type": "execute_result"
    }
   ],
   "source": [
    "clf.predict_proba(np.array([0, 1]).reshape(1, 2))"
   ]
  },
  {
   "cell_type": "code",
   "execution_count": 29,
   "metadata": {
    "ExecuteTime": {
     "end_time": "2021-04-19T09:52:37.339235Z",
     "start_time": "2021-04-19T09:52:37.328088Z"
    }
   },
   "outputs": [
    {
     "data": {
      "text/html": [
       "<div>\n",
       "<style scoped>\n",
       "    .dataframe tbody tr th:only-of-type {\n",
       "        vertical-align: middle;\n",
       "    }\n",
       "\n",
       "    .dataframe tbody tr th {\n",
       "        vertical-align: top;\n",
       "    }\n",
       "\n",
       "    .dataframe thead th {\n",
       "        text-align: right;\n",
       "    }\n",
       "</style>\n",
       "<table border=\"1\" class=\"dataframe\">\n",
       "  <thead>\n",
       "    <tr style=\"text-align: right;\">\n",
       "      <th></th>\n",
       "      <th>depth</th>\n",
       "      <th>feature</th>\n",
       "      <th>bin_partition</th>\n",
       "      <th>bin_threshold</th>\n",
       "      <th>decision</th>\n",
       "      <th>is_split_categorical</th>\n",
       "    </tr>\n",
       "  </thead>\n",
       "  <tbody>\n",
       "    <tr>\n",
       "      <th>0</th>\n",
       "      <td>0</td>\n",
       "      <td>1</td>\n",
       "      <td>[0 3]</td>\n",
       "      <td>None</td>\n",
       "      <td>right: 1 not in [0 3]</td>\n",
       "      <td>True</td>\n",
       "    </tr>\n",
       "  </tbody>\n",
       "</table>\n",
       "</div>"
      ],
      "text/plain": [
       "   depth  feature bin_partition bin_threshold               decision  \\\n",
       "0      0        1         [0 3]          None  right: 1 not in [0 3]   \n",
       "\n",
       "   is_split_categorical  \n",
       "0                  True  "
      ]
     },
     "execution_count": 29,
     "metadata": {},
     "output_type": "execute_result"
    }
   ],
   "source": [
    "clf.path_leaf(np.array([0, 1]).reshape(1, 2))[0]"
   ]
  },
  {
   "cell_type": "code",
   "execution_count": 33,
   "metadata": {
    "ExecuteTime": {
     "end_time": "2021-04-19T09:53:17.955307Z",
     "start_time": "2021-04-19T09:53:17.869154Z"
    }
   },
   "outputs": [
    {
     "data": {
      "text/html": [
       "\n",
       "\n",
       "\n",
       "\n",
       "\n",
       "\n",
       "  <div class=\"bk-root\" id=\"364371db-a559-47aa-a0f5-8f4752904da6\" data-root-id=\"2640\"></div>\n"
      ]
     },
     "metadata": {},
     "output_type": "display_data"
    },
    {
     "data": {
      "application/javascript": [
       "(function(root) {\n",
       "  function embed_document(root) {\n",
       "    \n",
       "  var docs_json = {\"013be6ba-9c12-4413-b618-befe8afedfb9\":{\"roots\":{\"references\":[{\"attributes\":{\"below\":[{\"id\":\"2649\"}],\"center\":[{\"id\":\"2652\"},{\"id\":\"2656\"}],\"left\":[{\"id\":\"2653\"}],\"outline_line_color\":null,\"plot_height\":300,\"plot_width\":800,\"renderers\":[{\"id\":\"2674\"},{\"id\":\"2679\"},{\"id\":\"2686\"}],\"title\":{\"id\":\"2788\"},\"toolbar\":{\"id\":\"2664\"},\"x_range\":{\"id\":\"2641\"},\"x_scale\":{\"id\":\"2645\"},\"y_range\":{\"id\":\"2643\"},\"y_scale\":{\"id\":\"2647\"}},\"id\":\"2640\",\"subtype\":\"Figure\",\"type\":\"Plot\"},{\"attributes\":{},\"id\":\"2660\",\"type\":\"SaveTool\"},{\"attributes\":{\"source\":{\"id\":\"2639\"}},\"id\":\"2687\",\"type\":\"CDSView\"},{\"attributes\":{},\"id\":\"2662\",\"type\":\"HelpTool\"},{\"attributes\":{\"data\":{\"bin_partition\":[\"0\",\"2\",\"254\",\"254\",\"254\"],\"bin_partition_end\":[0,0,0,0,0],\"bin_partition_start\":[0,0,0,0,0],\"bin_threshold\":[0,2,254,254,254],\"depth\":[0,1,1,2,2],\"end_train\":[64,64,14,64,38],\"end_valid\":[36,36,6,36,22],\"feature\":[1,1,18446744073709551614,18446744073709551614,18446744073709551614],\"impurity\":{\"__ndarray__\":\"AAAAAAAA8H8AAADAHoXZPwAAAAAAAAAAAAAAgGzt3z8AAAAAAAAAAA==\",\"dtype\":\"float64\",\"order\":\"little\",\"shape\":[5]},\"index\":[0,1,4,2,3],\"is_leaf\":[false,false,true,true,true],\"is_left\":[true,true,false,false,false],\"is_split_categorical\":[false,false,false,false,false],\"left_child\":[4,3,-1,-1,-1],\"log_weight_tree\":{\"__ndarray__\":\"AAAAAAAA+H8AAAAAAAD4fwAAAAAAAPh/AAAAAAAA+H8AAAAAAAD4fw==\",\"dtype\":\"float64\",\"order\":\"little\",\"shape\":[5]},\"loss_valid\":{\"__ndarray__\":\"AAAAwDYvekAAAADgTG9wQAAAAAAAAAAAAAAA4Lj5UkAAAAAAAAAAAA==\",\"dtype\":\"float64\",\"order\":\"little\",\"shape\":[5]},\"n_samples_train\":[64,50,14,26,24],\"n_samples_valid\":[36,30,6,14,16],\"node_id\":[0,1,4,2,3],\"parent\":[18446744073709551614,0,0,1,1],\"right_child\":[1,2,-1,-1,-1],\"start_train\":[0,14,0,38,14],\"start_valid\":[0,6,0,22,6],\"threshold\":{\"__ndarray__\":\"AAAAoEfh2j8AAACgR+HaPwAAAAAAAADAAAAAAAAAAMAAAAAAAAAAwA==\",\"dtype\":\"float64\",\"order\":\"little\",\"shape\":[5]},\"w_samples_train\":{\"__ndarray__\":\"AAAAAAAAWUAAAAAAAABUQAAAAAAAADRAAAAAAAAARUAAAAAAAABDQA==\",\"dtype\":\"float64\",\"order\":\"little\",\"shape\":[5]},\"w_samples_valid\":{\"__ndarray__\":\"AAAAAAAAQkAAAAAAAAA+QAAAAAAAABhAAAAAAAAALEAAAAAAAAAwQA==\",\"dtype\":\"float64\",\"order\":\"little\",\"shape\":[5]},\"x\":{\"__ndarray__\":\"AAAAAAAA4D8AAAAAAADoPwAAAAAAANA/AAAAAAAA7D8AAAAAAADkPw==\",\"dtype\":\"float64\",\"order\":\"little\",\"shape\":[5]},\"x0\":{\"__ndarray__\":\"AAAAAAAA4D8AAAAAAADgPwAAAAAAAOA/AAAAAAAA6D8AAAAAAADoPw==\",\"dtype\":\"float64\",\"order\":\"little\",\"shape\":[5]},\"y\":[2,1,1,0,0],\"y0\":[2,2,2,1,1],\"y_pred\":[\"[0.58 0.42]\",\"[0.73 0.28]\",\"[0. 1.]\",\"[0.48 0.52]\",\"[1. 0.]\"]},\"selected\":{\"id\":\"2794\"},\"selection_policy\":{\"id\":\"2795\"}},\"id\":\"2639\",\"type\":\"ColumnDataSource\"},{\"attributes\":{\"axis\":{\"id\":\"2649\"},\"ticker\":null,\"visible\":false},\"id\":\"2652\",\"type\":\"Grid\"},{\"attributes\":{\"fill_alpha\":{\"value\":0.1},\"fill_color\":{\"value\":\"#1f77b4\"},\"line_alpha\":{\"value\":0.1},\"line_color\":{\"value\":\"#1f77b4\"},\"size\":{\"units\":\"screen\",\"value\":10},\"x\":{\"field\":\"x\"},\"y\":{\"field\":\"y\"}},\"id\":\"2673\",\"type\":\"Circle\"},{\"attributes\":{\"data_source\":{\"id\":\"2639\"},\"glyph\":{\"id\":\"2677\"},\"hover_glyph\":null,\"muted_glyph\":null,\"nonselection_glyph\":{\"id\":\"2678\"},\"selection_glyph\":null,\"view\":{\"id\":\"2680\"}},\"id\":\"2679\",\"type\":\"GlyphRenderer\"},{\"attributes\":{\"text\":\"\"},\"id\":\"2788\",\"type\":\"Title\"},{\"attributes\":{},\"id\":\"2654\",\"type\":\"BasicTicker\"},{\"attributes\":{\"source\":{\"id\":\"2639\"}},\"id\":\"2680\",\"type\":\"CDSView\"},{\"attributes\":{},\"id\":\"2650\",\"type\":\"BasicTicker\"},{\"attributes\":{\"data_source\":{\"id\":\"2639\"},\"glyph\":{\"id\":\"2672\"},\"hover_glyph\":null,\"muted_glyph\":null,\"name\":\"circles\",\"nonselection_glyph\":{\"id\":\"2673\"},\"selection_glyph\":null,\"view\":{\"id\":\"2675\"}},\"id\":\"2674\",\"type\":\"GlyphRenderer\"},{\"attributes\":{},\"id\":\"2657\",\"type\":\"PanTool\"},{\"attributes\":{},\"id\":\"2661\",\"type\":\"ResetTool\"},{\"attributes\":{},\"id\":\"2789\",\"type\":\"BasicTickFormatter\"},{\"attributes\":{\"axis\":{\"id\":\"2653\"},\"dimension\":1,\"ticker\":null,\"visible\":false},\"id\":\"2656\",\"type\":\"Grid\"},{\"attributes\":{\"fill_alpha\":{\"value\":0.4},\"fill_color\":{\"value\":\"#1f77b4\"},\"line_color\":{\"value\":\"#1f77b4\"},\"size\":{\"units\":\"screen\",\"value\":10},\"x\":{\"field\":\"x\"},\"y\":{\"field\":\"y\"}},\"id\":\"2672\",\"type\":\"Circle\"},{\"attributes\":{\"formatter\":{\"id\":\"2791\"},\"ticker\":{\"id\":\"2650\"},\"visible\":false},\"id\":\"2649\",\"type\":\"LinearAxis\"},{\"attributes\":{\"data_source\":{\"id\":\"2639\"},\"glyph\":{\"id\":\"2684\"},\"hover_glyph\":null,\"muted_glyph\":null,\"nonselection_glyph\":{\"id\":\"2685\"},\"selection_glyph\":null,\"view\":{\"id\":\"2687\"}},\"id\":\"2686\",\"type\":\"GlyphRenderer\"},{\"attributes\":{\"line_alpha\":{\"value\":0.1},\"line_color\":{\"value\":\"#151515\"},\"x0\":{\"field\":\"x\"},\"x1\":{\"field\":\"x0\"},\"y0\":{\"field\":\"y\"},\"y1\":{\"field\":\"y0\"}},\"id\":\"2678\",\"type\":\"Segment\"},{\"attributes\":{},\"id\":\"2795\",\"type\":\"UnionRenderers\"},{\"attributes\":{\"active_drag\":\"auto\",\"active_inspect\":\"auto\",\"active_multi\":null,\"active_scroll\":\"auto\",\"active_tap\":\"auto\",\"tools\":[{\"id\":\"2657\"},{\"id\":\"2658\"},{\"id\":\"2659\"},{\"id\":\"2660\"},{\"id\":\"2661\"},{\"id\":\"2662\"},{\"id\":\"2681\"}]},\"id\":\"2664\",\"type\":\"Toolbar\"},{\"attributes\":{},\"id\":\"2658\",\"type\":\"WheelZoomTool\"},{\"attributes\":{\"source\":{\"id\":\"2639\"}},\"id\":\"2675\",\"type\":\"CDSView\"},{\"attributes\":{\"end\":1.1,\"start\":-0.1},\"id\":\"2641\",\"type\":\"Range1d\"},{\"attributes\":{\"formatter\":{\"id\":\"2789\"},\"ticker\":{\"id\":\"2654\"},\"visible\":false},\"id\":\"2653\",\"type\":\"LinearAxis\"},{\"attributes\":{\"text\":{\"field\":\"node_id\"},\"text_color\":{\"value\":\"black\"},\"x\":{\"field\":\"x\"},\"y\":{\"field\":\"y\"}},\"id\":\"2684\",\"type\":\"Text\"},{\"attributes\":{\"line_alpha\":{\"value\":0.4},\"line_color\":{\"value\":\"#151515\"},\"x0\":{\"field\":\"x\"},\"x1\":{\"field\":\"x0\"},\"y0\":{\"field\":\"y\"},\"y1\":{\"field\":\"y0\"}},\"id\":\"2677\",\"type\":\"Segment\"},{\"attributes\":{},\"id\":\"2645\",\"type\":\"LinearScale\"},{\"attributes\":{},\"id\":\"2794\",\"type\":\"Selection\"},{\"attributes\":{},\"id\":\"2647\",\"type\":\"LinearScale\"},{\"attributes\":{\"bottom_units\":\"screen\",\"fill_alpha\":0.5,\"fill_color\":\"lightgrey\",\"left_units\":\"screen\",\"level\":\"overlay\",\"line_alpha\":1.0,\"line_color\":\"black\",\"line_dash\":[4,4],\"line_width\":2,\"right_units\":\"screen\",\"top_units\":\"screen\"},\"id\":\"2663\",\"type\":\"BoxAnnotation\"},{\"attributes\":{\"overlay\":{\"id\":\"2663\"}},\"id\":\"2659\",\"type\":\"BoxZoomTool\"},{\"attributes\":{},\"id\":\"2791\",\"type\":\"BasicTickFormatter\"},{\"attributes\":{\"callback\":null,\"renderers\":[{\"id\":\"2674\"}],\"tooltips\":[[\"feature\",\"@feature\"],[\"bin_threshold\",\"@bin_threshold\"],[\"bin_partition\",\"@bin_partition\"],[\"y_pred\",\"@y_pred\"],[\"is_split_categorical\",\"@is_split_categorical\"]]},\"id\":\"2681\",\"type\":\"HoverTool\"},{\"attributes\":{\"end\":11},\"id\":\"2643\",\"type\":\"Range1d\"},{\"attributes\":{\"text\":{\"field\":\"node_id\"},\"text_alpha\":{\"value\":0.1},\"text_color\":{\"value\":\"black\"},\"x\":{\"field\":\"x\"},\"y\":{\"field\":\"y\"}},\"id\":\"2685\",\"type\":\"Text\"}],\"root_ids\":[\"2640\"]},\"title\":\"Bokeh Application\",\"version\":\"2.2.1\"}};\n",
       "  var render_items = [{\"docid\":\"013be6ba-9c12-4413-b618-befe8afedfb9\",\"root_ids\":[\"2640\"],\"roots\":{\"2640\":\"364371db-a559-47aa-a0f5-8f4752904da6\"}}];\n",
       "  root.Bokeh.embed.embed_items_notebook(docs_json, render_items);\n",
       "\n",
       "  }\n",
       "  if (root.Bokeh !== undefined) {\n",
       "    embed_document(root);\n",
       "  } else {\n",
       "    var attempts = 0;\n",
       "    var timer = setInterval(function(root) {\n",
       "      if (root.Bokeh !== undefined) {\n",
       "        clearInterval(timer);\n",
       "        embed_document(root);\n",
       "      } else {\n",
       "        attempts++;\n",
       "        if (attempts > 100) {\n",
       "          clearInterval(timer);\n",
       "          console.log(\"Bokeh: ERROR: Unable to run BokehJS code because BokehJS library is missing\");\n",
       "        }\n",
       "      }\n",
       "    }, 10, root)\n",
       "  }\n",
       "})(window);"
      ],
      "application/vnd.bokehjs_exec.v0+json": ""
     },
     "metadata": {
      "application/vnd.bokehjs_exec.v0+json": {
       "id": "2640"
      }
     },
     "output_type": "display_data"
    }
   ],
   "source": [
    "clf = ForestClassifier(\n",
    "    n_estimators=1,\n",
    "    random_state=42,\n",
    "    categorical_features=None,\n",
    "    dirichlet=0.,\n",
    "    aggregation=False\n",
    ")\n",
    "clf.fit(X, y)\n",
    "fig = plot_tree(clf, height=300, attributes=attributes)\n",
    "show(fig)"
   ]
  },
  {
   "cell_type": "code",
   "execution_count": 34,
   "metadata": {
    "ExecuteTime": {
     "end_time": "2021-04-19T09:53:30.574494Z",
     "start_time": "2021-04-19T09:53:30.480966Z"
    }
   },
   "outputs": [
    {
     "data": {
      "text/html": [
       "\n",
       "\n",
       "\n",
       "\n",
       "\n",
       "\n",
       "  <div class=\"bk-root\" id=\"cdba26d5-bca8-4db8-aa18-b6b850400739\" data-root-id=\"2842\"></div>\n"
      ]
     },
     "metadata": {},
     "output_type": "display_data"
    },
    {
     "data": {
      "application/javascript": [
       "(function(root) {\n",
       "  function embed_document(root) {\n",
       "    \n",
       "  var docs_json = {\"6c91aa50-208e-4e7e-9a81-ac30e006289e\":{\"roots\":{\"references\":[{\"attributes\":{\"below\":[{\"id\":\"2851\"}],\"center\":[{\"id\":\"2854\"},{\"id\":\"2858\"}],\"left\":[{\"id\":\"2855\"}],\"outline_line_color\":null,\"plot_height\":300,\"plot_width\":800,\"renderers\":[{\"id\":\"2876\"},{\"id\":\"2881\"},{\"id\":\"2888\"}],\"title\":{\"id\":\"2999\"},\"toolbar\":{\"id\":\"2866\"},\"x_range\":{\"id\":\"2843\"},\"x_scale\":{\"id\":\"2847\"},\"y_range\":{\"id\":\"2845\"},\"y_scale\":{\"id\":\"2849\"}},\"id\":\"2842\",\"subtype\":\"Figure\",\"type\":\"Plot\"},{\"attributes\":{},\"id\":\"2849\",\"type\":\"LinearScale\"},{\"attributes\":{},\"id\":\"3006\",\"type\":\"UnionRenderers\"},{\"attributes\":{\"formatter\":{\"id\":\"3000\"},\"ticker\":{\"id\":\"2856\"},\"visible\":false},\"id\":\"2855\",\"type\":\"LinearAxis\"},{\"attributes\":{},\"id\":\"2860\",\"type\":\"WheelZoomTool\"},{\"attributes\":{},\"id\":\"2856\",\"type\":\"BasicTicker\"},{\"attributes\":{\"fill_alpha\":{\"value\":0.1},\"fill_color\":{\"value\":\"#1f77b4\"},\"line_alpha\":{\"value\":0.1},\"line_color\":{\"value\":\"#1f77b4\"},\"size\":{\"units\":\"screen\",\"value\":10},\"x\":{\"field\":\"x\"},\"y\":{\"field\":\"y\"}},\"id\":\"2875\",\"type\":\"Circle\"},{\"attributes\":{\"end\":11},\"id\":\"2845\",\"type\":\"Range1d\"},{\"attributes\":{\"callback\":null,\"renderers\":[{\"id\":\"2876\"}],\"tooltips\":[[\"feature\",\"@feature\"],[\"bin_threshold\",\"@bin_threshold\"],[\"bin_partition\",\"@bin_partition\"],[\"y_pred\",\"@y_pred\"],[\"is_split_categorical\",\"@is_split_categorical\"]]},\"id\":\"2883\",\"type\":\"HoverTool\"},{\"attributes\":{\"text\":{\"field\":\"node_id\"},\"text_color\":{\"value\":\"black\"},\"x\":{\"field\":\"x\"},\"y\":{\"field\":\"y\"}},\"id\":\"2886\",\"type\":\"Text\"},{\"attributes\":{\"text\":\"\"},\"id\":\"2999\",\"type\":\"Title\"},{\"attributes\":{\"data\":{\"bin_partition\":[\"0\",\"254\",\"0\",\"254\",\"254\"],\"bin_partition_end\":[0,0,0,0,0],\"bin_partition_start\":[0,0,0,0,0],\"bin_threshold\":[0,254,0,254,254],\"depth\":[0,1,1,2,2],\"end_train\":[64,64,50,50,36],\"end_valid\":[36,36,30,30,24],\"feature\":[5,18446744073709551614,2,18446744073709551614,18446744073709551614],\"impurity\":{\"__ndarray__\":\"AAAAAAAA8H8AAAAAAAAAAAAAAMCtZ9g/AAAAAAAAAAAAAAAAAAAAAA==\",\"dtype\":\"float64\",\"order\":\"little\",\"shape\":[5]},\"index\":[0,1,2,3,4],\"is_leaf\":[false,true,false,true,true],\"is_left\":[true,true,true,false,true],\"is_split_categorical\":[false,false,false,false,false],\"left_child\":[2,-1,4,-1,-1],\"log_weight_tree\":{\"__ndarray__\":\"AAAAAAAA+H8AAAAAAAD4fwAAAAAAAPh/AAAAAAAA+H8AAAAAAAD4fw==\",\"dtype\":\"float64\",\"order\":\"little\",\"shape\":[5]},\"loss_valid\":{\"__ndarray__\":\"AAAAwDYvekAAAAAAAAAAAAAAAKDrA2RAAAAAAAAAAAAAAAAAAAAAAA==\",\"dtype\":\"float64\",\"order\":\"little\",\"shape\":[5]},\"n_samples_train\":[64,14,50,14,36],\"n_samples_valid\":[36,6,30,6,24],\"node_id\":[0,1,2,3,4],\"parent\":[18446744073709551614,0,0,2,2],\"right_child\":[1,-1,3,-1,-1],\"start_train\":[0,50,0,36,0],\"start_valid\":[0,30,0,24,0],\"threshold\":{\"__ndarray__\":\"AAAAoEfh2j8AAAAAAAAAwAAAAKBH4do/AAAAAAAAAMAAAAAAAAAAwA==\",\"dtype\":\"float64\",\"order\":\"little\",\"shape\":[5]},\"w_samples_train\":{\"__ndarray__\":\"AAAAAAAAWUAAAAAAAAA2QAAAAAAAgFNAAAAAAAAANEAAAAAAAABNQA==\",\"dtype\":\"float64\",\"order\":\"little\",\"shape\":[5]},\"w_samples_valid\":{\"__ndarray__\":\"AAAAAAAAQkAAAAAAAAAYQAAAAAAAAD5AAAAAAAAAGEAAAAAAAAA4QA==\",\"dtype\":\"float64\",\"order\":\"little\",\"shape\":[5]},\"x\":{\"__ndarray__\":\"AAAAAAAA4D8AAAAAAADoPwAAAAAAANA/AAAAAAAA2D8AAAAAAADAPw==\",\"dtype\":\"float64\",\"order\":\"little\",\"shape\":[5]},\"x0\":{\"__ndarray__\":\"AAAAAAAA4D8AAAAAAADgPwAAAAAAAOA/AAAAAAAA0D8AAAAAAADQPw==\",\"dtype\":\"float64\",\"order\":\"little\",\"shape\":[5]},\"y\":[2,1,1,0,0],\"y0\":[2,2,2,1,1],\"y_pred\":[\"[0.58 0.42]\",\"[0. 1.]\",\"[0.74 0.26]\",\"[0. 1.]\",\"[1. 0.]\"]},\"selected\":{\"id\":\"3005\"},\"selection_policy\":{\"id\":\"3006\"}},\"id\":\"2841\",\"type\":\"ColumnDataSource\"},{\"attributes\":{\"fill_alpha\":{\"value\":0.4},\"fill_color\":{\"value\":\"#1f77b4\"},\"line_color\":{\"value\":\"#1f77b4\"},\"size\":{\"units\":\"screen\",\"value\":10},\"x\":{\"field\":\"x\"},\"y\":{\"field\":\"y\"}},\"id\":\"2874\",\"type\":\"Circle\"},{\"attributes\":{\"data_source\":{\"id\":\"2841\"},\"glyph\":{\"id\":\"2886\"},\"hover_glyph\":null,\"muted_glyph\":null,\"nonselection_glyph\":{\"id\":\"2887\"},\"selection_glyph\":null,\"view\":{\"id\":\"2889\"}},\"id\":\"2888\",\"type\":\"GlyphRenderer\"},{\"attributes\":{},\"id\":\"2847\",\"type\":\"LinearScale\"},{\"attributes\":{\"source\":{\"id\":\"2841\"}},\"id\":\"2877\",\"type\":\"CDSView\"},{\"attributes\":{\"source\":{\"id\":\"2841\"}},\"id\":\"2882\",\"type\":\"CDSView\"},{\"attributes\":{},\"id\":\"2852\",\"type\":\"BasicTicker\"},{\"attributes\":{\"line_alpha\":{\"value\":0.4},\"line_color\":{\"value\":\"#151515\"},\"x0\":{\"field\":\"x\"},\"x1\":{\"field\":\"x0\"},\"y0\":{\"field\":\"y\"},\"y1\":{\"field\":\"y0\"}},\"id\":\"2879\",\"type\":\"Segment\"},{\"attributes\":{\"formatter\":{\"id\":\"3002\"},\"ticker\":{\"id\":\"2852\"},\"visible\":false},\"id\":\"2851\",\"type\":\"LinearAxis\"},{\"attributes\":{\"bottom_units\":\"screen\",\"fill_alpha\":0.5,\"fill_color\":\"lightgrey\",\"left_units\":\"screen\",\"level\":\"overlay\",\"line_alpha\":1.0,\"line_color\":\"black\",\"line_dash\":[4,4],\"line_width\":2,\"right_units\":\"screen\",\"top_units\":\"screen\"},\"id\":\"2865\",\"type\":\"BoxAnnotation\"},{\"attributes\":{},\"id\":\"2859\",\"type\":\"PanTool\"},{\"attributes\":{},\"id\":\"2864\",\"type\":\"HelpTool\"},{\"attributes\":{\"data_source\":{\"id\":\"2841\"},\"glyph\":{\"id\":\"2879\"},\"hover_glyph\":null,\"muted_glyph\":null,\"nonselection_glyph\":{\"id\":\"2880\"},\"selection_glyph\":null,\"view\":{\"id\":\"2882\"}},\"id\":\"2881\",\"type\":\"GlyphRenderer\"},{\"attributes\":{\"text\":{\"field\":\"node_id\"},\"text_alpha\":{\"value\":0.1},\"text_color\":{\"value\":\"black\"},\"x\":{\"field\":\"x\"},\"y\":{\"field\":\"y\"}},\"id\":\"2887\",\"type\":\"Text\"},{\"attributes\":{\"active_drag\":\"auto\",\"active_inspect\":\"auto\",\"active_multi\":null,\"active_scroll\":\"auto\",\"active_tap\":\"auto\",\"tools\":[{\"id\":\"2859\"},{\"id\":\"2860\"},{\"id\":\"2861\"},{\"id\":\"2862\"},{\"id\":\"2863\"},{\"id\":\"2864\"},{\"id\":\"2883\"}]},\"id\":\"2866\",\"type\":\"Toolbar\"},{\"attributes\":{},\"id\":\"2862\",\"type\":\"SaveTool\"},{\"attributes\":{},\"id\":\"3005\",\"type\":\"Selection\"},{\"attributes\":{\"axis\":{\"id\":\"2851\"},\"ticker\":null,\"visible\":false},\"id\":\"2854\",\"type\":\"Grid\"},{\"attributes\":{\"line_alpha\":{\"value\":0.1},\"line_color\":{\"value\":\"#151515\"},\"x0\":{\"field\":\"x\"},\"x1\":{\"field\":\"x0\"},\"y0\":{\"field\":\"y\"},\"y1\":{\"field\":\"y0\"}},\"id\":\"2880\",\"type\":\"Segment\"},{\"attributes\":{},\"id\":\"3000\",\"type\":\"BasicTickFormatter\"},{\"attributes\":{},\"id\":\"3002\",\"type\":\"BasicTickFormatter\"},{\"attributes\":{\"overlay\":{\"id\":\"2865\"}},\"id\":\"2861\",\"type\":\"BoxZoomTool\"},{\"attributes\":{},\"id\":\"2863\",\"type\":\"ResetTool\"},{\"attributes\":{\"data_source\":{\"id\":\"2841\"},\"glyph\":{\"id\":\"2874\"},\"hover_glyph\":null,\"muted_glyph\":null,\"name\":\"circles\",\"nonselection_glyph\":{\"id\":\"2875\"},\"selection_glyph\":null,\"view\":{\"id\":\"2877\"}},\"id\":\"2876\",\"type\":\"GlyphRenderer\"},{\"attributes\":{\"end\":1.1,\"start\":-0.1},\"id\":\"2843\",\"type\":\"Range1d\"},{\"attributes\":{\"axis\":{\"id\":\"2855\"},\"dimension\":1,\"ticker\":null,\"visible\":false},\"id\":\"2858\",\"type\":\"Grid\"},{\"attributes\":{\"source\":{\"id\":\"2841\"}},\"id\":\"2889\",\"type\":\"CDSView\"}],\"root_ids\":[\"2842\"]},\"title\":\"Bokeh Application\",\"version\":\"2.2.1\"}};\n",
       "  var render_items = [{\"docid\":\"6c91aa50-208e-4e7e-9a81-ac30e006289e\",\"root_ids\":[\"2842\"],\"roots\":{\"2842\":\"cdba26d5-bca8-4db8-aa18-b6b850400739\"}}];\n",
       "  root.Bokeh.embed.embed_items_notebook(docs_json, render_items);\n",
       "\n",
       "  }\n",
       "  if (root.Bokeh !== undefined) {\n",
       "    embed_document(root);\n",
       "  } else {\n",
       "    var attempts = 0;\n",
       "    var timer = setInterval(function(root) {\n",
       "      if (root.Bokeh !== undefined) {\n",
       "        clearInterval(timer);\n",
       "        embed_document(root);\n",
       "      } else {\n",
       "        attempts++;\n",
       "        if (attempts > 100) {\n",
       "          clearInterval(timer);\n",
       "          console.log(\"Bokeh: ERROR: Unable to run BokehJS code because BokehJS library is missing\");\n",
       "        }\n",
       "      }\n",
       "    }, 10, root)\n",
       "  }\n",
       "})(window);"
      ],
      "application/vnd.bokehjs_exec.v0+json": ""
     },
     "metadata": {
      "application/vnd.bokehjs_exec.v0+json": {
       "id": "2842"
      }
     },
     "output_type": "display_data"
    }
   ],
   "source": [
    "from sklearn.preprocessing import OneHotEncoder\n",
    "\n",
    "X_onehot = OneHotEncoder(sparse=False).fit_transform(X)\n",
    "clf = ForestClassifier(\n",
    "    max_features=None,\n",
    "    n_estimators=1,\n",
    "    random_state=42,\n",
    "    dirichlet=0.,\n",
    "    aggregation=False,\n",
    "    categorical_features=None)\n",
    "\n",
    "clf.fit(X_onehot, y)\n",
    "fig = plot_tree(clf, height=300, attributes=attributes)\n",
    "show(fig)"
   ]
  },
  {
   "cell_type": "code",
   "execution_count": 7,
   "metadata": {
    "ExecuteTime": {
     "end_time": "2021-04-15T14:45:18.737160Z",
     "start_time": "2021-04-15T14:45:18.733996Z"
    }
   },
   "outputs": [
    {
     "data": {
      "text/plain": [
       "(100, 5)"
      ]
     },
     "execution_count": 7,
     "metadata": {},
     "output_type": "execute_result"
    }
   ],
   "source": [
    "X_onehot.shape"
   ]
  },
  {
   "cell_type": "code",
   "execution_count": null,
   "metadata": {
    "ExecuteTime": {
     "end_time": "2021-04-14T19:41:18.589640Z",
     "start_time": "2021-04-14T19:41:18.503531Z"
    }
   },
   "outputs": [],
   "source": [
    "X_onehot = OneHotEncoder(sparse=False).fit_transform(X)\n",
    "clf = ForestClassifier(n_estimators=1, random_state=42, categorical_features=[True] * 5)\n",
    "clf.fit(X_onehot, y)\n",
    "fig = plot_tree(clf, height=300)\n",
    "show(fig)"
   ]
  },
  {
   "cell_type": "code",
   "execution_count": null,
   "metadata": {
    "ExecuteTime": {
     "end_time": "2021-04-14T19:38:20.884972Z",
     "start_time": "2021-04-14T19:38:20.823193Z"
    }
   },
   "outputs": [],
   "source": []
  },
  {
   "cell_type": "code",
   "execution_count": null,
   "metadata": {},
   "outputs": [],
   "source": []
  },
  {
   "cell_type": "code",
   "execution_count": null,
   "metadata": {
    "ExecuteTime": {
     "end_time": "2021-04-14T10:02:52.355157Z",
     "start_time": "2021-04-14T10:02:52.351095Z"
    },
    "scrolled": true
   },
   "outputs": [],
   "source": [
    "df.columns"
   ]
  },
  {
   "cell_type": "code",
   "execution_count": null,
   "metadata": {
    "ExecuteTime": {
     "end_time": "2021-04-14T10:02:52.824182Z",
     "start_time": "2021-04-14T10:02:52.813818Z"
    }
   },
   "outputs": [],
   "source": [
    "df[[\"node_id\", \"left_child\", \"right_child\", \"is_leaf\", \"is_split_categorical\", \"split_partition\", \"y_pred\"]]"
   ]
  },
  {
   "cell_type": "code",
   "execution_count": null,
   "metadata": {
    "ExecuteTime": {
     "end_time": "2021-04-14T10:02:58.014238Z",
     "start_time": "2021-04-14T10:02:58.000028Z"
    }
   },
   "outputs": [],
   "source": [
    "clf = ForestClassifier(n_estimators=1, random_state=42, categorical_features=None)\n",
    "clf.fit(X, y)\n",
    "df = clf.get_nodes(0)"
   ]
  },
  {
   "cell_type": "code",
   "execution_count": null,
   "metadata": {
    "ExecuteTime": {
     "end_time": "2021-04-14T10:03:04.002004Z",
     "start_time": "2021-04-14T10:03:03.989589Z"
    }
   },
   "outputs": [],
   "source": [
    "df[[\"node_id\", \"left_child\", \"right_child\", \"is_leaf\", \"is_split_categorical\", \"split_partition\", \"y_pred\"]]"
   ]
  },
  {
   "cell_type": "code",
   "execution_count": null,
   "metadata": {
    "ExecuteTime": {
     "end_time": "2021-04-14T16:00:24.145586Z",
     "start_time": "2021-04-14T16:00:24.142988Z"
    }
   },
   "outputs": [],
   "source": [
    "from sklearn.preprocessing import OneHotEncoder\n",
    "\n",
    "one_hot_encoder = OneHotEncoder(sparse=False)"
   ]
  },
  {
   "cell_type": "code",
   "execution_count": null,
   "metadata": {
    "ExecuteTime": {
     "end_time": "2021-04-14T16:01:04.922103Z",
     "start_time": "2021-04-14T16:01:04.918950Z"
    }
   },
   "outputs": [],
   "source": [
    "\n",
    "df = clf.get_nodes(0)"
   ]
  },
  {
   "cell_type": "code",
   "execution_count": null,
   "metadata": {
    "ExecuteTime": {
     "end_time": "2021-04-14T16:01:07.131861Z",
     "start_time": "2021-04-14T16:01:06.722445Z"
    }
   },
   "outputs": [],
   "source": []
  },
  {
   "cell_type": "code",
   "execution_count": null,
   "metadata": {
    "ExecuteTime": {
     "end_time": "2021-04-14T16:01:08.343139Z",
     "start_time": "2021-04-14T16:01:08.329933Z"
    }
   },
   "outputs": [],
   "source": [
    "df[[\"node_id\", \"left_child\", \"right_child\", \"is_leaf\", \"is_split_categorical\", \"split_partition\", \"y_pred\"]]"
   ]
  },
  {
   "cell_type": "code",
   "execution_count": null,
   "metadata": {},
   "outputs": [],
   "source": []
  },
  {
   "cell_type": "code",
   "execution_count": null,
   "metadata": {},
   "outputs": [],
   "source": [
    "aaa"
   ]
  },
  {
   "cell_type": "code",
   "execution_count": null,
   "metadata": {
    "ExecuteTime": {
     "end_time": "2021-04-14T09:48:28.681333Z",
     "start_time": "2021-04-14T09:48:28.677239Z"
    }
   },
   "outputs": [],
   "source": [
    "str(np.array([1, 4, 2], dtype=np.uint8))"
   ]
  },
  {
   "cell_type": "code",
   "execution_count": null,
   "metadata": {
    "ExecuteTime": {
     "end_time": "2021-04-14T09:40:27.273393Z",
     "start_time": "2021-04-14T09:40:27.263773Z"
    }
   },
   "outputs": [],
   "source": [
    "clf.predict_proba(X)"
   ]
  },
  {
   "cell_type": "code",
   "execution_count": null,
   "metadata": {
    "ExecuteTime": {
     "end_time": "2021-04-14T08:49:33.710162Z",
     "start_time": "2021-04-14T08:49:33.707339Z"
    }
   },
   "outputs": [],
   "source": [
    "clf = ForestClassifier(n_estimators=1, random_state=42, categorical_features=[True])"
   ]
  },
  {
   "cell_type": "code",
   "execution_count": null,
   "metadata": {
    "ExecuteTime": {
     "end_time": "2021-04-14T08:49:36.557241Z",
     "start_time": "2021-04-14T08:49:36.549734Z"
    }
   },
   "outputs": [],
   "source": [
    "clf.fit(X, y)"
   ]
  },
  {
   "cell_type": "code",
   "execution_count": null,
   "metadata": {},
   "outputs": [],
   "source": []
  },
  {
   "cell_type": "code",
   "execution_count": null,
   "metadata": {
    "ExecuteTime": {
     "end_time": "2021-04-13T14:18:24.080937Z",
     "start_time": "2021-04-13T14:18:24.009879Z"
    }
   },
   "outputs": [],
   "source": [
    "df.describe(include=\"all\")"
   ]
  },
  {
   "cell_type": "code",
   "execution_count": null,
   "metadata": {
    "ExecuteTime": {
     "end_time": "2021-04-13T15:30:58.557375Z",
     "start_time": "2021-04-13T15:30:58.538846Z"
    }
   },
   "outputs": [],
   "source": [
    "dataset.one_hot_encode = False\n",
    "\n",
    "X_train, X_test, y_train, y_test = dataset.extract(random_state=42)"
   ]
  },
  {
   "cell_type": "code",
   "execution_count": null,
   "metadata": {
    "ExecuteTime": {
     "end_time": "2021-04-13T15:31:00.170235Z",
     "start_time": "2021-04-13T15:31:00.166470Z"
    }
   },
   "outputs": [],
   "source": [
    "dataset.categorical_columns_"
   ]
  },
  {
   "cell_type": "code",
   "execution_count": null,
   "metadata": {
    "ExecuteTime": {
     "end_time": "2021-04-13T15:31:06.088843Z",
     "start_time": "2021-04-13T15:31:06.085275Z"
    }
   },
   "outputs": [],
   "source": [
    "dataset.categorical_features_"
   ]
  },
  {
   "cell_type": "code",
   "execution_count": null,
   "metadata": {
    "ExecuteTime": {
     "end_time": "2021-04-14T09:50:07.968525Z",
     "start_time": "2021-04-14T09:50:07.681451Z"
    }
   },
   "outputs": [],
   "source": [
    "import numpy as np\n",
    "\n",
    "np.unique(X_train[:, 9])"
   ]
  },
  {
   "cell_type": "code",
   "execution_count": null,
   "metadata": {
    "ExecuteTime": {
     "end_time": "2021-04-13T14:25:39.827214Z",
     "start_time": "2021-04-13T14:25:39.822152Z"
    }
   },
   "outputs": [],
   "source": [
    "X_train[1:100, 12]"
   ]
  },
  {
   "cell_type": "code",
   "execution_count": null,
   "metadata": {
    "ExecuteTime": {
     "end_time": "2021-04-13T14:31:04.812500Z",
     "start_time": "2021-04-13T14:31:04.809237Z"
    }
   },
   "outputs": [],
   "source": [
    "categorical_features[18]"
   ]
  },
  {
   "cell_type": "code",
   "execution_count": null,
   "metadata": {
    "ExecuteTime": {
     "end_time": "2021-04-13T14:31:20.389837Z",
     "start_time": "2021-04-13T14:31:20.385762Z"
    }
   },
   "outputs": [],
   "source": [
    "np.unique(X_train[:, 18]).size"
   ]
  },
  {
   "cell_type": "code",
   "execution_count": null,
   "metadata": {
    "ExecuteTime": {
     "end_time": "2021-04-13T14:26:30.520613Z",
     "start_time": "2021-04-13T14:26:30.516861Z"
    }
   },
   "outputs": [],
   "source": [
    "X_train[:, 2].shape"
   ]
  },
  {
   "cell_type": "code",
   "execution_count": null,
   "metadata": {
    "ExecuteTime": {
     "end_time": "2021-04-13T14:24:15.573860Z",
     "start_time": "2021-04-13T14:24:15.571154Z"
    }
   },
   "outputs": [],
   "source": [
    "import numpy as np\n",
    "\n",
    "n_features = X_train.shape[1]\n",
    "\n",
    "categorical_features = np.zeros(n_features, dtype=np.bool)"
   ]
  },
  {
   "cell_type": "code",
   "execution_count": null,
   "metadata": {
    "ExecuteTime": {
     "end_time": "2021-04-12T17:17:27.380751Z",
     "start_time": "2021-04-12T17:17:27.378395Z"
    }
   },
   "outputs": [],
   "source": [
    "categorical_features[-dataset.n_features_categorical_:] = True"
   ]
  },
  {
   "cell_type": "code",
   "execution_count": null,
   "metadata": {
    "ExecuteTime": {
     "end_time": "2021-04-12T17:17:28.099257Z",
     "start_time": "2021-04-12T17:17:28.095593Z"
    }
   },
   "outputs": [],
   "source": [
    "categorical_features"
   ]
  },
  {
   "cell_type": "code",
   "execution_count": null,
   "metadata": {
    "ExecuteTime": {
     "end_time": "2021-04-12T17:17:30.360182Z",
     "start_time": "2021-04-12T17:17:30.357778Z"
    }
   },
   "outputs": [],
   "source": [
    "from wildwood import ForestClassifier\n",
    "\n",
    "clf = ForestClassifier(categorical_features=categorical_features)"
   ]
  },
  {
   "cell_type": "code",
   "execution_count": null,
   "metadata": {
    "ExecuteTime": {
     "end_time": "2021-04-12T17:17:31.698665Z",
     "start_time": "2021-04-12T17:17:31.693266Z"
    },
    "scrolled": false
   },
   "outputs": [],
   "source": [
    "clf._check_categories(X_train)"
   ]
  },
  {
   "cell_type": "code",
   "execution_count": null,
   "metadata": {
    "ExecuteTime": {
     "end_time": "2021-04-12T15:14:53.538010Z",
     "start_time": "2021-04-12T15:14:53.492658Z"
    },
    "scrolled": false
   },
   "outputs": [],
   "source": [
    "dataset.one_hot_encode = False\n",
    "\n",
    "dataset.extract(random_state=42)"
   ]
  },
  {
   "cell_type": "code",
   "execution_count": null,
   "metadata": {
    "ExecuteTime": {
     "end_time": "2021-04-12T15:14:55.822022Z",
     "start_time": "2021-04-12T15:14:55.815387Z"
    }
   },
   "outputs": [],
   "source": [
    "dataset.transformer.transformer_list"
   ]
  },
  {
   "cell_type": "code",
   "execution_count": null,
   "metadata": {
    "ExecuteTime": {
     "end_time": "2021-04-12T15:14:58.442866Z",
     "start_time": "2021-04-12T15:14:58.439980Z"
    }
   },
   "outputs": [],
   "source": [
    "ordinal_encoder = dataset.transformer.transformer_list[1][1].transformers[0][1]"
   ]
  },
  {
   "cell_type": "code",
   "execution_count": null,
   "metadata": {
    "ExecuteTime": {
     "end_time": "2021-04-12T15:15:03.113315Z",
     "start_time": "2021-04-12T15:15:03.109470Z"
    }
   },
   "outputs": [],
   "source": [
    "ordinal_encoder.categories"
   ]
  },
  {
   "cell_type": "code",
   "execution_count": null,
   "metadata": {
    "ExecuteTime": {
     "end_time": "2021-04-12T15:09:17.514973Z",
     "start_time": "2021-04-12T15:09:17.281165Z"
    }
   },
   "outputs": [],
   "source": [
    "ordinal_encoder.categories_"
   ]
  },
  {
   "cell_type": "code",
   "execution_count": null,
   "metadata": {},
   "outputs": [],
   "source": []
  },
  {
   "cell_type": "code",
   "execution_count": null,
   "metadata": {
    "ExecuteTime": {
     "end_time": "2021-04-12T14:31:22.009040Z",
     "start_time": "2021-04-12T14:31:22.006417Z"
    }
   },
   "outputs": [],
   "source": [
    "from wildwood._binning import Binner"
   ]
  },
  {
   "cell_type": "code",
   "execution_count": null,
   "metadata": {
    "ExecuteTime": {
     "end_time": "2021-04-12T14:31:26.897189Z",
     "start_time": "2021-04-12T14:31:26.894825Z"
    }
   },
   "outputs": [],
   "source": [
    "binner = Binner()"
   ]
  },
  {
   "cell_type": "code",
   "execution_count": null,
   "metadata": {
    "ExecuteTime": {
     "end_time": "2021-04-12T14:31:31.895402Z",
     "start_time": "2021-04-12T14:31:31.871175Z"
    },
    "scrolled": false
   },
   "outputs": [],
   "source": [
    "binner.fit_transform(df)"
   ]
  },
  {
   "cell_type": "code",
   "execution_count": null,
   "metadata": {
    "ExecuteTime": {
     "end_time": "2021-04-12T14:29:33.200646Z",
     "start_time": "2021-04-12T14:29:33.198242Z"
    }
   },
   "outputs": [],
   "source": [
    "df = dataset.df_raw"
   ]
  },
  {
   "cell_type": "code",
   "execution_count": null,
   "metadata": {
    "ExecuteTime": {
     "end_time": "2021-04-12T14:29:41.822637Z",
     "start_time": "2021-04-12T14:29:41.817337Z"
    }
   },
   "outputs": [],
   "source": [
    "df.dtypes"
   ]
  },
  {
   "cell_type": "code",
   "execution_count": null,
   "metadata": {},
   "outputs": [],
   "source": []
  },
  {
   "cell_type": "code",
   "execution_count": null,
   "metadata": {
    "ExecuteTime": {
     "end_time": "2021-04-12T14:06:50.666080Z",
     "start_time": "2021-04-12T14:06:50.647409Z"
    }
   },
   "outputs": [],
   "source": [
    "df.head()"
   ]
  },
  {
   "cell_type": "code",
   "execution_count": null,
   "metadata": {
    "ExecuteTime": {
     "end_time": "2021-04-12T14:06:54.754068Z",
     "start_time": "2021-04-12T14:06:54.748914Z"
    }
   },
   "outputs": [],
   "source": [
    "df.to_csv(\"dataset-small-classification.csv.gz\", index=False)"
   ]
  },
  {
   "cell_type": "code",
   "execution_count": null,
   "metadata": {
    "ExecuteTime": {
     "end_time": "2021-04-12T14:07:05.516943Z",
     "start_time": "2021-04-12T14:07:05.452152Z"
    }
   },
   "outputs": [],
   "source": [
    "df = describe_datasets(include=\"small-regression\")"
   ]
  },
  {
   "cell_type": "code",
   "execution_count": null,
   "metadata": {
    "ExecuteTime": {
     "end_time": "2021-04-12T14:07:06.816910Z",
     "start_time": "2021-04-12T14:07:06.807018Z"
    }
   },
   "outputs": [],
   "source": [
    "df"
   ]
  },
  {
   "cell_type": "code",
   "execution_count": null,
   "metadata": {
    "ExecuteTime": {
     "end_time": "2021-04-12T14:07:10.052923Z",
     "start_time": "2021-04-12T14:07:10.048637Z"
    }
   },
   "outputs": [],
   "source": [
    "df.to_csv(\"dataset-small-regression.csv.gz\", index=False)"
   ]
  },
  {
   "cell_type": "code",
   "execution_count": null,
   "metadata": {
    "ExecuteTime": {
     "end_time": "2021-04-12T14:04:08.517513Z",
     "start_time": "2021-04-12T14:04:08.502805Z"
    }
   },
   "outputs": [],
   "source": [
    "import pandas as pd\n",
    "\n",
    "pd.read_csv(\"dataset-small-regression.csv.gz\")"
   ]
  },
  {
   "cell_type": "code",
   "execution_count": null,
   "metadata": {
    "ExecuteTime": {
     "end_time": "2021-04-12T12:57:29.475982Z",
     "start_time": "2021-04-12T12:57:29.471190Z"
    }
   },
   "outputs": [],
   "source": [
    "pwd"
   ]
  },
  {
   "cell_type": "code",
   "execution_count": null,
   "metadata": {},
   "outputs": [],
   "source": []
  },
  {
   "cell_type": "code",
   "execution_count": null,
   "metadata": {
    "ExecuteTime": {
     "end_time": "2021-04-12T12:57:12.288539Z",
     "start_time": "2021-04-12T12:57:12.155443Z"
    }
   },
   "outputs": [],
   "source": [
    "ls -rtl"
   ]
  },
  {
   "cell_type": "code",
   "execution_count": null,
   "metadata": {
    "ExecuteTime": {
     "end_time": "2021-04-12T12:56:01.134816Z",
     "start_time": "2021-04-12T12:56:01.127635Z"
    }
   },
   "outputs": [],
   "source": [
    "from wildwood.dataset import datasets_description\n",
    "\n",
    "df_datasets = datasets_description(include=\"small-classification\")\n",
    "df_datasets"
   ]
  },
  {
   "cell_type": "code",
   "execution_count": null,
   "metadata": {
    "ExecuteTime": {
     "end_time": "2021-04-12T12:32:53.449369Z",
     "start_time": "2021-04-12T12:32:53.376812Z"
    }
   },
   "outputs": [],
   "source": [
    "df_datasets = datasets_description(include=\"small-regression\")\n",
    "df_datasets"
   ]
  },
  {
   "cell_type": "code",
   "execution_count": null,
   "metadata": {
    "ExecuteTime": {
     "end_time": "2021-04-12T12:32:27.990523Z",
     "start_time": "2021-04-12T12:32:26.800520Z"
    },
    "scrolled": false
   },
   "outputs": [],
   "source": []
  },
  {
   "cell_type": "code",
   "execution_count": null,
   "metadata": {
    "ExecuteTime": {
     "end_time": "2021-04-12T12:32:30.310855Z",
     "start_time": "2021-04-12T12:32:30.294222Z"
    }
   },
   "outputs": [],
   "source": []
  },
  {
   "cell_type": "code",
   "execution_count": null,
   "metadata": {},
   "outputs": [],
   "source": []
  },
  {
   "cell_type": "code",
   "execution_count": null,
   "metadata": {},
   "outputs": [],
   "source": []
  },
  {
   "cell_type": "code",
   "execution_count": null,
   "metadata": {
    "ExecuteTime": {
     "end_time": "2021-04-12T12:19:35.342569Z",
     "start_time": "2021-04-12T12:19:35.332701Z"
    }
   },
   "outputs": [],
   "source": [
    "df_datasets.loc[df_datasets[\"task\"] == \"regression\"]"
   ]
  },
  {
   "cell_type": "code",
   "execution_count": null,
   "metadata": {},
   "outputs": [],
   "source": [
    ".iloc(df_datasets[\"task\"] == \"regression\")"
   ]
  },
  {
   "cell_type": "code",
   "execution_count": null,
   "metadata": {
    "ExecuteTime": {
     "end_time": "2021-04-12T09:24:42.971803Z",
     "start_time": "2021-04-12T09:24:42.950189Z"
    }
   },
   "outputs": [],
   "source": [
    "dataset = load_churn()"
   ]
  },
  {
   "cell_type": "code",
   "execution_count": null,
   "metadata": {
    "ExecuteTime": {
     "end_time": "2021-04-12T09:24:56.364713Z",
     "start_time": "2021-04-12T09:24:56.345151Z"
    }
   },
   "outputs": [],
   "source": [
    "dataset.df_raw.head()"
   ]
  },
  {
   "cell_type": "code",
   "execution_count": null,
   "metadata": {},
   "outputs": [],
   "source": []
  },
  {
   "cell_type": "code",
   "execution_count": null,
   "metadata": {
    "ExecuteTime": {
     "end_time": "2021-04-12T09:02:30.176970Z",
     "start_time": "2021-04-12T09:02:30.174443Z"
    }
   },
   "outputs": [],
   "source": [
    "import numpy as np\n",
    "import pandas as pd\n",
    "\n",
    "from wildwood._binning import Binner"
   ]
  },
  {
   "cell_type": "code",
   "execution_count": null,
   "metadata": {
    "ExecuteTime": {
     "end_time": "2021-04-12T09:05:08.844743Z",
     "start_time": "2021-04-12T09:05:08.841302Z"
    }
   },
   "outputs": [],
   "source": [
    "df = pd.DataFrame({\n",
    "    \"A\": [\"a\", \"b\", \"a\", \"a\"],\n",
    "    \"B\": [0.1, 0.2, 0.1, 0.3]\n",
    "})"
   ]
  },
  {
   "cell_type": "code",
   "execution_count": null,
   "metadata": {
    "ExecuteTime": {
     "end_time": "2021-04-12T09:05:15.294185Z",
     "start_time": "2021-04-12T09:05:15.283523Z"
    }
   },
   "outputs": [],
   "source": [
    "df.dtypes"
   ]
  },
  {
   "cell_type": "code",
   "execution_count": null,
   "metadata": {
    "ExecuteTime": {
     "end_time": "2021-04-12T09:05:32.562728Z",
     "start_time": "2021-04-12T09:05:32.558845Z"
    }
   },
   "outputs": [],
   "source": [
    "df[\"A\"] = df[\"A\"].astype(\"category\")"
   ]
  },
  {
   "cell_type": "code",
   "execution_count": null,
   "metadata": {
    "ExecuteTime": {
     "end_time": "2021-04-12T09:05:35.385838Z",
     "start_time": "2021-04-12T09:05:35.380846Z"
    }
   },
   "outputs": [],
   "source": [
    "df.dtypes"
   ]
  },
  {
   "cell_type": "code",
   "execution_count": null,
   "metadata": {
    "ExecuteTime": {
     "end_time": "2021-04-12T09:05:37.182753Z",
     "start_time": "2021-04-12T09:05:37.180223Z"
    }
   },
   "outputs": [],
   "source": [
    "binner = Binner()"
   ]
  },
  {
   "cell_type": "code",
   "execution_count": null,
   "metadata": {
    "ExecuteTime": {
     "end_time": "2021-04-12T09:05:38.034625Z",
     "start_time": "2021-04-12T09:05:38.015951Z"
    }
   },
   "outputs": [],
   "source": [
    "binner.fit_transform(df)"
   ]
  },
  {
   "cell_type": "code",
   "execution_count": null,
   "metadata": {
    "ExecuteTime": {
     "end_time": "2021-04-12T10:05:47.268179Z",
     "start_time": "2021-04-12T10:05:44.304121Z"
    }
   },
   "outputs": [],
   "source": []
  },
  {
   "cell_type": "code",
   "execution_count": null,
   "metadata": {
    "ExecuteTime": {
     "end_time": "2021-04-12T10:05:52.872923Z",
     "start_time": "2021-04-12T10:05:52.857356Z"
    }
   },
   "outputs": [],
   "source": []
  },
  {
   "cell_type": "code",
   "execution_count": null,
   "metadata": {
    "ExecuteTime": {
     "end_time": "2021-04-12T10:06:07.395586Z",
     "start_time": "2021-04-12T10:06:07.391899Z"
    }
   },
   "outputs": [],
   "source": [
    "print(data[\"DESCR\"])"
   ]
  },
  {
   "cell_type": "code",
   "execution_count": null,
   "metadata": {
    "ExecuteTime": {
     "end_time": "2021-04-12T10:00:54.102680Z",
     "start_time": "2021-04-12T10:00:54.087044Z"
    }
   },
   "outputs": [],
   "source": [
    "from sklearn.datasets import load_breast_cancer\n",
    "\n",
    "data = load_breast_cancer(as_frame=True)\n",
    "data[\"frame\"]\n"
   ]
  },
  {
   "cell_type": "code",
   "execution_count": null,
   "metadata": {
    "ExecuteTime": {
     "end_time": "2021-04-12T10:00:57.330838Z",
     "start_time": "2021-04-12T10:00:57.303578Z"
    }
   },
   "outputs": [],
   "source": []
  },
  {
   "cell_type": "code",
   "execution_count": null,
   "metadata": {
    "ExecuteTime": {
     "end_time": "2021-04-12T10:03:10.676450Z",
     "start_time": "2021-04-12T10:03:10.666266Z"
    }
   },
   "outputs": [],
   "source": [
    "data[\"frame\"].info()"
   ]
  },
  {
   "cell_type": "code",
   "execution_count": null,
   "metadata": {},
   "outputs": [],
   "source": []
  },
  {
   "cell_type": "code",
   "execution_count": null,
   "metadata": {
    "ExecuteTime": {
     "end_time": "2021-04-12T10:01:16.730077Z",
     "start_time": "2021-04-12T10:01:16.727176Z"
    },
    "scrolled": false
   },
   "outputs": [],
   "source": [
    "print(data[\"DESCR\"])"
   ]
  },
  {
   "cell_type": "code",
   "execution_count": null,
   "metadata": {
    "ExecuteTime": {
     "end_time": "2021-04-12T09:45:48.636845Z",
     "start_time": "2021-04-12T09:45:48.627562Z"
    }
   },
   "outputs": [],
   "source": [
    "from sklearn.datasets import load_diabetes, load_boston\n",
    "\n",
    "data = load_boston()"
   ]
  },
  {
   "cell_type": "code",
   "execution_count": null,
   "metadata": {
    "ExecuteTime": {
     "end_time": "2021-04-12T09:46:04.898195Z",
     "start_time": "2021-04-12T09:46:04.894308Z"
    }
   },
   "outputs": [],
   "source": [
    "data.keys()"
   ]
  },
  {
   "cell_type": "code",
   "execution_count": null,
   "metadata": {
    "ExecuteTime": {
     "end_time": "2021-04-12T09:47:11.487886Z",
     "start_time": "2021-04-12T09:47:11.484179Z"
    }
   },
   "outputs": [],
   "source": [
    "import pandas as pd\n",
    "\n",
    "df = pd.DataFrame(data[\"data\"], columns=data[\"feature_names\"])\n",
    "df[\"target\"] = data[\"target\"]"
   ]
  },
  {
   "cell_type": "code",
   "execution_count": null,
   "metadata": {
    "ExecuteTime": {
     "end_time": "2021-04-12T09:47:14.766047Z",
     "start_time": "2021-04-12T09:47:14.757197Z"
    }
   },
   "outputs": [],
   "source": [
    "df.info()"
   ]
  },
  {
   "cell_type": "code",
   "execution_count": null,
   "metadata": {
    "ExecuteTime": {
     "end_time": "2021-04-12T09:47:23.294974Z",
     "start_time": "2021-04-12T09:47:23.267924Z"
    }
   },
   "outputs": [],
   "source": [
    "df.head()"
   ]
  },
  {
   "cell_type": "code",
   "execution_count": null,
   "metadata": {
    "ExecuteTime": {
     "end_time": "2021-04-12T09:47:43.489405Z",
     "start_time": "2021-04-12T09:47:43.486188Z"
    }
   },
   "outputs": [],
   "source": [
    "print(data[\"DESCR\"])"
   ]
  },
  {
   "cell_type": "code",
   "execution_count": null,
   "metadata": {
    "ExecuteTime": {
     "end_time": "2021-04-12T09:43:27.748031Z",
     "start_time": "2021-04-12T09:43:27.722466Z"
    }
   },
   "outputs": [],
   "source": [
    "truc[\"frame\"]"
   ]
  },
  {
   "cell_type": "code",
   "execution_count": null,
   "metadata": {
    "ExecuteTime": {
     "end_time": "2021-04-12T09:41:09.724707Z",
     "start_time": "2021-04-12T09:41:09.719186Z"
    }
   },
   "outputs": [],
   "source": [
    "truc[\"target\"]"
   ]
  },
  {
   "cell_type": "code",
   "execution_count": null,
   "metadata": {
    "ExecuteTime": {
     "end_time": "2021-04-12T09:41:20.915035Z",
     "start_time": "2021-04-12T09:41:20.911238Z"
    }
   },
   "outputs": [],
   "source": [
    "truc.keys()"
   ]
  },
  {
   "cell_type": "code",
   "execution_count": null,
   "metadata": {
    "ExecuteTime": {
     "end_time": "2021-04-12T09:41:28.968072Z",
     "start_time": "2021-04-12T09:41:28.942751Z"
    }
   },
   "outputs": [],
   "source": [
    "truc[\"frame\"]"
   ]
  },
  {
   "cell_type": "code",
   "execution_count": null,
   "metadata": {
    "ExecuteTime": {
     "end_time": "2021-04-12T09:41:52.166218Z",
     "start_time": "2021-04-12T09:41:52.161334Z"
    }
   },
   "outputs": [],
   "source": [
    "truc[\"frame\"].dtypes"
   ]
  },
  {
   "cell_type": "code",
   "execution_count": 1,
   "metadata": {
    "ExecuteTime": {
     "end_time": "2021-04-21T14:47:13.377860Z",
     "start_time": "2021-04-21T14:47:13.063836Z"
    }
   },
   "outputs": [],
   "source": [
    "import numpy as np"
   ]
  },
  {
   "cell_type": "code",
   "execution_count": 6,
   "metadata": {
    "ExecuteTime": {
     "end_time": "2021-04-21T15:15:27.656134Z",
     "start_time": "2021-04-21T15:15:27.652435Z"
    }
   },
   "outputs": [
    {
     "data": {
      "text/plain": [
       "array([ 2,  2,  2,  1,  1,  1, 17, 17, 17,  3,  3,  3])"
      ]
     },
     "execution_count": 6,
     "metadata": {},
     "output_type": "execute_result"
    }
   ],
   "source": [
    "np.repeat(np.array([2, 1, 17, 3]), repeats=3)"
   ]
  },
  {
   "cell_type": "code",
   "execution_count": null,
   "metadata": {},
   "outputs": [],
   "source": []
  },
  {
   "cell_type": "code",
   "execution_count": null,
   "metadata": {},
   "outputs": [],
   "source": []
  }
 ],
 "metadata": {
  "kernelspec": {
   "display_name": "Python 3",
   "language": "python",
   "name": "python3"
  },
  "language_info": {
   "codemirror_mode": {
    "name": "ipython",
    "version": 3
   },
   "file_extension": ".py",
   "mimetype": "text/x-python",
   "name": "python",
   "nbconvert_exporter": "python",
   "pygments_lexer": "ipython3",
   "version": "3.7.9"
  },
  "toc": {
   "base_numbering": 1,
   "nav_menu": {},
   "number_sections": true,
   "sideBar": true,
   "skip_h1_title": true,
   "title_cell": "Table of Contents",
   "title_sidebar": "Contents",
   "toc_cell": true,
   "toc_position": {},
   "toc_section_display": true,
   "toc_window_display": false
  }
 },
 "nbformat": 4,
 "nbformat_minor": 4
}
