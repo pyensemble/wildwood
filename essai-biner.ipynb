{
 "cells": [
  {
   "cell_type": "markdown",
   "metadata": {
    "toc": true
   },
   "source": [
    "<h1>Table of Contents<span class=\"tocSkip\"></span></h1>\n",
    "<div class=\"toc\"><ul class=\"toc-item\"></ul></div>"
   ]
  },
  {
   "cell_type": "code",
   "execution_count": 2,
   "metadata": {
    "ExecuteTime": {
     "end_time": "2021-06-08T07:52:13.594036Z",
     "start_time": "2021-06-08T07:52:10.204773Z"
    },
    "scrolled": false
   },
   "outputs": [
    {
     "data": {
      "text/html": [
       "<div>\n",
       "<style scoped>\n",
       "    .dataframe tbody tr th:only-of-type {\n",
       "        vertical-align: middle;\n",
       "    }\n",
       "\n",
       "    .dataframe tbody tr th {\n",
       "        vertical-align: top;\n",
       "    }\n",
       "\n",
       "    .dataframe thead th {\n",
       "        text-align: right;\n",
       "    }\n",
       "</style>\n",
       "<table border=\"1\" class=\"dataframe\">\n",
       "  <thead>\n",
       "    <tr style=\"text-align: right;\">\n",
       "      <th></th>\n",
       "      <th>dataset</th>\n",
       "      <th>task</th>\n",
       "      <th>n_samples</th>\n",
       "      <th>n_samples_train</th>\n",
       "      <th>n_samples_test</th>\n",
       "      <th>n_features_cat</th>\n",
       "      <th>n_features_cont</th>\n",
       "      <th>n_features</th>\n",
       "      <th>n_classes</th>\n",
       "      <th>n_columns</th>\n",
       "      <th>scaled_gini</th>\n",
       "    </tr>\n",
       "  </thead>\n",
       "  <tbody>\n",
       "    <tr>\n",
       "      <th>0</th>\n",
       "      <td>adult</td>\n",
       "      <td>binary-classification</td>\n",
       "      <td>48841</td>\n",
       "      <td>34188</td>\n",
       "      <td>14653</td>\n",
       "      <td>8</td>\n",
       "      <td>6</td>\n",
       "      <td>14</td>\n",
       "      <td>2</td>\n",
       "      <td>108</td>\n",
       "      <td>0.728114</td>\n",
       "    </tr>\n",
       "    <tr>\n",
       "      <th>1</th>\n",
       "      <td>bank</td>\n",
       "      <td>binary-classification</td>\n",
       "      <td>45211</td>\n",
       "      <td>31647</td>\n",
       "      <td>13564</td>\n",
       "      <td>10</td>\n",
       "      <td>6</td>\n",
       "      <td>16</td>\n",
       "      <td>2</td>\n",
       "      <td>81</td>\n",
       "      <td>0.413197</td>\n",
       "    </tr>\n",
       "    <tr>\n",
       "      <th>2</th>\n",
       "      <td>breastcancer</td>\n",
       "      <td>binary-classification</td>\n",
       "      <td>569</td>\n",
       "      <td>398</td>\n",
       "      <td>171</td>\n",
       "      <td>0</td>\n",
       "      <td>30</td>\n",
       "      <td>30</td>\n",
       "      <td>2</td>\n",
       "      <td>30</td>\n",
       "      <td>0.935060</td>\n",
       "    </tr>\n",
       "    <tr>\n",
       "      <th>3</th>\n",
       "      <td>car</td>\n",
       "      <td>multiclass-classification</td>\n",
       "      <td>1728</td>\n",
       "      <td>1209</td>\n",
       "      <td>519</td>\n",
       "      <td>6</td>\n",
       "      <td>0</td>\n",
       "      <td>6</td>\n",
       "      <td>4</td>\n",
       "      <td>21</td>\n",
       "      <td>0.609712</td>\n",
       "    </tr>\n",
       "    <tr>\n",
       "      <th>4</th>\n",
       "      <td>cardio</td>\n",
       "      <td>multiclass-classification</td>\n",
       "      <td>2126</td>\n",
       "      <td>1488</td>\n",
       "      <td>638</td>\n",
       "      <td>0</td>\n",
       "      <td>35</td>\n",
       "      <td>35</td>\n",
       "      <td>10</td>\n",
       "      <td>35</td>\n",
       "      <td>0.932641</td>\n",
       "    </tr>\n",
       "    <tr>\n",
       "      <th>5</th>\n",
       "      <td>churn</td>\n",
       "      <td>binary-classification</td>\n",
       "      <td>3333</td>\n",
       "      <td>2333</td>\n",
       "      <td>1000</td>\n",
       "      <td>4</td>\n",
       "      <td>15</td>\n",
       "      <td>19</td>\n",
       "      <td>2</td>\n",
       "      <td>73</td>\n",
       "      <td>0.495657</td>\n",
       "    </tr>\n",
       "    <tr>\n",
       "      <th>6</th>\n",
       "      <td>default-cb</td>\n",
       "      <td>binary-classification</td>\n",
       "      <td>30000</td>\n",
       "      <td>21000</td>\n",
       "      <td>9000</td>\n",
       "      <td>3</td>\n",
       "      <td>20</td>\n",
       "      <td>23</td>\n",
       "      <td>2</td>\n",
       "      <td>33</td>\n",
       "      <td>0.689082</td>\n",
       "    </tr>\n",
       "    <tr>\n",
       "      <th>7</th>\n",
       "      <td>letter</td>\n",
       "      <td>multiclass-classification</td>\n",
       "      <td>20000</td>\n",
       "      <td>14000</td>\n",
       "      <td>6000</td>\n",
       "      <td>0</td>\n",
       "      <td>16</td>\n",
       "      <td>16</td>\n",
       "      <td>26</td>\n",
       "      <td>16</td>\n",
       "      <td>0.999965</td>\n",
       "    </tr>\n",
       "    <tr>\n",
       "      <th>8</th>\n",
       "      <td>satimage</td>\n",
       "      <td>multiclass-classification</td>\n",
       "      <td>5104</td>\n",
       "      <td>3572</td>\n",
       "      <td>1532</td>\n",
       "      <td>0</td>\n",
       "      <td>36</td>\n",
       "      <td>36</td>\n",
       "      <td>6</td>\n",
       "      <td>36</td>\n",
       "      <td>0.973752</td>\n",
       "    </tr>\n",
       "    <tr>\n",
       "      <th>9</th>\n",
       "      <td>sensorless</td>\n",
       "      <td>multiclass-classification</td>\n",
       "      <td>58509</td>\n",
       "      <td>40956</td>\n",
       "      <td>17553</td>\n",
       "      <td>0</td>\n",
       "      <td>48</td>\n",
       "      <td>48</td>\n",
       "      <td>11</td>\n",
       "      <td>48</td>\n",
       "      <td>1.000000</td>\n",
       "    </tr>\n",
       "    <tr>\n",
       "      <th>10</th>\n",
       "      <td>spambase</td>\n",
       "      <td>binary-classification</td>\n",
       "      <td>4601</td>\n",
       "      <td>3220</td>\n",
       "      <td>1381</td>\n",
       "      <td>0</td>\n",
       "      <td>57</td>\n",
       "      <td>57</td>\n",
       "      <td>2</td>\n",
       "      <td>57</td>\n",
       "      <td>0.955094</td>\n",
       "    </tr>\n",
       "  </tbody>\n",
       "</table>\n",
       "</div>"
      ],
      "text/plain": [
       "         dataset                       task  n_samples  n_samples_train  \\\n",
       "0          adult      binary-classification      48841            34188   \n",
       "1           bank      binary-classification      45211            31647   \n",
       "2   breastcancer      binary-classification        569              398   \n",
       "3            car  multiclass-classification       1728             1209   \n",
       "4         cardio  multiclass-classification       2126             1488   \n",
       "5          churn      binary-classification       3333             2333   \n",
       "6     default-cb      binary-classification      30000            21000   \n",
       "7         letter  multiclass-classification      20000            14000   \n",
       "8       satimage  multiclass-classification       5104             3572   \n",
       "9     sensorless  multiclass-classification      58509            40956   \n",
       "10      spambase      binary-classification       4601             3220   \n",
       "\n",
       "    n_samples_test  n_features_cat  n_features_cont  n_features  n_classes  \\\n",
       "0            14653               8                6          14          2   \n",
       "1            13564              10                6          16          2   \n",
       "2              171               0               30          30          2   \n",
       "3              519               6                0           6          4   \n",
       "4              638               0               35          35         10   \n",
       "5             1000               4               15          19          2   \n",
       "6             9000               3               20          23          2   \n",
       "7             6000               0               16          16         26   \n",
       "8             1532               0               36          36          6   \n",
       "9            17553               0               48          48         11   \n",
       "10            1381               0               57          57          2   \n",
       "\n",
       "    n_columns  scaled_gini  \n",
       "0         108     0.728114  \n",
       "1          81     0.413197  \n",
       "2          30     0.935060  \n",
       "3          21     0.609712  \n",
       "4          35     0.932641  \n",
       "5          73     0.495657  \n",
       "6          33     0.689082  \n",
       "7          16     0.999965  \n",
       "8          36     0.973752  \n",
       "9          48     1.000000  \n",
       "10         57     0.955094  "
      ]
     },
     "execution_count": 2,
     "metadata": {},
     "output_type": "execute_result"
    }
   ],
   "source": [
    "from wildwood.datasets import describe_datasets\n",
    "\n",
    "df = describe_datasets(include=\"small-classification\")\n",
    "df"
   ]
  },
  {
   "cell_type": "code",
   "execution_count": 3,
   "metadata": {
    "ExecuteTime": {
     "end_time": "2021-06-08T07:52:40.235799Z",
     "start_time": "2021-06-08T07:52:40.233127Z"
    }
   },
   "outputs": [],
   "source": [
    "from wildwood.datasets import load_bank"
   ]
  },
  {
   "cell_type": "code",
   "execution_count": 35,
   "metadata": {
    "ExecuteTime": {
     "end_time": "2021-06-08T09:05:52.649974Z",
     "start_time": "2021-06-08T09:05:52.646708Z"
    }
   },
   "outputs": [
    {
     "data": {
      "text/plain": [
       "'O'"
      ]
     },
     "execution_count": 35,
     "metadata": {},
     "output_type": "execute_result"
    }
   ],
   "source": [
    "df[\"task\"].dtype.kind"
   ]
  },
  {
   "cell_type": "code",
   "execution_count": 37,
   "metadata": {
    "ExecuteTime": {
     "end_time": "2021-06-08T09:06:23.023248Z",
     "start_time": "2021-06-08T09:06:23.019365Z"
    }
   },
   "outputs": [
    {
     "data": {
      "text/plain": [
       "False"
      ]
     },
     "execution_count": 37,
     "metadata": {},
     "output_type": "execute_result"
    }
   ],
   "source": [
    "hasattr(df[\"task\"], \"cat\")"
   ]
  },
  {
   "cell_type": "code",
   "execution_count": 93,
   "metadata": {
    "ExecuteTime": {
     "end_time": "2021-06-09T08:59:46.299530Z",
     "start_time": "2021-06-09T08:59:46.295722Z"
    }
   },
   "outputs": [
    {
     "data": {
      "text/plain": [
       "2"
      ]
     },
     "execution_count": 93,
     "metadata": {},
     "output_type": "execute_result"
    }
   ],
   "source": [
    "df.ndim"
   ]
  },
  {
   "cell_type": "code",
   "execution_count": 92,
   "metadata": {
    "ExecuteTime": {
     "end_time": "2021-06-09T08:59:34.965715Z",
     "start_time": "2021-06-09T08:59:34.962127Z"
    }
   },
   "outputs": [
    {
     "data": {
      "text/plain": [
       "(45211, 17)"
      ]
     },
     "execution_count": 92,
     "metadata": {},
     "output_type": "execute_result"
    }
   ],
   "source": [
    "df.shape"
   ]
  },
  {
   "cell_type": "code",
   "execution_count": 5,
   "metadata": {
    "ExecuteTime": {
     "end_time": "2021-06-08T07:52:52.571314Z",
     "start_time": "2021-06-08T07:52:52.459577Z"
    }
   },
   "outputs": [],
   "source": [
    "dataset = load_bank()"
   ]
  },
  {
   "cell_type": "code",
   "execution_count": 16,
   "metadata": {
    "ExecuteTime": {
     "end_time": "2021-06-08T07:54:11.313106Z",
     "start_time": "2021-06-08T07:54:11.310671Z"
    }
   },
   "outputs": [],
   "source": [
    "job = dataset.df_raw[\"job\"]"
   ]
  },
  {
   "cell_type": "code",
   "execution_count": 40,
   "metadata": {
    "ExecuteTime": {
     "end_time": "2021-06-08T09:07:37.062968Z",
     "start_time": "2021-06-08T09:07:37.059372Z"
    }
   },
   "outputs": [
    {
     "data": {
      "text/plain": [
       "CategoricalDtype(categories=['admin.', 'blue-collar', 'entrepreneur', 'housemaid',\n",
       "                  'management', 'retired', 'self-employed', 'services',\n",
       "                  'student', 'technician', 'unemployed', 'unknown'],\n",
       "                 ordered=False)"
      ]
     },
     "execution_count": 40,
     "metadata": {},
     "output_type": "execute_result"
    }
   ],
   "source": [
    "job.dtype"
   ]
  },
  {
   "cell_type": "code",
   "execution_count": 65,
   "metadata": {
    "ExecuteTime": {
     "end_time": "2021-06-08T09:23:48.917567Z",
     "start_time": "2021-06-08T09:23:48.914952Z"
    }
   },
   "outputs": [],
   "source": [
    "df = dataset.df_raw"
   ]
  },
  {
   "cell_type": "code",
   "execution_count": null,
   "metadata": {},
   "outputs": [],
   "source": []
  },
  {
   "cell_type": "code",
   "execution_count": 69,
   "metadata": {
    "ExecuteTime": {
     "end_time": "2021-06-08T09:24:06.757095Z",
     "start_time": "2021-06-08T09:24:06.753261Z"
    }
   },
   "outputs": [
    {
     "data": {
      "text/plain": [
       "'i'"
      ]
     },
     "execution_count": 69,
     "metadata": {},
     "output_type": "execute_result"
    }
   ],
   "source": [
    "df[\"age\"].dtype.kind"
   ]
  },
  {
   "cell_type": "code",
   "execution_count": 78,
   "metadata": {
    "ExecuteTime": {
     "end_time": "2021-06-08T14:20:25.251214Z",
     "start_time": "2021-06-08T14:20:25.247453Z"
    }
   },
   "outputs": [
    {
     "data": {
      "text/plain": [
       "False"
      ]
     },
     "execution_count": 78,
     "metadata": {},
     "output_type": "execute_result"
    }
   ],
   "source": [
    "import numbers\n",
    "\n",
    "isinstance(1.0, numbers.Integral)"
   ]
  },
  {
   "cell_type": "code",
   "execution_count": 72,
   "metadata": {
    "ExecuteTime": {
     "end_time": "2021-06-08T09:24:57.578801Z",
     "start_time": "2021-06-08T09:24:57.539611Z"
    }
   },
   "outputs": [
    {
     "data": {
      "text/html": [
       "<div>\n",
       "<style scoped>\n",
       "    .dataframe tbody tr th:only-of-type {\n",
       "        vertical-align: middle;\n",
       "    }\n",
       "\n",
       "    .dataframe tbody tr th {\n",
       "        vertical-align: top;\n",
       "    }\n",
       "\n",
       "    .dataframe thead th {\n",
       "        text-align: right;\n",
       "    }\n",
       "</style>\n",
       "<table border=\"1\" class=\"dataframe\">\n",
       "  <thead>\n",
       "    <tr style=\"text-align: right;\">\n",
       "      <th></th>\n",
       "      <th>age</th>\n",
       "      <th>job</th>\n",
       "      <th>marital</th>\n",
       "      <th>education</th>\n",
       "      <th>default</th>\n",
       "      <th>balance</th>\n",
       "      <th>housing</th>\n",
       "      <th>loan</th>\n",
       "      <th>contact</th>\n",
       "      <th>day</th>\n",
       "      <th>month</th>\n",
       "      <th>duration</th>\n",
       "      <th>campaign</th>\n",
       "      <th>pdays</th>\n",
       "      <th>previous</th>\n",
       "      <th>poutcome</th>\n",
       "      <th>y</th>\n",
       "    </tr>\n",
       "  </thead>\n",
       "  <tbody>\n",
       "    <tr>\n",
       "      <th>0</th>\n",
       "      <td>58</td>\n",
       "      <td>management</td>\n",
       "      <td>married</td>\n",
       "      <td>tertiary</td>\n",
       "      <td>no</td>\n",
       "      <td>2143</td>\n",
       "      <td>yes</td>\n",
       "      <td>no</td>\n",
       "      <td>unknown</td>\n",
       "      <td>5</td>\n",
       "      <td>may</td>\n",
       "      <td>261</td>\n",
       "      <td>1</td>\n",
       "      <td>-1</td>\n",
       "      <td>0</td>\n",
       "      <td>unknown</td>\n",
       "      <td>no</td>\n",
       "    </tr>\n",
       "    <tr>\n",
       "      <th>1</th>\n",
       "      <td>44</td>\n",
       "      <td>technician</td>\n",
       "      <td>single</td>\n",
       "      <td>secondary</td>\n",
       "      <td>no</td>\n",
       "      <td>29</td>\n",
       "      <td>yes</td>\n",
       "      <td>no</td>\n",
       "      <td>unknown</td>\n",
       "      <td>5</td>\n",
       "      <td>may</td>\n",
       "      <td>151</td>\n",
       "      <td>1</td>\n",
       "      <td>-1</td>\n",
       "      <td>0</td>\n",
       "      <td>unknown</td>\n",
       "      <td>no</td>\n",
       "    </tr>\n",
       "    <tr>\n",
       "      <th>2</th>\n",
       "      <td>33</td>\n",
       "      <td>entrepreneur</td>\n",
       "      <td>married</td>\n",
       "      <td>secondary</td>\n",
       "      <td>no</td>\n",
       "      <td>2</td>\n",
       "      <td>yes</td>\n",
       "      <td>yes</td>\n",
       "      <td>unknown</td>\n",
       "      <td>5</td>\n",
       "      <td>may</td>\n",
       "      <td>76</td>\n",
       "      <td>1</td>\n",
       "      <td>-1</td>\n",
       "      <td>0</td>\n",
       "      <td>unknown</td>\n",
       "      <td>no</td>\n",
       "    </tr>\n",
       "    <tr>\n",
       "      <th>3</th>\n",
       "      <td>47</td>\n",
       "      <td>blue-collar</td>\n",
       "      <td>married</td>\n",
       "      <td>unknown</td>\n",
       "      <td>no</td>\n",
       "      <td>1506</td>\n",
       "      <td>yes</td>\n",
       "      <td>no</td>\n",
       "      <td>unknown</td>\n",
       "      <td>5</td>\n",
       "      <td>may</td>\n",
       "      <td>92</td>\n",
       "      <td>1</td>\n",
       "      <td>-1</td>\n",
       "      <td>0</td>\n",
       "      <td>unknown</td>\n",
       "      <td>no</td>\n",
       "    </tr>\n",
       "    <tr>\n",
       "      <th>4</th>\n",
       "      <td>33</td>\n",
       "      <td>unknown</td>\n",
       "      <td>single</td>\n",
       "      <td>unknown</td>\n",
       "      <td>no</td>\n",
       "      <td>1</td>\n",
       "      <td>no</td>\n",
       "      <td>no</td>\n",
       "      <td>unknown</td>\n",
       "      <td>5</td>\n",
       "      <td>may</td>\n",
       "      <td>198</td>\n",
       "      <td>1</td>\n",
       "      <td>-1</td>\n",
       "      <td>0</td>\n",
       "      <td>unknown</td>\n",
       "      <td>no</td>\n",
       "    </tr>\n",
       "    <tr>\n",
       "      <th>...</th>\n",
       "      <td>...</td>\n",
       "      <td>...</td>\n",
       "      <td>...</td>\n",
       "      <td>...</td>\n",
       "      <td>...</td>\n",
       "      <td>...</td>\n",
       "      <td>...</td>\n",
       "      <td>...</td>\n",
       "      <td>...</td>\n",
       "      <td>...</td>\n",
       "      <td>...</td>\n",
       "      <td>...</td>\n",
       "      <td>...</td>\n",
       "      <td>...</td>\n",
       "      <td>...</td>\n",
       "      <td>...</td>\n",
       "      <td>...</td>\n",
       "    </tr>\n",
       "    <tr>\n",
       "      <th>45206</th>\n",
       "      <td>51</td>\n",
       "      <td>technician</td>\n",
       "      <td>married</td>\n",
       "      <td>tertiary</td>\n",
       "      <td>no</td>\n",
       "      <td>825</td>\n",
       "      <td>no</td>\n",
       "      <td>no</td>\n",
       "      <td>cellular</td>\n",
       "      <td>17</td>\n",
       "      <td>nov</td>\n",
       "      <td>977</td>\n",
       "      <td>3</td>\n",
       "      <td>-1</td>\n",
       "      <td>0</td>\n",
       "      <td>unknown</td>\n",
       "      <td>yes</td>\n",
       "    </tr>\n",
       "    <tr>\n",
       "      <th>45207</th>\n",
       "      <td>71</td>\n",
       "      <td>retired</td>\n",
       "      <td>divorced</td>\n",
       "      <td>primary</td>\n",
       "      <td>no</td>\n",
       "      <td>1729</td>\n",
       "      <td>no</td>\n",
       "      <td>no</td>\n",
       "      <td>cellular</td>\n",
       "      <td>17</td>\n",
       "      <td>nov</td>\n",
       "      <td>456</td>\n",
       "      <td>2</td>\n",
       "      <td>-1</td>\n",
       "      <td>0</td>\n",
       "      <td>unknown</td>\n",
       "      <td>yes</td>\n",
       "    </tr>\n",
       "    <tr>\n",
       "      <th>45208</th>\n",
       "      <td>72</td>\n",
       "      <td>retired</td>\n",
       "      <td>married</td>\n",
       "      <td>secondary</td>\n",
       "      <td>no</td>\n",
       "      <td>5715</td>\n",
       "      <td>no</td>\n",
       "      <td>no</td>\n",
       "      <td>cellular</td>\n",
       "      <td>17</td>\n",
       "      <td>nov</td>\n",
       "      <td>1127</td>\n",
       "      <td>5</td>\n",
       "      <td>184</td>\n",
       "      <td>3</td>\n",
       "      <td>success</td>\n",
       "      <td>yes</td>\n",
       "    </tr>\n",
       "    <tr>\n",
       "      <th>45209</th>\n",
       "      <td>57</td>\n",
       "      <td>blue-collar</td>\n",
       "      <td>married</td>\n",
       "      <td>secondary</td>\n",
       "      <td>no</td>\n",
       "      <td>668</td>\n",
       "      <td>no</td>\n",
       "      <td>no</td>\n",
       "      <td>telephone</td>\n",
       "      <td>17</td>\n",
       "      <td>nov</td>\n",
       "      <td>508</td>\n",
       "      <td>4</td>\n",
       "      <td>-1</td>\n",
       "      <td>0</td>\n",
       "      <td>unknown</td>\n",
       "      <td>no</td>\n",
       "    </tr>\n",
       "    <tr>\n",
       "      <th>45210</th>\n",
       "      <td>37</td>\n",
       "      <td>entrepreneur</td>\n",
       "      <td>married</td>\n",
       "      <td>secondary</td>\n",
       "      <td>no</td>\n",
       "      <td>2971</td>\n",
       "      <td>no</td>\n",
       "      <td>no</td>\n",
       "      <td>cellular</td>\n",
       "      <td>17</td>\n",
       "      <td>nov</td>\n",
       "      <td>361</td>\n",
       "      <td>2</td>\n",
       "      <td>188</td>\n",
       "      <td>11</td>\n",
       "      <td>other</td>\n",
       "      <td>no</td>\n",
       "    </tr>\n",
       "  </tbody>\n",
       "</table>\n",
       "<p>45211 rows × 17 columns</p>\n",
       "</div>"
      ],
      "text/plain": [
       "       age           job   marital  education default  balance housing loan  \\\n",
       "0       58    management   married   tertiary      no     2143     yes   no   \n",
       "1       44    technician    single  secondary      no       29     yes   no   \n",
       "2       33  entrepreneur   married  secondary      no        2     yes  yes   \n",
       "3       47   blue-collar   married    unknown      no     1506     yes   no   \n",
       "4       33       unknown    single    unknown      no        1      no   no   \n",
       "...    ...           ...       ...        ...     ...      ...     ...  ...   \n",
       "45206   51    technician   married   tertiary      no      825      no   no   \n",
       "45207   71       retired  divorced    primary      no     1729      no   no   \n",
       "45208   72       retired   married  secondary      no     5715      no   no   \n",
       "45209   57   blue-collar   married  secondary      no      668      no   no   \n",
       "45210   37  entrepreneur   married  secondary      no     2971      no   no   \n",
       "\n",
       "         contact day month  duration  campaign  pdays  previous poutcome    y  \n",
       "0        unknown   5   may       261         1     -1         0  unknown   no  \n",
       "1        unknown   5   may       151         1     -1         0  unknown   no  \n",
       "2        unknown   5   may        76         1     -1         0  unknown   no  \n",
       "3        unknown   5   may        92         1     -1         0  unknown   no  \n",
       "4        unknown   5   may       198         1     -1         0  unknown   no  \n",
       "...          ...  ..   ...       ...       ...    ...       ...      ...  ...  \n",
       "45206   cellular  17   nov       977         3     -1         0  unknown  yes  \n",
       "45207   cellular  17   nov       456         2     -1         0  unknown  yes  \n",
       "45208   cellular  17   nov      1127         5    184         3  success  yes  \n",
       "45209  telephone  17   nov       508         4     -1         0  unknown   no  \n",
       "45210   cellular  17   nov       361         2    188        11    other   no  \n",
       "\n",
       "[45211 rows x 17 columns]"
      ]
     },
     "execution_count": 72,
     "metadata": {},
     "output_type": "execute_result"
    }
   ],
   "source": [
    "df"
   ]
  },
  {
   "cell_type": "code",
   "execution_count": 76,
   "metadata": {
    "ExecuteTime": {
     "end_time": "2021-06-08T09:26:57.466760Z",
     "start_time": "2021-06-08T09:26:57.463427Z"
    }
   },
   "outputs": [
    {
     "data": {
      "text/plain": [
       "dtype('int64')"
      ]
     },
     "execution_count": 76,
     "metadata": {},
     "output_type": "execute_result"
    }
   ],
   "source": [
    "df[\"balance\"].dtype"
   ]
  },
  {
   "cell_type": "code",
   "execution_count": 74,
   "metadata": {
    "ExecuteTime": {
     "end_time": "2021-06-08T09:25:13.422697Z",
     "start_time": "2021-06-08T09:25:13.401701Z"
    }
   },
   "outputs": [
    {
     "name": "stdout",
     "output_type": "stream",
     "text": [
      "<class 'pandas.core.frame.DataFrame'>\n",
      "RangeIndex: 45211 entries, 0 to 45210\n",
      "Data columns (total 17 columns):\n",
      " #   Column     Non-Null Count  Dtype   \n",
      "---  ------     --------------  -----   \n",
      " 0   age        45211 non-null  int64   \n",
      " 1   job        45211 non-null  category\n",
      " 2   marital    45211 non-null  category\n",
      " 3   education  45211 non-null  category\n",
      " 4   default    45211 non-null  category\n",
      " 5   balance    45211 non-null  int64   \n",
      " 6   housing    45211 non-null  category\n",
      " 7   loan       45211 non-null  category\n",
      " 8   contact    45211 non-null  category\n",
      " 9   day        45211 non-null  category\n",
      " 10  month      45211 non-null  category\n",
      " 11  duration   45211 non-null  int64   \n",
      " 12  campaign   45211 non-null  int64   \n",
      " 13  pdays      45211 non-null  int64   \n",
      " 14  previous   45211 non-null  int64   \n",
      " 15  poutcome   45211 non-null  category\n",
      " 16  y          45211 non-null  object  \n",
      "dtypes: category(10), int64(6), object(1)\n",
      "memory usage: 2.8+ MB\n"
     ]
    }
   ],
   "source": [
    "df.info()"
   ]
  },
  {
   "cell_type": "code",
   "execution_count": 71,
   "metadata": {
    "ExecuteTime": {
     "end_time": "2021-06-08T09:24:34.039030Z",
     "start_time": "2021-06-08T09:24:34.033465Z"
    }
   },
   "outputs": [
    {
     "name": "stdout",
     "output_type": "stream",
     "text": [
      "age int64 i\n",
      "job category O\n",
      "marital category O\n",
      "education category O\n",
      "default category O\n",
      "balance int64 i\n",
      "housing category O\n",
      "loan category O\n",
      "contact category O\n",
      "day category O\n",
      "month category O\n",
      "duration int64 i\n",
      "campaign int64 i\n",
      "pdays int64 i\n",
      "previous int64 i\n",
      "poutcome category O\n",
      "y object O\n"
     ]
    }
   ],
   "source": [
    "for col in df:\n",
    "    print(col, df[col].dtype, df[col].dtype.kind)"
   ]
  },
  {
   "cell_type": "code",
   "execution_count": null,
   "metadata": {},
   "outputs": [],
   "source": []
  },
  {
   "cell_type": "code",
   "execution_count": null,
   "metadata": {},
   "outputs": [],
   "source": []
  },
  {
   "cell_type": "code",
   "execution_count": 63,
   "metadata": {
    "ExecuteTime": {
     "end_time": "2021-06-08T09:23:27.728261Z",
     "start_time": "2021-06-08T09:23:27.725966Z"
    }
   },
   "outputs": [],
   "source": [
    "# hasattr(job, \"cat\")"
   ]
  },
  {
   "cell_type": "code",
   "execution_count": 32,
   "metadata": {
    "ExecuteTime": {
     "end_time": "2021-06-08T09:04:48.822864Z",
     "start_time": "2021-06-08T09:04:48.819314Z"
    }
   },
   "outputs": [
    {
     "data": {
      "text/plain": [
       "(11, 11)"
      ]
     },
     "execution_count": 32,
     "metadata": {},
     "output_type": "execute_result"
    }
   ],
   "source": [
    "df.shape"
   ]
  },
  {
   "cell_type": "code",
   "execution_count": 51,
   "metadata": {
    "ExecuteTime": {
     "end_time": "2021-06-08T09:11:38.840516Z",
     "start_time": "2021-06-08T09:11:38.836537Z"
    },
    "scrolled": true
   },
   "outputs": [
    {
     "data": {
      "text/plain": [
       "Index(['admin.', 'blue-collar', 'entrepreneur', 'housemaid', 'management',\n",
       "       'retired', 'self-employed', 'services', 'student', 'technician',\n",
       "       'unemployed', 'unknown'],\n",
       "      dtype='object')"
      ]
     },
     "execution_count": 51,
     "metadata": {},
     "output_type": "execute_result"
    }
   ],
   "source": [
    "job.dtype.categories"
   ]
  },
  {
   "cell_type": "code",
   "execution_count": 31,
   "metadata": {
    "ExecuteTime": {
     "end_time": "2021-06-08T07:58:07.629228Z",
     "start_time": "2021-06-08T07:58:07.625079Z"
    }
   },
   "outputs": [
    {
     "data": {
      "text/plain": [
       "11"
      ]
     },
     "execution_count": 31,
     "metadata": {},
     "output_type": "execute_result"
    }
   ],
   "source": [
    "job.cat.codes.values.max()"
   ]
  },
  {
   "cell_type": "code",
   "execution_count": 52,
   "metadata": {
    "ExecuteTime": {
     "end_time": "2021-06-08T09:14:42.651445Z",
     "start_time": "2021-06-08T09:14:42.647320Z"
    }
   },
   "outputs": [
    {
     "data": {
      "text/plain": [
       "{0: 'admin.',\n",
       " 1: 'blue-collar',\n",
       " 2: 'entrepreneur',\n",
       " 3: 'housemaid',\n",
       " 4: 'management',\n",
       " 5: 'retired',\n",
       " 6: 'self-employed',\n",
       " 7: 'services',\n",
       " 8: 'student',\n",
       " 9: 'technician',\n",
       " 10: 'unemployed',\n",
       " 11: 'unknown'}"
      ]
     },
     "execution_count": 52,
     "metadata": {},
     "output_type": "execute_result"
    }
   ],
   "source": [
    "dict(enumerate(job.cat.categories))\n"
   ]
  },
  {
   "cell_type": "code",
   "execution_count": 58,
   "metadata": {
    "ExecuteTime": {
     "end_time": "2021-06-08T09:16:56.461058Z",
     "start_time": "2021-06-08T09:16:56.457321Z"
    }
   },
   "outputs": [
    {
     "data": {
      "text/plain": [
       "dtype('int8')"
      ]
     },
     "execution_count": 58,
     "metadata": {},
     "output_type": "execute_result"
    }
   ],
   "source": [
    "job.cat.codes.dtype"
   ]
  },
  {
   "cell_type": "code",
   "execution_count": 53,
   "metadata": {
    "ExecuteTime": {
     "end_time": "2021-06-08T09:14:55.578837Z",
     "start_time": "2021-06-08T09:14:55.572300Z"
    }
   },
   "outputs": [
    {
     "data": {
      "text/plain": [
       "0       management\n",
       "1       technician\n",
       "2     entrepreneur\n",
       "3      blue-collar\n",
       "4          unknown\n",
       "          ...     \n",
       "95      management\n",
       "96     blue-collar\n",
       "97         retired\n",
       "98      technician\n",
       "99      management\n",
       "Name: job, Length: 100, dtype: category\n",
       "Categories (12, object): ['admin.', 'blue-collar', 'entrepreneur', 'housemaid', ..., 'student', 'technician', 'unemployed', 'unknown']"
      ]
     },
     "execution_count": 53,
     "metadata": {},
     "output_type": "execute_result"
    }
   ],
   "source": [
    "job[:100]"
   ]
  },
  {
   "cell_type": "code",
   "execution_count": 56,
   "metadata": {
    "ExecuteTime": {
     "end_time": "2021-06-08T09:15:41.471252Z",
     "start_time": "2021-06-08T09:15:41.462399Z"
    }
   },
   "outputs": [
    {
     "data": {
      "text/plain": [
       "True"
      ]
     },
     "execution_count": 56,
     "metadata": {},
     "output_type": "execute_result"
    }
   ],
   "source": [
    "all(job.cat.categories[job.cat.codes] == job)"
   ]
  },
  {
   "cell_type": "code",
   "execution_count": 62,
   "metadata": {
    "ExecuteTime": {
     "end_time": "2021-06-08T09:18:04.540527Z",
     "start_time": "2021-06-08T09:18:04.535525Z"
    }
   },
   "outputs": [
    {
     "data": {
      "text/plain": [
       "0         binary-classification\n",
       "1         binary-classification\n",
       "2         binary-classification\n",
       "3     multiclass-classification\n",
       "4     multiclass-classification\n",
       "5         binary-classification\n",
       "6         binary-classification\n",
       "7     multiclass-classification\n",
       "8     multiclass-classification\n",
       "9     multiclass-classification\n",
       "10        binary-classification\n",
       "Name: task, dtype: category\n",
       "Categories (2, object): ['binary-classification', 'multiclass-classification']"
      ]
     },
     "execution_count": 62,
     "metadata": {},
     "output_type": "execute_result"
    }
   ],
   "source": [
    "df[\"task\"].astype(\"category\")"
   ]
  },
  {
   "cell_type": "code",
   "execution_count": null,
   "metadata": {},
   "outputs": [],
   "source": []
  },
  {
   "cell_type": "code",
   "execution_count": null,
   "metadata": {
    "ExecuteTime": {
     "end_time": "2021-05-03T09:09:56.951373Z",
     "start_time": "2021-05-03T09:09:41.391088Z"
    }
   },
   "outputs": [],
   "source": [
    "from wildwood.dataset import load_boston"
   ]
  },
  {
   "cell_type": "code",
   "execution_count": null,
   "metadata": {
    "ExecuteTime": {
     "end_time": "2021-05-03T09:09:56.986637Z",
     "start_time": "2021-05-03T09:09:56.953295Z"
    }
   },
   "outputs": [],
   "source": [
    "dataset = load_boston()"
   ]
  },
  {
   "cell_type": "code",
   "execution_count": null,
   "metadata": {
    "ExecuteTime": {
     "end_time": "2021-05-03T09:10:44.611870Z",
     "start_time": "2021-05-03T09:10:44.590804Z"
    },
    "scrolled": false
   },
   "outputs": [],
   "source": [
    "dataset.drop = None\n",
    "dataset.one_hot_encode = True\n",
    "X_train, X_test, y_train, y_test = dataset.extract(random_state=42)"
   ]
  },
  {
   "cell_type": "code",
   "execution_count": null,
   "metadata": {
    "ExecuteTime": {
     "end_time": "2021-05-03T09:10:46.884476Z",
     "start_time": "2021-05-03T09:10:46.880773Z"
    }
   },
   "outputs": [],
   "source": [
    "dataset.columns_"
   ]
  },
  {
   "cell_type": "code",
   "execution_count": null,
   "metadata": {
    "ExecuteTime": {
     "end_time": "2021-05-03T09:10:31.898872Z",
     "start_time": "2021-05-03T09:10:31.895219Z"
    }
   },
   "outputs": [],
   "source": [
    "X_train.shape"
   ]
  },
  {
   "cell_type": "code",
   "execution_count": null,
   "metadata": {
    "ExecuteTime": {
     "end_time": "2021-05-03T09:09:22.807304Z",
     "start_time": "2021-05-03T09:09:22.793064Z"
    }
   },
   "outputs": [],
   "source": [
    "import numpy as np\n",
    "\n",
    "dataset.df_raw.apply(lambda col: np.unique(col).size)"
   ]
  },
  {
   "cell_type": "code",
   "execution_count": null,
   "metadata": {},
   "outputs": [],
   "source": []
  },
  {
   "cell_type": "code",
   "execution_count": null,
   "metadata": {},
   "outputs": [],
   "source": []
  },
  {
   "cell_type": "code",
   "execution_count": null,
   "metadata": {
    "ExecuteTime": {
     "end_time": "2021-05-03T09:07:35.436723Z",
     "start_time": "2021-05-03T09:07:33.816Z"
    }
   },
   "outputs": [],
   "source": [
    "np.finfo(\"float32\").eps"
   ]
  },
  {
   "cell_type": "code",
   "execution_count": null,
   "metadata": {
    "ExecuteTime": {
     "end_time": "2021-05-03T09:07:35.438097Z",
     "start_time": "2021-05-03T09:07:33.817Z"
    }
   },
   "outputs": [],
   "source": [
    "np.finfo(\"float32\").epsneg"
   ]
  },
  {
   "cell_type": "code",
   "execution_count": null,
   "metadata": {},
   "outputs": [],
   "source": []
  },
  {
   "cell_type": "code",
   "execution_count": null,
   "metadata": {
    "ExecuteTime": {
     "end_time": "2021-05-03T09:07:35.439241Z",
     "start_time": "2021-05-03T09:07:33.819Z"
    }
   },
   "outputs": [],
   "source": [
    "from wildwood.dataset import loaders_small_classification\n",
    "\n",
    "for loader in loaders_small_classification:\n",
    "    dataset = loader()\n",
    "    dataset.one_hot_encode = True\n",
    "    X_train, X_test, y_train, y_test = dataset.extract(random_state=42)\n",
    "    print(\"-\" * 32)\n",
    "    print(dataset.name)\n",
    "    print(dataset.categorical_features_)\n",
    "    dataset.one_hot_encode = False\n",
    "    X_train, X_test, y_train, y_test = dataset.extract(random_state=42)\n",
    "    print(dataset.categorical_features_)    "
   ]
  },
  {
   "cell_type": "code",
   "execution_count": null,
   "metadata": {},
   "outputs": [],
   "source": []
  },
  {
   "cell_type": "markdown",
   "metadata": {},
   "source": [
    "# Test for categorical on a small toy data"
   ]
  },
  {
   "cell_type": "code",
   "execution_count": null,
   "metadata": {
    "ExecuteTime": {
     "end_time": "2021-05-03T09:07:35.440367Z",
     "start_time": "2021-05-03T09:07:33.821Z"
    }
   },
   "outputs": [],
   "source": [
    "import numpy as np\n",
    "import pandas as pd\n",
    "\n",
    "X2 = np.repeat(np.arange(5), 20).reshape((-1, 1))\n",
    "X1 = np.repeat(np.arange(2), 50).reshape((-1, 1))\n",
    "y = np.repeat([1, 0, 0, 1, 0], 20)\n",
    "X = np.concatenate([X1, X2], axis=1)"
   ]
  },
  {
   "cell_type": "code",
   "execution_count": null,
   "metadata": {
    "ExecuteTime": {
     "end_time": "2021-05-03T09:07:35.441475Z",
     "start_time": "2021-05-03T09:07:33.822Z"
    }
   },
   "outputs": [],
   "source": [
    "(\n",
    "    pd.DataFrame({\"X1\": X1.ravel(), \"X2\": X2.ravel(), \"y\": y})\n",
    "    .groupby(\"X2\")\n",
    "    .sum()\n",
    "    .reset_index()\n",
    ")"
   ]
  },
  {
   "cell_type": "code",
   "execution_count": null,
   "metadata": {
    "ExecuteTime": {
     "end_time": "2021-05-03T09:07:35.442575Z",
     "start_time": "2021-05-03T09:07:33.823Z"
    }
   },
   "outputs": [],
   "source": [
    "attributes = [\"feature\", \"bin_threshold\", \"bin_partition\", \"y_pred\", \"is_split_categorical\"]"
   ]
  },
  {
   "cell_type": "code",
   "execution_count": null,
   "metadata": {
    "ExecuteTime": {
     "end_time": "2021-05-03T09:07:35.443697Z",
     "start_time": "2021-05-03T09:07:33.824Z"
    }
   },
   "outputs": [],
   "source": [
    "from bokeh.plotting import output_notebook, show\n",
    "from wildwood import ForestClassifier\n",
    "from wildwood.plot import plot_tree\n",
    "\n",
    "output_notebook()\n",
    "\n",
    "clf = ForestClassifier(\n",
    "    n_estimators=1,\n",
    "    random_state=42,\n",
    "    categorical_features=[True, True],\n",
    "    dirichlet=0., \n",
    "    aggregation=False\n",
    ")\n",
    "clf.fit(X, y)\n",
    "fig = plot_tree(clf, height=200, attributes=attributes)\n",
    "show(fig)"
   ]
  },
  {
   "cell_type": "code",
   "execution_count": null,
   "metadata": {
    "ExecuteTime": {
     "end_time": "2021-05-03T09:07:35.444639Z",
     "start_time": "2021-05-03T09:07:33.825Z"
    }
   },
   "outputs": [],
   "source": [
    "clf.predict_proba(np.array([0, 1]).reshape(1, 2))"
   ]
  },
  {
   "cell_type": "code",
   "execution_count": null,
   "metadata": {
    "ExecuteTime": {
     "end_time": "2021-05-03T09:07:35.445815Z",
     "start_time": "2021-05-03T09:07:33.826Z"
    }
   },
   "outputs": [],
   "source": [
    "clf.path_leaf(np.array([0, 1]).reshape(1, 2))[0]"
   ]
  },
  {
   "cell_type": "code",
   "execution_count": null,
   "metadata": {
    "ExecuteTime": {
     "end_time": "2021-05-03T09:07:35.446910Z",
     "start_time": "2021-05-03T09:07:33.827Z"
    }
   },
   "outputs": [],
   "source": [
    "clf = ForestClassifier(\n",
    "    n_estimators=1,\n",
    "    random_state=42,\n",
    "    categorical_features=None,\n",
    "    dirichlet=0.,\n",
    "    aggregation=False\n",
    ")\n",
    "clf.fit(X, y)\n",
    "fig = plot_tree(clf, height=300, attributes=attributes)\n",
    "show(fig)"
   ]
  },
  {
   "cell_type": "code",
   "execution_count": null,
   "metadata": {
    "ExecuteTime": {
     "end_time": "2021-05-03T09:07:35.447955Z",
     "start_time": "2021-05-03T09:07:33.828Z"
    }
   },
   "outputs": [],
   "source": [
    "from sklearn.preprocessing import OneHotEncoder\n",
    "\n",
    "X_onehot = OneHotEncoder(sparse=False).fit_transform(X)\n",
    "clf = ForestClassifier(\n",
    "    max_features=None,\n",
    "    n_estimators=1,\n",
    "    random_state=42,\n",
    "    dirichlet=0.,\n",
    "    aggregation=False,\n",
    "    categorical_features=None)\n",
    "\n",
    "clf.fit(X_onehot, y)\n",
    "fig = plot_tree(clf, height=300, attributes=attributes)\n",
    "show(fig)"
   ]
  },
  {
   "cell_type": "code",
   "execution_count": null,
   "metadata": {
    "ExecuteTime": {
     "end_time": "2021-05-03T09:07:35.449103Z",
     "start_time": "2021-05-03T09:07:33.829Z"
    }
   },
   "outputs": [],
   "source": [
    "X_onehot.shape"
   ]
  },
  {
   "cell_type": "code",
   "execution_count": null,
   "metadata": {
    "ExecuteTime": {
     "end_time": "2021-05-03T09:07:35.450188Z",
     "start_time": "2021-05-03T09:07:33.830Z"
    }
   },
   "outputs": [],
   "source": [
    "X_onehot = OneHotEncoder(sparse=False).fit_transform(X)\n",
    "clf = ForestClassifier(n_estimators=1, random_state=42, categorical_features=[True] * 5)\n",
    "clf.fit(X_onehot, y)\n",
    "fig = plot_tree(clf, height=300)\n",
    "show(fig)"
   ]
  },
  {
   "cell_type": "code",
   "execution_count": null,
   "metadata": {
    "ExecuteTime": {
     "end_time": "2021-04-14T19:38:20.884972Z",
     "start_time": "2021-04-14T19:38:20.823193Z"
    }
   },
   "outputs": [],
   "source": []
  },
  {
   "cell_type": "code",
   "execution_count": null,
   "metadata": {},
   "outputs": [],
   "source": []
  },
  {
   "cell_type": "code",
   "execution_count": null,
   "metadata": {
    "ExecuteTime": {
     "end_time": "2021-05-03T09:07:35.451303Z",
     "start_time": "2021-05-03T09:07:33.832Z"
    },
    "scrolled": true
   },
   "outputs": [],
   "source": [
    "df.columns"
   ]
  },
  {
   "cell_type": "code",
   "execution_count": null,
   "metadata": {
    "ExecuteTime": {
     "end_time": "2021-05-03T09:07:35.452400Z",
     "start_time": "2021-05-03T09:07:33.833Z"
    }
   },
   "outputs": [],
   "source": [
    "df[[\"node_id\", \"left_child\", \"right_child\", \"is_leaf\", \"is_split_categorical\", \"split_partition\", \"y_pred\"]]"
   ]
  },
  {
   "cell_type": "code",
   "execution_count": null,
   "metadata": {
    "ExecuteTime": {
     "end_time": "2021-05-03T09:07:35.453511Z",
     "start_time": "2021-05-03T09:07:33.834Z"
    }
   },
   "outputs": [],
   "source": [
    "clf = ForestClassifier(n_estimators=1, random_state=42, categorical_features=None)\n",
    "clf.fit(X, y)\n",
    "df = clf.get_nodes(0)"
   ]
  },
  {
   "cell_type": "code",
   "execution_count": null,
   "metadata": {
    "ExecuteTime": {
     "end_time": "2021-05-03T09:07:35.454601Z",
     "start_time": "2021-05-03T09:07:33.835Z"
    }
   },
   "outputs": [],
   "source": [
    "df[[\"node_id\", \"left_child\", \"right_child\", \"is_leaf\", \"is_split_categorical\", \"split_partition\", \"y_pred\"]]"
   ]
  },
  {
   "cell_type": "code",
   "execution_count": null,
   "metadata": {
    "ExecuteTime": {
     "end_time": "2021-05-03T09:07:35.455616Z",
     "start_time": "2021-05-03T09:07:33.836Z"
    }
   },
   "outputs": [],
   "source": [
    "from sklearn.preprocessing import OneHotEncoder\n",
    "\n",
    "one_hot_encoder = OneHotEncoder(sparse=False)"
   ]
  },
  {
   "cell_type": "code",
   "execution_count": null,
   "metadata": {
    "ExecuteTime": {
     "end_time": "2021-05-03T09:07:35.456814Z",
     "start_time": "2021-05-03T09:07:33.837Z"
    }
   },
   "outputs": [],
   "source": [
    "\n",
    "df = clf.get_nodes(0)"
   ]
  },
  {
   "cell_type": "code",
   "execution_count": null,
   "metadata": {
    "ExecuteTime": {
     "end_time": "2021-04-14T16:01:07.131861Z",
     "start_time": "2021-04-14T16:01:06.722445Z"
    }
   },
   "outputs": [],
   "source": []
  },
  {
   "cell_type": "code",
   "execution_count": null,
   "metadata": {
    "ExecuteTime": {
     "end_time": "2021-05-03T09:07:35.457905Z",
     "start_time": "2021-05-03T09:07:33.839Z"
    }
   },
   "outputs": [],
   "source": [
    "df[[\"node_id\", \"left_child\", \"right_child\", \"is_leaf\", \"is_split_categorical\", \"split_partition\", \"y_pred\"]]"
   ]
  },
  {
   "cell_type": "code",
   "execution_count": null,
   "metadata": {},
   "outputs": [],
   "source": []
  },
  {
   "cell_type": "code",
   "execution_count": null,
   "metadata": {
    "ExecuteTime": {
     "end_time": "2021-05-03T09:07:35.459011Z",
     "start_time": "2021-05-03T09:07:33.841Z"
    }
   },
   "outputs": [],
   "source": [
    "aaa"
   ]
  },
  {
   "cell_type": "code",
   "execution_count": null,
   "metadata": {
    "ExecuteTime": {
     "end_time": "2021-05-03T09:07:35.460016Z",
     "start_time": "2021-05-03T09:07:33.842Z"
    }
   },
   "outputs": [],
   "source": [
    "str(np.array([1, 4, 2], dtype=np.uint8))"
   ]
  },
  {
   "cell_type": "code",
   "execution_count": null,
   "metadata": {
    "ExecuteTime": {
     "end_time": "2021-05-03T09:07:35.461081Z",
     "start_time": "2021-05-03T09:07:33.843Z"
    }
   },
   "outputs": [],
   "source": [
    "clf.predict_proba(X)"
   ]
  },
  {
   "cell_type": "code",
   "execution_count": null,
   "metadata": {
    "ExecuteTime": {
     "end_time": "2021-05-03T09:07:35.462247Z",
     "start_time": "2021-05-03T09:07:33.844Z"
    }
   },
   "outputs": [],
   "source": [
    "clf = ForestClassifier(n_estimators=1, random_state=42, categorical_features=[True])"
   ]
  },
  {
   "cell_type": "code",
   "execution_count": null,
   "metadata": {
    "ExecuteTime": {
     "end_time": "2021-05-03T09:07:35.463284Z",
     "start_time": "2021-05-03T09:07:33.845Z"
    }
   },
   "outputs": [],
   "source": [
    "clf.fit(X, y)"
   ]
  },
  {
   "cell_type": "code",
   "execution_count": null,
   "metadata": {},
   "outputs": [],
   "source": []
  },
  {
   "cell_type": "code",
   "execution_count": null,
   "metadata": {
    "ExecuteTime": {
     "end_time": "2021-05-03T09:07:35.464348Z",
     "start_time": "2021-05-03T09:07:33.847Z"
    }
   },
   "outputs": [],
   "source": [
    "df.describe(include=\"all\")"
   ]
  },
  {
   "cell_type": "code",
   "execution_count": null,
   "metadata": {
    "ExecuteTime": {
     "end_time": "2021-05-03T09:07:35.465321Z",
     "start_time": "2021-05-03T09:07:33.848Z"
    }
   },
   "outputs": [],
   "source": [
    "dataset.one_hot_encode = False\n",
    "\n",
    "X_train, X_test, y_train, y_test = dataset.extract(random_state=42)"
   ]
  },
  {
   "cell_type": "code",
   "execution_count": null,
   "metadata": {
    "ExecuteTime": {
     "end_time": "2021-05-03T09:07:35.466488Z",
     "start_time": "2021-05-03T09:07:33.849Z"
    }
   },
   "outputs": [],
   "source": [
    "dataset.categorical_columns_"
   ]
  },
  {
   "cell_type": "code",
   "execution_count": null,
   "metadata": {
    "ExecuteTime": {
     "end_time": "2021-05-03T09:07:35.467560Z",
     "start_time": "2021-05-03T09:07:33.850Z"
    }
   },
   "outputs": [],
   "source": [
    "dataset.categorical_features_"
   ]
  },
  {
   "cell_type": "code",
   "execution_count": null,
   "metadata": {
    "ExecuteTime": {
     "end_time": "2021-05-03T09:07:35.468671Z",
     "start_time": "2021-05-03T09:07:33.851Z"
    }
   },
   "outputs": [],
   "source": [
    "import numpy as np\n",
    "\n",
    "np.unique(X_train[:, 9])"
   ]
  },
  {
   "cell_type": "code",
   "execution_count": null,
   "metadata": {
    "ExecuteTime": {
     "end_time": "2021-05-03T09:07:35.469722Z",
     "start_time": "2021-05-03T09:07:33.852Z"
    }
   },
   "outputs": [],
   "source": [
    "X_train[1:100, 12]"
   ]
  },
  {
   "cell_type": "code",
   "execution_count": null,
   "metadata": {
    "ExecuteTime": {
     "end_time": "2021-05-03T09:07:35.470949Z",
     "start_time": "2021-05-03T09:07:33.853Z"
    }
   },
   "outputs": [],
   "source": [
    "categorical_features[18]"
   ]
  },
  {
   "cell_type": "code",
   "execution_count": null,
   "metadata": {
    "ExecuteTime": {
     "end_time": "2021-05-03T09:07:35.472088Z",
     "start_time": "2021-05-03T09:07:33.854Z"
    }
   },
   "outputs": [],
   "source": [
    "np.unique(X_train[:, 18]).size"
   ]
  },
  {
   "cell_type": "code",
   "execution_count": null,
   "metadata": {
    "ExecuteTime": {
     "end_time": "2021-05-03T09:07:35.473154Z",
     "start_time": "2021-05-03T09:07:33.855Z"
    }
   },
   "outputs": [],
   "source": [
    "X_train[:, 2].shape"
   ]
  },
  {
   "cell_type": "code",
   "execution_count": null,
   "metadata": {
    "ExecuteTime": {
     "end_time": "2021-05-03T09:07:35.474331Z",
     "start_time": "2021-05-03T09:07:33.856Z"
    }
   },
   "outputs": [],
   "source": [
    "import numpy as np\n",
    "\n",
    "n_features = X_train.shape[1]\n",
    "\n",
    "categorical_features = np.zeros(n_features, dtype=np.bool)"
   ]
  },
  {
   "cell_type": "code",
   "execution_count": null,
   "metadata": {
    "ExecuteTime": {
     "end_time": "2021-05-03T09:07:35.475370Z",
     "start_time": "2021-05-03T09:07:33.858Z"
    }
   },
   "outputs": [],
   "source": [
    "categorical_features[-dataset.n_features_categorical_:] = True"
   ]
  },
  {
   "cell_type": "code",
   "execution_count": null,
   "metadata": {
    "ExecuteTime": {
     "end_time": "2021-05-03T09:07:35.476521Z",
     "start_time": "2021-05-03T09:07:33.859Z"
    }
   },
   "outputs": [],
   "source": [
    "categorical_features"
   ]
  },
  {
   "cell_type": "code",
   "execution_count": null,
   "metadata": {
    "ExecuteTime": {
     "end_time": "2021-05-03T09:07:35.477671Z",
     "start_time": "2021-05-03T09:07:33.860Z"
    }
   },
   "outputs": [],
   "source": [
    "from wildwood import ForestClassifier\n",
    "\n",
    "clf = ForestClassifier(categorical_features=categorical_features)"
   ]
  },
  {
   "cell_type": "code",
   "execution_count": null,
   "metadata": {
    "ExecuteTime": {
     "end_time": "2021-05-03T09:07:35.478843Z",
     "start_time": "2021-05-03T09:07:33.861Z"
    },
    "scrolled": false
   },
   "outputs": [],
   "source": [
    "clf._check_categories(X_train)"
   ]
  },
  {
   "cell_type": "code",
   "execution_count": null,
   "metadata": {
    "ExecuteTime": {
     "end_time": "2021-05-03T09:07:35.480515Z",
     "start_time": "2021-05-03T09:07:33.861Z"
    },
    "scrolled": false
   },
   "outputs": [],
   "source": [
    "dataset.one_hot_encode = False\n",
    "\n",
    "dataset.extract(random_state=42)"
   ]
  },
  {
   "cell_type": "code",
   "execution_count": null,
   "metadata": {
    "ExecuteTime": {
     "end_time": "2021-05-03T09:07:35.481705Z",
     "start_time": "2021-05-03T09:07:33.862Z"
    }
   },
   "outputs": [],
   "source": [
    "dataset.transformer.transformer_list"
   ]
  },
  {
   "cell_type": "code",
   "execution_count": null,
   "metadata": {
    "ExecuteTime": {
     "end_time": "2021-05-03T09:07:35.482870Z",
     "start_time": "2021-05-03T09:07:33.863Z"
    }
   },
   "outputs": [],
   "source": [
    "ordinal_encoder = dataset.transformer.transformer_list[1][1].transformers[0][1]"
   ]
  },
  {
   "cell_type": "code",
   "execution_count": null,
   "metadata": {
    "ExecuteTime": {
     "end_time": "2021-05-03T09:07:35.484004Z",
     "start_time": "2021-05-03T09:07:33.864Z"
    }
   },
   "outputs": [],
   "source": [
    "ordinal_encoder.categories"
   ]
  },
  {
   "cell_type": "code",
   "execution_count": null,
   "metadata": {
    "ExecuteTime": {
     "end_time": "2021-05-03T09:07:35.485291Z",
     "start_time": "2021-05-03T09:07:33.865Z"
    }
   },
   "outputs": [],
   "source": [
    "ordinal_encoder.categories_"
   ]
  },
  {
   "cell_type": "code",
   "execution_count": null,
   "metadata": {},
   "outputs": [],
   "source": []
  },
  {
   "cell_type": "code",
   "execution_count": null,
   "metadata": {
    "ExecuteTime": {
     "end_time": "2021-05-03T09:07:35.486546Z",
     "start_time": "2021-05-03T09:07:33.867Z"
    }
   },
   "outputs": [],
   "source": [
    "from wildwood._binning import Binner"
   ]
  },
  {
   "cell_type": "code",
   "execution_count": null,
   "metadata": {
    "ExecuteTime": {
     "end_time": "2021-05-03T09:07:35.487567Z",
     "start_time": "2021-05-03T09:07:33.868Z"
    }
   },
   "outputs": [],
   "source": [
    "binner = Binner()"
   ]
  },
  {
   "cell_type": "code",
   "execution_count": null,
   "metadata": {
    "ExecuteTime": {
     "end_time": "2021-05-03T09:07:35.488904Z",
     "start_time": "2021-05-03T09:07:33.868Z"
    },
    "scrolled": false
   },
   "outputs": [],
   "source": [
    "binner.fit_transform(df)"
   ]
  },
  {
   "cell_type": "code",
   "execution_count": null,
   "metadata": {
    "ExecuteTime": {
     "end_time": "2021-05-03T09:07:35.490292Z",
     "start_time": "2021-05-03T09:07:33.869Z"
    }
   },
   "outputs": [],
   "source": [
    "df = dataset.df_raw"
   ]
  },
  {
   "cell_type": "code",
   "execution_count": null,
   "metadata": {
    "ExecuteTime": {
     "end_time": "2021-05-03T09:07:35.491446Z",
     "start_time": "2021-05-03T09:07:33.870Z"
    }
   },
   "outputs": [],
   "source": [
    "df.dtypes"
   ]
  },
  {
   "cell_type": "code",
   "execution_count": null,
   "metadata": {},
   "outputs": [],
   "source": []
  },
  {
   "cell_type": "code",
   "execution_count": null,
   "metadata": {
    "ExecuteTime": {
     "end_time": "2021-05-03T09:07:35.492608Z",
     "start_time": "2021-05-03T09:07:33.871Z"
    }
   },
   "outputs": [],
   "source": [
    "df.head()"
   ]
  },
  {
   "cell_type": "code",
   "execution_count": null,
   "metadata": {
    "ExecuteTime": {
     "end_time": "2021-05-03T09:07:35.493760Z",
     "start_time": "2021-05-03T09:07:33.872Z"
    }
   },
   "outputs": [],
   "source": [
    "df.to_csv(\"dataset-small-classification.csv.gz\", index=False)"
   ]
  },
  {
   "cell_type": "code",
   "execution_count": null,
   "metadata": {
    "ExecuteTime": {
     "end_time": "2021-05-03T09:07:35.494949Z",
     "start_time": "2021-05-03T09:07:33.873Z"
    }
   },
   "outputs": [],
   "source": [
    "df = describe_datasets(include=\"small-regression\")"
   ]
  },
  {
   "cell_type": "code",
   "execution_count": null,
   "metadata": {
    "ExecuteTime": {
     "end_time": "2021-05-03T09:07:35.495964Z",
     "start_time": "2021-05-03T09:07:33.874Z"
    }
   },
   "outputs": [],
   "source": [
    "df"
   ]
  },
  {
   "cell_type": "code",
   "execution_count": null,
   "metadata": {
    "ExecuteTime": {
     "end_time": "2021-05-03T09:07:35.497169Z",
     "start_time": "2021-05-03T09:07:33.875Z"
    }
   },
   "outputs": [],
   "source": [
    "df.to_csv(\"dataset-small-regression.csv.gz\", index=False)"
   ]
  },
  {
   "cell_type": "code",
   "execution_count": null,
   "metadata": {
    "ExecuteTime": {
     "end_time": "2021-05-03T09:07:35.498276Z",
     "start_time": "2021-05-03T09:07:33.876Z"
    }
   },
   "outputs": [],
   "source": [
    "import pandas as pd\n",
    "\n",
    "pd.read_csv(\"dataset-small-regression.csv.gz\")"
   ]
  },
  {
   "cell_type": "code",
   "execution_count": null,
   "metadata": {
    "ExecuteTime": {
     "end_time": "2021-05-03T09:07:35.499395Z",
     "start_time": "2021-05-03T09:07:33.877Z"
    }
   },
   "outputs": [],
   "source": [
    "pwd"
   ]
  },
  {
   "cell_type": "code",
   "execution_count": null,
   "metadata": {},
   "outputs": [],
   "source": []
  },
  {
   "cell_type": "code",
   "execution_count": null,
   "metadata": {
    "ExecuteTime": {
     "end_time": "2021-05-03T09:07:35.500641Z",
     "start_time": "2021-05-03T09:07:33.878Z"
    }
   },
   "outputs": [],
   "source": [
    "ls -rtl"
   ]
  },
  {
   "cell_type": "code",
   "execution_count": null,
   "metadata": {
    "ExecuteTime": {
     "end_time": "2021-05-03T09:07:35.501759Z",
     "start_time": "2021-05-03T09:07:33.879Z"
    }
   },
   "outputs": [],
   "source": [
    "from wildwood.dataset import datasets_description\n",
    "\n",
    "df_datasets = datasets_description(include=\"small-classification\")\n",
    "df_datasets"
   ]
  },
  {
   "cell_type": "code",
   "execution_count": null,
   "metadata": {
    "ExecuteTime": {
     "end_time": "2021-05-03T09:07:35.502933Z",
     "start_time": "2021-05-03T09:07:33.880Z"
    }
   },
   "outputs": [],
   "source": [
    "df_datasets = datasets_description(include=\"small-regression\")\n",
    "df_datasets"
   ]
  },
  {
   "cell_type": "code",
   "execution_count": null,
   "metadata": {
    "ExecuteTime": {
     "end_time": "2021-04-12T12:32:27.990523Z",
     "start_time": "2021-04-12T12:32:26.800520Z"
    },
    "scrolled": false
   },
   "outputs": [],
   "source": []
  },
  {
   "cell_type": "code",
   "execution_count": null,
   "metadata": {
    "ExecuteTime": {
     "end_time": "2021-04-12T12:32:30.310855Z",
     "start_time": "2021-04-12T12:32:30.294222Z"
    }
   },
   "outputs": [],
   "source": []
  },
  {
   "cell_type": "code",
   "execution_count": null,
   "metadata": {},
   "outputs": [],
   "source": []
  },
  {
   "cell_type": "code",
   "execution_count": null,
   "metadata": {},
   "outputs": [],
   "source": []
  },
  {
   "cell_type": "code",
   "execution_count": null,
   "metadata": {
    "ExecuteTime": {
     "end_time": "2021-05-03T09:07:35.504033Z",
     "start_time": "2021-05-03T09:07:33.882Z"
    }
   },
   "outputs": [],
   "source": [
    "df_datasets.loc[df_datasets[\"task\"] == \"regression\"]"
   ]
  },
  {
   "cell_type": "code",
   "execution_count": null,
   "metadata": {
    "ExecuteTime": {
     "end_time": "2021-05-03T09:07:35.505422Z",
     "start_time": "2021-05-03T09:07:33.883Z"
    }
   },
   "outputs": [],
   "source": [
    ".iloc(df_datasets[\"task\"] == \"regression\")"
   ]
  },
  {
   "cell_type": "code",
   "execution_count": null,
   "metadata": {
    "ExecuteTime": {
     "end_time": "2021-05-03T09:07:35.506503Z",
     "start_time": "2021-05-03T09:07:33.884Z"
    }
   },
   "outputs": [],
   "source": [
    "dataset = load_churn()"
   ]
  },
  {
   "cell_type": "code",
   "execution_count": null,
   "metadata": {
    "ExecuteTime": {
     "end_time": "2021-05-03T09:07:35.507681Z",
     "start_time": "2021-05-03T09:07:33.885Z"
    }
   },
   "outputs": [],
   "source": [
    "dataset.df_raw.head()"
   ]
  },
  {
   "cell_type": "code",
   "execution_count": null,
   "metadata": {},
   "outputs": [],
   "source": []
  },
  {
   "cell_type": "code",
   "execution_count": null,
   "metadata": {
    "ExecuteTime": {
     "end_time": "2021-05-03T09:07:35.508876Z",
     "start_time": "2021-05-03T09:07:33.886Z"
    }
   },
   "outputs": [],
   "source": [
    "import numpy as np\n",
    "import pandas as pd\n",
    "\n",
    "from wildwood._binning import Binner"
   ]
  },
  {
   "cell_type": "code",
   "execution_count": null,
   "metadata": {
    "ExecuteTime": {
     "end_time": "2021-05-03T09:07:35.510163Z",
     "start_time": "2021-05-03T09:07:33.887Z"
    }
   },
   "outputs": [],
   "source": [
    "df = pd.DataFrame({\n",
    "    \"A\": [\"a\", \"b\", \"a\", \"a\"],\n",
    "    \"B\": [0.1, 0.2, 0.1, 0.3]\n",
    "})"
   ]
  },
  {
   "cell_type": "code",
   "execution_count": null,
   "metadata": {
    "ExecuteTime": {
     "end_time": "2021-05-03T09:07:35.511296Z",
     "start_time": "2021-05-03T09:07:33.888Z"
    }
   },
   "outputs": [],
   "source": [
    "df.dtypes"
   ]
  },
  {
   "cell_type": "code",
   "execution_count": null,
   "metadata": {
    "ExecuteTime": {
     "end_time": "2021-05-03T09:07:35.512751Z",
     "start_time": "2021-05-03T09:07:33.888Z"
    }
   },
   "outputs": [],
   "source": [
    "df[\"A\"] = df[\"A\"].astype(\"category\")"
   ]
  },
  {
   "cell_type": "code",
   "execution_count": null,
   "metadata": {
    "ExecuteTime": {
     "end_time": "2021-05-03T09:07:35.514006Z",
     "start_time": "2021-05-03T09:07:33.889Z"
    }
   },
   "outputs": [],
   "source": [
    "df.dtypes"
   ]
  },
  {
   "cell_type": "code",
   "execution_count": null,
   "metadata": {
    "ExecuteTime": {
     "end_time": "2021-05-03T09:07:35.515078Z",
     "start_time": "2021-05-03T09:07:33.890Z"
    }
   },
   "outputs": [],
   "source": [
    "binner = Binner()"
   ]
  },
  {
   "cell_type": "code",
   "execution_count": null,
   "metadata": {
    "ExecuteTime": {
     "end_time": "2021-05-03T09:07:35.516270Z",
     "start_time": "2021-05-03T09:07:33.891Z"
    }
   },
   "outputs": [],
   "source": [
    "binner.fit_transform(df)"
   ]
  },
  {
   "cell_type": "code",
   "execution_count": null,
   "metadata": {
    "ExecuteTime": {
     "end_time": "2021-04-12T10:05:47.268179Z",
     "start_time": "2021-04-12T10:05:44.304121Z"
    }
   },
   "outputs": [],
   "source": []
  },
  {
   "cell_type": "code",
   "execution_count": null,
   "metadata": {
    "ExecuteTime": {
     "end_time": "2021-04-12T10:05:52.872923Z",
     "start_time": "2021-04-12T10:05:52.857356Z"
    }
   },
   "outputs": [],
   "source": []
  },
  {
   "cell_type": "code",
   "execution_count": null,
   "metadata": {
    "ExecuteTime": {
     "end_time": "2021-05-03T09:07:35.517487Z",
     "start_time": "2021-05-03T09:07:33.892Z"
    }
   },
   "outputs": [],
   "source": [
    "print(data[\"DESCR\"])"
   ]
  },
  {
   "cell_type": "code",
   "execution_count": null,
   "metadata": {
    "ExecuteTime": {
     "end_time": "2021-05-03T09:07:35.518675Z",
     "start_time": "2021-05-03T09:07:33.893Z"
    }
   },
   "outputs": [],
   "source": [
    "from sklearn.datasets import load_breast_cancer\n",
    "\n",
    "data = load_breast_cancer(as_frame=True)\n",
    "data[\"frame\"]\n"
   ]
  },
  {
   "cell_type": "code",
   "execution_count": null,
   "metadata": {
    "ExecuteTime": {
     "end_time": "2021-04-12T10:00:57.330838Z",
     "start_time": "2021-04-12T10:00:57.303578Z"
    }
   },
   "outputs": [],
   "source": []
  },
  {
   "cell_type": "code",
   "execution_count": null,
   "metadata": {
    "ExecuteTime": {
     "end_time": "2021-05-03T09:07:35.520059Z",
     "start_time": "2021-05-03T09:07:33.894Z"
    }
   },
   "outputs": [],
   "source": [
    "data[\"frame\"].info()"
   ]
  },
  {
   "cell_type": "code",
   "execution_count": null,
   "metadata": {},
   "outputs": [],
   "source": []
  },
  {
   "cell_type": "code",
   "execution_count": null,
   "metadata": {
    "ExecuteTime": {
     "end_time": "2021-05-03T09:07:35.521335Z",
     "start_time": "2021-05-03T09:07:33.896Z"
    },
    "scrolled": false
   },
   "outputs": [],
   "source": [
    "print(data[\"DESCR\"])"
   ]
  },
  {
   "cell_type": "code",
   "execution_count": null,
   "metadata": {
    "ExecuteTime": {
     "end_time": "2021-05-03T09:07:35.522500Z",
     "start_time": "2021-05-03T09:07:33.897Z"
    }
   },
   "outputs": [],
   "source": [
    "from sklearn.datasets import load_diabetes, load_boston\n",
    "\n",
    "data = load_boston()"
   ]
  },
  {
   "cell_type": "code",
   "execution_count": null,
   "metadata": {
    "ExecuteTime": {
     "end_time": "2021-05-03T09:07:35.523641Z",
     "start_time": "2021-05-03T09:07:33.898Z"
    }
   },
   "outputs": [],
   "source": [
    "data.keys()"
   ]
  },
  {
   "cell_type": "code",
   "execution_count": null,
   "metadata": {
    "ExecuteTime": {
     "end_time": "2021-05-03T09:07:35.524794Z",
     "start_time": "2021-05-03T09:07:33.898Z"
    }
   },
   "outputs": [],
   "source": [
    "import pandas as pd\n",
    "\n",
    "df = pd.DataFrame(data[\"data\"], columns=data[\"feature_names\"])\n",
    "df[\"target\"] = data[\"target\"]"
   ]
  },
  {
   "cell_type": "code",
   "execution_count": null,
   "metadata": {
    "ExecuteTime": {
     "end_time": "2021-05-03T09:07:35.526010Z",
     "start_time": "2021-05-03T09:07:33.899Z"
    }
   },
   "outputs": [],
   "source": [
    "df.info()"
   ]
  },
  {
   "cell_type": "code",
   "execution_count": null,
   "metadata": {
    "ExecuteTime": {
     "end_time": "2021-05-03T09:07:35.527177Z",
     "start_time": "2021-05-03T09:07:33.900Z"
    }
   },
   "outputs": [],
   "source": [
    "df.head()"
   ]
  },
  {
   "cell_type": "code",
   "execution_count": null,
   "metadata": {
    "ExecuteTime": {
     "end_time": "2021-05-03T09:07:35.528232Z",
     "start_time": "2021-05-03T09:07:33.901Z"
    }
   },
   "outputs": [],
   "source": [
    "print(data[\"DESCR\"])"
   ]
  },
  {
   "cell_type": "code",
   "execution_count": null,
   "metadata": {
    "ExecuteTime": {
     "end_time": "2021-05-03T09:07:35.529382Z",
     "start_time": "2021-05-03T09:07:33.902Z"
    }
   },
   "outputs": [],
   "source": [
    "truc[\"frame\"]"
   ]
  },
  {
   "cell_type": "code",
   "execution_count": null,
   "metadata": {
    "ExecuteTime": {
     "end_time": "2021-05-03T09:07:35.530445Z",
     "start_time": "2021-05-03T09:07:33.902Z"
    }
   },
   "outputs": [],
   "source": [
    "truc[\"target\"]"
   ]
  },
  {
   "cell_type": "code",
   "execution_count": null,
   "metadata": {
    "ExecuteTime": {
     "end_time": "2021-05-03T09:07:35.531613Z",
     "start_time": "2021-05-03T09:07:33.903Z"
    }
   },
   "outputs": [],
   "source": [
    "truc.keys()"
   ]
  },
  {
   "cell_type": "code",
   "execution_count": null,
   "metadata": {
    "ExecuteTime": {
     "end_time": "2021-05-03T09:07:35.532715Z",
     "start_time": "2021-05-03T09:07:33.904Z"
    }
   },
   "outputs": [],
   "source": [
    "truc[\"frame\"]"
   ]
  },
  {
   "cell_type": "code",
   "execution_count": null,
   "metadata": {
    "ExecuteTime": {
     "end_time": "2021-05-03T09:07:35.533790Z",
     "start_time": "2021-05-03T09:07:33.904Z"
    }
   },
   "outputs": [],
   "source": [
    "truc[\"frame\"].dtypes"
   ]
  },
  {
   "cell_type": "code",
   "execution_count": null,
   "metadata": {
    "ExecuteTime": {
     "end_time": "2021-05-03T09:07:35.534934Z",
     "start_time": "2021-05-03T09:07:33.905Z"
    }
   },
   "outputs": [],
   "source": [
    "import numpy as np"
   ]
  },
  {
   "cell_type": "code",
   "execution_count": null,
   "metadata": {
    "ExecuteTime": {
     "end_time": "2021-05-03T09:07:35.535930Z",
     "start_time": "2021-05-03T09:07:33.906Z"
    }
   },
   "outputs": [],
   "source": [
    "np.repeat(np.array([2, 1, 17, 3]), repeats=3)"
   ]
  },
  {
   "cell_type": "code",
   "execution_count": null,
   "metadata": {},
   "outputs": [],
   "source": []
  },
  {
   "cell_type": "code",
   "execution_count": null,
   "metadata": {},
   "outputs": [],
   "source": []
  }
 ],
 "metadata": {
  "kernelspec": {
   "display_name": "Python 3",
   "language": "python",
   "name": "python3"
  },
  "language_info": {
   "codemirror_mode": {
    "name": "ipython",
    "version": 3
   },
   "file_extension": ".py",
   "mimetype": "text/x-python",
   "name": "python",
   "nbconvert_exporter": "python",
   "pygments_lexer": "ipython3",
   "version": "3.7.9"
  },
  "toc": {
   "base_numbering": 1,
   "nav_menu": {},
   "number_sections": true,
   "sideBar": true,
   "skip_h1_title": true,
   "title_cell": "Table of Contents",
   "title_sidebar": "Contents",
   "toc_cell": true,
   "toc_position": {},
   "toc_section_display": true,
   "toc_window_display": false
  }
 },
 "nbformat": 4,
 "nbformat_minor": 4
}