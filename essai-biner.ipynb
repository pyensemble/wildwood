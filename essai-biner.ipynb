{
 "cells": [
  {
   "cell_type": "code",
   "execution_count": 1,
   "metadata": {
    "ExecuteTime": {
     "end_time": "2021-04-21T20:17:12.350407Z",
     "start_time": "2021-04-21T20:16:55.989255Z"
    },
    "scrolled": true
   },
   "outputs": [
    {
     "data": {
      "text/html": [
       "<div>\n",
       "<style scoped>\n",
       "    .dataframe tbody tr th:only-of-type {\n",
       "        vertical-align: middle;\n",
       "    }\n",
       "\n",
       "    .dataframe tbody tr th {\n",
       "        vertical-align: top;\n",
       "    }\n",
       "\n",
       "    .dataframe thead th {\n",
       "        text-align: right;\n",
       "    }\n",
       "</style>\n",
       "<table border=\"1\" class=\"dataframe\">\n",
       "  <thead>\n",
       "    <tr style=\"text-align: right;\">\n",
       "      <th></th>\n",
       "      <th>dataset</th>\n",
       "      <th>task</th>\n",
       "      <th>n_samples</th>\n",
       "      <th>n_samples_train</th>\n",
       "      <th>n_samples_test</th>\n",
       "      <th>n_features_cat</th>\n",
       "      <th>n_features_cont</th>\n",
       "      <th>n_features</th>\n",
       "      <th>n_classes</th>\n",
       "      <th>n_columns</th>\n",
       "      <th>scaled_gini</th>\n",
       "    </tr>\n",
       "  </thead>\n",
       "  <tbody>\n",
       "    <tr>\n",
       "      <th>0</th>\n",
       "      <td>adult</td>\n",
       "      <td>binary-classification</td>\n",
       "      <td>32561</td>\n",
       "      <td>22792</td>\n",
       "      <td>9769</td>\n",
       "      <td>8</td>\n",
       "      <td>6</td>\n",
       "      <td>14</td>\n",
       "      <td>2</td>\n",
       "      <td>100</td>\n",
       "      <td>0.731281</td>\n",
       "    </tr>\n",
       "    <tr>\n",
       "      <th>1</th>\n",
       "      <td>bank</td>\n",
       "      <td>binary-classification</td>\n",
       "      <td>45211</td>\n",
       "      <td>31647</td>\n",
       "      <td>13564</td>\n",
       "      <td>10</td>\n",
       "      <td>6</td>\n",
       "      <td>16</td>\n",
       "      <td>2</td>\n",
       "      <td>71</td>\n",
       "      <td>0.413197</td>\n",
       "    </tr>\n",
       "    <tr>\n",
       "      <th>2</th>\n",
       "      <td>breastcancer</td>\n",
       "      <td>binary-classification</td>\n",
       "      <td>569</td>\n",
       "      <td>398</td>\n",
       "      <td>171</td>\n",
       "      <td>0</td>\n",
       "      <td>30</td>\n",
       "      <td>30</td>\n",
       "      <td>2</td>\n",
       "      <td>30</td>\n",
       "      <td>0.935060</td>\n",
       "    </tr>\n",
       "    <tr>\n",
       "      <th>3</th>\n",
       "      <td>car</td>\n",
       "      <td>multiclass-classification</td>\n",
       "      <td>1728</td>\n",
       "      <td>1209</td>\n",
       "      <td>519</td>\n",
       "      <td>6</td>\n",
       "      <td>0</td>\n",
       "      <td>6</td>\n",
       "      <td>4</td>\n",
       "      <td>15</td>\n",
       "      <td>0.609712</td>\n",
       "    </tr>\n",
       "    <tr>\n",
       "      <th>4</th>\n",
       "      <td>cardio</td>\n",
       "      <td>multiclass-classification</td>\n",
       "      <td>2126</td>\n",
       "      <td>1488</td>\n",
       "      <td>638</td>\n",
       "      <td>0</td>\n",
       "      <td>35</td>\n",
       "      <td>35</td>\n",
       "      <td>10</td>\n",
       "      <td>34</td>\n",
       "      <td>0.932641</td>\n",
       "    </tr>\n",
       "    <tr>\n",
       "      <th>5</th>\n",
       "      <td>churn</td>\n",
       "      <td>binary-classification</td>\n",
       "      <td>3333</td>\n",
       "      <td>2333</td>\n",
       "      <td>1000</td>\n",
       "      <td>4</td>\n",
       "      <td>15</td>\n",
       "      <td>19</td>\n",
       "      <td>2</td>\n",
       "      <td>69</td>\n",
       "      <td>0.495657</td>\n",
       "    </tr>\n",
       "    <tr>\n",
       "      <th>6</th>\n",
       "      <td>default-cb</td>\n",
       "      <td>binary-classification</td>\n",
       "      <td>30000</td>\n",
       "      <td>21000</td>\n",
       "      <td>9000</td>\n",
       "      <td>3</td>\n",
       "      <td>20</td>\n",
       "      <td>23</td>\n",
       "      <td>2</td>\n",
       "      <td>30</td>\n",
       "      <td>0.689082</td>\n",
       "    </tr>\n",
       "    <tr>\n",
       "      <th>7</th>\n",
       "      <td>letter</td>\n",
       "      <td>multiclass-classification</td>\n",
       "      <td>20000</td>\n",
       "      <td>14000</td>\n",
       "      <td>6000</td>\n",
       "      <td>0</td>\n",
       "      <td>16</td>\n",
       "      <td>16</td>\n",
       "      <td>26</td>\n",
       "      <td>16</td>\n",
       "      <td>0.999965</td>\n",
       "    </tr>\n",
       "    <tr>\n",
       "      <th>8</th>\n",
       "      <td>satimage</td>\n",
       "      <td>multiclass-classification</td>\n",
       "      <td>5104</td>\n",
       "      <td>3572</td>\n",
       "      <td>1532</td>\n",
       "      <td>0</td>\n",
       "      <td>37</td>\n",
       "      <td>37</td>\n",
       "      <td>6</td>\n",
       "      <td>36</td>\n",
       "      <td>0.973752</td>\n",
       "    </tr>\n",
       "    <tr>\n",
       "      <th>9</th>\n",
       "      <td>sensorless</td>\n",
       "      <td>multiclass-classification</td>\n",
       "      <td>58509</td>\n",
       "      <td>40956</td>\n",
       "      <td>17553</td>\n",
       "      <td>0</td>\n",
       "      <td>48</td>\n",
       "      <td>48</td>\n",
       "      <td>11</td>\n",
       "      <td>48</td>\n",
       "      <td>1.000000</td>\n",
       "    </tr>\n",
       "    <tr>\n",
       "      <th>10</th>\n",
       "      <td>spambase</td>\n",
       "      <td>binary-classification</td>\n",
       "      <td>4601</td>\n",
       "      <td>3220</td>\n",
       "      <td>1381</td>\n",
       "      <td>0</td>\n",
       "      <td>57</td>\n",
       "      <td>57</td>\n",
       "      <td>2</td>\n",
       "      <td>57</td>\n",
       "      <td>0.955094</td>\n",
       "    </tr>\n",
       "  </tbody>\n",
       "</table>\n",
       "</div>"
      ],
      "text/plain": [
       "         dataset                       task  n_samples  n_samples_train  \\\n",
       "0          adult      binary-classification      32561            22792   \n",
       "1           bank      binary-classification      45211            31647   \n",
       "2   breastcancer      binary-classification        569              398   \n",
       "3            car  multiclass-classification       1728             1209   \n",
       "4         cardio  multiclass-classification       2126             1488   \n",
       "5          churn      binary-classification       3333             2333   \n",
       "6     default-cb      binary-classification      30000            21000   \n",
       "7         letter  multiclass-classification      20000            14000   \n",
       "8       satimage  multiclass-classification       5104             3572   \n",
       "9     sensorless  multiclass-classification      58509            40956   \n",
       "10      spambase      binary-classification       4601             3220   \n",
       "\n",
       "    n_samples_test  n_features_cat  n_features_cont  n_features  n_classes  \\\n",
       "0             9769               8                6          14          2   \n",
       "1            13564              10                6          16          2   \n",
       "2              171               0               30          30          2   \n",
       "3              519               6                0           6          4   \n",
       "4              638               0               35          35         10   \n",
       "5             1000               4               15          19          2   \n",
       "6             9000               3               20          23          2   \n",
       "7             6000               0               16          16         26   \n",
       "8             1532               0               37          37          6   \n",
       "9            17553               0               48          48         11   \n",
       "10            1381               0               57          57          2   \n",
       "\n",
       "    n_columns  scaled_gini  \n",
       "0         100     0.731281  \n",
       "1          71     0.413197  \n",
       "2          30     0.935060  \n",
       "3          15     0.609712  \n",
       "4          34     0.932641  \n",
       "5          69     0.495657  \n",
       "6          30     0.689082  \n",
       "7          16     0.999965  \n",
       "8          36     0.973752  \n",
       "9          48     1.000000  \n",
       "10         57     0.955094  "
      ]
     },
     "execution_count": 1,
     "metadata": {},
     "output_type": "execute_result"
    }
   ],
   "source": [
    "from wildwood.dataset import describe_datasets\n",
    "from sklearn.metrics import classification_report\n",
    "from wildwood.dataset import load_kddcup\n",
    "from wildwood import ForestClassifier\n",
    "\n",
    "df = describe_datasets(include=\"small-classification\")\n",
    "df"
   ]
  },
  {
   "cell_type": "markdown",
   "metadata": {},
   "source": [
    "## One hot"
   ]
  },
  {
   "cell_type": "code",
   "execution_count": 7,
   "metadata": {
    "ExecuteTime": {
     "end_time": "2021-04-21T20:23:17.569261Z",
     "start_time": "2021-04-21T20:21:46.189079Z"
    }
   },
   "outputs": [],
   "source": [
    "dataset = load_kddcup()\n",
    "dataset.one_hot_encode = True\n",
    "dataset.standardize = False\n",
    "dataset.drop = None\n",
    "\n",
    "X_train, X_test, y_train, y_test = dataset.extract(random_state=42)"
   ]
  },
  {
   "cell_type": "code",
   "execution_count": 8,
   "metadata": {
    "ExecuteTime": {
     "end_time": "2021-04-21T20:23:53.613235Z",
     "start_time": "2021-04-21T20:23:25.293975Z"
    }
   },
   "outputs": [
    {
     "name": "stdout",
     "output_type": "stream",
     "text": [
      "Binning 3.539 GB of training data: Binning 0.758 GB of validation data: "
     ]
    },
    {
     "name": "stderr",
     "output_type": "stream",
     "text": [
      "[Parallel(n_jobs=10)]: Using backend ThreadingBackend with 10 concurrent workers.\n",
      "[Parallel(n_jobs=10)]: Done   2 out of  10 | elapsed:    0.3s remaining:    1.3s\n",
      "[Parallel(n_jobs=10)]: Done  10 out of  10 | elapsed:    0.7s finished\n",
      "/Users/stephanegaiffas/opt/anaconda3/lib/python3.7/site-packages/sklearn/metrics/_classification.py:1245: UndefinedMetricWarning: Precision and F-score are ill-defined and being set to 0.0 in labels with no predicted samples. Use `zero_division` parameter to control this behavior.\n",
      "  _warn_prf(average, modifier, msg_start, len(result))\n",
      "/Users/stephanegaiffas/opt/anaconda3/lib/python3.7/site-packages/sklearn/metrics/_classification.py:1245: UndefinedMetricWarning: Precision and F-score are ill-defined and being set to 0.0 in labels with no predicted samples. Use `zero_division` parameter to control this behavior.\n",
      "  _warn_prf(average, modifier, msg_start, len(result))\n"
     ]
    },
    {
     "name": "stdout",
     "output_type": "stream",
     "text": [
      "              precision    recall  f1-score   support\n",
      "\n",
      "           0       1.00      1.00      1.00       661\n",
      "           1       0.54      0.78      0.64         9\n",
      "           2       0.00      0.00      0.00         2\n",
      "           3       0.94      0.94      0.94        16\n",
      "           4       1.00      1.00      1.00         4\n",
      "           5       0.97      0.99      0.98      3744\n",
      "           6       0.60      1.00      0.75         6\n",
      "           7       0.00      0.00      0.00         3\n",
      "           8       0.00      0.00      0.00         2\n",
      "           9       1.00      1.00      1.00    321605\n",
      "          10       0.40      0.99      0.58       695\n",
      "          11       1.00      0.99      0.99    291834\n",
      "          12       0.00      0.00      0.00         1\n",
      "          13       1.00      1.00      1.00         1\n",
      "          14       0.07      1.00      0.13        79\n",
      "          15       1.00      1.00      1.00      3124\n",
      "          16       0.00      0.00      0.00         3\n",
      "          17       1.00      0.99      1.00      4768\n",
      "          18       1.00      1.00      1.00    842366\n",
      "          19       0.00      0.00      0.00         1\n",
      "          20       1.00      1.00      1.00       294\n",
      "          21       0.15      1.00      0.26       306\n",
      "          22       1.00      1.00      1.00         6\n",
      "\n",
      "    accuracy                           1.00   1469530\n",
      "   macro avg       0.59      0.72      0.62   1469530\n",
      "weighted avg       1.00      1.00      1.00   1469530\n",
      "\n"
     ]
    },
    {
     "name": "stderr",
     "output_type": "stream",
     "text": [
      "/Users/stephanegaiffas/opt/anaconda3/lib/python3.7/site-packages/sklearn/metrics/_classification.py:1245: UndefinedMetricWarning: Precision and F-score are ill-defined and being set to 0.0 in labels with no predicted samples. Use `zero_division` parameter to control this behavior.\n",
      "  _warn_prf(average, modifier, msg_start, len(result))\n"
     ]
    }
   ],
   "source": [
    "clf = ForestClassifier(\n",
    "    n_estimators=10,\n",
    "    n_jobs=-1,\n",
    "    aggregation=False,\n",
    "    class_weight=\"balanced\",\n",
    "    dirichlet=0.0,\n",
    "    verbose=True,\n",
    "    random_state=42\n",
    ")\n",
    "\n",
    "clf.fit(X_train, y_train)\n",
    "y_pred = clf.predict(X_test)\n",
    "print(classification_report(y_test, y_pred))"
   ]
  },
  {
   "cell_type": "code",
   "execution_count": 9,
   "metadata": {
    "ExecuteTime": {
     "end_time": "2021-04-21T20:25:05.922295Z",
     "start_time": "2021-04-21T20:24:20.584743Z"
    }
   },
   "outputs": [
    {
     "name": "stdout",
     "output_type": "stream",
     "text": [
      "Binning 3.539 GB of training data: Binning 0.758 GB of validation data: "
     ]
    },
    {
     "name": "stderr",
     "output_type": "stream",
     "text": [
      "[Parallel(n_jobs=10)]: Using backend ThreadingBackend with 10 concurrent workers.\n",
      "[Parallel(n_jobs=10)]: Done   2 out of  10 | elapsed:   14.1s remaining:   56.3s\n",
      "[Parallel(n_jobs=10)]: Done  10 out of  10 | elapsed:   17.2s finished\n",
      "/Users/stephanegaiffas/opt/anaconda3/lib/python3.7/site-packages/sklearn/metrics/_classification.py:1245: UndefinedMetricWarning: Precision and F-score are ill-defined and being set to 0.0 in labels with no predicted samples. Use `zero_division` parameter to control this behavior.\n",
      "  _warn_prf(average, modifier, msg_start, len(result))\n",
      "/Users/stephanegaiffas/opt/anaconda3/lib/python3.7/site-packages/sklearn/metrics/_classification.py:1245: UndefinedMetricWarning: Precision and F-score are ill-defined and being set to 0.0 in labels with no predicted samples. Use `zero_division` parameter to control this behavior.\n",
      "  _warn_prf(average, modifier, msg_start, len(result))\n"
     ]
    },
    {
     "name": "stdout",
     "output_type": "stream",
     "text": [
      "              precision    recall  f1-score   support\n",
      "\n",
      "           0       0.99      1.00      0.99       661\n",
      "           1       0.44      0.78      0.56         9\n",
      "           2       0.00      0.00      0.00         2\n",
      "           3       0.88      0.94      0.91        16\n",
      "           4       0.67      1.00      0.80         4\n",
      "           5       0.75      0.99      0.86      3744\n",
      "           6       0.29      1.00      0.44         6\n",
      "           7       0.17      0.67      0.27         3\n",
      "           8       1.00      0.50      0.67         2\n",
      "           9       1.00      1.00      1.00    321605\n",
      "          10       0.81      0.80      0.81       695\n",
      "          11       1.00      0.99      0.99    291834\n",
      "          12       0.17      1.00      0.29         1\n",
      "          13       0.00      0.00      0.00         1\n",
      "          14       0.08      0.97      0.14        79\n",
      "          15       1.00      1.00      1.00      3124\n",
      "          16       0.12      0.67      0.21         3\n",
      "          17       0.99      0.99      0.99      4768\n",
      "          18       1.00      1.00      1.00    842366\n",
      "          19       0.00      0.00      0.00         1\n",
      "          20       0.97      1.00      0.98       294\n",
      "          21       0.17      0.99      0.29       306\n",
      "          22       0.38      1.00      0.55         6\n",
      "\n",
      "    accuracy                           1.00   1469530\n",
      "   macro avg       0.56      0.80      0.60   1469530\n",
      "weighted avg       1.00      1.00      1.00   1469530\n",
      "\n"
     ]
    },
    {
     "name": "stderr",
     "output_type": "stream",
     "text": [
      "/Users/stephanegaiffas/opt/anaconda3/lib/python3.7/site-packages/sklearn/metrics/_classification.py:1245: UndefinedMetricWarning: Precision and F-score are ill-defined and being set to 0.0 in labels with no predicted samples. Use `zero_division` parameter to control this behavior.\n",
      "  _warn_prf(average, modifier, msg_start, len(result))\n"
     ]
    }
   ],
   "source": [
    "clf = ForestClassifier(\n",
    "    n_estimators=10,\n",
    "    n_jobs=-1,\n",
    "    aggregation=True,\n",
    "    class_weight=\"balanced\",\n",
    "    dirichlet=0.5,\n",
    "    verbose=True,\n",
    "    random_state=42\n",
    ")\n",
    "\n",
    "clf.fit(X_train, y_train)\n",
    "y_pred = clf.predict(X_test)\n",
    "print(classification_report(y_test, y_pred))"
   ]
  },
  {
   "cell_type": "code",
   "execution_count": null,
   "metadata": {},
   "outputs": [],
   "source": []
  },
  {
   "cell_type": "markdown",
   "metadata": {},
   "source": [
    "## Ordinal"
   ]
  },
  {
   "cell_type": "code",
   "execution_count": 4,
   "metadata": {
    "ExecuteTime": {
     "end_time": "2021-04-21T20:20:17.831760Z",
     "start_time": "2021-04-21T20:19:58.677835Z"
    }
   },
   "outputs": [],
   "source": [
    "dataset.one_hot_encode = False\n",
    "dataset.standardize = False\n",
    "dataset.drop = None\n",
    "\n",
    "X_train, X_test, y_train, y_test = dataset.extract(random_state=42)"
   ]
  },
  {
   "cell_type": "code",
   "execution_count": 11,
   "metadata": {
    "ExecuteTime": {
     "end_time": "2021-04-21T20:31:41.410293Z",
     "start_time": "2021-04-21T20:31:12.284168Z"
    }
   },
   "outputs": [
    {
     "name": "stdout",
     "output_type": "stream",
     "text": [
      "Binning 3.539 GB of training data: Binning 0.758 GB of validation data: "
     ]
    },
    {
     "name": "stderr",
     "output_type": "stream",
     "text": [
      "[Parallel(n_jobs=10)]: Using backend ThreadingBackend with 10 concurrent workers.\n",
      "[Parallel(n_jobs=10)]: Done   2 out of  10 | elapsed:    0.4s remaining:    1.6s\n",
      "[Parallel(n_jobs=10)]: Done  10 out of  10 | elapsed:    0.7s finished\n",
      "/Users/stephanegaiffas/opt/anaconda3/lib/python3.7/site-packages/sklearn/metrics/_classification.py:1245: UndefinedMetricWarning: Precision and F-score are ill-defined and being set to 0.0 in labels with no predicted samples. Use `zero_division` parameter to control this behavior.\n",
      "  _warn_prf(average, modifier, msg_start, len(result))\n",
      "/Users/stephanegaiffas/opt/anaconda3/lib/python3.7/site-packages/sklearn/metrics/_classification.py:1245: UndefinedMetricWarning: Precision and F-score are ill-defined and being set to 0.0 in labels with no predicted samples. Use `zero_division` parameter to control this behavior.\n",
      "  _warn_prf(average, modifier, msg_start, len(result))\n"
     ]
    },
    {
     "name": "stdout",
     "output_type": "stream",
     "text": [
      "              precision    recall  f1-score   support\n",
      "\n",
      "           0       1.00      1.00      1.00       661\n",
      "           1       0.40      0.67      0.50         9\n",
      "           2       0.00      0.00      0.00         2\n",
      "           3       0.94      0.94      0.94        16\n",
      "           4       1.00      0.75      0.86         4\n",
      "           5       0.95      0.99      0.97      3744\n",
      "           6       0.60      1.00      0.75         6\n",
      "           7       0.00      0.00      0.00         3\n",
      "           8       1.00      0.50      0.67         2\n",
      "           9       1.00      1.00      1.00    321605\n",
      "          10       0.94      0.94      0.94       695\n",
      "          11       1.00      1.00      1.00    291834\n",
      "          12       1.00      1.00      1.00         1\n",
      "          13       0.00      0.00      0.00         1\n",
      "          14       0.29      1.00      0.45        79\n",
      "          15       1.00      1.00      1.00      3124\n",
      "          16       0.00      0.00      0.00         3\n",
      "          17       1.00      0.99      1.00      4768\n",
      "          18       1.00      1.00      1.00    842366\n",
      "          19       0.00      0.00      0.00         1\n",
      "          20       1.00      1.00      1.00       294\n",
      "          21       0.34      0.99      0.50       306\n",
      "          22       0.86      1.00      0.92         6\n",
      "\n",
      "    accuracy                           1.00   1469530\n",
      "   macro avg       0.67      0.73      0.67   1469530\n",
      "weighted avg       1.00      1.00      1.00   1469530\n",
      "\n"
     ]
    },
    {
     "name": "stderr",
     "output_type": "stream",
     "text": [
      "/Users/stephanegaiffas/opt/anaconda3/lib/python3.7/site-packages/sklearn/metrics/_classification.py:1245: UndefinedMetricWarning: Precision and F-score are ill-defined and being set to 0.0 in labels with no predicted samples. Use `zero_division` parameter to control this behavior.\n",
      "  _warn_prf(average, modifier, msg_start, len(result))\n"
     ]
    }
   ],
   "source": [
    "clf = ForestClassifier(\n",
    "    n_estimators=10,\n",
    "    n_jobs=-1,\n",
    "    aggregation=False,\n",
    "    class_weight=\"balanced\",\n",
    "    dirichlet=0.0,\n",
    "    verbose=True,\n",
    "    random_state=42    \n",
    ")\n",
    "\n",
    "clf.fit(X_train, y_train)\n",
    "y_pred = clf.predict(X_test)\n",
    "print(classification_report(y_test, y_pred))"
   ]
  },
  {
   "cell_type": "markdown",
   "metadata": {},
   "source": [
    "## Categorical"
   ]
  },
  {
   "cell_type": "code",
   "execution_count": 6,
   "metadata": {
    "ExecuteTime": {
     "end_time": "2021-04-21T20:21:04.620976Z",
     "start_time": "2021-04-21T20:20:50.759119Z"
    },
    "scrolled": false
   },
   "outputs": [
    {
     "name": "stdout",
     "output_type": "stream",
     "text": [
      "Binning 1.125 GB of training data: Binning 0.241 GB of validation data: "
     ]
    },
    {
     "name": "stderr",
     "output_type": "stream",
     "text": [
      "[Parallel(n_jobs=10)]: Using backend ThreadingBackend with 10 concurrent workers.\n",
      "[Parallel(n_jobs=10)]: Done   2 out of  10 | elapsed:    0.3s remaining:    1.3s\n",
      "[Parallel(n_jobs=10)]: Done  10 out of  10 | elapsed:    0.7s finished\n",
      "/Users/stephanegaiffas/opt/anaconda3/lib/python3.7/site-packages/sklearn/metrics/_classification.py:1245: UndefinedMetricWarning: Precision and F-score are ill-defined and being set to 0.0 in labels with no predicted samples. Use `zero_division` parameter to control this behavior.\n",
      "  _warn_prf(average, modifier, msg_start, len(result))\n",
      "/Users/stephanegaiffas/opt/anaconda3/lib/python3.7/site-packages/sklearn/metrics/_classification.py:1245: UndefinedMetricWarning: Precision and F-score are ill-defined and being set to 0.0 in labels with no predicted samples. Use `zero_division` parameter to control this behavior.\n",
      "  _warn_prf(average, modifier, msg_start, len(result))\n"
     ]
    },
    {
     "name": "stdout",
     "output_type": "stream",
     "text": [
      "              precision    recall  f1-score   support\n",
      "\n",
      "           0       1.00      1.00      1.00       661\n",
      "           1       0.78      0.78      0.78         9\n",
      "           2       0.00      0.00      0.00         2\n",
      "           3       1.00      0.94      0.97        16\n",
      "           4       1.00      0.75      0.86         4\n",
      "           5       0.94      1.00      0.97      3744\n",
      "           6       0.60      1.00      0.75         6\n",
      "           7       1.00      0.33      0.50         3\n",
      "           8       0.00      0.00      0.00         2\n",
      "           9       1.00      1.00      1.00    321605\n",
      "          10       0.97      0.99      0.98       695\n",
      "          11       1.00      1.00      1.00    291834\n",
      "          12       0.00      0.00      0.00         1\n",
      "          13       0.00      0.00      0.00         1\n",
      "          14       0.98      1.00      0.99        79\n",
      "          15       1.00      1.00      1.00      3124\n",
      "          16       0.50      0.33      0.40         3\n",
      "          17       1.00      1.00      1.00      4768\n",
      "          18       1.00      1.00      1.00    842366\n",
      "          19       0.00      0.00      0.00         1\n",
      "          20       1.00      1.00      1.00       294\n",
      "          21       0.92      0.97      0.95       306\n",
      "          22       0.40      1.00      0.57         6\n",
      "\n",
      "    accuracy                           1.00   1469530\n",
      "   macro avg       0.70      0.70      0.68   1469530\n",
      "weighted avg       1.00      1.00      1.00   1469530\n",
      "\n"
     ]
    },
    {
     "name": "stderr",
     "output_type": "stream",
     "text": [
      "/Users/stephanegaiffas/opt/anaconda3/lib/python3.7/site-packages/sklearn/metrics/_classification.py:1245: UndefinedMetricWarning: Precision and F-score are ill-defined and being set to 0.0 in labels with no predicted samples. Use `zero_division` parameter to control this behavior.\n",
      "  _warn_prf(average, modifier, msg_start, len(result))\n"
     ]
    }
   ],
   "source": [
    "clf = ForestClassifier(\n",
    "    n_estimators=10,\n",
    "    n_jobs=-1,\n",
    "    aggregation=False,\n",
    "    class_weight=\"balanced\",\n",
    "    dirichlet=0.0,\n",
    "    verbose=True,\n",
    "    categorical_features=dataset.categorical_features_,\n",
    "    random_state=42\n",
    ")\n",
    "\n",
    "clf.fit(X_train, y_train)\n",
    "y_pred = clf.predict(X_test)\n",
    "print(classification_report(y_test, y_pred))"
   ]
  },
  {
   "cell_type": "code",
   "execution_count": 10,
   "metadata": {
    "ExecuteTime": {
     "end_time": "2021-04-21T20:30:45.850503Z",
     "start_time": "2021-04-21T20:26:26.374724Z"
    },
    "scrolled": false
   },
   "outputs": [
    {
     "name": "stderr",
     "output_type": "stream",
     "text": [
      "/Users/stephanegaiffas/opt/anaconda3/lib/python3.7/site-packages/lightgbm/__init__.py:48: UserWarning: Starting from version 2.2.1, the library file in distribution wheels for macOS is built by the Apple Clang (Xcode_8.3.3) compiler.\n",
      "This means that in case of installing LightGBM from PyPI via the ``pip install lightgbm`` command, you don't need to install the gcc compiler anymore.\n",
      "Instead of that, you need to install the OpenMP library, which is required for running LightGBM on the system with the Apple Clang compiler.\n",
      "You can install the OpenMP library by the following command: ``brew install libomp``.\n",
      "  \"You can install the OpenMP library by the following command: ``brew install libomp``.\", UserWarning)\n"
     ]
    },
    {
     "name": "stdout",
     "output_type": "stream",
     "text": [
      "              precision    recall  f1-score   support\n",
      "\n",
      "           0       0.00      0.00      0.00       661\n",
      "           1       0.00      0.00      0.00         9\n",
      "           2       0.00      0.00      0.00         2\n",
      "           3       0.00      0.00      0.00        16\n",
      "           4       0.00      0.00      0.00         4\n",
      "           5       0.00      0.00      0.00      3744\n",
      "           6       0.00      0.00      0.00         6\n",
      "           7       0.00      0.00      0.00         3\n",
      "           8       0.00      0.00      0.00         2\n",
      "           9       0.98      0.90      0.94    321605\n",
      "          10       0.12      0.02      0.04       695\n",
      "          11       0.90      0.98      0.94    291834\n",
      "          12       0.00      0.00      0.00         1\n",
      "          13       0.00      0.00      0.00         1\n",
      "          14       0.00      0.00      0.00        79\n",
      "          15       0.76      0.82      0.79      3124\n",
      "          16       0.00      0.00      0.00         3\n",
      "          17       0.11      0.04      0.06      4768\n",
      "          18       1.00      1.00      1.00    842366\n",
      "          19       0.00      0.00      0.00         1\n",
      "          20       0.00      0.00      0.00       294\n",
      "          21       0.50      0.00      0.01       306\n",
      "          22       0.00      0.00      0.00         6\n",
      "\n",
      "    accuracy                           0.97   1469530\n",
      "   macro avg       0.19      0.16      0.16   1469530\n",
      "weighted avg       0.97      0.97      0.97   1469530\n",
      "\n"
     ]
    }
   ],
   "source": [
    "from lightgbm.sklearn import LGBMClassifier\n",
    "\n",
    "clf = LGBMClassifier()\n",
    "clf.fit(X_train, y_train)\n",
    "y_pred = clf.predict(X_test)\n",
    "print(classification_report(y_test, y_pred))"
   ]
  },
  {
   "cell_type": "code",
   "execution_count": null,
   "metadata": {
    "ExecuteTime": {
     "start_time": "2021-04-21T20:05:47.066Z"
    }
   },
   "outputs": [],
   "source": [
    "X_train.shape"
   ]
  },
  {
   "cell_type": "code",
   "execution_count": null,
   "metadata": {},
   "outputs": [],
   "source": []
  },
  {
   "cell_type": "code",
   "execution_count": null,
   "metadata": {},
   "outputs": [],
   "source": []
  },
  {
   "cell_type": "code",
   "execution_count": null,
   "metadata": {},
   "outputs": [],
   "source": []
  },
  {
   "cell_type": "code",
   "execution_count": null,
   "metadata": {
    "ExecuteTime": {
     "start_time": "2021-04-21T20:05:47.069Z"
    }
   },
   "outputs": [],
   "source": [
    "dataset = load_covtype()"
   ]
  },
  {
   "cell_type": "code",
   "execution_count": null,
   "metadata": {
    "ExecuteTime": {
     "start_time": "2021-04-21T20:05:47.070Z"
    }
   },
   "outputs": [],
   "source": [
    "dataset.one_hot_encode = False\n",
    "dataset.standardize = False\n",
    "\n",
    "X_train, X_test, y_train, y_test = dataset.extract(random_state=42)"
   ]
  },
  {
   "cell_type": "code",
   "execution_count": null,
   "metadata": {
    "ExecuteTime": {
     "start_time": "2021-04-21T20:05:47.071Z"
    },
    "scrolled": true
   },
   "outputs": [],
   "source": [
    "dataset.df_raw.describe"
   ]
  },
  {
   "cell_type": "code",
   "execution_count": null,
   "metadata": {
    "ExecuteTime": {
     "start_time": "2021-04-21T20:05:47.072Z"
    }
   },
   "outputs": [],
   "source": [
    "ls -rtl"
   ]
  },
  {
   "cell_type": "code",
   "execution_count": null,
   "metadata": {
    "ExecuteTime": {
     "start_time": "2021-04-21T20:05:47.073Z"
    }
   },
   "outputs": [],
   "source": [
    "from sklearn.datasets import fetch_kddcup99\n",
    "\n",
    "\n",
    "data = fetch_kddcup99(as_frame=True, percent10=False)\n",
    "df = data[\"frame\"]"
   ]
  },
  {
   "cell_type": "code",
   "execution_count": null,
   "metadata": {},
   "outputs": [],
   "source": []
  },
  {
   "cell_type": "code",
   "execution_count": null,
   "metadata": {},
   "outputs": [],
   "source": []
  },
  {
   "cell_type": "code",
   "execution_count": null,
   "metadata": {
    "ExecuteTime": {
     "start_time": "2021-04-21T20:05:47.075Z"
    }
   },
   "outputs": [],
   "source": [
    "df.shape"
   ]
  },
  {
   "cell_type": "code",
   "execution_count": null,
   "metadata": {
    "ExecuteTime": {
     "start_time": "2021-04-21T20:05:47.076Z"
    }
   },
   "outputs": [],
   "source": [
    "df.head()"
   ]
  },
  {
   "cell_type": "code",
   "execution_count": null,
   "metadata": {
    "ExecuteTime": {
     "start_time": "2021-04-21T20:05:47.078Z"
    }
   },
   "outputs": [],
   "source": [
    "import numpy as np\n",
    "\n",
    "dtype = {\"duration\":                      np.float,\n",
    "\"protocol_type\":                  \"category\",\n",
    "\"service\":                        \"category\",\n",
    "\"flag\":                           \"category\",\n",
    "\"src_bytes\":                      np.float,\n",
    "\"dst_bytes\":                      np.float,\n",
    "\"land\":                           \"category\",\n",
    "\"wrong_fragment\":                 np.float,\n",
    "\"urgent\":                         np.float,\n",
    "\"hot\":                            np.float,\n",
    "\"num_failed_logins\":              np.float,\n",
    "\"logged_in\":                      \"category\",\n",
    "\"num_compromised\":                np.float,\n",
    "\"root_shell\":                     \"category\",\n",
    "\"su_attempted\":                   \"category\",\n",
    "\"num_root\":                       np.float,\n",
    "\"num_file_creations\":             np.float,\n",
    "\"num_shells\":                     np.float,\n",
    "\"num_access_files\":               np.float,\n",
    "\"num_outbound_cmds\":              np.float,\n",
    "\"is_host_login\":                  \"category\",\n",
    "\"is_guest_login\":                 \"category\",\n",
    "\"count\":                          np.float,\n",
    "\"srv_count\":                      np.float,\n",
    "\"serror_rate\":                    np.float,\n",
    "\"srv_serror_rate\":                np.float,\n",
    "\"rerror_rate\":                    np.float,\n",
    "\"srv_rerror_rate\":                np.float,\n",
    "\"same_srv_rate\":                  np.float,\n",
    "\"diff_srv_rate\":                  np.float,\n",
    "\"srv_diff_host_rate\":             np.float,\n",
    "\"dst_host_count\":                 np.float,\n",
    "\"dst_host_srv_count\":             np.float,\n",
    "\"dst_host_same_srv_rate\":         np.float,\n",
    "\"dst_host_diff_srv_rate\":         np.float,\n",
    "\"dst_host_same_src_port_rate\":    np.float,\n",
    "\"dst_host_srv_diff_host_rate\":    np.float,\n",
    "\"dst_host_serror_rate\":           np.float,\n",
    "\"dst_host_srv_serror_rate\":       np.float,\n",
    "\"dst_host_rerror_rate\":           np.float,\n",
    "\"dst_host_srv_rerror_rate\":       np.float,\n",
    "\"labels\":                         \"category\"\n",
    "}\n",
    "\n",
    "df = df.astype(dtype)"
   ]
  },
  {
   "cell_type": "code",
   "execution_count": null,
   "metadata": {
    "ExecuteTime": {
     "start_time": "2021-04-21T20:05:47.079Z"
    }
   },
   "outputs": [],
   "source": [
    "df.head()"
   ]
  },
  {
   "cell_type": "code",
   "execution_count": null,
   "metadata": {
    "ExecuteTime": {
     "start_time": "2021-04-21T20:05:47.079Z"
    }
   },
   "outputs": [],
   "source": [
    "df.info(null_counts=True, memory_usage=\"deep\")"
   ]
  },
  {
   "cell_type": "code",
   "execution_count": null,
   "metadata": {
    "ExecuteTime": {
     "start_time": "2021-04-21T20:05:47.080Z"
    }
   },
   "outputs": [],
   "source": [
    "df.dtypes"
   ]
  },
  {
   "cell_type": "code",
   "execution_count": null,
   "metadata": {
    "ExecuteTime": {
     "start_time": "2021-04-21T20:05:47.081Z"
    }
   },
   "outputs": [],
   "source": [
    "df.info()"
   ]
  },
  {
   "cell_type": "code",
   "execution_count": null,
   "metadata": {
    "ExecuteTime": {
     "start_time": "2021-04-21T20:05:47.082Z"
    },
    "scrolled": false
   },
   "outputs": [],
   "source": [
    "for col in df:\n",
    "    print(col, df[col].unique().size)"
   ]
  },
  {
   "cell_type": "code",
   "execution_count": null,
   "metadata": {
    "ExecuteTime": {
     "start_time": "2021-04-21T20:05:47.083Z"
    }
   },
   "outputs": [],
   "source": [
    "df[\"labels\"].unique()"
   ]
  },
  {
   "cell_type": "code",
   "execution_count": null,
   "metadata": {
    "ExecuteTime": {
     "start_time": "2021-04-21T20:05:47.084Z"
    }
   },
   "outputs": [],
   "source": [
    "data[\"frame\"].head()"
   ]
  },
  {
   "cell_type": "code",
   "execution_count": null,
   "metadata": {
    "ExecuteTime": {
     "start_time": "2021-04-21T20:05:47.085Z"
    }
   },
   "outputs": [],
   "source": [
    "df = data[\"frame\"]"
   ]
  },
  {
   "cell_type": "code",
   "execution_count": null,
   "metadata": {
    "ExecuteTime": {
     "start_time": "2021-04-21T20:05:47.086Z"
    }
   },
   "outputs": [],
   "source": [
    "df.info()"
   ]
  },
  {
   "cell_type": "code",
   "execution_count": null,
   "metadata": {
    "ExecuteTime": {
     "start_time": "2021-04-21T20:05:47.087Z"
    }
   },
   "outputs": [],
   "source": [
    "for col in [\"Soil_Type_\" + str(i) for i in range(31, 40)]:\n",
    "    print(dataset.df_raw[col].unique())"
   ]
  },
  {
   "cell_type": "code",
   "execution_count": null,
   "metadata": {},
   "outputs": [],
   "source": []
  },
  {
   "cell_type": "code",
   "execution_count": null,
   "metadata": {
    "ExecuteTime": {
     "start_time": "2021-04-21T20:05:47.089Z"
    }
   },
   "outputs": [],
   "source": [
    "np.finfo(\"float32\").eps"
   ]
  },
  {
   "cell_type": "code",
   "execution_count": null,
   "metadata": {
    "ExecuteTime": {
     "start_time": "2021-04-21T20:05:47.089Z"
    }
   },
   "outputs": [],
   "source": [
    "np.finfo(\"float32\").epsneg"
   ]
  },
  {
   "cell_type": "code",
   "execution_count": null,
   "metadata": {},
   "outputs": [],
   "source": []
  },
  {
   "cell_type": "code",
   "execution_count": null,
   "metadata": {
    "ExecuteTime": {
     "start_time": "2021-04-21T20:05:47.091Z"
    }
   },
   "outputs": [],
   "source": [
    "from wildwood.dataset import loaders_small_classification\n",
    "\n",
    "for loader in loaders_small_classification:\n",
    "    dataset = loader()\n",
    "    dataset.one_hot_encode = True\n",
    "    X_train, X_test, y_train, y_test = dataset.extract(random_state=42)\n",
    "    print(\"-\" * 32)\n",
    "    print(dataset.name)\n",
    "    print(dataset.categorical_features_)\n",
    "    dataset.one_hot_encode = False\n",
    "    X_train, X_test, y_train, y_test = dataset.extract(random_state=42)\n",
    "    print(dataset.categorical_features_)    "
   ]
  },
  {
   "cell_type": "code",
   "execution_count": null,
   "metadata": {},
   "outputs": [],
   "source": []
  },
  {
   "cell_type": "markdown",
   "metadata": {},
   "source": [
    "# Test for categorical on a small toy data"
   ]
  },
  {
   "cell_type": "code",
   "execution_count": null,
   "metadata": {
    "ExecuteTime": {
     "start_time": "2021-04-21T20:05:47.092Z"
    }
   },
   "outputs": [],
   "source": [
    "import numpy as np\n",
    "import pandas as pd\n",
    "\n",
    "X2 = np.repeat(np.arange(5), 20).reshape((-1, 1))\n",
    "X1 = np.repeat(np.arange(2), 50).reshape((-1, 1))\n",
    "y = np.repeat([1, 0, 0, 1, 0], 20)\n",
    "X = np.concatenate([X1, X2], axis=1)"
   ]
  },
  {
   "cell_type": "code",
   "execution_count": null,
   "metadata": {
    "ExecuteTime": {
     "start_time": "2021-04-21T20:05:47.093Z"
    }
   },
   "outputs": [],
   "source": [
    "(\n",
    "    pd.DataFrame({\"X1\": X1.ravel(), \"X2\": X2.ravel(), \"y\": y})\n",
    "    .groupby(\"X2\")\n",
    "    .sum()\n",
    "    .reset_index()\n",
    ")"
   ]
  },
  {
   "cell_type": "code",
   "execution_count": null,
   "metadata": {
    "ExecuteTime": {
     "start_time": "2021-04-21T20:05:47.094Z"
    }
   },
   "outputs": [],
   "source": [
    "attributes = [\"feature\", \"bin_threshold\", \"bin_partition\", \"y_pred\", \"is_split_categorical\"]"
   ]
  },
  {
   "cell_type": "code",
   "execution_count": null,
   "metadata": {
    "ExecuteTime": {
     "start_time": "2021-04-21T20:05:47.095Z"
    }
   },
   "outputs": [],
   "source": [
    "from bokeh.plotting import output_notebook, show\n",
    "from wildwood import ForestClassifier\n",
    "from wildwood.plot import plot_tree\n",
    "\n",
    "output_notebook()\n",
    "\n",
    "clf = ForestClassifier(\n",
    "    n_estimators=1,\n",
    "    random_state=42,\n",
    "    categorical_features=[True, True],\n",
    "    dirichlet=0., \n",
    "    aggregation=False\n",
    ")\n",
    "clf.fit(X, y)\n",
    "fig = plot_tree(clf, height=200, attributes=attributes)\n",
    "show(fig)"
   ]
  },
  {
   "cell_type": "code",
   "execution_count": null,
   "metadata": {
    "ExecuteTime": {
     "start_time": "2021-04-21T20:05:47.096Z"
    }
   },
   "outputs": [],
   "source": [
    "clf.predict_proba(np.array([0, 1]).reshape(1, 2))"
   ]
  },
  {
   "cell_type": "code",
   "execution_count": null,
   "metadata": {
    "ExecuteTime": {
     "start_time": "2021-04-21T20:05:47.097Z"
    }
   },
   "outputs": [],
   "source": [
    "clf.path_leaf(np.array([0, 1]).reshape(1, 2))[0]"
   ]
  },
  {
   "cell_type": "code",
   "execution_count": null,
   "metadata": {
    "ExecuteTime": {
     "start_time": "2021-04-21T20:05:47.097Z"
    }
   },
   "outputs": [],
   "source": [
    "clf = ForestClassifier(\n",
    "    n_estimators=1,\n",
    "    random_state=42,\n",
    "    categorical_features=None,\n",
    "    dirichlet=0.,\n",
    "    aggregation=False\n",
    ")\n",
    "clf.fit(X, y)\n",
    "fig = plot_tree(clf, height=300, attributes=attributes)\n",
    "show(fig)"
   ]
  },
  {
   "cell_type": "code",
   "execution_count": null,
   "metadata": {
    "ExecuteTime": {
     "start_time": "2021-04-21T20:05:47.098Z"
    }
   },
   "outputs": [],
   "source": [
    "from sklearn.preprocessing import OneHotEncoder\n",
    "\n",
    "X_onehot = OneHotEncoder(sparse=False).fit_transform(X)\n",
    "clf = ForestClassifier(\n",
    "    max_features=None,\n",
    "    n_estimators=1,\n",
    "    random_state=42,\n",
    "    dirichlet=0.,\n",
    "    aggregation=False,\n",
    "    categorical_features=None)\n",
    "\n",
    "clf.fit(X_onehot, y)\n",
    "fig = plot_tree(clf, height=300, attributes=attributes)\n",
    "show(fig)"
   ]
  },
  {
   "cell_type": "code",
   "execution_count": null,
   "metadata": {
    "ExecuteTime": {
     "start_time": "2021-04-21T20:05:47.099Z"
    }
   },
   "outputs": [],
   "source": [
    "X_onehot.shape"
   ]
  },
  {
   "cell_type": "code",
   "execution_count": null,
   "metadata": {
    "ExecuteTime": {
     "start_time": "2021-04-21T20:05:47.100Z"
    }
   },
   "outputs": [],
   "source": [
    "X_onehot = OneHotEncoder(sparse=False).fit_transform(X)\n",
    "clf = ForestClassifier(n_estimators=1, random_state=42, categorical_features=[True] * 5)\n",
    "clf.fit(X_onehot, y)\n",
    "fig = plot_tree(clf, height=300)\n",
    "show(fig)"
   ]
  },
  {
   "cell_type": "code",
   "execution_count": null,
   "metadata": {
    "ExecuteTime": {
     "end_time": "2021-04-14T19:38:20.884972Z",
     "start_time": "2021-04-14T19:38:20.823193Z"
    }
   },
   "outputs": [],
   "source": []
  },
  {
   "cell_type": "code",
   "execution_count": null,
   "metadata": {},
   "outputs": [],
   "source": []
  },
  {
   "cell_type": "code",
   "execution_count": null,
   "metadata": {
    "ExecuteTime": {
     "start_time": "2021-04-21T20:05:47.102Z"
    },
    "scrolled": true
   },
   "outputs": [],
   "source": [
    "df.columns"
   ]
  },
  {
   "cell_type": "code",
   "execution_count": null,
   "metadata": {
    "ExecuteTime": {
     "start_time": "2021-04-21T20:05:47.103Z"
    }
   },
   "outputs": [],
   "source": [
    "df[[\"node_id\", \"left_child\", \"right_child\", \"is_leaf\", \"is_split_categorical\", \"split_partition\", \"y_pred\"]]"
   ]
  },
  {
   "cell_type": "code",
   "execution_count": null,
   "metadata": {
    "ExecuteTime": {
     "start_time": "2021-04-21T20:05:47.103Z"
    }
   },
   "outputs": [],
   "source": [
    "clf = ForestClassifier(n_estimators=1, random_state=42, categorical_features=None)\n",
    "clf.fit(X, y)\n",
    "df = clf.get_nodes(0)"
   ]
  },
  {
   "cell_type": "code",
   "execution_count": null,
   "metadata": {
    "ExecuteTime": {
     "start_time": "2021-04-21T20:05:47.104Z"
    }
   },
   "outputs": [],
   "source": [
    "df[[\"node_id\", \"left_child\", \"right_child\", \"is_leaf\", \"is_split_categorical\", \"split_partition\", \"y_pred\"]]"
   ]
  },
  {
   "cell_type": "code",
   "execution_count": null,
   "metadata": {
    "ExecuteTime": {
     "start_time": "2021-04-21T20:05:47.105Z"
    }
   },
   "outputs": [],
   "source": [
    "from sklearn.preprocessing import OneHotEncoder\n",
    "\n",
    "one_hot_encoder = OneHotEncoder(sparse=False)"
   ]
  },
  {
   "cell_type": "code",
   "execution_count": null,
   "metadata": {
    "ExecuteTime": {
     "start_time": "2021-04-21T20:05:47.106Z"
    }
   },
   "outputs": [],
   "source": [
    "\n",
    "df = clf.get_nodes(0)"
   ]
  },
  {
   "cell_type": "code",
   "execution_count": null,
   "metadata": {
    "ExecuteTime": {
     "end_time": "2021-04-14T16:01:07.131861Z",
     "start_time": "2021-04-14T16:01:06.722445Z"
    }
   },
   "outputs": [],
   "source": []
  },
  {
   "cell_type": "code",
   "execution_count": null,
   "metadata": {
    "ExecuteTime": {
     "start_time": "2021-04-21T20:05:47.107Z"
    }
   },
   "outputs": [],
   "source": [
    "df[[\"node_id\", \"left_child\", \"right_child\", \"is_leaf\", \"is_split_categorical\", \"split_partition\", \"y_pred\"]]"
   ]
  },
  {
   "cell_type": "code",
   "execution_count": null,
   "metadata": {},
   "outputs": [],
   "source": []
  },
  {
   "cell_type": "code",
   "execution_count": null,
   "metadata": {
    "ExecuteTime": {
     "start_time": "2021-04-21T20:05:47.109Z"
    }
   },
   "outputs": [],
   "source": [
    "aaa"
   ]
  },
  {
   "cell_type": "code",
   "execution_count": null,
   "metadata": {
    "ExecuteTime": {
     "start_time": "2021-04-21T20:05:47.110Z"
    }
   },
   "outputs": [],
   "source": [
    "str(np.array([1, 4, 2], dtype=np.uint8))"
   ]
  },
  {
   "cell_type": "code",
   "execution_count": null,
   "metadata": {
    "ExecuteTime": {
     "start_time": "2021-04-21T20:05:47.111Z"
    }
   },
   "outputs": [],
   "source": [
    "clf.predict_proba(X)"
   ]
  },
  {
   "cell_type": "code",
   "execution_count": null,
   "metadata": {
    "ExecuteTime": {
     "start_time": "2021-04-21T20:05:47.111Z"
    }
   },
   "outputs": [],
   "source": [
    "clf = ForestClassifier(n_estimators=1, random_state=42, categorical_features=[True])"
   ]
  },
  {
   "cell_type": "code",
   "execution_count": null,
   "metadata": {
    "ExecuteTime": {
     "start_time": "2021-04-21T20:05:47.112Z"
    }
   },
   "outputs": [],
   "source": [
    "clf.fit(X, y)"
   ]
  },
  {
   "cell_type": "code",
   "execution_count": null,
   "metadata": {},
   "outputs": [],
   "source": []
  },
  {
   "cell_type": "code",
   "execution_count": null,
   "metadata": {
    "ExecuteTime": {
     "start_time": "2021-04-21T20:05:47.114Z"
    }
   },
   "outputs": [],
   "source": [
    "df.describe(include=\"all\")"
   ]
  },
  {
   "cell_type": "code",
   "execution_count": null,
   "metadata": {
    "ExecuteTime": {
     "start_time": "2021-04-21T20:05:47.115Z"
    }
   },
   "outputs": [],
   "source": [
    "dataset.one_hot_encode = False\n",
    "\n",
    "X_train, X_test, y_train, y_test = dataset.extract(random_state=42)"
   ]
  },
  {
   "cell_type": "code",
   "execution_count": null,
   "metadata": {
    "ExecuteTime": {
     "start_time": "2021-04-21T20:05:47.116Z"
    }
   },
   "outputs": [],
   "source": [
    "dataset.categorical_columns_"
   ]
  },
  {
   "cell_type": "code",
   "execution_count": null,
   "metadata": {
    "ExecuteTime": {
     "start_time": "2021-04-21T20:05:47.116Z"
    }
   },
   "outputs": [],
   "source": [
    "dataset.categorical_features_"
   ]
  },
  {
   "cell_type": "code",
   "execution_count": null,
   "metadata": {
    "ExecuteTime": {
     "start_time": "2021-04-21T20:05:47.117Z"
    }
   },
   "outputs": [],
   "source": [
    "import numpy as np\n",
    "\n",
    "np.unique(X_train[:, 9])"
   ]
  },
  {
   "cell_type": "code",
   "execution_count": null,
   "metadata": {
    "ExecuteTime": {
     "start_time": "2021-04-21T20:05:47.118Z"
    }
   },
   "outputs": [],
   "source": [
    "X_train[1:100, 12]"
   ]
  },
  {
   "cell_type": "code",
   "execution_count": null,
   "metadata": {
    "ExecuteTime": {
     "start_time": "2021-04-21T20:05:47.119Z"
    }
   },
   "outputs": [],
   "source": [
    "categorical_features[18]"
   ]
  },
  {
   "cell_type": "code",
   "execution_count": null,
   "metadata": {
    "ExecuteTime": {
     "start_time": "2021-04-21T20:05:47.120Z"
    }
   },
   "outputs": [],
   "source": [
    "np.unique(X_train[:, 18]).size"
   ]
  },
  {
   "cell_type": "code",
   "execution_count": null,
   "metadata": {
    "ExecuteTime": {
     "start_time": "2021-04-21T20:05:47.121Z"
    }
   },
   "outputs": [],
   "source": [
    "X_train[:, 2].shape"
   ]
  },
  {
   "cell_type": "code",
   "execution_count": null,
   "metadata": {
    "ExecuteTime": {
     "start_time": "2021-04-21T20:05:47.122Z"
    }
   },
   "outputs": [],
   "source": [
    "import numpy as np\n",
    "\n",
    "n_features = X_train.shape[1]\n",
    "\n",
    "categorical_features = np.zeros(n_features, dtype=np.bool)"
   ]
  },
  {
   "cell_type": "code",
   "execution_count": null,
   "metadata": {
    "ExecuteTime": {
     "start_time": "2021-04-21T20:05:47.123Z"
    }
   },
   "outputs": [],
   "source": [
    "categorical_features[-dataset.n_features_categorical_:] = True"
   ]
  },
  {
   "cell_type": "code",
   "execution_count": null,
   "metadata": {
    "ExecuteTime": {
     "start_time": "2021-04-21T20:05:47.123Z"
    }
   },
   "outputs": [],
   "source": [
    "categorical_features"
   ]
  },
  {
   "cell_type": "code",
   "execution_count": null,
   "metadata": {
    "ExecuteTime": {
     "start_time": "2021-04-21T20:05:47.124Z"
    }
   },
   "outputs": [],
   "source": [
    "from wildwood import ForestClassifier\n",
    "\n",
    "clf = ForestClassifier(categorical_features=categorical_features)"
   ]
  },
  {
   "cell_type": "code",
   "execution_count": null,
   "metadata": {
    "ExecuteTime": {
     "start_time": "2021-04-21T20:05:47.125Z"
    },
    "scrolled": false
   },
   "outputs": [],
   "source": [
    "clf._check_categories(X_train)"
   ]
  },
  {
   "cell_type": "code",
   "execution_count": null,
   "metadata": {
    "ExecuteTime": {
     "start_time": "2021-04-21T20:05:47.126Z"
    },
    "scrolled": false
   },
   "outputs": [],
   "source": [
    "dataset.one_hot_encode = False\n",
    "\n",
    "dataset.extract(random_state=42)"
   ]
  },
  {
   "cell_type": "code",
   "execution_count": null,
   "metadata": {
    "ExecuteTime": {
     "start_time": "2021-04-21T20:05:47.127Z"
    }
   },
   "outputs": [],
   "source": [
    "dataset.transformer.transformer_list"
   ]
  },
  {
   "cell_type": "code",
   "execution_count": null,
   "metadata": {
    "ExecuteTime": {
     "start_time": "2021-04-21T20:05:47.128Z"
    }
   },
   "outputs": [],
   "source": [
    "ordinal_encoder = dataset.transformer.transformer_list[1][1].transformers[0][1]"
   ]
  },
  {
   "cell_type": "code",
   "execution_count": null,
   "metadata": {
    "ExecuteTime": {
     "start_time": "2021-04-21T20:05:47.128Z"
    }
   },
   "outputs": [],
   "source": [
    "ordinal_encoder.categories"
   ]
  },
  {
   "cell_type": "code",
   "execution_count": null,
   "metadata": {
    "ExecuteTime": {
     "start_time": "2021-04-21T20:05:47.129Z"
    }
   },
   "outputs": [],
   "source": [
    "ordinal_encoder.categories_"
   ]
  },
  {
   "cell_type": "code",
   "execution_count": null,
   "metadata": {},
   "outputs": [],
   "source": []
  },
  {
   "cell_type": "code",
   "execution_count": null,
   "metadata": {
    "ExecuteTime": {
     "start_time": "2021-04-21T20:05:47.131Z"
    }
   },
   "outputs": [],
   "source": [
    "from wildwood._binning import Binner"
   ]
  },
  {
   "cell_type": "code",
   "execution_count": null,
   "metadata": {
    "ExecuteTime": {
     "start_time": "2021-04-21T20:05:47.131Z"
    }
   },
   "outputs": [],
   "source": [
    "binner = Binner()"
   ]
  },
  {
   "cell_type": "code",
   "execution_count": null,
   "metadata": {
    "ExecuteTime": {
     "start_time": "2021-04-21T20:05:47.132Z"
    },
    "scrolled": false
   },
   "outputs": [],
   "source": [
    "binner.fit_transform(df)"
   ]
  },
  {
   "cell_type": "code",
   "execution_count": null,
   "metadata": {
    "ExecuteTime": {
     "start_time": "2021-04-21T20:05:47.133Z"
    }
   },
   "outputs": [],
   "source": [
    "df = dataset.df_raw"
   ]
  },
  {
   "cell_type": "code",
   "execution_count": null,
   "metadata": {
    "ExecuteTime": {
     "start_time": "2021-04-21T20:05:47.134Z"
    }
   },
   "outputs": [],
   "source": [
    "df.dtypes"
   ]
  },
  {
   "cell_type": "code",
   "execution_count": null,
   "metadata": {},
   "outputs": [],
   "source": []
  },
  {
   "cell_type": "code",
   "execution_count": null,
   "metadata": {
    "ExecuteTime": {
     "start_time": "2021-04-21T20:05:47.135Z"
    }
   },
   "outputs": [],
   "source": [
    "df.head()"
   ]
  },
  {
   "cell_type": "code",
   "execution_count": null,
   "metadata": {
    "ExecuteTime": {
     "start_time": "2021-04-21T20:05:47.136Z"
    }
   },
   "outputs": [],
   "source": [
    "df.to_csv(\"dataset-small-classification.csv.gz\", index=False)"
   ]
  },
  {
   "cell_type": "code",
   "execution_count": null,
   "metadata": {
    "ExecuteTime": {
     "start_time": "2021-04-21T20:05:47.136Z"
    }
   },
   "outputs": [],
   "source": [
    "df = describe_datasets(include=\"small-regression\")"
   ]
  },
  {
   "cell_type": "code",
   "execution_count": null,
   "metadata": {
    "ExecuteTime": {
     "start_time": "2021-04-21T20:05:47.137Z"
    }
   },
   "outputs": [],
   "source": [
    "df"
   ]
  },
  {
   "cell_type": "code",
   "execution_count": null,
   "metadata": {
    "ExecuteTime": {
     "start_time": "2021-04-21T20:05:47.138Z"
    }
   },
   "outputs": [],
   "source": [
    "df.to_csv(\"dataset-small-regression.csv.gz\", index=False)"
   ]
  },
  {
   "cell_type": "code",
   "execution_count": null,
   "metadata": {
    "ExecuteTime": {
     "start_time": "2021-04-21T20:05:47.139Z"
    }
   },
   "outputs": [],
   "source": [
    "import pandas as pd\n",
    "\n",
    "pd.read_csv(\"dataset-small-regression.csv.gz\")"
   ]
  },
  {
   "cell_type": "code",
   "execution_count": null,
   "metadata": {
    "ExecuteTime": {
     "start_time": "2021-04-21T20:05:47.140Z"
    }
   },
   "outputs": [],
   "source": [
    "pwd"
   ]
  },
  {
   "cell_type": "code",
   "execution_count": null,
   "metadata": {},
   "outputs": [],
   "source": []
  },
  {
   "cell_type": "code",
   "execution_count": null,
   "metadata": {
    "ExecuteTime": {
     "start_time": "2021-04-21T20:05:47.141Z"
    }
   },
   "outputs": [],
   "source": [
    "ls -rtl"
   ]
  },
  {
   "cell_type": "code",
   "execution_count": null,
   "metadata": {
    "ExecuteTime": {
     "start_time": "2021-04-21T20:05:47.142Z"
    }
   },
   "outputs": [],
   "source": [
    "from wildwood.dataset import datasets_description\n",
    "\n",
    "df_datasets = datasets_description(include=\"small-classification\")\n",
    "df_datasets"
   ]
  },
  {
   "cell_type": "code",
   "execution_count": null,
   "metadata": {
    "ExecuteTime": {
     "start_time": "2021-04-21T20:05:47.142Z"
    }
   },
   "outputs": [],
   "source": [
    "df_datasets = datasets_description(include=\"small-regression\")\n",
    "df_datasets"
   ]
  },
  {
   "cell_type": "code",
   "execution_count": null,
   "metadata": {
    "ExecuteTime": {
     "end_time": "2021-04-12T12:32:27.990523Z",
     "start_time": "2021-04-12T12:32:26.800520Z"
    },
    "scrolled": false
   },
   "outputs": [],
   "source": []
  },
  {
   "cell_type": "code",
   "execution_count": null,
   "metadata": {
    "ExecuteTime": {
     "end_time": "2021-04-12T12:32:30.310855Z",
     "start_time": "2021-04-12T12:32:30.294222Z"
    }
   },
   "outputs": [],
   "source": []
  },
  {
   "cell_type": "code",
   "execution_count": null,
   "metadata": {},
   "outputs": [],
   "source": []
  },
  {
   "cell_type": "code",
   "execution_count": null,
   "metadata": {},
   "outputs": [],
   "source": []
  },
  {
   "cell_type": "code",
   "execution_count": null,
   "metadata": {
    "ExecuteTime": {
     "start_time": "2021-04-21T20:05:47.145Z"
    }
   },
   "outputs": [],
   "source": [
    "df_datasets.loc[df_datasets[\"task\"] == \"regression\"]"
   ]
  },
  {
   "cell_type": "code",
   "execution_count": null,
   "metadata": {
    "ExecuteTime": {
     "start_time": "2021-04-21T20:05:47.146Z"
    }
   },
   "outputs": [],
   "source": [
    ".iloc(df_datasets[\"task\"] == \"regression\")"
   ]
  },
  {
   "cell_type": "code",
   "execution_count": null,
   "metadata": {
    "ExecuteTime": {
     "start_time": "2021-04-21T20:05:47.146Z"
    }
   },
   "outputs": [],
   "source": [
    "dataset = load_churn()"
   ]
  },
  {
   "cell_type": "code",
   "execution_count": null,
   "metadata": {
    "ExecuteTime": {
     "start_time": "2021-04-21T20:05:47.147Z"
    }
   },
   "outputs": [],
   "source": [
    "dataset.df_raw.head()"
   ]
  },
  {
   "cell_type": "code",
   "execution_count": null,
   "metadata": {},
   "outputs": [],
   "source": []
  },
  {
   "cell_type": "code",
   "execution_count": null,
   "metadata": {
    "ExecuteTime": {
     "start_time": "2021-04-21T20:05:47.149Z"
    }
   },
   "outputs": [],
   "source": [
    "import numpy as np\n",
    "import pandas as pd\n",
    "\n",
    "from wildwood._binning import Binner"
   ]
  },
  {
   "cell_type": "code",
   "execution_count": null,
   "metadata": {
    "ExecuteTime": {
     "start_time": "2021-04-21T20:05:47.149Z"
    }
   },
   "outputs": [],
   "source": [
    "df = pd.DataFrame({\n",
    "    \"A\": [\"a\", \"b\", \"a\", \"a\"],\n",
    "    \"B\": [0.1, 0.2, 0.1, 0.3]\n",
    "})"
   ]
  },
  {
   "cell_type": "code",
   "execution_count": null,
   "metadata": {
    "ExecuteTime": {
     "start_time": "2021-04-21T20:05:47.150Z"
    }
   },
   "outputs": [],
   "source": [
    "df.dtypes"
   ]
  },
  {
   "cell_type": "code",
   "execution_count": null,
   "metadata": {
    "ExecuteTime": {
     "start_time": "2021-04-21T20:05:47.151Z"
    }
   },
   "outputs": [],
   "source": [
    "df[\"A\"] = df[\"A\"].astype(\"category\")"
   ]
  },
  {
   "cell_type": "code",
   "execution_count": null,
   "metadata": {
    "ExecuteTime": {
     "start_time": "2021-04-21T20:05:47.152Z"
    }
   },
   "outputs": [],
   "source": [
    "df.dtypes"
   ]
  },
  {
   "cell_type": "code",
   "execution_count": null,
   "metadata": {
    "ExecuteTime": {
     "start_time": "2021-04-21T20:05:47.153Z"
    }
   },
   "outputs": [],
   "source": [
    "binner = Binner()"
   ]
  },
  {
   "cell_type": "code",
   "execution_count": null,
   "metadata": {
    "ExecuteTime": {
     "start_time": "2021-04-21T20:05:47.154Z"
    }
   },
   "outputs": [],
   "source": [
    "binner.fit_transform(df)"
   ]
  },
  {
   "cell_type": "code",
   "execution_count": null,
   "metadata": {
    "ExecuteTime": {
     "end_time": "2021-04-12T10:05:47.268179Z",
     "start_time": "2021-04-12T10:05:44.304121Z"
    }
   },
   "outputs": [],
   "source": []
  },
  {
   "cell_type": "code",
   "execution_count": null,
   "metadata": {
    "ExecuteTime": {
     "end_time": "2021-04-12T10:05:52.872923Z",
     "start_time": "2021-04-12T10:05:52.857356Z"
    }
   },
   "outputs": [],
   "source": []
  },
  {
   "cell_type": "code",
   "execution_count": null,
   "metadata": {
    "ExecuteTime": {
     "start_time": "2021-04-21T20:05:47.155Z"
    }
   },
   "outputs": [],
   "source": [
    "print(data[\"DESCR\"])"
   ]
  },
  {
   "cell_type": "code",
   "execution_count": null,
   "metadata": {
    "ExecuteTime": {
     "start_time": "2021-04-21T20:05:47.156Z"
    }
   },
   "outputs": [],
   "source": [
    "from sklearn.datasets import load_breast_cancer\n",
    "\n",
    "data = load_breast_cancer(as_frame=True)\n",
    "data[\"frame\"]\n"
   ]
  },
  {
   "cell_type": "code",
   "execution_count": null,
   "metadata": {
    "ExecuteTime": {
     "end_time": "2021-04-12T10:00:57.330838Z",
     "start_time": "2021-04-12T10:00:57.303578Z"
    }
   },
   "outputs": [],
   "source": []
  },
  {
   "cell_type": "code",
   "execution_count": null,
   "metadata": {
    "ExecuteTime": {
     "start_time": "2021-04-21T20:05:47.157Z"
    }
   },
   "outputs": [],
   "source": [
    "data[\"frame\"].info()"
   ]
  },
  {
   "cell_type": "code",
   "execution_count": null,
   "metadata": {},
   "outputs": [],
   "source": []
  },
  {
   "cell_type": "code",
   "execution_count": null,
   "metadata": {
    "ExecuteTime": {
     "start_time": "2021-04-21T20:05:47.159Z"
    },
    "scrolled": false
   },
   "outputs": [],
   "source": [
    "print(data[\"DESCR\"])"
   ]
  },
  {
   "cell_type": "code",
   "execution_count": null,
   "metadata": {
    "ExecuteTime": {
     "start_time": "2021-04-21T20:05:47.160Z"
    }
   },
   "outputs": [],
   "source": [
    "from sklearn.datasets import load_diabetes, load_boston\n",
    "\n",
    "data = load_boston()"
   ]
  },
  {
   "cell_type": "code",
   "execution_count": null,
   "metadata": {
    "ExecuteTime": {
     "start_time": "2021-04-21T20:05:47.161Z"
    }
   },
   "outputs": [],
   "source": [
    "data.keys()"
   ]
  },
  {
   "cell_type": "code",
   "execution_count": null,
   "metadata": {
    "ExecuteTime": {
     "start_time": "2021-04-21T20:05:47.162Z"
    }
   },
   "outputs": [],
   "source": [
    "import pandas as pd\n",
    "\n",
    "df = pd.DataFrame(data[\"data\"], columns=data[\"feature_names\"])\n",
    "df[\"target\"] = data[\"target\"]"
   ]
  },
  {
   "cell_type": "code",
   "execution_count": null,
   "metadata": {
    "ExecuteTime": {
     "start_time": "2021-04-21T20:05:47.163Z"
    }
   },
   "outputs": [],
   "source": [
    "df.info()"
   ]
  },
  {
   "cell_type": "code",
   "execution_count": null,
   "metadata": {
    "ExecuteTime": {
     "start_time": "2021-04-21T20:05:47.164Z"
    }
   },
   "outputs": [],
   "source": [
    "df.head()"
   ]
  },
  {
   "cell_type": "code",
   "execution_count": null,
   "metadata": {
    "ExecuteTime": {
     "start_time": "2021-04-21T20:05:47.165Z"
    }
   },
   "outputs": [],
   "source": [
    "print(data[\"DESCR\"])"
   ]
  },
  {
   "cell_type": "code",
   "execution_count": null,
   "metadata": {
    "ExecuteTime": {
     "start_time": "2021-04-21T20:05:47.165Z"
    }
   },
   "outputs": [],
   "source": [
    "truc[\"frame\"]"
   ]
  },
  {
   "cell_type": "code",
   "execution_count": null,
   "metadata": {
    "ExecuteTime": {
     "start_time": "2021-04-21T20:05:47.166Z"
    }
   },
   "outputs": [],
   "source": [
    "truc[\"target\"]"
   ]
  },
  {
   "cell_type": "code",
   "execution_count": null,
   "metadata": {
    "ExecuteTime": {
     "start_time": "2021-04-21T20:05:47.167Z"
    }
   },
   "outputs": [],
   "source": [
    "truc.keys()"
   ]
  },
  {
   "cell_type": "code",
   "execution_count": null,
   "metadata": {
    "ExecuteTime": {
     "start_time": "2021-04-21T20:05:47.168Z"
    }
   },
   "outputs": [],
   "source": [
    "truc[\"frame\"]"
   ]
  },
  {
   "cell_type": "code",
   "execution_count": null,
   "metadata": {
    "ExecuteTime": {
     "start_time": "2021-04-21T20:05:47.169Z"
    }
   },
   "outputs": [],
   "source": [
    "truc[\"frame\"].dtypes"
   ]
  },
  {
   "cell_type": "code",
   "execution_count": null,
   "metadata": {
    "ExecuteTime": {
     "start_time": "2021-04-21T20:05:47.170Z"
    }
   },
   "outputs": [],
   "source": [
    "import numpy as np"
   ]
  },
  {
   "cell_type": "code",
   "execution_count": null,
   "metadata": {
    "ExecuteTime": {
     "start_time": "2021-04-21T20:05:47.171Z"
    }
   },
   "outputs": [],
   "source": [
    "np.repeat(np.array([2, 1, 17, 3]), repeats=3)"
   ]
  },
  {
   "cell_type": "code",
   "execution_count": null,
   "metadata": {},
   "outputs": [],
   "source": []
  },
  {
   "cell_type": "code",
   "execution_count": null,
   "metadata": {},
   "outputs": [],
   "source": []
  }
 ],
 "metadata": {
  "kernelspec": {
   "display_name": "Python 3",
   "language": "python",
   "name": "python3"
  },
  "language_info": {
   "codemirror_mode": {
    "name": "ipython",
    "version": 3
   },
   "file_extension": ".py",
   "mimetype": "text/x-python",
   "name": "python",
   "nbconvert_exporter": "python",
   "pygments_lexer": "ipython3",
   "version": "3.7.9"
  },
  "toc": {
   "base_numbering": 1,
   "nav_menu": {},
   "number_sections": true,
   "sideBar": true,
   "skip_h1_title": true,
   "title_cell": "Table of Contents",
   "title_sidebar": "Contents",
   "toc_cell": false,
   "toc_position": {
    "height": "calc(100% - 180px)",
    "left": "10px",
    "top": "150px",
    "width": "165px"
   },
   "toc_section_display": true,
   "toc_window_display": true
  }
 },
 "nbformat": 4,
 "nbformat_minor": 4
}
