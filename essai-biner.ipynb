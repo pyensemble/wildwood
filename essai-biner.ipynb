{
 "cells": [
  {
   "cell_type": "markdown",
   "metadata": {
    "toc": true
   },
   "source": [
    "<h1>Table of Contents<span class=\"tocSkip\"></span></h1>\n",
    "<div class=\"toc\"><ul class=\"toc-item\"></ul></div>"
   ]
  },
  {
   "cell_type": "code",
   "execution_count": null,
   "metadata": {
    "ExecuteTime": {
     "end_time": "2021-05-03T09:07:35.420127Z",
     "start_time": "2021-05-03T09:07:33.809645Z"
    },
    "scrolled": false
   },
   "outputs": [],
   "source": [
    "from wildwood.dataset import describe_datasets\n",
    "\n",
    "df = describe_datasets(include=\"small-classification\")\n",
    "df"
   ]
  },
  {
   "cell_type": "code",
   "execution_count": 1,
   "metadata": {
    "ExecuteTime": {
     "end_time": "2021-05-03T09:09:56.951373Z",
     "start_time": "2021-05-03T09:09:41.391088Z"
    }
   },
   "outputs": [],
   "source": [
    "from wildwood.dataset import load_boston"
   ]
  },
  {
   "cell_type": "code",
   "execution_count": 2,
   "metadata": {
    "ExecuteTime": {
     "end_time": "2021-05-03T09:09:56.986637Z",
     "start_time": "2021-05-03T09:09:56.953295Z"
    }
   },
   "outputs": [],
   "source": [
    "dataset = load_boston()"
   ]
  },
  {
   "cell_type": "code",
   "execution_count": 14,
   "metadata": {
    "ExecuteTime": {
     "end_time": "2021-05-03T09:10:44.611870Z",
     "start_time": "2021-05-03T09:10:44.590804Z"
    },
    "scrolled": false
   },
   "outputs": [],
   "source": [
    "dataset.drop = None\n",
    "dataset.one_hot_encode = True\n",
    "X_train, X_test, y_train, y_test = dataset.extract(random_state=42)"
   ]
  },
  {
   "cell_type": "code",
   "execution_count": 15,
   "metadata": {
    "ExecuteTime": {
     "end_time": "2021-05-03T09:10:46.884476Z",
     "start_time": "2021-05-03T09:10:46.880773Z"
    }
   },
   "outputs": [
    {
     "data": {
      "text/plain": [
       "['CRIM',\n",
       " 'ZN',\n",
       " 'INDUS',\n",
       " 'NOX',\n",
       " 'RM',\n",
       " 'AGE',\n",
       " 'DIS',\n",
       " 'RAD',\n",
       " 'TAX',\n",
       " 'PTRATIO',\n",
       " 'B',\n",
       " 'LSTAT',\n",
       " 'CHAS#0',\n",
       " 'CHAS#1']"
      ]
     },
     "execution_count": 15,
     "metadata": {},
     "output_type": "execute_result"
    }
   ],
   "source": [
    "dataset.columns_"
   ]
  },
  {
   "cell_type": "code",
   "execution_count": 12,
   "metadata": {
    "ExecuteTime": {
     "end_time": "2021-05-03T09:10:31.898872Z",
     "start_time": "2021-05-03T09:10:31.895219Z"
    }
   },
   "outputs": [
    {
     "data": {
      "text/plain": [
       "(354, 13)"
      ]
     },
     "execution_count": 12,
     "metadata": {},
     "output_type": "execute_result"
    }
   ],
   "source": [
    "X_train.shape"
   ]
  },
  {
   "cell_type": "code",
   "execution_count": null,
   "metadata": {
    "ExecuteTime": {
     "end_time": "2021-05-03T09:09:22.807304Z",
     "start_time": "2021-05-03T09:09:22.793064Z"
    }
   },
   "outputs": [],
   "source": [
    "import numpy as np\n",
    "\n",
    "dataset.df_raw.apply(lambda col: np.unique(col).size)"
   ]
  },
  {
   "cell_type": "code",
   "execution_count": null,
   "metadata": {},
   "outputs": [],
   "source": []
  },
  {
   "cell_type": "code",
   "execution_count": null,
   "metadata": {},
   "outputs": [],
   "source": []
  },
  {
   "cell_type": "code",
   "execution_count": null,
   "metadata": {
    "ExecuteTime": {
     "end_time": "2021-05-03T09:07:35.436723Z",
     "start_time": "2021-05-03T09:07:33.816Z"
    }
   },
   "outputs": [],
   "source": [
    "np.finfo(\"float32\").eps"
   ]
  },
  {
   "cell_type": "code",
   "execution_count": null,
   "metadata": {
    "ExecuteTime": {
     "end_time": "2021-05-03T09:07:35.438097Z",
     "start_time": "2021-05-03T09:07:33.817Z"
    }
   },
   "outputs": [],
   "source": [
    "np.finfo(\"float32\").epsneg"
   ]
  },
  {
   "cell_type": "code",
   "execution_count": null,
   "metadata": {},
   "outputs": [],
   "source": []
  },
  {
   "cell_type": "code",
   "execution_count": null,
   "metadata": {
    "ExecuteTime": {
     "end_time": "2021-05-03T09:07:35.439241Z",
     "start_time": "2021-05-03T09:07:33.819Z"
    }
   },
   "outputs": [],
   "source": [
    "from wildwood.dataset import loaders_small_classification\n",
    "\n",
    "for loader in loaders_small_classification:\n",
    "    dataset = loader()\n",
    "    dataset.one_hot_encode = True\n",
    "    X_train, X_test, y_train, y_test = dataset.extract(random_state=42)\n",
    "    print(\"-\" * 32)\n",
    "    print(dataset.name)\n",
    "    print(dataset.categorical_features_)\n",
    "    dataset.one_hot_encode = False\n",
    "    X_train, X_test, y_train, y_test = dataset.extract(random_state=42)\n",
    "    print(dataset.categorical_features_)    "
   ]
  },
  {
   "cell_type": "code",
   "execution_count": null,
   "metadata": {},
   "outputs": [],
   "source": []
  },
  {
   "cell_type": "markdown",
   "metadata": {},
   "source": [
    "# Test for categorical on a small toy data"
   ]
  },
  {
   "cell_type": "code",
   "execution_count": null,
   "metadata": {
    "ExecuteTime": {
     "end_time": "2021-05-03T09:07:35.440367Z",
     "start_time": "2021-05-03T09:07:33.821Z"
    }
   },
   "outputs": [],
   "source": [
    "import numpy as np\n",
    "import pandas as pd\n",
    "\n",
    "X2 = np.repeat(np.arange(5), 20).reshape((-1, 1))\n",
    "X1 = np.repeat(np.arange(2), 50).reshape((-1, 1))\n",
    "y = np.repeat([1, 0, 0, 1, 0], 20)\n",
    "X = np.concatenate([X1, X2], axis=1)"
   ]
  },
  {
   "cell_type": "code",
   "execution_count": null,
   "metadata": {
    "ExecuteTime": {
     "end_time": "2021-05-03T09:07:35.441475Z",
     "start_time": "2021-05-03T09:07:33.822Z"
    }
   },
   "outputs": [],
   "source": [
    "(\n",
    "    pd.DataFrame({\"X1\": X1.ravel(), \"X2\": X2.ravel(), \"y\": y})\n",
    "    .groupby(\"X2\")\n",
    "    .sum()\n",
    "    .reset_index()\n",
    ")"
   ]
  },
  {
   "cell_type": "code",
   "execution_count": null,
   "metadata": {
    "ExecuteTime": {
     "end_time": "2021-05-03T09:07:35.442575Z",
     "start_time": "2021-05-03T09:07:33.823Z"
    }
   },
   "outputs": [],
   "source": [
    "attributes = [\"feature\", \"bin_threshold\", \"bin_partition\", \"y_pred\", \"is_split_categorical\"]"
   ]
  },
  {
   "cell_type": "code",
   "execution_count": null,
   "metadata": {
    "ExecuteTime": {
     "end_time": "2021-05-03T09:07:35.443697Z",
     "start_time": "2021-05-03T09:07:33.824Z"
    }
   },
   "outputs": [],
   "source": [
    "from bokeh.plotting import output_notebook, show\n",
    "from wildwood import ForestClassifier\n",
    "from wildwood.plot import plot_tree\n",
    "\n",
    "output_notebook()\n",
    "\n",
    "clf = ForestClassifier(\n",
    "    n_estimators=1,\n",
    "    random_state=42,\n",
    "    categorical_features=[True, True],\n",
    "    dirichlet=0., \n",
    "    aggregation=False\n",
    ")\n",
    "clf.fit(X, y)\n",
    "fig = plot_tree(clf, height=200, attributes=attributes)\n",
    "show(fig)"
   ]
  },
  {
   "cell_type": "code",
   "execution_count": null,
   "metadata": {
    "ExecuteTime": {
     "end_time": "2021-05-03T09:07:35.444639Z",
     "start_time": "2021-05-03T09:07:33.825Z"
    }
   },
   "outputs": [],
   "source": [
    "clf.predict_proba(np.array([0, 1]).reshape(1, 2))"
   ]
  },
  {
   "cell_type": "code",
   "execution_count": null,
   "metadata": {
    "ExecuteTime": {
     "end_time": "2021-05-03T09:07:35.445815Z",
     "start_time": "2021-05-03T09:07:33.826Z"
    }
   },
   "outputs": [],
   "source": [
    "clf.path_leaf(np.array([0, 1]).reshape(1, 2))[0]"
   ]
  },
  {
   "cell_type": "code",
   "execution_count": null,
   "metadata": {
    "ExecuteTime": {
     "end_time": "2021-05-03T09:07:35.446910Z",
     "start_time": "2021-05-03T09:07:33.827Z"
    }
   },
   "outputs": [],
   "source": [
    "clf = ForestClassifier(\n",
    "    n_estimators=1,\n",
    "    random_state=42,\n",
    "    categorical_features=None,\n",
    "    dirichlet=0.,\n",
    "    aggregation=False\n",
    ")\n",
    "clf.fit(X, y)\n",
    "fig = plot_tree(clf, height=300, attributes=attributes)\n",
    "show(fig)"
   ]
  },
  {
   "cell_type": "code",
   "execution_count": null,
   "metadata": {
    "ExecuteTime": {
     "end_time": "2021-05-03T09:07:35.447955Z",
     "start_time": "2021-05-03T09:07:33.828Z"
    }
   },
   "outputs": [],
   "source": [
    "from sklearn.preprocessing import OneHotEncoder\n",
    "\n",
    "X_onehot = OneHotEncoder(sparse=False).fit_transform(X)\n",
    "clf = ForestClassifier(\n",
    "    max_features=None,\n",
    "    n_estimators=1,\n",
    "    random_state=42,\n",
    "    dirichlet=0.,\n",
    "    aggregation=False,\n",
    "    categorical_features=None)\n",
    "\n",
    "clf.fit(X_onehot, y)\n",
    "fig = plot_tree(clf, height=300, attributes=attributes)\n",
    "show(fig)"
   ]
  },
  {
   "cell_type": "code",
   "execution_count": null,
   "metadata": {
    "ExecuteTime": {
     "end_time": "2021-05-03T09:07:35.449103Z",
     "start_time": "2021-05-03T09:07:33.829Z"
    }
   },
   "outputs": [],
   "source": [
    "X_onehot.shape"
   ]
  },
  {
   "cell_type": "code",
   "execution_count": null,
   "metadata": {
    "ExecuteTime": {
     "end_time": "2021-05-03T09:07:35.450188Z",
     "start_time": "2021-05-03T09:07:33.830Z"
    }
   },
   "outputs": [],
   "source": [
    "X_onehot = OneHotEncoder(sparse=False).fit_transform(X)\n",
    "clf = ForestClassifier(n_estimators=1, random_state=42, categorical_features=[True] * 5)\n",
    "clf.fit(X_onehot, y)\n",
    "fig = plot_tree(clf, height=300)\n",
    "show(fig)"
   ]
  },
  {
   "cell_type": "code",
   "execution_count": null,
   "metadata": {
    "ExecuteTime": {
     "end_time": "2021-04-14T19:38:20.884972Z",
     "start_time": "2021-04-14T19:38:20.823193Z"
    }
   },
   "outputs": [],
   "source": []
  },
  {
   "cell_type": "code",
   "execution_count": null,
   "metadata": {},
   "outputs": [],
   "source": []
  },
  {
   "cell_type": "code",
   "execution_count": null,
   "metadata": {
    "ExecuteTime": {
     "end_time": "2021-05-03T09:07:35.451303Z",
     "start_time": "2021-05-03T09:07:33.832Z"
    },
    "scrolled": true
   },
   "outputs": [],
   "source": [
    "df.columns"
   ]
  },
  {
   "cell_type": "code",
   "execution_count": null,
   "metadata": {
    "ExecuteTime": {
     "end_time": "2021-05-03T09:07:35.452400Z",
     "start_time": "2021-05-03T09:07:33.833Z"
    }
   },
   "outputs": [],
   "source": [
    "df[[\"node_id\", \"left_child\", \"right_child\", \"is_leaf\", \"is_split_categorical\", \"split_partition\", \"y_pred\"]]"
   ]
  },
  {
   "cell_type": "code",
   "execution_count": null,
   "metadata": {
    "ExecuteTime": {
     "end_time": "2021-05-03T09:07:35.453511Z",
     "start_time": "2021-05-03T09:07:33.834Z"
    }
   },
   "outputs": [],
   "source": [
    "clf = ForestClassifier(n_estimators=1, random_state=42, categorical_features=None)\n",
    "clf.fit(X, y)\n",
    "df = clf.get_nodes(0)"
   ]
  },
  {
   "cell_type": "code",
   "execution_count": null,
   "metadata": {
    "ExecuteTime": {
     "end_time": "2021-05-03T09:07:35.454601Z",
     "start_time": "2021-05-03T09:07:33.835Z"
    }
   },
   "outputs": [],
   "source": [
    "df[[\"node_id\", \"left_child\", \"right_child\", \"is_leaf\", \"is_split_categorical\", \"split_partition\", \"y_pred\"]]"
   ]
  },
  {
   "cell_type": "code",
   "execution_count": null,
   "metadata": {
    "ExecuteTime": {
     "end_time": "2021-05-03T09:07:35.455616Z",
     "start_time": "2021-05-03T09:07:33.836Z"
    }
   },
   "outputs": [],
   "source": [
    "from sklearn.preprocessing import OneHotEncoder\n",
    "\n",
    "one_hot_encoder = OneHotEncoder(sparse=False)"
   ]
  },
  {
   "cell_type": "code",
   "execution_count": null,
   "metadata": {
    "ExecuteTime": {
     "end_time": "2021-05-03T09:07:35.456814Z",
     "start_time": "2021-05-03T09:07:33.837Z"
    }
   },
   "outputs": [],
   "source": [
    "\n",
    "df = clf.get_nodes(0)"
   ]
  },
  {
   "cell_type": "code",
   "execution_count": null,
   "metadata": {
    "ExecuteTime": {
     "end_time": "2021-04-14T16:01:07.131861Z",
     "start_time": "2021-04-14T16:01:06.722445Z"
    }
   },
   "outputs": [],
   "source": []
  },
  {
   "cell_type": "code",
   "execution_count": null,
   "metadata": {
    "ExecuteTime": {
     "end_time": "2021-05-03T09:07:35.457905Z",
     "start_time": "2021-05-03T09:07:33.839Z"
    }
   },
   "outputs": [],
   "source": [
    "df[[\"node_id\", \"left_child\", \"right_child\", \"is_leaf\", \"is_split_categorical\", \"split_partition\", \"y_pred\"]]"
   ]
  },
  {
   "cell_type": "code",
   "execution_count": null,
   "metadata": {},
   "outputs": [],
   "source": []
  },
  {
   "cell_type": "code",
   "execution_count": null,
   "metadata": {
    "ExecuteTime": {
     "end_time": "2021-05-03T09:07:35.459011Z",
     "start_time": "2021-05-03T09:07:33.841Z"
    }
   },
   "outputs": [],
   "source": [
    "aaa"
   ]
  },
  {
   "cell_type": "code",
   "execution_count": null,
   "metadata": {
    "ExecuteTime": {
     "end_time": "2021-05-03T09:07:35.460016Z",
     "start_time": "2021-05-03T09:07:33.842Z"
    }
   },
   "outputs": [],
   "source": [
    "str(np.array([1, 4, 2], dtype=np.uint8))"
   ]
  },
  {
   "cell_type": "code",
   "execution_count": null,
   "metadata": {
    "ExecuteTime": {
     "end_time": "2021-05-03T09:07:35.461081Z",
     "start_time": "2021-05-03T09:07:33.843Z"
    }
   },
   "outputs": [],
   "source": [
    "clf.predict_proba(X)"
   ]
  },
  {
   "cell_type": "code",
   "execution_count": null,
   "metadata": {
    "ExecuteTime": {
     "end_time": "2021-05-03T09:07:35.462247Z",
     "start_time": "2021-05-03T09:07:33.844Z"
    }
   },
   "outputs": [],
   "source": [
    "clf = ForestClassifier(n_estimators=1, random_state=42, categorical_features=[True])"
   ]
  },
  {
   "cell_type": "code",
   "execution_count": null,
   "metadata": {
    "ExecuteTime": {
     "end_time": "2021-05-03T09:07:35.463284Z",
     "start_time": "2021-05-03T09:07:33.845Z"
    }
   },
   "outputs": [],
   "source": [
    "clf.fit(X, y)"
   ]
  },
  {
   "cell_type": "code",
   "execution_count": null,
   "metadata": {},
   "outputs": [],
   "source": []
  },
  {
   "cell_type": "code",
   "execution_count": null,
   "metadata": {
    "ExecuteTime": {
     "end_time": "2021-05-03T09:07:35.464348Z",
     "start_time": "2021-05-03T09:07:33.847Z"
    }
   },
   "outputs": [],
   "source": [
    "df.describe(include=\"all\")"
   ]
  },
  {
   "cell_type": "code",
   "execution_count": null,
   "metadata": {
    "ExecuteTime": {
     "end_time": "2021-05-03T09:07:35.465321Z",
     "start_time": "2021-05-03T09:07:33.848Z"
    }
   },
   "outputs": [],
   "source": [
    "dataset.one_hot_encode = False\n",
    "\n",
    "X_train, X_test, y_train, y_test = dataset.extract(random_state=42)"
   ]
  },
  {
   "cell_type": "code",
   "execution_count": null,
   "metadata": {
    "ExecuteTime": {
     "end_time": "2021-05-03T09:07:35.466488Z",
     "start_time": "2021-05-03T09:07:33.849Z"
    }
   },
   "outputs": [],
   "source": [
    "dataset.categorical_columns_"
   ]
  },
  {
   "cell_type": "code",
   "execution_count": null,
   "metadata": {
    "ExecuteTime": {
     "end_time": "2021-05-03T09:07:35.467560Z",
     "start_time": "2021-05-03T09:07:33.850Z"
    }
   },
   "outputs": [],
   "source": [
    "dataset.categorical_features_"
   ]
  },
  {
   "cell_type": "code",
   "execution_count": null,
   "metadata": {
    "ExecuteTime": {
     "end_time": "2021-05-03T09:07:35.468671Z",
     "start_time": "2021-05-03T09:07:33.851Z"
    }
   },
   "outputs": [],
   "source": [
    "import numpy as np\n",
    "\n",
    "np.unique(X_train[:, 9])"
   ]
  },
  {
   "cell_type": "code",
   "execution_count": null,
   "metadata": {
    "ExecuteTime": {
     "end_time": "2021-05-03T09:07:35.469722Z",
     "start_time": "2021-05-03T09:07:33.852Z"
    }
   },
   "outputs": [],
   "source": [
    "X_train[1:100, 12]"
   ]
  },
  {
   "cell_type": "code",
   "execution_count": null,
   "metadata": {
    "ExecuteTime": {
     "end_time": "2021-05-03T09:07:35.470949Z",
     "start_time": "2021-05-03T09:07:33.853Z"
    }
   },
   "outputs": [],
   "source": [
    "categorical_features[18]"
   ]
  },
  {
   "cell_type": "code",
   "execution_count": null,
   "metadata": {
    "ExecuteTime": {
     "end_time": "2021-05-03T09:07:35.472088Z",
     "start_time": "2021-05-03T09:07:33.854Z"
    }
   },
   "outputs": [],
   "source": [
    "np.unique(X_train[:, 18]).size"
   ]
  },
  {
   "cell_type": "code",
   "execution_count": null,
   "metadata": {
    "ExecuteTime": {
     "end_time": "2021-05-03T09:07:35.473154Z",
     "start_time": "2021-05-03T09:07:33.855Z"
    }
   },
   "outputs": [],
   "source": [
    "X_train[:, 2].shape"
   ]
  },
  {
   "cell_type": "code",
   "execution_count": null,
   "metadata": {
    "ExecuteTime": {
     "end_time": "2021-05-03T09:07:35.474331Z",
     "start_time": "2021-05-03T09:07:33.856Z"
    }
   },
   "outputs": [],
   "source": [
    "import numpy as np\n",
    "\n",
    "n_features = X_train.shape[1]\n",
    "\n",
    "categorical_features = np.zeros(n_features, dtype=np.bool)"
   ]
  },
  {
   "cell_type": "code",
   "execution_count": null,
   "metadata": {
    "ExecuteTime": {
     "end_time": "2021-05-03T09:07:35.475370Z",
     "start_time": "2021-05-03T09:07:33.858Z"
    }
   },
   "outputs": [],
   "source": [
    "categorical_features[-dataset.n_features_categorical_:] = True"
   ]
  },
  {
   "cell_type": "code",
   "execution_count": null,
   "metadata": {
    "ExecuteTime": {
     "end_time": "2021-05-03T09:07:35.476521Z",
     "start_time": "2021-05-03T09:07:33.859Z"
    }
   },
   "outputs": [],
   "source": [
    "categorical_features"
   ]
  },
  {
   "cell_type": "code",
   "execution_count": null,
   "metadata": {
    "ExecuteTime": {
     "end_time": "2021-05-03T09:07:35.477671Z",
     "start_time": "2021-05-03T09:07:33.860Z"
    }
   },
   "outputs": [],
   "source": [
    "from wildwood import ForestClassifier\n",
    "\n",
    "clf = ForestClassifier(categorical_features=categorical_features)"
   ]
  },
  {
   "cell_type": "code",
   "execution_count": null,
   "metadata": {
    "ExecuteTime": {
     "end_time": "2021-05-03T09:07:35.478843Z",
     "start_time": "2021-05-03T09:07:33.861Z"
    },
    "scrolled": false
   },
   "outputs": [],
   "source": [
    "clf._check_categories(X_train)"
   ]
  },
  {
   "cell_type": "code",
   "execution_count": null,
   "metadata": {
    "ExecuteTime": {
     "end_time": "2021-05-03T09:07:35.480515Z",
     "start_time": "2021-05-03T09:07:33.861Z"
    },
    "scrolled": false
   },
   "outputs": [],
   "source": [
    "dataset.one_hot_encode = False\n",
    "\n",
    "dataset.extract(random_state=42)"
   ]
  },
  {
   "cell_type": "code",
   "execution_count": null,
   "metadata": {
    "ExecuteTime": {
     "end_time": "2021-05-03T09:07:35.481705Z",
     "start_time": "2021-05-03T09:07:33.862Z"
    }
   },
   "outputs": [],
   "source": [
    "dataset.transformer.transformer_list"
   ]
  },
  {
   "cell_type": "code",
   "execution_count": null,
   "metadata": {
    "ExecuteTime": {
     "end_time": "2021-05-03T09:07:35.482870Z",
     "start_time": "2021-05-03T09:07:33.863Z"
    }
   },
   "outputs": [],
   "source": [
    "ordinal_encoder = dataset.transformer.transformer_list[1][1].transformers[0][1]"
   ]
  },
  {
   "cell_type": "code",
   "execution_count": null,
   "metadata": {
    "ExecuteTime": {
     "end_time": "2021-05-03T09:07:35.484004Z",
     "start_time": "2021-05-03T09:07:33.864Z"
    }
   },
   "outputs": [],
   "source": [
    "ordinal_encoder.categories"
   ]
  },
  {
   "cell_type": "code",
   "execution_count": null,
   "metadata": {
    "ExecuteTime": {
     "end_time": "2021-05-03T09:07:35.485291Z",
     "start_time": "2021-05-03T09:07:33.865Z"
    }
   },
   "outputs": [],
   "source": [
    "ordinal_encoder.categories_"
   ]
  },
  {
   "cell_type": "code",
   "execution_count": null,
   "metadata": {},
   "outputs": [],
   "source": []
  },
  {
   "cell_type": "code",
   "execution_count": null,
   "metadata": {
    "ExecuteTime": {
     "end_time": "2021-05-03T09:07:35.486546Z",
     "start_time": "2021-05-03T09:07:33.867Z"
    }
   },
   "outputs": [],
   "source": [
    "from wildwood._binning import Binner"
   ]
  },
  {
   "cell_type": "code",
   "execution_count": null,
   "metadata": {
    "ExecuteTime": {
     "end_time": "2021-05-03T09:07:35.487567Z",
     "start_time": "2021-05-03T09:07:33.868Z"
    }
   },
   "outputs": [],
   "source": [
    "binner = Binner()"
   ]
  },
  {
   "cell_type": "code",
   "execution_count": null,
   "metadata": {
    "ExecuteTime": {
     "end_time": "2021-05-03T09:07:35.488904Z",
     "start_time": "2021-05-03T09:07:33.868Z"
    },
    "scrolled": false
   },
   "outputs": [],
   "source": [
    "binner.fit_transform(df)"
   ]
  },
  {
   "cell_type": "code",
   "execution_count": null,
   "metadata": {
    "ExecuteTime": {
     "end_time": "2021-05-03T09:07:35.490292Z",
     "start_time": "2021-05-03T09:07:33.869Z"
    }
   },
   "outputs": [],
   "source": [
    "df = dataset.df_raw"
   ]
  },
  {
   "cell_type": "code",
   "execution_count": null,
   "metadata": {
    "ExecuteTime": {
     "end_time": "2021-05-03T09:07:35.491446Z",
     "start_time": "2021-05-03T09:07:33.870Z"
    }
   },
   "outputs": [],
   "source": [
    "df.dtypes"
   ]
  },
  {
   "cell_type": "code",
   "execution_count": null,
   "metadata": {},
   "outputs": [],
   "source": []
  },
  {
   "cell_type": "code",
   "execution_count": null,
   "metadata": {
    "ExecuteTime": {
     "end_time": "2021-05-03T09:07:35.492608Z",
     "start_time": "2021-05-03T09:07:33.871Z"
    }
   },
   "outputs": [],
   "source": [
    "df.head()"
   ]
  },
  {
   "cell_type": "code",
   "execution_count": null,
   "metadata": {
    "ExecuteTime": {
     "end_time": "2021-05-03T09:07:35.493760Z",
     "start_time": "2021-05-03T09:07:33.872Z"
    }
   },
   "outputs": [],
   "source": [
    "df.to_csv(\"dataset-small-classification.csv.gz\", index=False)"
   ]
  },
  {
   "cell_type": "code",
   "execution_count": null,
   "metadata": {
    "ExecuteTime": {
     "end_time": "2021-05-03T09:07:35.494949Z",
     "start_time": "2021-05-03T09:07:33.873Z"
    }
   },
   "outputs": [],
   "source": [
    "df = describe_datasets(include=\"small-regression\")"
   ]
  },
  {
   "cell_type": "code",
   "execution_count": null,
   "metadata": {
    "ExecuteTime": {
     "end_time": "2021-05-03T09:07:35.495964Z",
     "start_time": "2021-05-03T09:07:33.874Z"
    }
   },
   "outputs": [],
   "source": [
    "df"
   ]
  },
  {
   "cell_type": "code",
   "execution_count": null,
   "metadata": {
    "ExecuteTime": {
     "end_time": "2021-05-03T09:07:35.497169Z",
     "start_time": "2021-05-03T09:07:33.875Z"
    }
   },
   "outputs": [],
   "source": [
    "df.to_csv(\"dataset-small-regression.csv.gz\", index=False)"
   ]
  },
  {
   "cell_type": "code",
   "execution_count": null,
   "metadata": {
    "ExecuteTime": {
     "end_time": "2021-05-03T09:07:35.498276Z",
     "start_time": "2021-05-03T09:07:33.876Z"
    }
   },
   "outputs": [],
   "source": [
    "import pandas as pd\n",
    "\n",
    "pd.read_csv(\"dataset-small-regression.csv.gz\")"
   ]
  },
  {
   "cell_type": "code",
   "execution_count": null,
   "metadata": {
    "ExecuteTime": {
     "end_time": "2021-05-03T09:07:35.499395Z",
     "start_time": "2021-05-03T09:07:33.877Z"
    }
   },
   "outputs": [],
   "source": [
    "pwd"
   ]
  },
  {
   "cell_type": "code",
   "execution_count": null,
   "metadata": {},
   "outputs": [],
   "source": []
  },
  {
   "cell_type": "code",
   "execution_count": null,
   "metadata": {
    "ExecuteTime": {
     "end_time": "2021-05-03T09:07:35.500641Z",
     "start_time": "2021-05-03T09:07:33.878Z"
    }
   },
   "outputs": [],
   "source": [
    "ls -rtl"
   ]
  },
  {
   "cell_type": "code",
   "execution_count": null,
   "metadata": {
    "ExecuteTime": {
     "end_time": "2021-05-03T09:07:35.501759Z",
     "start_time": "2021-05-03T09:07:33.879Z"
    }
   },
   "outputs": [],
   "source": [
    "from wildwood.dataset import datasets_description\n",
    "\n",
    "df_datasets = datasets_description(include=\"small-classification\")\n",
    "df_datasets"
   ]
  },
  {
   "cell_type": "code",
   "execution_count": null,
   "metadata": {
    "ExecuteTime": {
     "end_time": "2021-05-03T09:07:35.502933Z",
     "start_time": "2021-05-03T09:07:33.880Z"
    }
   },
   "outputs": [],
   "source": [
    "df_datasets = datasets_description(include=\"small-regression\")\n",
    "df_datasets"
   ]
  },
  {
   "cell_type": "code",
   "execution_count": null,
   "metadata": {
    "ExecuteTime": {
     "end_time": "2021-04-12T12:32:27.990523Z",
     "start_time": "2021-04-12T12:32:26.800520Z"
    },
    "scrolled": false
   },
   "outputs": [],
   "source": []
  },
  {
   "cell_type": "code",
   "execution_count": null,
   "metadata": {
    "ExecuteTime": {
     "end_time": "2021-04-12T12:32:30.310855Z",
     "start_time": "2021-04-12T12:32:30.294222Z"
    }
   },
   "outputs": [],
   "source": []
  },
  {
   "cell_type": "code",
   "execution_count": null,
   "metadata": {},
   "outputs": [],
   "source": []
  },
  {
   "cell_type": "code",
   "execution_count": null,
   "metadata": {},
   "outputs": [],
   "source": []
  },
  {
   "cell_type": "code",
   "execution_count": null,
   "metadata": {
    "ExecuteTime": {
     "end_time": "2021-05-03T09:07:35.504033Z",
     "start_time": "2021-05-03T09:07:33.882Z"
    }
   },
   "outputs": [],
   "source": [
    "df_datasets.loc[df_datasets[\"task\"] == \"regression\"]"
   ]
  },
  {
   "cell_type": "code",
   "execution_count": null,
   "metadata": {
    "ExecuteTime": {
     "end_time": "2021-05-03T09:07:35.505422Z",
     "start_time": "2021-05-03T09:07:33.883Z"
    }
   },
   "outputs": [],
   "source": [
    ".iloc(df_datasets[\"task\"] == \"regression\")"
   ]
  },
  {
   "cell_type": "code",
   "execution_count": null,
   "metadata": {
    "ExecuteTime": {
     "end_time": "2021-05-03T09:07:35.506503Z",
     "start_time": "2021-05-03T09:07:33.884Z"
    }
   },
   "outputs": [],
   "source": [
    "dataset = load_churn()"
   ]
  },
  {
   "cell_type": "code",
   "execution_count": null,
   "metadata": {
    "ExecuteTime": {
     "end_time": "2021-05-03T09:07:35.507681Z",
     "start_time": "2021-05-03T09:07:33.885Z"
    }
   },
   "outputs": [],
   "source": [
    "dataset.df_raw.head()"
   ]
  },
  {
   "cell_type": "code",
   "execution_count": null,
   "metadata": {},
   "outputs": [],
   "source": []
  },
  {
   "cell_type": "code",
   "execution_count": null,
   "metadata": {
    "ExecuteTime": {
     "end_time": "2021-05-03T09:07:35.508876Z",
     "start_time": "2021-05-03T09:07:33.886Z"
    }
   },
   "outputs": [],
   "source": [
    "import numpy as np\n",
    "import pandas as pd\n",
    "\n",
    "from wildwood._binning import Binner"
   ]
  },
  {
   "cell_type": "code",
   "execution_count": null,
   "metadata": {
    "ExecuteTime": {
     "end_time": "2021-05-03T09:07:35.510163Z",
     "start_time": "2021-05-03T09:07:33.887Z"
    }
   },
   "outputs": [],
   "source": [
    "df = pd.DataFrame({\n",
    "    \"A\": [\"a\", \"b\", \"a\", \"a\"],\n",
    "    \"B\": [0.1, 0.2, 0.1, 0.3]\n",
    "})"
   ]
  },
  {
   "cell_type": "code",
   "execution_count": null,
   "metadata": {
    "ExecuteTime": {
     "end_time": "2021-05-03T09:07:35.511296Z",
     "start_time": "2021-05-03T09:07:33.888Z"
    }
   },
   "outputs": [],
   "source": [
    "df.dtypes"
   ]
  },
  {
   "cell_type": "code",
   "execution_count": null,
   "metadata": {
    "ExecuteTime": {
     "end_time": "2021-05-03T09:07:35.512751Z",
     "start_time": "2021-05-03T09:07:33.888Z"
    }
   },
   "outputs": [],
   "source": [
    "df[\"A\"] = df[\"A\"].astype(\"category\")"
   ]
  },
  {
   "cell_type": "code",
   "execution_count": null,
   "metadata": {
    "ExecuteTime": {
     "end_time": "2021-05-03T09:07:35.514006Z",
     "start_time": "2021-05-03T09:07:33.889Z"
    }
   },
   "outputs": [],
   "source": [
    "df.dtypes"
   ]
  },
  {
   "cell_type": "code",
   "execution_count": null,
   "metadata": {
    "ExecuteTime": {
     "end_time": "2021-05-03T09:07:35.515078Z",
     "start_time": "2021-05-03T09:07:33.890Z"
    }
   },
   "outputs": [],
   "source": [
    "binner = Binner()"
   ]
  },
  {
   "cell_type": "code",
   "execution_count": null,
   "metadata": {
    "ExecuteTime": {
     "end_time": "2021-05-03T09:07:35.516270Z",
     "start_time": "2021-05-03T09:07:33.891Z"
    }
   },
   "outputs": [],
   "source": [
    "binner.fit_transform(df)"
   ]
  },
  {
   "cell_type": "code",
   "execution_count": null,
   "metadata": {
    "ExecuteTime": {
     "end_time": "2021-04-12T10:05:47.268179Z",
     "start_time": "2021-04-12T10:05:44.304121Z"
    }
   },
   "outputs": [],
   "source": []
  },
  {
   "cell_type": "code",
   "execution_count": null,
   "metadata": {
    "ExecuteTime": {
     "end_time": "2021-04-12T10:05:52.872923Z",
     "start_time": "2021-04-12T10:05:52.857356Z"
    }
   },
   "outputs": [],
   "source": []
  },
  {
   "cell_type": "code",
   "execution_count": null,
   "metadata": {
    "ExecuteTime": {
     "end_time": "2021-05-03T09:07:35.517487Z",
     "start_time": "2021-05-03T09:07:33.892Z"
    }
   },
   "outputs": [],
   "source": [
    "print(data[\"DESCR\"])"
   ]
  },
  {
   "cell_type": "code",
   "execution_count": null,
   "metadata": {
    "ExecuteTime": {
     "end_time": "2021-05-03T09:07:35.518675Z",
     "start_time": "2021-05-03T09:07:33.893Z"
    }
   },
   "outputs": [],
   "source": [
    "from sklearn.datasets import load_breast_cancer\n",
    "\n",
    "data = load_breast_cancer(as_frame=True)\n",
    "data[\"frame\"]\n"
   ]
  },
  {
   "cell_type": "code",
   "execution_count": null,
   "metadata": {
    "ExecuteTime": {
     "end_time": "2021-04-12T10:00:57.330838Z",
     "start_time": "2021-04-12T10:00:57.303578Z"
    }
   },
   "outputs": [],
   "source": []
  },
  {
   "cell_type": "code",
   "execution_count": null,
   "metadata": {
    "ExecuteTime": {
     "end_time": "2021-05-03T09:07:35.520059Z",
     "start_time": "2021-05-03T09:07:33.894Z"
    }
   },
   "outputs": [],
   "source": [
    "data[\"frame\"].info()"
   ]
  },
  {
   "cell_type": "code",
   "execution_count": null,
   "metadata": {},
   "outputs": [],
   "source": []
  },
  {
   "cell_type": "code",
   "execution_count": null,
   "metadata": {
    "ExecuteTime": {
     "end_time": "2021-05-03T09:07:35.521335Z",
     "start_time": "2021-05-03T09:07:33.896Z"
    },
    "scrolled": false
   },
   "outputs": [],
   "source": [
    "print(data[\"DESCR\"])"
   ]
  },
  {
   "cell_type": "code",
   "execution_count": null,
   "metadata": {
    "ExecuteTime": {
     "end_time": "2021-05-03T09:07:35.522500Z",
     "start_time": "2021-05-03T09:07:33.897Z"
    }
   },
   "outputs": [],
   "source": [
    "from sklearn.datasets import load_diabetes, load_boston\n",
    "\n",
    "data = load_boston()"
   ]
  },
  {
   "cell_type": "code",
   "execution_count": null,
   "metadata": {
    "ExecuteTime": {
     "end_time": "2021-05-03T09:07:35.523641Z",
     "start_time": "2021-05-03T09:07:33.898Z"
    }
   },
   "outputs": [],
   "source": [
    "data.keys()"
   ]
  },
  {
   "cell_type": "code",
   "execution_count": null,
   "metadata": {
    "ExecuteTime": {
     "end_time": "2021-05-03T09:07:35.524794Z",
     "start_time": "2021-05-03T09:07:33.898Z"
    }
   },
   "outputs": [],
   "source": [
    "import pandas as pd\n",
    "\n",
    "df = pd.DataFrame(data[\"data\"], columns=data[\"feature_names\"])\n",
    "df[\"target\"] = data[\"target\"]"
   ]
  },
  {
   "cell_type": "code",
   "execution_count": null,
   "metadata": {
    "ExecuteTime": {
     "end_time": "2021-05-03T09:07:35.526010Z",
     "start_time": "2021-05-03T09:07:33.899Z"
    }
   },
   "outputs": [],
   "source": [
    "df.info()"
   ]
  },
  {
   "cell_type": "code",
   "execution_count": null,
   "metadata": {
    "ExecuteTime": {
     "end_time": "2021-05-03T09:07:35.527177Z",
     "start_time": "2021-05-03T09:07:33.900Z"
    }
   },
   "outputs": [],
   "source": [
    "df.head()"
   ]
  },
  {
   "cell_type": "code",
   "execution_count": null,
   "metadata": {
    "ExecuteTime": {
     "end_time": "2021-05-03T09:07:35.528232Z",
     "start_time": "2021-05-03T09:07:33.901Z"
    }
   },
   "outputs": [],
   "source": [
    "print(data[\"DESCR\"])"
   ]
  },
  {
   "cell_type": "code",
   "execution_count": null,
   "metadata": {
    "ExecuteTime": {
     "end_time": "2021-05-03T09:07:35.529382Z",
     "start_time": "2021-05-03T09:07:33.902Z"
    }
   },
   "outputs": [],
   "source": [
    "truc[\"frame\"]"
   ]
  },
  {
   "cell_type": "code",
   "execution_count": null,
   "metadata": {
    "ExecuteTime": {
     "end_time": "2021-05-03T09:07:35.530445Z",
     "start_time": "2021-05-03T09:07:33.902Z"
    }
   },
   "outputs": [],
   "source": [
    "truc[\"target\"]"
   ]
  },
  {
   "cell_type": "code",
   "execution_count": null,
   "metadata": {
    "ExecuteTime": {
     "end_time": "2021-05-03T09:07:35.531613Z",
     "start_time": "2021-05-03T09:07:33.903Z"
    }
   },
   "outputs": [],
   "source": [
    "truc.keys()"
   ]
  },
  {
   "cell_type": "code",
   "execution_count": null,
   "metadata": {
    "ExecuteTime": {
     "end_time": "2021-05-03T09:07:35.532715Z",
     "start_time": "2021-05-03T09:07:33.904Z"
    }
   },
   "outputs": [],
   "source": [
    "truc[\"frame\"]"
   ]
  },
  {
   "cell_type": "code",
   "execution_count": null,
   "metadata": {
    "ExecuteTime": {
     "end_time": "2021-05-03T09:07:35.533790Z",
     "start_time": "2021-05-03T09:07:33.904Z"
    }
   },
   "outputs": [],
   "source": [
    "truc[\"frame\"].dtypes"
   ]
  },
  {
   "cell_type": "code",
   "execution_count": null,
   "metadata": {
    "ExecuteTime": {
     "end_time": "2021-05-03T09:07:35.534934Z",
     "start_time": "2021-05-03T09:07:33.905Z"
    }
   },
   "outputs": [],
   "source": [
    "import numpy as np"
   ]
  },
  {
   "cell_type": "code",
   "execution_count": null,
   "metadata": {
    "ExecuteTime": {
     "end_time": "2021-05-03T09:07:35.535930Z",
     "start_time": "2021-05-03T09:07:33.906Z"
    }
   },
   "outputs": [],
   "source": [
    "np.repeat(np.array([2, 1, 17, 3]), repeats=3)"
   ]
  },
  {
   "cell_type": "code",
   "execution_count": null,
   "metadata": {},
   "outputs": [],
   "source": []
  },
  {
   "cell_type": "code",
   "execution_count": null,
   "metadata": {},
   "outputs": [],
   "source": []
  }
 ],
 "metadata": {
  "kernelspec": {
   "display_name": "Python 3",
   "language": "python",
   "name": "python3"
  },
  "language_info": {
   "codemirror_mode": {
    "name": "ipython",
    "version": 3
   },
   "file_extension": ".py",
   "mimetype": "text/x-python",
   "name": "python",
   "nbconvert_exporter": "python",
   "pygments_lexer": "ipython3",
   "version": "3.7.9"
  },
  "toc": {
   "base_numbering": 1,
   "nav_menu": {},
   "number_sections": true,
   "sideBar": true,
   "skip_h1_title": true,
   "title_cell": "Table of Contents",
   "title_sidebar": "Contents",
   "toc_cell": true,
   "toc_position": {},
   "toc_section_display": true,
   "toc_window_display": false
  }
 },
 "nbformat": 4,
 "nbformat_minor": 4
}